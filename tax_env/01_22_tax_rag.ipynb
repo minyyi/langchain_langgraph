{
 "cells": [
  {
   "cell_type": "code",
   "execution_count": 1,
   "id": "11ca396d",
   "metadata": {
    "id": "11ca396d",
    "outputId": "c46c0168-8d18-4d91-9345-d5c0027f424e"
   },
   "outputs": [
    {
     "data": {
      "text/plain": [
       "True"
      ]
     },
     "execution_count": 1,
     "metadata": {},
     "output_type": "execute_result"
    }
   ],
   "source": [
    "from dotenv import load_dotenv\n",
    "\n",
    "load_dotenv()"
   ]
  },
  {
   "cell_type": "code",
   "execution_count": 2,
   "id": "fe77cc4a",
   "metadata": {
    "id": "fe77cc4a"
   },
   "outputs": [],
   "source": [
    "from langchain_community.document_loaders import Docx2txtLoader\n",
    "from langchain_text_splitters import RecursiveCharacterTextSplitter\n",
    "\n",
    "text_splitter = RecursiveCharacterTextSplitter(\n",
    "    chunk_size=1500,\n",
    "    chunk_overlap=200,\n",
    ")\n",
    "\n",
    "loader = Docx2txtLoader('./tax.docx')\n",
    "document_list = loader.load_and_split(text_splitter=text_splitter)"
   ]
  },
  {
   "cell_type": "code",
   "execution_count": 3,
   "id": "10369086",
   "metadata": {
    "id": "10369086",
    "outputId": "4997dc88-b639-4026-c587-64a8b8b257eb"
   },
   "outputs": [
    {
     "data": {
      "text/plain": [
       "Document(metadata={'source': './tax.docx'}, page_content='제55조(세율) ①거주자의 종합소득에 대한 소득세는 해당 연도의 종합소득과세표준에 다음의 세율을 적용하여 계산한 금액(이하 “종합소득산출세액”이라 한다)을 그 세액으로 한다. <개정 2014. 1. 1., 2016. 12. 20., 2017. 12. 19., 2020. 12. 29., 2022. 12. 31.>\\n\\n| 종합소득 과세표준          | 세율                                         |\\n\\n|-------------------|--------------------------------------------|\\n\\n| 1,400만원 이하     | 과세표준의 6퍼센트                             |\\n\\n| 1,400만원 초과     5,000만원 이하     | 84만원 + (1,400만원을 초과하는 금액의 15퍼센트)  |\\n\\n| 5,000만원 초과   8,800만원 이하     | 624만원 + (5,000만원을 초과하는 금액의 24퍼센트) |\\n\\n| 8,800만원 초과 1억5천만원 이하    | 1,536만원 + (8,800만원을 초과하는 금액의 35퍼센트)|\\n\\n| 1억5천만원 초과 3억원 이하         | 3,706만원 + (1억5천만원을 초과하는 금액의 38퍼센트)|\\n\\n| 3억원 초과    5억원 이하         | 9,406만원 + (3억원을 초과하는 금액의 38퍼센트)   |\\n\\n| 5억원 초과      10억원 이하        | 1억 7,406만원 + (5억원을 초과하는 금액의 42퍼센트)|\\n\\n| 10억원 초과        | 3억 8,406만원 + (10억원을 초과하는 금액의 45퍼센트)|\\n\\n\\n\\n\\n\\n② 거주자의 퇴직소득에 대한 소득세는 다음 각 호의 순서에 따라 계산한 금액(이하 “퇴직소득 산출세액”이라 한다)으로 한다.<개정 2013. 1. 1., 2014. 12. 23.>\\n\\n1. 해당 과세기간의 퇴직소득과세표준에 제1항의 세율을 적용하여 계산한 금액\\n\\n2. 제1호의 금액을 12로 나눈 금액에 근속연수를 곱한 금액\\n\\n3. 삭제<2014. 12. 23.>\\n\\n[전문개정 2009. 12. 31.]\\n\\n\\n\\n제2관 세액공제 <개정 2009. 12. 31.>\\n\\n\\n\\n제56조(배당세액공제) ① 거주자의 종합소득금액에 제17조제3항 각 호 외의 부분 단서가 적용되는 배당소득금액이 합산되어 있는 경우에는 같은 항 각 호 외의 부분 단서에 따라 해당 과세기간의 총수입금액에 더한 금액에 해당하는 금액을 종합소득 산출세액에서 공제한다. <개정 2009. 12. 31.>\\n\\n② 제1항에 따른 공제를 “배당세액공제”라 한다.<개정 2009. 12. 31.>\\n\\n③ 삭제<2003. 12. 30.>\\n\\n④ 제1항을 적용할 때 배당세액공제의 대상이 되는 배당소득금액은 제14조제2항의 종합소득과세표준에 포함된 배당소득금액으로서 이자소득등의 종합과세기준금액을 초과하는 것으로 한다.<개정 2009. 12. 31.>\\n\\n⑤ 삭제<2006. 12. 30.>')"
      ]
     },
     "execution_count": 3,
     "metadata": {},
     "output_type": "execute_result"
    }
   ],
   "source": [
    "document_list[52]"
   ]
  },
  {
   "cell_type": "code",
   "execution_count": 4,
   "id": "4b764fdd",
   "metadata": {
    "id": "4b764fdd"
   },
   "outputs": [],
   "source": [
    "from langchain_openai import OpenAIEmbeddings\n",
    "\n",
    "# OpenAI에서 제공하는 Embedding Model을 활용해서 `chunk`를 vector화\n",
    "embedding = OpenAIEmbeddings(model='text-embedding-3-large')# 3072"
   ]
  },
  {
   "cell_type": "code",
   "execution_count": null,
   "id": "cabc9ed5",
   "metadata": {
    "id": "cabc9ed5"
   },
   "outputs": [],
   "source": [
    "# pinecone 에 데이터 로딩\n",
    "import os\n",
    "from pinecone import Pinecone\n",
    "from langchain_pinecone import PineconeVectorStore\n",
    "\n",
    "index_name = 'tax-index'\n",
    "pinecone_api_key = os.getenv('PINECONE_API_KEY')\n",
    "pc = Pinecone(api_key=pinecone_api_key)\n",
    "\n",
    "vectorstore = PineconeVectorStore.from_existing_index(\n",
    "    index_name=index_name,\n",
    "    embedding=embedding\n",
    ")"
   ]
  },
  {
   "cell_type": "code",
   "execution_count": 5,
   "id": "16ba4d0f",
   "metadata": {
    "id": "16ba4d0f"
   },
   "outputs": [
    {
     "name": "stderr",
     "output_type": "stream",
     "text": [
      "c:\\AI_Prompt\\workspace\\ai_agent_work2\\tax_env\\myenv\\Lib\\site-packages\\tqdm\\auto.py:21: TqdmWarning: IProgress not found. Please update jupyter and ipywidgets. See https://ipywidgets.readthedocs.io/en/stable/user_install.html\n",
      "  from .autonotebook import tqdm as notebook_tqdm\n"
     ]
    }
   ],
   "source": [
    "import os\n",
    "from pinecone import Pinecone\n",
    "from langchain_pinecone import PineconeVectorStore\n",
    "\n",
    "index_name = 'tax-index'\n",
    "pinecone_api_key = os.getenv('PINECONE_API_KEY')\n",
    "pc = Pinecone(api_key=pinecone_api_key)\n",
    "pinecone_index = pc.Index(index_name)\n",
    "\n",
    "vectorstore = PineconeVectorStore(\n",
    "    index=pinecone_index,\n",
    "    embedding=embedding,\n",
    "    text_key='text'\n",
    ")\n",
    "\n",
    "texts = [doc.page_content for doc in document_list]\n",
    "metadatas = [doc.metadata for doc in document_list]\n",
    "\n",
    "batch_size = 2\n",
    "\n",
    "for i in range(0, len(texts), batch_size):\n",
    "    batch_texts = texts[i:i + batch_size]\n",
    "    batch_metadatas = metadatas[i:i + batch_size]\n",
    "\n",
    "    try:\n",
    "        vectorstore.add_texts(texts=batch_texts, metadatas=batch_metadatas)\n",
    "    except Exception as e:\n",
    "        print(f\"Error adding batch {i // batch_size + 1}: {e}\")\n",
    "\n",
    "\n"
   ]
  },
  {
   "cell_type": "code",
   "execution_count": 6,
   "id": "e4041359",
   "metadata": {
    "id": "e4041359"
   },
   "outputs": [],
   "source": [
    "#query = \"연봉 5천만원인 거주자의 종합소득세는?\"\n",
    "query = \"연봉 5천만원 직장인의 소득세는?\""
   ]
  },
  {
   "cell_type": "code",
   "execution_count": 7,
   "id": "a0a7500e",
   "metadata": {
    "id": "a0a7500e",
    "outputId": "a53e336e-15f1-4939-9e12-8a6624deb06f"
   },
   "outputs": [
    {
     "name": "stderr",
     "output_type": "stream",
     "text": [
      "Found document with no `text` key. Skipping.\n",
      "Found document with no `text` key. Skipping.\n"
     ]
    },
    {
     "data": {
      "text/plain": [
       "[Document(id='7a773b86-3706-4d0d-a11f-9d1eee001868', metadata={'source': './tax.docx'}, page_content='나. 그 밖의 배당소득에 대해서는 100분의 14\\n\\n3. 원천징수대상 사업소득에 대해서는 100분의 3. 다만, 외국인 직업운동가가 한국표준산업분류에 따른 스포츠 클럽 운영업 중 프로스포츠구단과의 계약(계약기간이 3년 이하인 경우로 한정한다)에 따라 용역을 제공하고 받는 소득에 대해서는 100분의 20으로 한다.\\n\\n4. 근로소득에 대해서는 기본세율. 다만, 일용근로자의 근로소득에 대해서는 100분의 6으로 한다.\\n\\n5. 공적연금소득에 대해서는 기본세율\\n\\n5의2.제20조의3제1항제2호나목 및 다목에 따른 연금계좌 납입액이나 운용실적에 따라 증가된 금액을 연금수령한 연금소득에 대해서는 다음 각 목의 구분에 따른 세율. 이 경우 각 목의 요건을 동시에 충족하는 때에는 낮은 세율을 적용한다.\\n\\n가. 연금소득자의 나이에 따른 다음의 세율\\n\\n\\n\\n나. 삭제<2014. 12. 23.>\\n\\n다. 사망할 때까지 연금수령하는 대통령령으로 정하는 종신계약에 따라 받는 연금소득에 대해서는 100분의 4\\n\\n5의3. 제20조의3제1항제2호가목에 따라 퇴직소득을 연금수령하는 연금소득에 대해서는 다음 각 목의 구분에 따른 세율. 이 경우 연금 실제 수령연차 및 연금외수령 원천징수세율의 구체적인 내용은 대통령령으로 정한다.\\n\\n가. 연금 실제 수령연차가 10년 이하인 경우: 연금외수령 원천징수세율의 100분의 70\\n\\n나. 연금 실제 수령연차가 10년을 초과하는 경우: 연금외수령 원천징수세율의 100분의 60\\n\\n6. 기타소득에 대해서는 다음에 규정하는 세율. 다만, 제8호를 적용받는 경우는 제외한다.\\n\\n가. 제14조제3항제8호라목 및 마목에 해당하는 소득금액이 3억원을 초과하는 경우 그 초과하는 분에 대해서는 100분의 30\\n\\n나. 제21조제1항제18호 및 제21호에 따른 기타소득에 대해서는 100분의 15\\n\\n다. 삭제<2014. 12. 23.>\\n\\n라. 그 밖의 기타소득에 대해서는 100분의 20\\n\\n7. 퇴직소득에 대해서는 기본세율\\n\\n8. 대통령령으로 정하는 봉사료에 대해서는 100분의 5\\n\\n9. 대통령령으로 정하는 금융투자소득에 대해서는 100분의 20\\n\\n② 제1항에도 불구하고 다음 각 호의 이자소득 및 배당소득에 대해서는 다음 각 호에서 정하는 세율을 원천징수세율로 한다.<개정 2013. 1. 1., 2017. 12. 19., 2018. 12. 31., 2022. 12. 31.>\\n\\n1. 「민사집행법」 제113조 및 같은 법 제142조에 따라 법원에 납부한 보증금 및 경락대금에서 발생하는 이자소득에 대해서는 100분의 14\\n\\n2. 대통령령으로 정하는 실지명의가 확인되지 아니하는 소득에 대해서는 100분의 45. 다만, 「금융실명거래 및 비밀보장에 관한 법률」 제5조가 적용되는 경우에는 같은 조에서 정한 세율로 한다.'),\n",
       " Document(id='2dcb8994-991d-4395-8d85-df1e5c409303', metadata={'source': './tax.docx'}, page_content='차. 외국정부(외국의 지방자치단체와 연방국가인 외국의 지방정부를 포함한다. 이하 같다) 또는 대통령령으로 정하는 국제기관에서 근무하는 사람으로서 대통령령으로 정하는 사람이 받는 급여. 다만, 그 외국정부가 그 나라에서 근무하는 우리나라 공무원의 급여에 대하여 소득세를 과세하지 아니하는 경우만 해당한다.\\n\\n카. 「국가유공자 등 예우 및 지원에 관한 법률」 또는 「보훈보상대상자 지원에 관한 법률」에 따라 받는 보훈급여금ㆍ학습보조비\\n\\n타. 「전직대통령 예우에 관한 법률」에 따라 받는 연금\\n\\n파. 작전임무를 수행하기 위하여 외국에 주둔 중인 군인ㆍ군무원이 받는 급여\\n\\n하. 종군한 군인ㆍ군무원이 전사(전상으로 인한 사망을 포함한다. 이하 같다)한 경우 그 전사한 날이 속하는 과세기간의 급여\\n\\n거. 국외 또는 「남북교류협력에 관한 법률」에 따른 북한지역에서 근로를 제공하고 받는 대통령령으로 정하는 급여\\n\\n너. 「국민건강보험법」, 「고용보험법」 또는 「노인장기요양보험법」에 따라 국가, 지방자치단체 또는 사용자가 부담하는 보험료\\n\\n더. 생산직 및 그 관련 직에 종사하는 근로자로서 급여 수준 및 직종 등을 고려하여 대통령령으로 정하는 근로자가 대통령령으로 정하는 연장근로ㆍ야간근로 또는 휴일근로를 하여 받는 급여\\n\\n러. 근로자가 사내급식이나 이와 유사한 방법으로 제공받는 식사 기타 음식물 또는 근로자(식사 기타 음식물을 제공받지 아니하는 자에 한정한다)가 받는 월 20만원 이하의 식사대\\n\\n머. 근로자 또는 그 배우자의 출산이나 6세 이하(해당 과세기간 개시일을 기준으로 판단한다) 자녀의 보육과 관련하여 사용자로부터 받는 급여로서 월 20만원 이내의 금액\\n\\n버. 「국군포로의 송환 및 대우 등에 관한 법률」에 따른 국군포로가 받는 보수 및 퇴직일시금\\n\\n서. 「교육기본법」 제28조제1항에 따라 받는 장학금 중 대학생이 근로를 대가로 지급받는 장학금(「고등교육법」 제2조제1호부터 제4호까지의 규정에 따른 대학에 재학하는 대학생에 한정한다)\\n\\n어. 「발명진흥법」 제2조제2호에 따른 직무발명으로 받는 다음의 보상금(이하 “직무발명보상금”이라 한다)으로서 대통령령으로 정하는 금액\\n\\n\\u3000\\u3000\\u30001) 「발명진흥법」 제2조제2호에 따른 종업원등(이하 이 조, 제20조 및 제21조에서 “종업원등”이라 한다)이 같은 호에 따른 사용자등(이하 이 조에서 “사용자등”이라 한다)으로부터 받는 보상금. 다만, 보상금을 지급한 사용자등과 대통령령으로 정하는 특수관계에 있는 자가 받는 보상금은 제외한다.\\n\\n\\u3000\\u3000\\u30002) 대학의 교직원 또는 대학과 고용관계가 있는 학생이 소속 대학에 설치된 「산업교육진흥 및 산학연협력촉진에 관한 법률」 제25조에 따른 산학협력단(이하 이 조에서 “산학협력단”이라 한다)으로부터 같은 법 제32조제1항제4호에 따라 받는 보상금\\n\\n저. 대통령령으로 정하는 복리후생적 성질의 급여\\n\\n4. 연금소득 중 다음 각 목의 어느 하나에 해당하는 소득')]"
      ]
     },
     "execution_count": 7,
     "metadata": {},
     "output_type": "execute_result"
    }
   ],
   "source": [
    "retriever = vectorstore.as_retriever(search_kwargs={\"k\": 4})\n",
    "retriever.invoke(query)"
   ]
  },
  {
   "cell_type": "code",
   "execution_count": null,
   "id": "85da7662",
   "metadata": {
    "id": "85da7662",
    "outputId": "cd9d52d0-8658-4f01-ea50-e71b33bfcd2f"
   },
   "outputs": [
    {
     "name": "stderr",
     "output_type": "stream",
     "text": [
      "d:\\edu_data\\AI_Prompt\\worksapce\\ai_agent_work2\\tax_env8\\tax_env8\\Lib\\site-packages\\langsmith\\client.py:272: LangSmithMissingAPIKeyWarning: API key must be provided when using hosted LangSmith API\n",
      "  warnings.warn(\n"
     ]
    },
    {
     "data": {
      "text/plain": [
       "ChatPromptTemplate(input_variables=['context', 'question'], input_types={}, partial_variables={}, metadata={'lc_hub_owner': 'rlm', 'lc_hub_repo': 'rag-prompt', 'lc_hub_commit_hash': '50442af133e61576e74536c6556cefe1fac147cad032f4377b60c436e6cdcb6e'}, messages=[HumanMessagePromptTemplate(prompt=PromptTemplate(input_variables=['context', 'question'], input_types={}, partial_variables={}, template=\"You are an assistant for question-answering tasks. Use the following pieces of retrieved context to answer the question. If you don't know the answer, just say that you don't know. Use three sentences maximum and keep the answer concise.\\nQuestion: {question} \\nContext: {context} \\nAnswer:\"), additional_kwargs={})])"
      ]
     },
     "execution_count": 22,
     "metadata": {},
     "output_type": "execute_result"
    }
   ],
   "source": [
    "from langchain import hub\n",
    "\n",
    "prompt = hub.pull(\"rlm/rag-prompt\")\n",
    "prompt"
   ]
  },
  {
   "cell_type": "code",
   "execution_count": null,
   "id": "6aa561e8",
   "metadata": {
    "id": "6aa561e8"
   },
   "outputs": [],
   "source": [
    "from langchain_openai import ChatOpenAI\n",
    "\n",
    "llm = ChatOpenAI(model='gpt-4o')"
   ]
  },
  {
   "cell_type": "code",
   "execution_count": null,
   "id": "ae52677b",
   "metadata": {
    "id": "ae52677b"
   },
   "outputs": [],
   "source": [
    "from langchain.chains import RetrievalQA\n",
    "\n",
    "qa_chain = RetrievalQA.from_chain_type(\n",
    "    llm=llm,\n",
    "    retriever=retriever,\n",
    "    chain_type_kwargs={\"prompt\": prompt},\n",
    ")"
   ]
  },
  {
   "cell_type": "code",
   "execution_count": null,
   "id": "6b10276a",
   "metadata": {
    "id": "6b10276a"
   },
   "outputs": [],
   "source": [
    "#query = \"연봉 5천만원인 거주자의 종합소득세는?\"\n",
    "query = \"연봉 5천만원 직장인의 소득세는?\""
   ]
  },
  {
   "cell_type": "code",
   "execution_count": null,
   "id": "e15df0d2",
   "metadata": {
    "id": "e15df0d2"
   },
   "outputs": [],
   "source": [
    "ai_message = qa_chain.invoke({\"query\": query})"
   ]
  },
  {
   "cell_type": "code",
   "execution_count": null,
   "id": "b2a884b9",
   "metadata": {
    "id": "b2a884b9",
    "outputId": "ce12eba5-7ae2-4b8b-ac95-787c356b6ed3"
   },
   "outputs": [
    {
     "data": {
      "text/plain": [
       "{'query': '연봉 5천만원인 거주자의 종합소득세는?',\n",
       " 'result': '연봉 5천만원인 거주자의 종합소득세는 624만원입니다. 이는 5천만원의 연소득이 1,400만원 초과 5,000만원 이하 구간에 해당하기 때문입니다.'}"
      ]
     },
     "execution_count": 38,
     "metadata": {},
     "output_type": "execute_result"
    }
   ],
   "source": [
    "ai_message"
   ]
  },
  {
   "cell_type": "code",
   "execution_count": null,
   "id": "1c02446c",
   "metadata": {
    "id": "1c02446c"
   },
   "outputs": [],
   "source": [
    "# dictionary prompt\n",
    "from langchain_core.output_parsers import StrOutputParser\n",
    "from langchain.prompts import ChatPromptTemplate\n",
    "\n",
    "dictionary = [\"사람을 나타내는 표현 -> 거주자\"]\n",
    "\n",
    "prompt = ChatPromptTemplate.from_template(f\"\"\"\n",
    "    사용자의 질문을 보고, 우리의 사전을 참고해서 사용자의 질문을 변경해 주세요.\n",
    "    만약 변경할 필요가 없다고 판단 된다면, 사용자의 질문을 변경하지 않아도 됩니다.\n",
    "    그런 경우에는 질문만 리턴해 주세요.\n",
    "    사전: {dictionary}\n",
    "    질문: {{question}}\n",
    "\"\"\")\n",
    "\n",
    "dictionary_chain = prompt | llm | StrOutputParser()\n",
    "tax_chain = {\"query\": dictionary_chain} | qa_chain\n",
    "\n"
   ]
  },
  {
   "cell_type": "code",
   "execution_count": null,
   "id": "eaaa24ad",
   "metadata": {
    "id": "eaaa24ad",
    "outputId": "121f9084-6c41-4143-c4dc-043baaa2e30c"
   },
   "outputs": [
    {
     "data": {
      "text/plain": [
       "'연봉 5천만원 거주자의 소득세는?'"
      ]
     },
     "execution_count": 53,
     "metadata": {},
     "output_type": "execute_result"
    }
   ],
   "source": [
    "new_question = dictionary_chain.invoke({\"question\": query})\n",
    "new_question"
   ]
  },
  {
   "cell_type": "code",
   "execution_count": null,
   "id": "3f458625",
   "metadata": {
    "id": "3f458625",
    "outputId": "312c3a13-49f9-41e9-88f4-1d763e38df01"
   },
   "outputs": [
    {
     "data": {
      "text/plain": [
       "{'query': '연봉 5천만원 거주자의 소득세는?',\n",
       " 'result': '연봉 5천만 원 거주자의 소득세는 과세표준 구간에 따라 계산됩니다. 5천만 원 이하인 경우, 84만 원에 1,400만 원을 초과하는 금액의 15%를 추가로 더합니다. 따라서, 소득세는 84만 원 + (3,600만 원 × 15%) = 624만 원입니다.'}"
      ]
     },
     "execution_count": 55,
     "metadata": {},
     "output_type": "execute_result"
    }
   ],
   "source": [
    "ai_message = tax_chain.invoke({\"question\": query})\n",
    "ai_message"
   ]
  },
  {
   "cell_type": "code",
   "execution_count": null,
   "id": "accd4d1c",
   "metadata": {
    "id": "accd4d1c"
   },
   "outputs": [],
   "source": []
  }
 ],
 "metadata": {
  "colab": {
   "provenance": []
  },
  "kernelspec": {
   "display_name": "myenv",
   "language": "python",
   "name": "python3"
  },
  "language_info": {
   "codemirror_mode": {
    "name": "ipython",
    "version": 3
   },
   "file_extension": ".py",
   "mimetype": "text/x-python",
   "name": "python",
   "nbconvert_exporter": "python",
   "pygments_lexer": "ipython3",
   "version": "3.11.9"
  }
 },
 "nbformat": 4,
 "nbformat_minor": 5
}
