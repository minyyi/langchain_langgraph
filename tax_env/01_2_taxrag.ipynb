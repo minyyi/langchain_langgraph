{
 "cells": [
  {
   "cell_type": "code",
   "execution_count": null,
   "id": "f1c76d5b",
   "metadata": {},
   "outputs": [],
   "source": [
    "%pip install tqdm langchain langchain-core langchain-community langchain-text-splitters langchain-openai langchain-pinecone docx2txt"
   ]
  },
  {
   "cell_type": "code",
   "execution_count": 4,
   "id": "82ab65ce",
   "metadata": {},
   "outputs": [
    {
     "data": {
      "text/plain": [
       "True"
      ]
     },
     "execution_count": 4,
     "metadata": {},
     "output_type": "execute_result"
    }
   ],
   "source": [
    "from dotenv import load_dotenv\n",
    "\n",
    "load_dotenv()"
   ]
  },
  {
   "cell_type": "markdown",
   "id": "42c669e9",
   "metadata": {},
   "source": []
  },
  {
   "cell_type": "code",
   "execution_count": 5,
   "id": "18230b9d",
   "metadata": {},
   "outputs": [
    {
     "data": {
      "text/plain": [
       "225"
      ]
     },
     "execution_count": 5,
     "metadata": {},
     "output_type": "execute_result"
    }
   ],
   "source": [
    "#chunking\n",
    "\n",
    "from langchain_community.document_loaders import Docx2txtLoader\n",
    "from langchain_text_splitters import RecursiveCharacterTextSplitter\n",
    "\n",
    "text_splitter = RecursiveCharacterTextSplitter(\n",
    "    chunk_size=1500,\n",
    "    chunk_overlap=200,\n",
    "    \n",
    ")\n",
    "loader = Docx2txtLoader('./tax.docx')\n",
    "document_list = loader.load_and_split(text_splitter=text_splitter)\n",
    "len(document_list)"
   ]
  },
  {
   "cell_type": "code",
   "execution_count": 6,
   "id": "b8d838cc",
   "metadata": {},
   "outputs": [
    {
     "data": {
      "text/plain": [
       "Document(metadata={'source': './tax.docx'}, page_content='제55조(세율) ①거주자의 종합소득에 대한 소득세는 해당 연도의 종합소득과세표준에 다음의 세율을 적용하여 계산한 금액(이하 “종합소득산출세액”이라 한다)을 그 세액으로 한다. <개정 2014. 1. 1., 2016. 12. 20., 2017. 12. 19., 2020. 12. 29., 2022. 12. 31.>\\n\\n| 종합소득 과세표준          | 세율                                         |\\n\\n|-------------------|--------------------------------------------|\\n\\n| 1,400만원 이하     | 과세표준의 6퍼센트                             |\\n\\n| 1,400만원 초과     5,000만원 이하     | 84만원 + (1,400만원을 초과하는 금액의 15퍼센트)  |\\n\\n| 5,000만원 초과   8,800만원 이하     | 624만원 + (5,000만원을 초과하는 금액의 24퍼센트) |\\n\\n| 8,800만원 초과 1억5천만원 이하    | 1,536만원 + (8,800만원을 초과하는 금액의 35퍼센트)|\\n\\n| 1억5천만원 초과 3억원 이하         | 3,706만원 + (1억5천만원을 초과하는 금액의 38퍼센트)|\\n\\n| 3억원 초과    5억원 이하         | 9,406만원 + (3억원을 초과하는 금액의 38퍼센트)   |\\n\\n| 5억원 초과      10억원 이하        | 1억 7,406만원 + (5억원을 초과하는 금액의 42퍼센트)|\\n\\n| 10억원 초과        | 3억 8,406만원 + (10억원을 초과하는 금액의 45퍼센트)|\\n\\n\\n\\n\\n\\n② 거주자의 퇴직소득에 대한 소득세는 다음 각 호의 순서에 따라 계산한 금액(이하 “퇴직소득 산출세액”이라 한다)으로 한다.<개정 2013. 1. 1., 2014. 12. 23.>\\n\\n1. 해당 과세기간의 퇴직소득과세표준에 제1항의 세율을 적용하여 계산한 금액\\n\\n2. 제1호의 금액을 12로 나눈 금액에 근속연수를 곱한 금액\\n\\n3. 삭제<2014. 12. 23.>\\n\\n[전문개정 2009. 12. 31.]\\n\\n\\n\\n제2관 세액공제 <개정 2009. 12. 31.>\\n\\n\\n\\n제56조(배당세액공제) ① 거주자의 종합소득금액에 제17조제3항 각 호 외의 부분 단서가 적용되는 배당소득금액이 합산되어 있는 경우에는 같은 항 각 호 외의 부분 단서에 따라 해당 과세기간의 총수입금액에 더한 금액에 해당하는 금액을 종합소득 산출세액에서 공제한다. <개정 2009. 12. 31.>\\n\\n② 제1항에 따른 공제를 “배당세액공제”라 한다.<개정 2009. 12. 31.>\\n\\n③ 삭제<2003. 12. 30.>\\n\\n④ 제1항을 적용할 때 배당세액공제의 대상이 되는 배당소득금액은 제14조제2항의 종합소득과세표준에 포함된 배당소득금액으로서 이자소득등의 종합과세기준금액을 초과하는 것으로 한다.<개정 2009. 12. 31.>\\n\\n⑤ 삭제<2006. 12. 30.>')"
      ]
     },
     "execution_count": 6,
     "metadata": {},
     "output_type": "execute_result"
    }
   ],
   "source": [
    "document_list[52]"
   ]
  },
  {
   "cell_type": "code",
   "execution_count": 7,
   "id": "4c341f9f",
   "metadata": {},
   "outputs": [],
   "source": [
    "#imbedding\n",
    "\n",
    "from langchain_openai import OpenAIEmbeddings\n",
    "\n",
    "embedding = OpenAIEmbeddings(model=\"text-embedding-3-large\")"
   ]
  },
  {
   "cell_type": "code",
   "execution_count": 8,
   "id": "fc1186b8",
   "metadata": {},
   "outputs": [],
   "source": [
    "#파인콘에 데이터 로딩\n",
    "import os\n",
    "from pinecone import Pinecone\n",
    "from langchain_pinecone import PineconeVectorStore\n",
    "\n",
    "index_name = 'tax-index'\n",
    "pinecone_api_key = os.getenv('PINECONE_API_KEY')\n",
    "pc = Pinecone(api_key=pinecone_api_key)\n",
    "\n",
    "vectorstore = PineconeVectorStore.from_existing_index(\n",
    "    index_name=index_name,\n",
    "    embedding=embedding,\n",
    ")"
   ]
  },
  {
   "cell_type": "code",
   "execution_count": null,
   "id": "376e23a9",
   "metadata": {},
   "outputs": [
    {
     "name": "stdout",
     "output_type": "stream",
     "text": [
      "similarity_search 결과: 0개\n",
      "인덱스 통계: {'dimension': 3072,\n",
      " 'index_fullness': 0.0,\n",
      " 'metric': 'cosine',\n",
      " 'namespaces': {'': {'vector_count': 225}},\n",
      " 'total_vector_count': 225,\n",
      " 'vector_type': 'dense'}\n",
      "namespace 지정 retriever 결과: 4개\n"
     ]
    }
   ],
   "source": [
    "# # 노트북에 이 코드를 추가해서 실행해보세요\n",
    "\n",
    "# # 1. 저장된 데이터 확인\n",
    "# try:\n",
    "#     # 직접 similarity_search로 확인\n",
    "#     results = vectorstore.similarity_search(\"소득세\", k=3, namespace='text')\n",
    "#     print(f\"similarity_search 결과: {len(results)}개\")\n",
    "#     for i, doc in enumerate(results):\n",
    "#         print(f\"{i+1}: {doc.page_content[:100]}...\")\n",
    "# except Exception as e:\n",
    "#     print(f\"similarity_search 오류: {e}\")\n",
    "\n",
    "# # 2. Pinecone 인덱스 상태 직접 확인\n",
    "# try:\n",
    "#     index_stats = pinecone_index.describe_index_stats()\n",
    "#     print(f\"인덱스 통계: {index_stats}\")\n",
    "# except Exception as e:\n",
    "#     print(f\"인덱스 통계 오류: {e}\")\n",
    "\n",
    "# # 3. namespace 'text'로 retriever 다시 생성\n",
    "# try:\n",
    "#     vectorstore_with_namespace = PineconeVectorStore(\n",
    "#         index=pinecone_index,\n",
    "#         embedding=embedding,\n",
    "#         text_key='page_content',\n",
    "#         # namespace='text',  # 명시적으로 namespace 지정\n",
    "#     )\n",
    "    \n",
    "#     retriever_with_namespace = vectorstore_with_namespace.as_retriever(search_kwargs={\"k\": 4})\n",
    "#     test_results = retriever_with_namespace.invoke(\"소득세\")\n",
    "#     print(f\"namespace 지정 retriever 결과: {len(test_results)}개\")\n",
    "    \n",
    "# except Exception as e:\n",
    "#     print(f\"namespace retriever 오류: {e}\")"
   ]
  },
  {
   "cell_type": "code",
   "execution_count": 1,
   "id": "67f3c323",
   "metadata": {},
   "outputs": [
    {
     "ename": "NameError",
     "evalue": "name 'pc' is not defined",
     "output_type": "error",
     "traceback": [
      "\u001b[31m---------------------------------------------------------------------------\u001b[39m",
      "\u001b[31mNameError\u001b[39m                                 Traceback (most recent call last)",
      "\u001b[36mCell\u001b[39m\u001b[36m \u001b[39m\u001b[32mIn[1]\u001b[39m\u001b[32m, line 5\u001b[39m\n\u001b[32m      1\u001b[39m \u001b[38;5;66;03m# import os\u001b[39;00m\n\u001b[32m      2\u001b[39m \u001b[38;5;66;03m# from pinecone import Pinecone\u001b[39;00m\n\u001b[32m      3\u001b[39m \u001b[38;5;66;03m# from langchain_pinecone import PineconeVectorStore\u001b[39;00m\n\u001b[32m----> \u001b[39m\u001b[32m5\u001b[39m pinecone_index = \u001b[43mpc\u001b[49m.Index(index_name)\n\u001b[32m      7\u001b[39m \u001b[38;5;28;01mtry\u001b[39;00m:\n\u001b[32m      8\u001b[39m     \u001b[38;5;66;03m# 네임스페이스 'text'의 모든 벡터 삭제\u001b[39;00m\n\u001b[32m      9\u001b[39m     pinecone_index.delete(delete_all=\u001b[38;5;28;01mTrue\u001b[39;00m, namespace=\u001b[33m'\u001b[39m\u001b[33mtext\u001b[39m\u001b[33m'\u001b[39m)\n",
      "\u001b[31mNameError\u001b[39m: name 'pc' is not defined"
     ]
    }
   ],
   "source": [
    "# import os\n",
    "# from pinecone import Pinecone\n",
    "# from langchain_pinecone import PineconeVectorStore\n",
    "\n",
    "# pinecone_index = pc.Index(index_name)\n",
    "\n",
    "# try:\n",
    "#     # 네임스페이스 'text'의 모든 벡터 삭제\n",
    "#     pinecone_index.delete(delete_all=True, namespace='text')\n",
    "#     print(\"네임스페이스 'text'의 모든 데이터 삭제 완료\")\n",
    "# except Exception as e:\n",
    "#     print(f\"데이터 삭제 오류: {e}\")\n",
    "\n",
    "# index_name = 'tax-index'\n",
    "# pinecone_api_key = os.getenv('PINECONE_API_KEY')\n",
    "# pc = Pinecone(api_key=pinecone_api_key)\n",
    "# pinecone_index = pc.Index(index_name)\n",
    "\n",
    "# vectorstore = PineconeVectorStore(\n",
    "#     index=pinecone_index,\n",
    "#     embedding=embedding,\n",
    "#     text_key='page_content',\n",
    "#     # namespace='text',\n",
    "# )\n",
    "\n",
    "# texts = [doc.page_content for doc in document_list]\n",
    "# #페이지 컨텐트 값만 들어감. \n",
    "# metadatas = [doc.metadata for doc in document_list]\n",
    "\n",
    "# batch_size = 2\n",
    "\n",
    "# for i in range(0, len(texts), batch_size):\n",
    "#     batch_texts = texts[i:i +batch_size]\n",
    "#     batch_metadatas = metadatas[i:i + batch_size]\n",
    "    \n",
    "#     try:\n",
    "#         vectorstore.add_texts(texts=batch_texts, metadatas=batch_metadatas)\n",
    "#     except Exception as e:\n",
    "#         print(f\"Error adding batch {i // batch_size + 1}: {e}\")\n"
   ]
  },
  {
   "cell_type": "code",
   "execution_count": 9,
   "id": "aefbedb1",
   "metadata": {},
   "outputs": [],
   "source": [
    "# query = \"연봉 5천만원인 거주자의 종합소득세는?\"\n",
    "query = \"연봉 5천만원 직장인 종합소득세는?\""
   ]
  },
  {
   "cell_type": "code",
   "execution_count": 10,
   "id": "09bbb733",
   "metadata": {},
   "outputs": [
    {
     "name": "stderr",
     "output_type": "stream",
     "text": [
      "Found document with no `text` key. Skipping.\n",
      "Found document with no `text` key. Skipping.\n"
     ]
    },
    {
     "data": {
      "text/plain": [
       "[Document(id='7a773b86-3706-4d0d-a11f-9d1eee001868', metadata={'source': './tax.docx'}, page_content='나. 그 밖의 배당소득에 대해서는 100분의 14\\n\\n3. 원천징수대상 사업소득에 대해서는 100분의 3. 다만, 외국인 직업운동가가 한국표준산업분류에 따른 스포츠 클럽 운영업 중 프로스포츠구단과의 계약(계약기간이 3년 이하인 경우로 한정한다)에 따라 용역을 제공하고 받는 소득에 대해서는 100분의 20으로 한다.\\n\\n4. 근로소득에 대해서는 기본세율. 다만, 일용근로자의 근로소득에 대해서는 100분의 6으로 한다.\\n\\n5. 공적연금소득에 대해서는 기본세율\\n\\n5의2.제20조의3제1항제2호나목 및 다목에 따른 연금계좌 납입액이나 운용실적에 따라 증가된 금액을 연금수령한 연금소득에 대해서는 다음 각 목의 구분에 따른 세율. 이 경우 각 목의 요건을 동시에 충족하는 때에는 낮은 세율을 적용한다.\\n\\n가. 연금소득자의 나이에 따른 다음의 세율\\n\\n\\n\\n나. 삭제<2014. 12. 23.>\\n\\n다. 사망할 때까지 연금수령하는 대통령령으로 정하는 종신계약에 따라 받는 연금소득에 대해서는 100분의 4\\n\\n5의3. 제20조의3제1항제2호가목에 따라 퇴직소득을 연금수령하는 연금소득에 대해서는 다음 각 목의 구분에 따른 세율. 이 경우 연금 실제 수령연차 및 연금외수령 원천징수세율의 구체적인 내용은 대통령령으로 정한다.\\n\\n가. 연금 실제 수령연차가 10년 이하인 경우: 연금외수령 원천징수세율의 100분의 70\\n\\n나. 연금 실제 수령연차가 10년을 초과하는 경우: 연금외수령 원천징수세율의 100분의 60\\n\\n6. 기타소득에 대해서는 다음에 규정하는 세율. 다만, 제8호를 적용받는 경우는 제외한다.\\n\\n가. 제14조제3항제8호라목 및 마목에 해당하는 소득금액이 3억원을 초과하는 경우 그 초과하는 분에 대해서는 100분의 30\\n\\n나. 제21조제1항제18호 및 제21호에 따른 기타소득에 대해서는 100분의 15\\n\\n다. 삭제<2014. 12. 23.>\\n\\n라. 그 밖의 기타소득에 대해서는 100분의 20\\n\\n7. 퇴직소득에 대해서는 기본세율\\n\\n8. 대통령령으로 정하는 봉사료에 대해서는 100분의 5\\n\\n9. 대통령령으로 정하는 금융투자소득에 대해서는 100분의 20\\n\\n② 제1항에도 불구하고 다음 각 호의 이자소득 및 배당소득에 대해서는 다음 각 호에서 정하는 세율을 원천징수세율로 한다.<개정 2013. 1. 1., 2017. 12. 19., 2018. 12. 31., 2022. 12. 31.>\\n\\n1. 「민사집행법」 제113조 및 같은 법 제142조에 따라 법원에 납부한 보증금 및 경락대금에서 발생하는 이자소득에 대해서는 100분의 14\\n\\n2. 대통령령으로 정하는 실지명의가 확인되지 아니하는 소득에 대해서는 100분의 45. 다만, 「금융실명거래 및 비밀보장에 관한 법률」 제5조가 적용되는 경우에는 같은 조에서 정한 세율로 한다.'),\n",
       " Document(id='2dcb8994-991d-4395-8d85-df1e5c409303', metadata={'source': './tax.docx'}, page_content='차. 외국정부(외국의 지방자치단체와 연방국가인 외국의 지방정부를 포함한다. 이하 같다) 또는 대통령령으로 정하는 국제기관에서 근무하는 사람으로서 대통령령으로 정하는 사람이 받는 급여. 다만, 그 외국정부가 그 나라에서 근무하는 우리나라 공무원의 급여에 대하여 소득세를 과세하지 아니하는 경우만 해당한다.\\n\\n카. 「국가유공자 등 예우 및 지원에 관한 법률」 또는 「보훈보상대상자 지원에 관한 법률」에 따라 받는 보훈급여금ㆍ학습보조비\\n\\n타. 「전직대통령 예우에 관한 법률」에 따라 받는 연금\\n\\n파. 작전임무를 수행하기 위하여 외국에 주둔 중인 군인ㆍ군무원이 받는 급여\\n\\n하. 종군한 군인ㆍ군무원이 전사(전상으로 인한 사망을 포함한다. 이하 같다)한 경우 그 전사한 날이 속하는 과세기간의 급여\\n\\n거. 국외 또는 「남북교류협력에 관한 법률」에 따른 북한지역에서 근로를 제공하고 받는 대통령령으로 정하는 급여\\n\\n너. 「국민건강보험법」, 「고용보험법」 또는 「노인장기요양보험법」에 따라 국가, 지방자치단체 또는 사용자가 부담하는 보험료\\n\\n더. 생산직 및 그 관련 직에 종사하는 근로자로서 급여 수준 및 직종 등을 고려하여 대통령령으로 정하는 근로자가 대통령령으로 정하는 연장근로ㆍ야간근로 또는 휴일근로를 하여 받는 급여\\n\\n러. 근로자가 사내급식이나 이와 유사한 방법으로 제공받는 식사 기타 음식물 또는 근로자(식사 기타 음식물을 제공받지 아니하는 자에 한정한다)가 받는 월 20만원 이하의 식사대\\n\\n머. 근로자 또는 그 배우자의 출산이나 6세 이하(해당 과세기간 개시일을 기준으로 판단한다) 자녀의 보육과 관련하여 사용자로부터 받는 급여로서 월 20만원 이내의 금액\\n\\n버. 「국군포로의 송환 및 대우 등에 관한 법률」에 따른 국군포로가 받는 보수 및 퇴직일시금\\n\\n서. 「교육기본법」 제28조제1항에 따라 받는 장학금 중 대학생이 근로를 대가로 지급받는 장학금(「고등교육법」 제2조제1호부터 제4호까지의 규정에 따른 대학에 재학하는 대학생에 한정한다)\\n\\n어. 「발명진흥법」 제2조제2호에 따른 직무발명으로 받는 다음의 보상금(이하 “직무발명보상금”이라 한다)으로서 대통령령으로 정하는 금액\\n\\n\\u3000\\u3000\\u30001) 「발명진흥법」 제2조제2호에 따른 종업원등(이하 이 조, 제20조 및 제21조에서 “종업원등”이라 한다)이 같은 호에 따른 사용자등(이하 이 조에서 “사용자등”이라 한다)으로부터 받는 보상금. 다만, 보상금을 지급한 사용자등과 대통령령으로 정하는 특수관계에 있는 자가 받는 보상금은 제외한다.\\n\\n\\u3000\\u3000\\u30002) 대학의 교직원 또는 대학과 고용관계가 있는 학생이 소속 대학에 설치된 「산업교육진흥 및 산학연협력촉진에 관한 법률」 제25조에 따른 산학협력단(이하 이 조에서 “산학협력단”이라 한다)으로부터 같은 법 제32조제1항제4호에 따라 받는 보상금\\n\\n저. 대통령령으로 정하는 복리후생적 성질의 급여\\n\\n4. 연금소득 중 다음 각 목의 어느 하나에 해당하는 소득')]"
      ]
     },
     "execution_count": 10,
     "metadata": {},
     "output_type": "execute_result"
    }
   ],
   "source": [
    "retriever = vectorstore.as_retriever(search_kwargs={\"k\": 4})\n",
    "retriever.invoke(query)"
   ]
  },
  {
   "cell_type": "code",
   "execution_count": 11,
   "id": "c46f4b87",
   "metadata": {},
   "outputs": [
    {
     "name": "stderr",
     "output_type": "stream",
     "text": [
      "c:\\AI_Prompt\\workspace\\ai_agent_work2\\tax_env\\myenv\\Lib\\site-packages\\langsmith\\client.py:272: LangSmithMissingAPIKeyWarning: API key must be provided when using hosted LangSmith API\n",
      "  warnings.warn(\n"
     ]
    },
    {
     "data": {
      "text/plain": [
       "ChatPromptTemplate(input_variables=['context', 'question'], input_types={}, partial_variables={}, metadata={'lc_hub_owner': 'rlm', 'lc_hub_repo': 'rag-prompt', 'lc_hub_commit_hash': '50442af133e61576e74536c6556cefe1fac147cad032f4377b60c436e6cdcb6e'}, messages=[HumanMessagePromptTemplate(prompt=PromptTemplate(input_variables=['context', 'question'], input_types={}, partial_variables={}, template=\"You are an assistant for question-answering tasks. Use the following pieces of retrieved context to answer the question. If you don't know the answer, just say that you don't know. Use three sentences maximum and keep the answer concise.\\nQuestion: {question} \\nContext: {context} \\nAnswer:\"), additional_kwargs={})])"
      ]
     },
     "execution_count": 11,
     "metadata": {},
     "output_type": "execute_result"
    }
   ],
   "source": [
    "from langchain import hub\n",
    "\n",
    "prompt = hub.pull(\"rlm/rag-prompt\")\n",
    "prompt"
   ]
  },
  {
   "cell_type": "code",
   "execution_count": 12,
   "id": "17210684",
   "metadata": {},
   "outputs": [],
   "source": [
    "from langchain_openai import ChatOpenAI\n",
    "\n",
    "llm = ChatOpenAI(model='gpt-4o')\n"
   ]
  },
  {
   "cell_type": "code",
   "execution_count": 13,
   "id": "58d2ea49",
   "metadata": {},
   "outputs": [],
   "source": [
    "from langchain.chains import RetrievalQA\n",
    "\n",
    "qa_chain = RetrievalQA.from_chain_type(\n",
    "    llm=llm,\n",
    "    retriever=retriever,\n",
    "    chain_type_kwargs={\"prompt\": prompt}\n",
    ")"
   ]
  },
  {
   "cell_type": "code",
   "execution_count": 14,
   "id": "aa00abfe",
   "metadata": {},
   "outputs": [],
   "source": [
    "# query = \"연봉 5천만원인 거주자의 종합소득세는?\"\n",
    "query = \"연봉 5천만원 직장인 소득세는?\""
   ]
  },
  {
   "cell_type": "code",
   "execution_count": 16,
   "id": "9708f830",
   "metadata": {},
   "outputs": [],
   "source": [
    "ai_message = qa_chain.invoke({\"query\": query})"
   ]
  },
  {
   "cell_type": "code",
   "execution_count": 17,
   "id": "747b76e6",
   "metadata": {},
   "outputs": [
    {
     "data": {
      "text/plain": [
       "{'query': '연봉 5천만원 직장인 소득세는?',\n",
       " 'result': '연봉 5천만 원의 직장인이 지불해야 할 소득세는 개인의 상황에 따라 달라질 수 있지만, 일반적으로 기본적인 소득공제와 세액 공제를 고려했을 때 대략 500만 원 내외가 될 수 있습니다. 좀 더 정확한 금액은 간이세액표나 소득세 계산기를 통해 확인할 수 있습니다.'}"
      ]
     },
     "execution_count": 17,
     "metadata": {},
     "output_type": "execute_result"
    }
   ],
   "source": [
    "ai_message"
   ]
  },
  {
   "cell_type": "markdown",
   "id": "841a3fde",
   "metadata": {},
   "source": [
    "### dictionary chain"
   ]
  },
  {
   "cell_type": "code",
   "execution_count": 18,
   "id": "01ae8d72",
   "metadata": {},
   "outputs": [],
   "source": [
    "#dictionary prompt\n",
    "\n",
    "from langchain_core.output_parsers import StrOutputParser\n",
    "from langchain.prompts import ChatPromptTemplate\n",
    "\n",
    "dictionary = [\"사람을 나타내는 표현 -> 거주자\"]\n",
    "\n",
    "prompt = ChatPromptTemplate.from_template(f\"\"\"\n",
    "    사용자의 질문을 보고, 우리의 사전을 참고해서 사용자의 질문을 변경해주세요.\n",
    "    만약 변경할 필요가 없다고 판단 된다면, 사용자의 질문을 변경하지 않아도 됩니다.\n",
    "    그런 경우에는 질문만 리턴해주세요\n",
    "    사전: {dictionary}\n",
    "    질문: {{question}}\n",
    "    \"\"\")\n",
    "\n",
    "dictionary_chain = prompt | llm | StrOutputParser()\n",
    "#내 질문을 그대로 변경하지 않고 보낼지, 거주자로 변경해서 보낼지 판단하게됨.  ouparser에게 전달\n",
    "#그 데이터 값이 dictionary_chain\n",
    "\n",
    "tax_chain = {\"query\": dictionary_chain} | qa_chain\n",
    "\n",
    "\n"
   ]
  },
  {
   "cell_type": "code",
   "execution_count": 19,
   "id": "ea66aed8",
   "metadata": {},
   "outputs": [
    {
     "data": {
      "text/plain": [
       "'연봉 5천만원 거주자의 소득세는?'"
      ]
     },
     "execution_count": 19,
     "metadata": {},
     "output_type": "execute_result"
    }
   ],
   "source": [
    "new_question = dictionary_chain.invoke({\n",
    "    \"question\": query,\n",
    "    })\n",
    "new_question"
   ]
  },
  {
   "cell_type": "code",
   "execution_count": 20,
   "id": "b59e30b1",
   "metadata": {},
   "outputs": [
    {
     "data": {
      "text/plain": [
       "{'query': '연봉 5천만원 거주자 소득세는?',\n",
       " 'result': '연봉 5천만 원인 경우의 소득세는 여러 요소에 따라 달라질 수 있습니다. 소득세 계산은 기본공제, 세율, 다양한 공제 항목들에 의해 영향을 받기 때문에 정확한 계산을 위해서는 이런 정보를 포함한 세금 계산기를 사용하는 것이 좋습니다. 대략적으로, 대한민국의 소득세율표를 사용하여 연간 소득세를 계산할 수 있습니다.'}"
      ]
     },
     "execution_count": 20,
     "metadata": {},
     "output_type": "execute_result"
    }
   ],
   "source": [
    "ai_message = tax_chain.invoke({\"question\": query})\n",
    "ai_message"
   ]
  },
  {
   "cell_type": "code",
   "execution_count": 141,
   "id": "2da31462",
   "metadata": {},
   "outputs": [
    {
     "name": "stdout",
     "output_type": "stream",
     "text": [
      "Requirement already satisfied: streamlit in c:\\ai_prompt\\workspace\\ai_agent_work2\\tax_env\\myenv\\lib\\site-packages (1.45.1)\n",
      "Requirement already satisfied: altair<6,>=4.0 in c:\\ai_prompt\\workspace\\ai_agent_work2\\tax_env\\myenv\\lib\\site-packages (from streamlit) (5.5.0)\n",
      "Requirement already satisfied: blinker<2,>=1.5.0 in c:\\ai_prompt\\workspace\\ai_agent_work2\\tax_env\\myenv\\lib\\site-packages (from streamlit) (1.9.0)\n",
      "Requirement already satisfied: cachetools<6,>=4.0 in c:\\ai_prompt\\workspace\\ai_agent_work2\\tax_env\\myenv\\lib\\site-packages (from streamlit) (5.5.2)\n",
      "Requirement already satisfied: click<9,>=7.0 in c:\\ai_prompt\\workspace\\ai_agent_work2\\tax_env\\myenv\\lib\\site-packages (from streamlit) (8.2.1)\n",
      "Requirement already satisfied: numpy<3,>=1.23 in c:\\ai_prompt\\workspace\\ai_agent_work2\\tax_env\\myenv\\lib\\site-packages (from streamlit) (2.3.0)\n",
      "Requirement already satisfied: packaging<25,>=20 in c:\\ai_prompt\\workspace\\ai_agent_work2\\tax_env\\myenv\\lib\\site-packages (from streamlit) (24.2)\n",
      "Requirement already satisfied: pandas<3,>=1.4.0 in c:\\ai_prompt\\workspace\\ai_agent_work2\\tax_env\\myenv\\lib\\site-packages (from streamlit) (2.3.0)\n",
      "Requirement already satisfied: pillow<12,>=7.1.0 in c:\\ai_prompt\\workspace\\ai_agent_work2\\tax_env\\myenv\\lib\\site-packages (from streamlit) (11.2.1)\n",
      "Requirement already satisfied: protobuf<7,>=3.20 in c:\\ai_prompt\\workspace\\ai_agent_work2\\tax_env\\myenv\\lib\\site-packages (from streamlit) (5.29.5)\n",
      "Requirement already satisfied: pyarrow>=7.0 in c:\\ai_prompt\\workspace\\ai_agent_work2\\tax_env\\myenv\\lib\\site-packages (from streamlit) (20.0.0)\n",
      "Requirement already satisfied: requests<3,>=2.27 in c:\\ai_prompt\\workspace\\ai_agent_work2\\tax_env\\myenv\\lib\\site-packages (from streamlit) (2.32.4)\n",
      "Requirement already satisfied: tenacity<10,>=8.1.0 in c:\\ai_prompt\\workspace\\ai_agent_work2\\tax_env\\myenv\\lib\\site-packages (from streamlit) (9.1.2)\n",
      "Requirement already satisfied: toml<2,>=0.10.1 in c:\\ai_prompt\\workspace\\ai_agent_work2\\tax_env\\myenv\\lib\\site-packages (from streamlit) (0.10.2)\n",
      "Requirement already satisfied: typing-extensions<5,>=4.4.0 in c:\\ai_prompt\\workspace\\ai_agent_work2\\tax_env\\myenv\\lib\\site-packages (from streamlit) (4.14.0)\n",
      "Requirement already satisfied: watchdog<7,>=2.1.5 in c:\\ai_prompt\\workspace\\ai_agent_work2\\tax_env\\myenv\\lib\\site-packages (from streamlit) (6.0.0)\n",
      "Requirement already satisfied: gitpython!=3.1.19,<4,>=3.0.7 in c:\\ai_prompt\\workspace\\ai_agent_work2\\tax_env\\myenv\\lib\\site-packages (from streamlit) (3.1.44)\n",
      "Requirement already satisfied: pydeck<1,>=0.8.0b4 in c:\\ai_prompt\\workspace\\ai_agent_work2\\tax_env\\myenv\\lib\\site-packages (from streamlit) (0.9.1)\n",
      "Requirement already satisfied: tornado<7,>=6.0.3 in c:\\ai_prompt\\workspace\\ai_agent_work2\\tax_env\\myenv\\lib\\site-packages (from streamlit) (6.5.1)\n",
      "Requirement already satisfied: jinja2 in c:\\ai_prompt\\workspace\\ai_agent_work2\\tax_env\\myenv\\lib\\site-packages (from altair<6,>=4.0->streamlit) (3.1.6)\n",
      "Requirement already satisfied: jsonschema>=3.0 in c:\\ai_prompt\\workspace\\ai_agent_work2\\tax_env\\myenv\\lib\\site-packages (from altair<6,>=4.0->streamlit) (4.24.0)\n",
      "Requirement already satisfied: narwhals>=1.14.2 in c:\\ai_prompt\\workspace\\ai_agent_work2\\tax_env\\myenv\\lib\\site-packages (from altair<6,>=4.0->streamlit) (1.42.0)\n",
      "Requirement already satisfied: colorama in c:\\ai_prompt\\workspace\\ai_agent_work2\\tax_env\\myenv\\lib\\site-packages (from click<9,>=7.0->streamlit) (0.4.6)\n",
      "Requirement already satisfied: gitdb<5,>=4.0.1 in c:\\ai_prompt\\workspace\\ai_agent_work2\\tax_env\\myenv\\lib\\site-packages (from gitpython!=3.1.19,<4,>=3.0.7->streamlit) (4.0.12)\n",
      "Requirement already satisfied: python-dateutil>=2.8.2 in c:\\ai_prompt\\workspace\\ai_agent_work2\\tax_env\\myenv\\lib\\site-packages (from pandas<3,>=1.4.0->streamlit) (2.9.0.post0)\n",
      "Requirement already satisfied: pytz>=2020.1 in c:\\ai_prompt\\workspace\\ai_agent_work2\\tax_env\\myenv\\lib\\site-packages (from pandas<3,>=1.4.0->streamlit) (2025.2)\n",
      "Requirement already satisfied: tzdata>=2022.7 in c:\\ai_prompt\\workspace\\ai_agent_work2\\tax_env\\myenv\\lib\\site-packages (from pandas<3,>=1.4.0->streamlit) (2025.2)\n",
      "Requirement already satisfied: charset_normalizer<4,>=2 in c:\\ai_prompt\\workspace\\ai_agent_work2\\tax_env\\myenv\\lib\\site-packages (from requests<3,>=2.27->streamlit) (3.4.2)\n",
      "Requirement already satisfied: idna<4,>=2.5 in c:\\ai_prompt\\workspace\\ai_agent_work2\\tax_env\\myenv\\lib\\site-packages (from requests<3,>=2.27->streamlit) (3.10)\n",
      "Requirement already satisfied: urllib3<3,>=1.21.1 in c:\\ai_prompt\\workspace\\ai_agent_work2\\tax_env\\myenv\\lib\\site-packages (from requests<3,>=2.27->streamlit) (2.4.0)\n",
      "Requirement already satisfied: certifi>=2017.4.17 in c:\\ai_prompt\\workspace\\ai_agent_work2\\tax_env\\myenv\\lib\\site-packages (from requests<3,>=2.27->streamlit) (2025.4.26)\n",
      "Requirement already satisfied: smmap<6,>=3.0.1 in c:\\ai_prompt\\workspace\\ai_agent_work2\\tax_env\\myenv\\lib\\site-packages (from gitdb<5,>=4.0.1->gitpython!=3.1.19,<4,>=3.0.7->streamlit) (5.0.2)\n",
      "Requirement already satisfied: MarkupSafe>=2.0 in c:\\ai_prompt\\workspace\\ai_agent_work2\\tax_env\\myenv\\lib\\site-packages (from jinja2->altair<6,>=4.0->streamlit) (3.0.2)\n",
      "Requirement already satisfied: attrs>=22.2.0 in c:\\ai_prompt\\workspace\\ai_agent_work2\\tax_env\\myenv\\lib\\site-packages (from jsonschema>=3.0->altair<6,>=4.0->streamlit) (25.3.0)\n",
      "Requirement already satisfied: jsonschema-specifications>=2023.03.6 in c:\\ai_prompt\\workspace\\ai_agent_work2\\tax_env\\myenv\\lib\\site-packages (from jsonschema>=3.0->altair<6,>=4.0->streamlit) (2025.4.1)\n",
      "Requirement already satisfied: referencing>=0.28.4 in c:\\ai_prompt\\workspace\\ai_agent_work2\\tax_env\\myenv\\lib\\site-packages (from jsonschema>=3.0->altair<6,>=4.0->streamlit) (0.36.2)\n",
      "Requirement already satisfied: rpds-py>=0.7.1 in c:\\ai_prompt\\workspace\\ai_agent_work2\\tax_env\\myenv\\lib\\site-packages (from jsonschema>=3.0->altair<6,>=4.0->streamlit) (0.25.1)\n",
      "Requirement already satisfied: six>=1.5 in c:\\ai_prompt\\workspace\\ai_agent_work2\\tax_env\\myenv\\lib\\site-packages (from python-dateutil>=2.8.2->pandas<3,>=1.4.0->streamlit) (1.17.0)\n",
      "Note: you may need to restart the kernel to use updated packages.\n"
     ]
    },
    {
     "name": "stderr",
     "output_type": "stream",
     "text": [
      "\n",
      "[notice] A new release of pip is available: 24.0 -> 25.1.1\n",
      "[notice] To update, run: python.exe -m pip install --upgrade pip\n"
     ]
    }
   ],
   "source": [
    "%pip install streamlit"
   ]
  },
  {
   "cell_type": "code",
   "execution_count": null,
   "id": "50654947",
   "metadata": {},
   "outputs": [],
   "source": []
  }
 ],
 "metadata": {
  "kernelspec": {
   "display_name": "myenv",
   "language": "python",
   "name": "python3"
  },
  "language_info": {
   "codemirror_mode": {
    "name": "ipython",
    "version": 3
   },
   "file_extension": ".py",
   "mimetype": "text/x-python",
   "name": "python",
   "nbconvert_exporter": "python",
   "pygments_lexer": "ipython3",
   "version": "3.11.9"
  }
 },
 "nbformat": 4,
 "nbformat_minor": 5
}
