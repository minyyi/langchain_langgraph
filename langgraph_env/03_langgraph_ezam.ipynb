{
 "cells": [
  {
   "cell_type": "code",
   "execution_count": 1,
   "id": "cc2d565c",
   "metadata": {},
   "outputs": [
    {
     "data": {
      "text/plain": [
       "2"
      ]
     },
     "execution_count": 1,
     "metadata": {},
     "output_type": "execute_result"
    }
   ],
   "source": [
    "1+1"
   ]
  },
  {
   "cell_type": "code",
   "execution_count": null,
   "id": "4bd277a1",
   "metadata": {},
   "outputs": [
    {
     "data": {
      "text/plain": [
       "True"
      ]
     },
     "execution_count": 2,
     "metadata": {},
     "output_type": "execute_result"
    }
   ],
   "source": [
    "from dotenv import load_dotenv\n",
    "load_dotenv()"
   ]
  },
  {
   "cell_type": "code",
   "execution_count": 3,
   "id": "42fad186",
   "metadata": {},
   "outputs": [],
   "source": [
    "import re\n",
    "import os, json\n",
    "\n",
    "from textwrap import dedent\n",
    "from pprint import pprint\n",
    "\n",
    "import warnings\n",
    "warnings.filterwarnings(\"ignore\")"
   ]
  },
  {
   "cell_type": "code",
   "execution_count": 5,
   "id": "1c2c3e9a",
   "metadata": {},
   "outputs": [],
   "source": [
    "from langchain_openai import OpenAIEmbeddings\n",
    "from langchain_chroma import Chroma\n",
    "\n",
    "embeddings_model = OpenAIEmbeddings(\n",
    "    model=\"text-embedding-3-small\",\n",
    ")\n"
   ]
  },
  {
   "cell_type": "code",
   "execution_count": null,
   "id": "24e07c2c",
   "metadata": {},
   "outputs": [],
   "source": [
    "# 벡터 저장소 로드\n",
    "\n",
    "from langchain_core.tools import tool\n",
    "from typing import List\n",
    "\n",
    "menu_db = Chroma(\n",
    "    embedding_function=embeddings_model,\n",
    "    collection_name=\"restaurant_menu\",\n",
    "    persist_directory=\"./chroma_db\",\n",
    ")\n",
    "\n",
    "\n",
    "@tool\n",
    "def search_menu(query: str) -> List[str]:\n",
    "    \"\"\"\n",
    "   레스토랑 메뉴에서 정보를 검색합니다. \n",
    "    \"\"\"\n",
    "    docs = menu_db.similarity_search(query, k=2)\n",
    "    \n",
    "    formatted_docs = \"\\n--\\n\".join([\n",
    "        f'<Document href=\"{doc.metadata[\"source\"]}\">\\n{doc.page_content}\\n</Document>'\n",
    "        for doc in docs\n",
    "            \n",
    "    ])\n",
    "    \n",
    "    if len(formatted_docs) > 0:\n",
    "        return formatted_docs\n",
    "    \n",
    "    return \"관련 정보를 찾을 수 없습니다.\"\n",
    "   "
   ]
  },
  {
   "cell_type": "code",
   "execution_count": 13,
   "id": "ec002857",
   "metadata": {},
   "outputs": [],
   "source": [
    "from langchain_community.tools import TavilySearchResults\n",
    "\n",
    "#툴 만들기\n",
    "@tool\n",
    "def search_web(query: str) -> str:      #쿼리가 들어오면 문자열로 답\n",
    "    \"\"\"\n",
    "    데이터 베이스에 존제하지 않는 정보 또는 최신 정보를 인터넷으로 검색합니다.\n",
    "    \"\"\"\n",
    "    \n",
    "    tavily_search = TavilySearchResults(max_results=3)\n",
    "    docs = tavily_search.invoke(query)\n",
    "    \n",
    "    # print(docs)\n",
    "    formatted_docs = \"\\n\\n--\\n\\n\".join(\n",
    "        [\n",
    "            f\"<Document href='{doc['url']}'>\\n{doc['content']}\\n</Document>\"\n",
    "            for doc in docs            \n",
    "        ])\n",
    "    \n",
    "    if len(formatted_docs) > 0:\n",
    "        return formatted_docs\n",
    "    \n",
    "    return \"관련 정보를 찾을 수 없습니다.\"\n",
    "\n"
   ]
  },
  {
   "cell_type": "code",
   "execution_count": null,
   "id": "c24c22d4",
   "metadata": {},
   "outputs": [],
   "source": [
    "from langchain_openai import ChatOpenAI\n",
    "\n",
    "llm = ChatOpenAI(       #자신의 지식을 가지고 검색\n",
    "    model=\"gpt-4o-mini\",\n",
    "    streaming=True,\n",
    ")\n",
    "\n",
    "tools = [search_menu, search_web]\n",
    "\n",
    "#툴 두개를 기반으로 검색\n",
    "llm_with_tools = llm.bind_tools(tools=tools)\n",
    "\n"
   ]
  },
  {
   "cell_type": "code",
   "execution_count": 18,
   "id": "321b915f",
   "metadata": {},
   "outputs": [
    {
     "name": "stdout",
     "output_type": "stream",
     "text": [
      "{'tool_calls': [{'id': 'call_kgUa370BVsj2RWME58ET7T4l', 'function': {'arguments': '{\"query\":\"스테이크\"}', 'name': 'search_menu'}, 'type': 'function'}], 'refusal': None}\n"
     ]
    }
   ],
   "source": [
    "from langchain_core.messages import AIMessage, HumanMessage\n",
    "\n",
    "#도구 호출 (어떤 툴을 호출했는지 정보)\n",
    "tool_call = llm_with_tools.invoke(\n",
    "    [HumanMessage(\"스테이크 메뉴의 가격은 얼마인가요?\")]\n",
    ")\n",
    "\n",
    "print(tool_call.additional_kwargs)"
   ]
  },
  {
   "cell_type": "code",
   "execution_count": 19,
   "id": "2538a2d6",
   "metadata": {},
   "outputs": [
    {
     "name": "stdout",
     "output_type": "stream",
     "text": [
      "{'tool_calls': [{'id': 'call_ywZufG40xzGwyNVTeJGa7yVs', 'function': {'arguments': '{\"query\":\"langgranph\"}', 'name': 'search_web'}, 'type': 'function'}], 'refusal': None}\n"
     ]
    }
   ],
   "source": [
    "#도구 호출 (어떤 툴을 호출했는지 정보)\n",
    "tool_call = llm_with_tools.invoke(\n",
    "    [HumanMessage(\"langgranph는 무엇인가요?\")]\n",
    ")\n",
    "\n",
    "print(tool_call.additional_kwargs)"
   ]
  },
  {
   "cell_type": "code",
   "execution_count": 21,
   "id": "5ef8fe90",
   "metadata": {},
   "outputs": [
    {
     "name": "stdout",
     "output_type": "stream",
     "text": [
      "{'refusal': None}\n",
      "content='3 + 4는 7입니다.' additional_kwargs={'refusal': None} response_metadata={'token_usage': {'completion_tokens': 10, 'prompt_tokens': 85, 'total_tokens': 95, 'completion_tokens_details': {'accepted_prediction_tokens': 0, 'audio_tokens': 0, 'reasoning_tokens': 0, 'rejected_prediction_tokens': 0}, 'prompt_tokens_details': {'audio_tokens': 0, 'cached_tokens': 0}}, 'model_name': 'gpt-4o-mini-2024-07-18', 'system_fingerprint': 'fp_62a23a81ef', 'finish_reason': 'stop', 'logprobs': None} id='run--388d8265-d335-47c6-996b-0156bb337755-0' usage_metadata={'input_tokens': 85, 'output_tokens': 10, 'total_tokens': 95}\n"
     ]
    }
   ],
   "source": [
    "#도구 호출 (어떤 툴을 호출했는지 정보)\n",
    "tool_call = llm_with_tools.invoke(\n",
    "    [HumanMessage(\"3+4는 얼마인가요?\")]\n",
    ")\n",
    "\n",
    "print(tool_call.additional_kwargs)\n",
    "print(tool_call)\n"
   ]
  },
  {
   "cell_type": "code",
   "execution_count": null,
   "id": "5eac1160",
   "metadata": {},
   "outputs": [],
   "source": [
    "# 도구 노드 (Tool Node) : AI 모델이 요청한 (tool) 호출을 실행하는 역할을 처리하는 LangGraph 컴포넌트\n",
    "\n",
    "from langgraph.prebuilt import ToolNode\n",
    "\n",
    "tool_node = ToolNode(tools=tools)"
   ]
  },
  {
   "cell_type": "code",
   "execution_count": null,
   "id": "7d756057",
   "metadata": {},
   "outputs": [
    {
     "data": {
      "text/plain": [
       "AIMessage(content='', additional_kwargs={'tool_calls': [{'id': 'call_p2UzeMbPIf5cfivCk0vbq2uw', 'function': {'arguments': '{\"query\":\"스테이크\"}', 'name': 'search_menu'}, 'type': 'function'}], 'refusal': None}, response_metadata={'token_usage': {'completion_tokens': 16, 'prompt_tokens': 88, 'total_tokens': 104, 'completion_tokens_details': {'accepted_prediction_tokens': 0, 'audio_tokens': 0, 'reasoning_tokens': 0, 'rejected_prediction_tokens': 0}, 'prompt_tokens_details': {'audio_tokens': 0, 'cached_tokens': 0}}, 'model_name': 'gpt-4o-mini-2024-07-18', 'system_fingerprint': 'fp_62a23a81ef', 'finish_reason': 'tool_calls', 'logprobs': None}, id='run--0a3d91d1-41ec-4bb9-9182-3fc52ec0fd45-0', tool_calls=[{'name': 'search_menu', 'args': {'query': '스테이크'}, 'id': 'call_p2UzeMbPIf5cfivCk0vbq2uw', 'type': 'tool_call'}], usage_metadata={'input_tokens': 88, 'output_tokens': 16, 'total_tokens': 104})"
      ]
     },
     "execution_count": 23,
     "metadata": {},
     "output_type": "execute_result"
    }
   ],
   "source": [
    "tool_call = llm_with_tools.invoke(\n",
    "    [HumanMessage(\"스테이크 메뉴의 가격은 얼마인가요?\")]\n",
    ")\n",
    "#search_menu 호출해야할것 같다는 정보 \n",
    "tool_call"
   ]
  },
  {
   "cell_type": "code",
   "execution_count": 27,
   "id": "a9dff2c9",
   "metadata": {},
   "outputs": [
    {
     "name": "stdout",
     "output_type": "stream",
     "text": [
      "<Document href=\"./data/restaurant_menu.txt\">\n",
      "8. 안심 스테이크 샐러드\n",
      "   • 가격: ₩26,000\n",
      "   • 주요 식재료: 소고기 안심, 루꼴라, 체리 토마토, 발사믹 글레이즈\n",
      "   • 설명: 부드러운 안심 스테이크를 얇게 슬라이스하여 신선한 루꼴라 위에 올린 메인 요리 샐러드입니다. 체리 토마토와 파마산 치즈 플레이크로 풍미를 더하고, 발사믹 글레이즈로 마무리하여 고기의 풍미를 한층 끌어올렸습니다.\n",
      "</Document>\n",
      "--\n",
      "<Document href=\"./data/restaurant_menu.txt\">\n",
      "7. 랍스터 비스크\n",
      "   • 가격: ₩28,000\n",
      "   • 주요 식재료: 랍스터, 생크림, 브랜디, 파프리카\n",
      "   • 설명: 랍스터 껍질과 육수로 오랜 시간 우려낸 진한 비스크 수프입니다. 생크림으로 부드러운 질감을 더하고 브랜디로 깊은 풍미를 살렸습니다. 작은 랍스터 살을 토핑으로 올려 고급스러움을 더했습니다.\n",
      "</Document>\n",
      "\n"
     ]
    }
   ],
   "source": [
    "results = tool_node.invoke({\"messages\": [tool_call]})\n",
    "\n",
    "for result in results['messages']:\n",
    "    print(result.content)\n",
    "    print()"
   ]
  },
  {
   "cell_type": "code",
   "execution_count": 29,
   "id": "ea95f900",
   "metadata": {},
   "outputs": [
    {
     "data": {
      "image/png": "[encoded data removed]",
      "text/plain": [
       "<IPython.core.display.Image object>"
      ]
     },
     "metadata": {},
     "output_type": "display_data"
    }
   ],
   "source": [
    "#ReAct Agent 구현\n",
    "\n",
    "from IPython.display import Image, display\n",
    "from langgraph.prebuilt import create_react_agent\n",
    "\n",
    "graph = create_react_agent(\n",
    "    model = llm_with_tools,        #우리가 가지고 있는 llm\n",
    "    tools=tools,                    #아까 2개 툴 가진거\n",
    ")\n",
    "\n",
    "display(Image(graph.get_graph().draw_mermaid_png()))"
   ]
  },
  {
   "cell_type": "code",
   "execution_count": 31,
   "id": "3b997821",
   "metadata": {},
   "outputs": [
    {
     "name": "stdout",
     "output_type": "stream",
     "text": [
      "================================\u001b[1m Human Message \u001b[0m=================================\n",
      "\n",
      "스테이크 메뉴의 가격은 얼마인가요?\n",
      "==================================\u001b[1m Ai Message \u001b[0m==================================\n",
      "Tool Calls:\n",
      "  search_menu (call_2FyrgYQ34BSDqZxtoJxCIdsn)\n",
      " Call ID: call_2FyrgYQ34BSDqZxtoJxCIdsn\n",
      "  Args:\n",
      "    query: 스테이크\n",
      "=================================\u001b[1m Tool Message \u001b[0m=================================\n",
      "Name: search_menu\n",
      "\n",
      "<Document href=\"./data/restaurant_menu.txt\">\n",
      "8. 안심 스테이크 샐러드\n",
      "   • 가격: ₩26,000\n",
      "   • 주요 식재료: 소고기 안심, 루꼴라, 체리 토마토, 발사믹 글레이즈\n",
      "   • 설명: 부드러운 안심 스테이크를 얇게 슬라이스하여 신선한 루꼴라 위에 올린 메인 요리 샐러드입니다. 체리 토마토와 파마산 치즈 플레이크로 풍미를 더하고, 발사믹 글레이즈로 마무리하여 고기의 풍미를 한층 끌어올렸습니다.\n",
      "</Document>\n",
      "--\n",
      "<Document href=\"./data/restaurant_menu.txt\">\n",
      "7. 랍스터 비스크\n",
      "   • 가격: ₩28,000\n",
      "   • 주요 식재료: 랍스터, 생크림, 브랜디, 파프리카\n",
      "   • 설명: 랍스터 껍질과 육수로 오랜 시간 우려낸 진한 비스크 수프입니다. 생크림으로 부드러운 질감을 더하고 브랜디로 깊은 풍미를 살렸습니다. 작은 랍스터 살을 토핑으로 올려 고급스러움을 더했습니다.\n",
      "</Document>\n",
      "==================================\u001b[1m Ai Message \u001b[0m==================================\n",
      "\n",
      "스테이크 메뉴의 가격은 다음과 같습니다:\n",
      "\n",
      "- **안심 스테이크 샐러드**: ₩26,000\n",
      "\n",
      "이 메뉴는 부드러운 안심 스테이크를 얇게 슬라이스하여 신선한 루꼴라 위에 올린 샐러드입니다. 체리 토마토와 파마산 치즈 플레이크로 풍미를 더하고, 발사믹 글레이즈로 마무리하여 고기의 풍미를 한층 끌어올렸습니다.\n"
     ]
    }
   ],
   "source": [
    "inputs = {\n",
    "    \"messages\": [\n",
    "        HumanMessage(\"스테이크 메뉴의 가격은 얼마인가요?\")\n",
    "    ]\n",
    "}\n",
    "\n",
    "messages = graph.invoke(inputs)\n",
    "for message in messages['messages']:\n",
    "    message.pretty_print()"
   ]
  },
  {
   "cell_type": "code",
   "execution_count": 35,
   "id": "bb6d3cf9",
   "metadata": {},
   "outputs": [
    {
     "data": {
      "image/png": "[encoded data removed]",
      "text/plain": [
       "<IPython.core.display.Image object>"
      ]
     },
     "metadata": {},
     "output_type": "display_data"
    }
   ],
   "source": [
    "system_prompt = dedent(\"\"\"\n",
    "You are an AI assistant designed to answer human questions. \n",
    "You can use the provided tools to help generate your responses.\n",
    "\n",
    "Follow these steps to answer questions:\n",
    "    1. Carefully read and understand the question.\n",
    "    2. Use the provided tools to obtain necessary information.\n",
    "    3. Immediately after using a tool, cite the source using the format below.\n",
    "    4. Construct an accurate and helpful answer using the tool outputs and citations.\n",
    "    5. Provide the final answer when you determine it's complete.\n",
    "\n",
    "When using tools, follow this format:\n",
    "    Action: tool_name\n",
    "    Action Input: input for the tool\n",
    "\n",
    "Immediately after receiving tool output, cite the source as follows:\n",
    "    [Source: tool_name | document_title/item_name | url/file_path]\n",
    "\n",
    "For example:\n",
    "    Action: search_menu\n",
    "    Action Input: 스테이크\n",
    "    \n",
    "    (After receiving tool output)\n",
    "    [Source: search_menu | 스테이크 | ./data/data.txt]\n",
    "    스테이크에 대한 정보는 다음과 같습니다...\n",
    "\n",
    "    Action: search_web\n",
    "    Action Input: History of AI\n",
    "\n",
    "    (After receiving tool output)\n",
    "    [Source: search_web | AI History | https://en.wikipedia.org/wiki/History_of_artificial_intelligence]\n",
    "    AI의 역사는 다음과 같이 요약됩니다...\n",
    "\n",
    "If tool use is not necessary, answer directly.\n",
    "\n",
    "Your final answer should be clear, concise, and directly related to the user's question. \n",
    "Ensure that every piece of factual information in your response is accompanied by a citation.\n",
    "\n",
    "Remember: ALWAYS include these citations for all factual information, tool outputs, and referenced documents in your response. \n",
    "Do not provide any information without a corresponding citation.\n",
    "\"\"\")\n",
    "\n",
    "graph = create_react_agent(\n",
    "    model = llm_with_tools,        #우리가 가지고 있는 llm\n",
    "    tools=tools,                    #아까 2개 툴 가진거\n",
    "    state_modifier=system_prompt,\n",
    ")\n",
    "\n",
    "display(Image(graph.get_graph().draw_mermaid_png()))"
   ]
  },
  {
   "cell_type": "code",
   "execution_count": 36,
   "id": "0ad5614f",
   "metadata": {},
   "outputs": [
    {
     "name": "stdout",
     "output_type": "stream",
     "text": [
      "================================\u001b[1m Human Message \u001b[0m=================================\n",
      "\n",
      "스테이크 메뉴의 가격은 얼마인가요?\n",
      "==================================\u001b[1m Ai Message \u001b[0m==================================\n",
      "Tool Calls:\n",
      "  search_menu (call_NrkHyfIrZdZNNenZlesx6xrm)\n",
      " Call ID: call_NrkHyfIrZdZNNenZlesx6xrm\n",
      "  Args:\n",
      "    query: 스테이크\n",
      "=================================\u001b[1m Tool Message \u001b[0m=================================\n",
      "Name: search_menu\n",
      "\n",
      "<Document href=\"./data/restaurant_menu.txt\">\n",
      "8. 안심 스테이크 샐러드\n",
      "   • 가격: ₩26,000\n",
      "   • 주요 식재료: 소고기 안심, 루꼴라, 체리 토마토, 발사믹 글레이즈\n",
      "   • 설명: 부드러운 안심 스테이크를 얇게 슬라이스하여 신선한 루꼴라 위에 올린 메인 요리 샐러드입니다. 체리 토마토와 파마산 치즈 플레이크로 풍미를 더하고, 발사믹 글레이즈로 마무리하여 고기의 풍미를 한층 끌어올렸습니다.\n",
      "</Document>\n",
      "--\n",
      "<Document href=\"./data/restaurant_menu.txt\">\n",
      "7. 랍스터 비스크\n",
      "   • 가격: ₩28,000\n",
      "   • 주요 식재료: 랍스터, 생크림, 브랜디, 파프리카\n",
      "   • 설명: 랍스터 껍질과 육수로 오랜 시간 우려낸 진한 비스크 수프입니다. 생크림으로 부드러운 질감을 더하고 브랜디로 깊은 풍미를 살렸습니다. 작은 랍스터 살을 토핑으로 올려 고급스러움을 더했습니다.\n",
      "</Document>\n",
      "==================================\u001b[1m Ai Message \u001b[0m==================================\n",
      "\n",
      "스테이크 메뉴는 다음과 같습니다:\n",
      "\n",
      "- **안심 스테이크 샐러드**\n",
      "  - **가격:** ₩26,000\n",
      "  - **주요 식재료:** 소고기 안심, 루꼴라, 체리 토마토, 발사믹 글레이즈\n",
      "  - **설명:** 부드러운 안심 스테이크를 얇게 슬라이스하여 신선한 루꼴라 위에 올린 메인 요리 샐러드입니다. 체리 토마토와 파마산 치즈 플레이크로 풍미를 더하고, 발사믹 글레이즈로 마무리하여 고기의 풍미를 한층 끌어올렸습니다. \n",
      "\n",
      "위의 정보는 레스토랑 메뉴에서 가져온 것입니다. [Source: search_menu | 스테이크 | ./data/restaurant_menu.txt]\n"
     ]
    }
   ],
   "source": [
    "inputs = {\n",
    "    \"messages\": [\n",
    "        HumanMessage(\"스테이크 메뉴의 가격은 얼마인가요?\")\n",
    "    ]\n",
    "}\n",
    "\n",
    "messages = graph.invoke(inputs)\n",
    "for message in messages['messages']:\n",
    "    message.pretty_print()"
   ]
  },
  {
   "cell_type": "code",
   "execution_count": 38,
   "id": "ab543234",
   "metadata": {},
   "outputs": [
    {
     "data": {
      "image/png": "[encoded data removed]",
      "text/plain": [
       "<IPython.core.display.Image object>"
      ]
     },
     "metadata": {},
     "output_type": "display_data"
    }
   ],
   "source": [
    "# create_react_agent을 하지 않고도 resoning하는 방법 => mesage state\n",
    "\n",
    "from langgraph.graph import MessagesState, StateGraph, START, END\n",
    "from langchain_core.messages import AIMessage, HumanMessage, SystemMessage\n",
    "\n",
    "class GraphState(MessagesState):\n",
    "    pass        #default \n",
    "\n",
    "#서로 메시지를 주고받기 위한 messages라는 스테이트가 내장되어 있음. \n",
    "\n",
    "#첫번째 노드 (툴 호출하는 노드가 필요함.)\n",
    "def call_node(state: GraphState) -> GraphState:\n",
    "    system_message = SystemMessage(content=system_prompt)\n",
    "    messages = [system_message] + state[\"messages\"]     #방금 만든것에 기본적으로 있는 messages 추가\n",
    "                                    #우리가 대화하는 메시지가 들어있음. \n",
    "    response = llm_with_tools.invoke(messages)\n",
    "    return {\"messages\": [response]}     \n",
    "#결과값 넣어서 업데이트. ai메시지가 여기 들어간것임 => 이 내용 기반으로 출력해야할지, 추론 더 해야할지(툴 호출여부) 판단(분기)\n",
    "\n",
    "\n",
    "def should_continue(state: GraphState):\n",
    "    last_message = state['messages'][-1]        #라스트 메시지 받아서 도구 호출할지말지 정함\n",
    "    if last_message.tool_calls: #툴 호출 필요하다면\n",
    "        return \"execute_tools\" #임의로 정하는 값 \n",
    "    \n",
    "    return END      #필요 없으면 도구호출 없이 끝내겠다. \n",
    "    \n",
    "    \n",
    "builder = StateGraph(GraphState)\n",
    "builder.add_node(\"call_node\", call_node)\n",
    "builder.add_node(\"execute_tools\", ToolNode(tools=tools))        #execute_tools은 없음. 그냥 ToolNode로 호출\n",
    "\n",
    "builder.add_edge(START, \"call_node\")\n",
    "builder.add_conditional_edges(\n",
    "    \"call_node\",\n",
    "    should_continue,\n",
    "    {\n",
    "        \"execute_tools\" :\"execute_tools\",\n",
    "        END: END,\n",
    "    }\n",
    ")\n",
    "builder.add_edge(\"execute_tools\", \"call_node\")\n",
    "\n",
    "graph = builder.compile()\n",
    "\n",
    "display(Image(graph.get_graph().draw_mermaid_png()))"
   ]
  },
  {
   "cell_type": "code",
   "execution_count": 39,
   "id": "f4e7a13c",
   "metadata": {},
   "outputs": [
    {
     "name": "stdout",
     "output_type": "stream",
     "text": [
      "================================\u001b[1m Human Message \u001b[0m=================================\n",
      "\n",
      "스테이크 메뉴의 가격은 얼마인가요?\n",
      "==================================\u001b[1m Ai Message \u001b[0m==================================\n",
      "Tool Calls:\n",
      "  search_menu (call_eMtQreQSGWQG6MqU9wGEJvwe)\n",
      " Call ID: call_eMtQreQSGWQG6MqU9wGEJvwe\n",
      "  Args:\n",
      "    query: 스테이크\n",
      "=================================\u001b[1m Tool Message \u001b[0m=================================\n",
      "Name: search_menu\n",
      "\n",
      "<Document href=\"./data/restaurant_menu.txt\">\n",
      "8. 안심 스테이크 샐러드\n",
      "   • 가격: ₩26,000\n",
      "   • 주요 식재료: 소고기 안심, 루꼴라, 체리 토마토, 발사믹 글레이즈\n",
      "   • 설명: 부드러운 안심 스테이크를 얇게 슬라이스하여 신선한 루꼴라 위에 올린 메인 요리 샐러드입니다. 체리 토마토와 파마산 치즈 플레이크로 풍미를 더하고, 발사믹 글레이즈로 마무리하여 고기의 풍미를 한층 끌어올렸습니다.\n",
      "</Document>\n",
      "--\n",
      "<Document href=\"./data/restaurant_menu.txt\">\n",
      "7. 랍스터 비스크\n",
      "   • 가격: ₩28,000\n",
      "   • 주요 식재료: 랍스터, 생크림, 브랜디, 파프리카\n",
      "   • 설명: 랍스터 껍질과 육수로 오랜 시간 우려낸 진한 비스크 수프입니다. 생크림으로 부드러운 질감을 더하고 브랜디로 깊은 풍미를 살렸습니다. 작은 랍스터 살을 토핑으로 올려 고급스러움을 더했습니다.\n",
      "</Document>\n",
      "==================================\u001b[1m Ai Message \u001b[0m==================================\n",
      "\n",
      "스테이크 메뉴의 가격은 다음과 같습니다:\n",
      "\n",
      "- **안심 스테이크 샐러드**: ₩26,000\n",
      "  - 주요 식재료: 소고기 안심, 루꼴라, 체리 토마토, 발사믹 글레이즈\n",
      "  - 설명: 부드러운 안심 스테이크를 얇게 슬라이스하여 신선한 루꼴라 위에 올린 메인 요리 샐러드입니다. 체리 토마토와 파마산 치즈 플레이크로 풍미를 더하고, 발사믹 글레이즈로 마무리하여 고기의 풍미를 한층 끌어올렸습니다. \n",
      "\n",
      "[Source: search_menu | 스테이크 메뉴 | ./data/restaurant_menu.txt]\n"
     ]
    }
   ],
   "source": [
    "inputs = {\n",
    "    \"messages\": [\n",
    "        HumanMessage(\"스테이크 메뉴의 가격은 얼마인가요?\")\n",
    "    ]\n",
    "}\n",
    "\n",
    "messages = graph.invoke(inputs)\n",
    "for message in messages['messages']:\n",
    "    message.pretty_print()"
   ]
  },
  {
   "cell_type": "code",
   "execution_count": 43,
   "id": "6ba9d636",
   "metadata": {},
   "outputs": [
    {
     "data": {
      "image/png": "[encoded data removed]",
      "text/plain": [
       "<IPython.core.display.Image object>"
      ]
     },
     "metadata": {},
     "output_type": "display_data"
    }
   ],
   "source": [
    "#위랑 같은데 tools_condition활용도 가능 \n",
    "from langgraph.prebuilt import tools_condition\n",
    "\n",
    "def call_node(state: GraphState) -> GraphState:\n",
    "    system_message = SystemMessage(content=system_prompt)\n",
    "    messages = [system_message] + state[\"messages\"]    \n",
    "    response = llm_with_tools.invoke(messages)\n",
    "    return {\"messages\": [response]} \n",
    "\n",
    "builder = StateGraph(GraphState)\n",
    "builder.add_node(\"agent\", call_node)        #툴콜링 메시지 불러오는 노드, 이름 같아서 바꾼거임\n",
    "builder.add_node(\"tools\",ToolNode(tools=tools))     #실행\n",
    "\n",
    "builder.add_edge(START, \"agent\")\n",
    "builder.add_conditional_edges(\n",
    "    \"agent\",\n",
    "    tools_condition,\n",
    ")\n",
    "builder.add_edge(\"tools\", \"agent\")\n",
    "\n",
    "graph = builder.compile()\n",
    "\n",
    "display(Image(graph.get_graph().draw_mermaid_png()))"
   ]
  },
  {
   "cell_type": "code",
   "execution_count": 45,
   "id": "09774569",
   "metadata": {},
   "outputs": [
    {
     "name": "stdout",
     "output_type": "stream",
     "text": [
      "================================\u001b[1m Human Message \u001b[0m=================================\n",
      "\n",
      "파스타에 어울리는 음료는 무엇인가요?\n",
      "==================================\u001b[1m Ai Message \u001b[0m==================================\n",
      "Tool Calls:\n",
      "  search_menu (call_V6s8FoiRghk6boAuvIAG4o91)\n",
      " Call ID: call_V6s8FoiRghk6boAuvIAG4o91\n",
      "  Args:\n",
      "    query: 파스타 음료\n",
      "=================================\u001b[1m Tool Message \u001b[0m=================================\n",
      "Name: search_menu\n",
      "\n",
      "<Document href=\"./data/restaurant_menu.txt\">\n",
      "6. 해산물 파스타\n",
      "   • 가격: ₩24,000\n",
      "   • 주요 식재료: 링귀네 파스타, 새우, 홍합, 오징어, 토마토 소스\n",
      "   • 설명: 알 덴테로 삶은 링귀네 파스타에 신선한 해산물을 듬뿍 올린 메뉴입니다. 토마토 소스의 산미와 해산물의 감칠맛이 조화를 이루며, 마늘과 올리브 오일로 풍미를 더했습니다. 파슬리를 뿌려 향긋한 맛을 더합니다.\n",
      "</Document>\n",
      "--\n",
      "<Document href=\"./data/restaurant_menu.txt\">\n",
      "4. 버섯 크림 수프\n",
      "   • 가격: ₩10,000\n",
      "   • 주요 식재료: 양송이버섯, 표고버섯, 생크림, 트러플 오일\n",
      "   • 설명: 양송이버섯과 표고버섯을 오랜 시간 정성스레 끓여 만든 크림 수프입니다. 부드러운 텍스처와 깊은 버섯 향이 특징이며, 최상급 트러플 오일을 살짝 뿌려 고급스러운 향을 더했습니다. 파슬리를 곱게 다져 고명으로 올려 제공됩니다.\n",
      "</Document>\n",
      "==================================\u001b[1m Ai Message \u001b[0m==================================\n",
      "Tool Calls:\n",
      "  search_web (call_AjNtsor2XSrQzNygH66z5xID)\n",
      " Call ID: call_AjNtsor2XSrQzNygH66z5xID\n",
      "  Args:\n",
      "    query: 파스타에 어울리는 음료 추천\n",
      "=================================\u001b[1m Tool Message \u001b[0m=================================\n",
      "Name: search_web\n",
      "\n",
      "<Document href='https://m.blog.naver.com/realpasta_official/222190499778'>\n",
      "블로그 카테고리 이동 리얼파스타 공식 블로그 오늘은 추워지는 날씨에 파스타와 함께 먹기 좋은 판매하고 있는데요 ㅎㅎ 파스타 먹기전 애피타이저로 먹어도 좋고 파스타 먹으면서 같이 먹어도 궁합이 잘 맞아요. 국물이 약간 있는 파스타면 살짝 담궈서 먹어도 좋답니다. 2. 스테이크 먹기 좋은 메뉴에요. 일단 둘다 양식이라고 궁합이 잘 맞고 스테이크 소스를 너무 새콤달콤하게 하면 파스타와 스테이크를 살짝 담궈서 함께 먹는 것도 좋은 방법이에요. 3. 치킨 샐러드 파스타는 샐러드와도 잘 어울려요. 샐러드 중에서도 치킨 샐러드, 닭가슴살 샐러드를 추천드립니다. 샐러드를 판매하고 있는데요. 그만큼 파스타와 샐러드가 ㅎㅎ 샐러드가 잡아주고 상큼한 채소의 맛이 파스타를 4. 고르곤졸라 피자 일반 피자는 아무래도 새콤하거나 맛이 좀 겹치기도 하는데요. 소스에 찍어 먹으면 그 풍미가 더욱 살아나는 고르곤졸라 피자! 꼭 파스타와 함께 먹어보시길 추천드려요! 이상으로 오늘은 파스타와 함께 먹기 좋은 카테고리\n",
      "</Document>\n",
      "\n",
      "--\n",
      "\n",
      "<Document href='https://kjtimes.com/news/article.html?no=50955'>\n",
      "가슴 속까지 깨워주는 청량감과 깨끗함이 느껴지는 레몬라임 맛으로 파스타나 피자처럼 느끼한 음식과 먹으면 입안의 텁텁함을 제거해 식사를 상쾌하게 마무리할 수 있다. 광고는 느끼한 파스타를 비롯해 다양한 맛의 음식들을 즐기며 스프라이트로 상쾌하게 마무리하는 내용으로, 음식과 잘 어울리는 스프라이트의 청량함을 강조함은 물론 맛있는 음식을 즐길 때는 스프라이트로 상쾌하게 마무리하라는 메시지를 전달하고 있다. 제로 칼로리로 부담 없이 가볍게 즐길 수 있고 마지막까지 톡 쏘는 탄산이 상쾌함까지 전달해 줘 자극적인 음식과 잘 어울린다. 과즙 스파클링 음료는 과즙에 탄산이 가미돼 달콤상큼한 과일의 맛과 탄산의 청량함을 함께 즐길 수 있어 새콤달콤한 맛의 분짜와 잘 어울린다. 깔끔하고 풍부한 맛으로 브런치∙디저트 등 다양한 요리에 부담 없이 곁들일 수 있다. 마카와 비수리를 볶아서 특유의 쓴 맛을 줄이고 구수한 맛을 더해 부담 없이 마실 수 있는 것이 특징이다.\n",
      "</Document>\n",
      "\n",
      "--\n",
      "\n",
      "<Document href='https://www.k-health.com/news/articleView.html?idxno=32528'>\n",
      "이탈리아 음식은 우리나라에 자리 잡은 지 오래다. 파스타와 피자는 물론 최근 들어 라자냐, 파니니도 인기를 끈다. 이들 음식은 올리브오일이나 치즈를 주로 활용하기 때문에 우리나라 사람들의 입맛에는 느끼할 수 있어 청량하고 상쾌한 사이다가 잘 어울린다.\n",
      "\n",
      "사이다는 다른 탄산음료에 비해 깨끗한 맛으로 느끼한 음식의 텁텁함을 해소시킨다. 또 입 안을 깔끔하고 개운하게 해 식사를 산뜻하게 마무리하도록 돕는다.\n",
      "\n",
      "코카콜라의 ‘스프라이트’는 풍부한 청량감과 상쾌한 향이 특징인 사이다음료다. 레몬라임 맛으로 느끼한 음식과 먹을 때 텁텁함을 제거해 식사를 상쾌하게 마무리한다. 파니니, 리조또, 티라미수 등 다른 이탈리아음식이나 디저트와도 잘 어울린다.\n",
      "\n",
      "**■중국 : 매운 훠궈에는 시원하고 달콤한 유산균음료** [...] ![헬스경향](/image/logo/watermark_20180918023613.png)\n",
      "![헬스경향](/image/logo/printlogo_20180918023544.png)\n",
      "![](/news/photo/201711/32528_19333_4713.jpg)\n",
      "\n",
      "파스타, 피자 등 이탈리아 음식부터 딤섬, 분짜, 팟타이 등 동남아 음식까지 우리나라에 세계 각지의 음식들이 들어와 대중화됐다. 이 중 많은 음식이 기름지거나 느끼한 경우가 많아 청량하고 상큼한 음료가 생각난다.\n",
      "\n",
      "음료는 식사 중 목 막힘을 해소하고 음식의 맛을 더욱 돋우는 역할을 한다. 또 음식으로 텁텁해진 입안을 개운하게 만들어 상쾌한 느낌을 준다. 세계 각지의 음식과 곁들여 먹으면 더 맛있게 즐길 수 있는 궁합음료를 소개한다.\n",
      "\n",
      "**■이탈리아 : 느끼한 파스타와 피자에는 톡 쏘고 상쾌한 사이다** [...] 쌀국수로 대표되는 베트남 음식도 국내에서 인기다. 최근에는 베트남의 수도 ‘하노이’의 ‘분짜’가 주목 받고 있다. 분짜는 쌀국수에 불에 구운 고기와 각종 채소, 소스, 라임즙 등을 섞어 먹는 일종의 비벼먹는 쌀국수다. 국내에서는 특히 젊은 여성층에서 많은 인기를 누리고 있다.\n",
      "\n",
      "분짜나 쌀국수를 먹을 때는 과즙 스파클링 음료가 잘 어울린다. 과즙에 탄산이 가미돼 달콤상큼한 과일의 맛과 탄산의 청량함을 함께 즐길 수 있다.\n",
      "\n",
      "코카콜라의 ‘미닛메이드 스파클링 사과’는 상큼한 사과과즙에 스파클링이 가미돼 청량감을 살린 제품이다. 청량한 무알코올음료도 느끼한 맛을 잡는 데 좋다. 하이트진로음료의 ‘하이트제로’는 드라이밀링 공법으로 만들어 부드러운 거품과 깔끔한 목 넘김이 특징. 이마트의 피코크 ‘377바’는 파인애플이 들어간 민트 등 5종으로 구성된 무알코올 칵테일음료다.\n",
      "\n",
      "**■홍콩 : 딤섬은 느긋하게 즐기는 차 음료**\n",
      "</Document>\n",
      "==================================\u001b[1m Ai Message \u001b[0m==================================\n",
      "\n",
      "파스타에 어울리는 음료로는 다음과 같은 것들이 추천됩니다:\n",
      "\n",
      "1. **사이다**: 특히 레몬라임 맛의 사이다는 느끼한 파스타와 잘 어울립니다. 사이다는 텁텁함을 제거하며 식사 후에 입안을 상쾌하게 해줍니다. 코카콜라의 '스프라이트' 같은 브랜드가 인기 있습니다[Source: search_web | K-헬스 | https://www.k-health.com/news/articleView.html?idxno=32528].\n",
      "\n",
      "2. **과즙 스파클링 음료**: 달콤한 과일 맛과 청량감을 함께 즐길 수 있는 과즙 스파클링 음료도 좋습니다. 이는 파스타의 풍미를 돋우고, 느끼함을 중화시켜 줍니다[Source: search_web | K-헬스 | https://www.k-health.com/news/articleView.html?idxno=32528].\n",
      "\n",
      "3. **청량 음료**: 청량감이 있는 음료, 특히 탄산이 포함된 음료는 느끼한 이탈리아 음식과 잘 어울립니다. 이는 식사 중 목 막힘을 해소하고, 상쾌한 느낌을 주기 때문에 파스타와 함께 즐기기에 적합합니다[Source: search_web | K-헬스 | https://www.k-health.com/news/articleView.html?idxno=32528].\n",
      "\n",
      "이 외에도 파스타와 함께 샐러드나 다른 양식 요리를 곁들이면 좋습니다. 샐러드는 파스타의 무거운 맛을 경감시켜주고, 상큼한 맛으로 조화를 이룹니다[Source: search_web | 블로그 | https://m.blog.naver.com/realpasta_official/222190499778].\n",
      "\n",
      "결론적으로, 파스타와 함께 사이다, 과즙 스파클링 음료, 청량 음료를 추천합니다.\n"
     ]
    }
   ],
   "source": [
    "inputs = {\n",
    "    \"messages\": [\n",
    "        HumanMessage(\"파스타에 어울리는 음료는 무엇인가요?\")\n",
    "    ]\n",
    "}\n",
    "\n",
    "messages = graph.invoke(inputs)\n",
    "for message in messages['messages']:\n",
    "    message.pretty_print()"
   ]
  },
  {
   "cell_type": "code",
   "execution_count": 46,
   "id": "c11ad7f6",
   "metadata": {},
   "outputs": [
    {
     "name": "stdout",
     "output_type": "stream",
     "text": [
      "================================\u001b[1m Human Message \u001b[0m=================================\n",
      "\n",
      "방금 답변에 대한 출처가 있나요?\n",
      "==================================\u001b[1m Ai Message \u001b[0m==================================\n",
      "\n",
      "제 답변에는 출처가 포함되어 있습니다. 모든 정보는 사용한 도구의 출력에 기반하여 제공되며, 각 정보에는 해당 출처를 명시하고 있습니다. 만약 특정 정보에 대한 출처를 알고 싶으시다면, 질문해 주시면 해당 정보와 출처를 다시 제공해 드리겠습니다.\n"
     ]
    }
   ],
   "source": [
    "inputs = {\n",
    "    \"messages\": [\n",
    "        HumanMessage(\"방금 답변에 대한 출처가 있나요?\")\n",
    "    ]\n",
    "}\n",
    "\n",
    "messages = graph.invoke(inputs)\n",
    "for message in messages['messages']:\n",
    "    message.pretty_print()"
   ]
  },
  {
   "cell_type": "code",
   "execution_count": null,
   "id": "21488ad5",
   "metadata": {},
   "outputs": [],
   "source": [
    "#체크포인터: 그래프의 각 단계 실행 후 상태를 저장\n",
    "from langgraph.checkpoint.memory import MemorySaver\n",
    "\n",
    "memory = MemorySaver()\n",
    "\n",
    "#그냥 그래프가 아니라 그래프 메모리 사용\n",
    "graph_memory = builder.compile(checkpointer=memory)\n"
   ]
  },
  {
   "cell_type": "code",
   "execution_count": 51,
   "id": "2291e652",
   "metadata": {},
   "outputs": [
    {
     "name": "stdout",
     "output_type": "stream",
     "text": [
      "================================\u001b[1m Human Message \u001b[0m=================================\n",
      "\n",
      "파스타에 어울리는 음료는 무엇?\n",
      "==================================\u001b[1m Ai Message \u001b[0m==================================\n",
      "Tool Calls:\n",
      "  search_menu (call_17QUT5oEdjiAjU6HHoz70TH0)\n",
      " Call ID: call_17QUT5oEdjiAjU6HHoz70TH0\n",
      "  Args:\n",
      "    query: 파스타 음료 추천\n",
      "  search_web (call_7GzwBmUnQgbJK3RY57zuTX2E)\n",
      " Call ID: call_7GzwBmUnQgbJK3RY57zuTX2E\n",
      "  Args:\n",
      "    query: What drinks pair well with pasta?\n",
      "=================================\u001b[1m Tool Message \u001b[0m=================================\n",
      "Name: search_menu\n",
      "\n",
      "<Document href=\"./data/restaurant_menu.txt\">\n",
      "6. 해산물 파스타\n",
      "   • 가격: ₩24,000\n",
      "   • 주요 식재료: 링귀네 파스타, 새우, 홍합, 오징어, 토마토 소스\n",
      "   • 설명: 알 덴테로 삶은 링귀네 파스타에 신선한 해산물을 듬뿍 올린 메뉴입니다. 토마토 소스의 산미와 해산물의 감칠맛이 조화를 이루며, 마늘과 올리브 오일로 풍미를 더했습니다. 파슬리를 뿌려 향긋한 맛을 더합니다.\n",
      "</Document>\n",
      "--\n",
      "<Document href=\"./data/restaurant_menu.txt\">\n",
      "4. 버섯 크림 수프\n",
      "   • 가격: ₩10,000\n",
      "   • 주요 식재료: 양송이버섯, 표고버섯, 생크림, 트러플 오일\n",
      "   • 설명: 양송이버섯과 표고버섯을 오랜 시간 정성스레 끓여 만든 크림 수프입니다. 부드러운 텍스처와 깊은 버섯 향이 특징이며, 최상급 트러플 오일을 살짝 뿌려 고급스러운 향을 더했습니다. 파슬리를 곱게 다져 고명으로 올려 제공됩니다.\n",
      "</Document>\n",
      "=================================\u001b[1m Tool Message \u001b[0m=================================\n",
      "Name: search_web\n",
      "\n",
      "<Document href='https://www.quora.com/What-drinks-match-perfectly-with-pasta-dishes'>\n",
      "White wine, such as Pinot Grigio, or sparkling water pairs well with pasta dishes. For tomato-based pasta, red wine like Chianti is a great\n",
      "</Document>\n",
      "\n",
      "--\n",
      "\n",
      "<Document href='https://makemeacocktail.com/level-up/791/the-best-cocktails-to-enjoy-with-pasta'>\n",
      "This pairing works well because of the contrast in temperature and texture, as well as the complementary interplay of flavors. The cold, bubbly Moscow Mule with its sharp ginger and lime flavors refreshes the palate after each rich, savory bite of the sausage fettuccine, making each forkful as enjoyable as the first. This combination is a testament to the principle that opposites attract, offering a dining experience that is both varied and harmonious. [...] When pairing sangria with a pasta dish, the choice of wine can significantly influence the harmony between the drink and the meal. For a versatile pairing that complements a wide range of pasta dishes, from light and zesty to rich and savory, a medium-bodied red wine is an excellent choice. Specifically, a Tempranillo from Spain or a Sangiovese from Italy offer the right balance of fruitiness and acidity, with enough body to stand up to hearty ingredients without overwhelming delicate flavors. [...] This pairing is about balance—the warmth and creaminess of the Spaghetti Carbonara are beautifully offset by the cool, crisp notes of the Pisco Sour, making each bite and sip a delightful experience. The contrasting flavors and textures highlight the best qualities of both the meal and the beverage, proving that opposites do indeed attract and can complement each other in unexpected and delicious ways.\n",
      "\n",
      "## Sangria\n",
      "</Document>\n",
      "\n",
      "--\n",
      "\n",
      "<Document href='https://www.broadsheet.com.au/national/food-and-drink/article/pasta-and-cocktails'>\n",
      "A top-notch comfort food, four-cheeses pasta needs a simple, spritely drink to rein it in. Enter the Negroni – designed as an aperitif, it is a fine balance of bitter, sharp, sweet and citrus. “The bitterness of the Negroni will help you enjoy and digest all the cheese in this pasta. Simply a perfect combination,” Gualdi says.\n",
      "\n",
      "**Negroni**  \n",
      "_Makes one. Approximately 1.7 standard drinks._ [...] With this type of tomato-heavy pasta, “a vermouth-based cocktail is the ideal match,” Gualdi says. “The Bulleit Rye will cut through a lot of the fattiness and mouthfeel from the guanciale (cured meat) and the pecorino, which makes this pasta very tasty.”\n",
      "\n",
      "**Reverse Manhattan**  \n",
      "_Makes one. Approximately 1.4 standard drinks._\n",
      "\n",
      "**Ingredients:**  \n",
      "25ml Bulleit Rye whiskey  \n",
      "50ml rosso vermouth  \n",
      "1 dash orange bitters  \n",
      "1 dash Angostura bitters  \n",
      "1 cherry, for garnish [...] Sometimes things just go together. When it comes to food and drinks, we all know the tried-and-tested pairings: white wine and fish; burgers and beer; tea and cake. They’re classics for a reason. But if you feel like having a little fun, why not (literally) mix it up?\n",
      "</Document>\n",
      "==================================\u001b[1m Ai Message \u001b[0m==================================\n",
      "\n",
      "파스타에 어울리는 음료는 여러 가지가 있습니다. 다음은 추천하는 음료들입니다:\n",
      "\n",
      "1. **와인**:\n",
      "   - **흰 와인**: Pinot Grigio와 같은 흰 와인은 파스타와 잘 어울립니다. 특히 크림 소스나 해산물 파스타에 적합합니다.\n",
      "   - **레드 와인**: 토마토 기반의 파스타에는 Chianti와 같은 레드 와인이 좋습니다. 이는 토마토의 산미와 잘 조화됩니다. [Source: search_web | Quora | https://www.quora.com/What-drinks-match-perfectly-with-pasta-dishes]\n",
      "\n",
      "2. **스파클링 워터**: 파스타의 풍미를 살려주고 상쾌한 느낌을 줍니다. [Source: search_web | Quora | https://www.quora.com/What-drinks-match-perfectly-with-pasta-dishes]\n",
      "\n",
      "3. **칵테일**:\n",
      "   - **네그로니**: 쓴맛과 상큼한 맛이 조화를 이루며, 치즈가 많은 파스타에 잘 어울립니다. [Source: search_web | Broadsheet | https://www.broadsheet.com.au/national/food-and-drink/article/pasta-and-cocktails]\n",
      "   - **모스크바 뮬**: 생강과 라임의 맛이 풍부한 파스타와 잘 어울립니다. [Source: search_web | Make Me A Cocktail | https://makemeacocktail.com/level-up/791/the-best-cocktails-to-enjoy-with-pasta]\n",
      "\n",
      "4. **산그리아**: 중간 정도의 바디감을 가진 레드 와인으로, 다양한 파스타와 잘 어울립니다. [Source: search_web | Make Me A Cocktail | https://makemeacocktail.com/level-up/791/the-best-cocktails-to-enjoy-with-pasta]\n",
      "\n",
      "이러한 음료들은 각기 다른 파스타 요리와의 조화를 고려해 선택할 수 있습니다.\n"
     ]
    }
   ],
   "source": [
    "#스레드 id\n",
    "\n",
    "config = {\"configurable\": {\"thread_id\": \"1\"}}\n",
    "inputs = {\n",
    "    \"messages\": [\n",
    "        HumanMessage(\"파스타에 어울리는 음료는 무엇?\")\n",
    "    ]\n",
    "}\n",
    "\n",
    "messages = graph_memory.invoke(inputs, config)\n",
    "for message in messages['messages']:\n",
    "    message.pretty_print()"
   ]
  },
  {
   "cell_type": "code",
   "execution_count": 52,
   "id": "e3ec73e1",
   "metadata": {},
   "outputs": [
    {
     "name": "stdout",
     "output_type": "stream",
     "text": [
      "================================\u001b[1m Human Message \u001b[0m=================================\n",
      "\n",
      "파스타에 어울리는 음료는 무엇?\n",
      "==================================\u001b[1m Ai Message \u001b[0m==================================\n",
      "Tool Calls:\n",
      "  search_menu (call_17QUT5oEdjiAjU6HHoz70TH0)\n",
      " Call ID: call_17QUT5oEdjiAjU6HHoz70TH0\n",
      "  Args:\n",
      "    query: 파스타 음료 추천\n",
      "  search_web (call_7GzwBmUnQgbJK3RY57zuTX2E)\n",
      " Call ID: call_7GzwBmUnQgbJK3RY57zuTX2E\n",
      "  Args:\n",
      "    query: What drinks pair well with pasta?\n",
      "=================================\u001b[1m Tool Message \u001b[0m=================================\n",
      "Name: search_menu\n",
      "\n",
      "<Document href=\"./data/restaurant_menu.txt\">\n",
      "6. 해산물 파스타\n",
      "   • 가격: ₩24,000\n",
      "   • 주요 식재료: 링귀네 파스타, 새우, 홍합, 오징어, 토마토 소스\n",
      "   • 설명: 알 덴테로 삶은 링귀네 파스타에 신선한 해산물을 듬뿍 올린 메뉴입니다. 토마토 소스의 산미와 해산물의 감칠맛이 조화를 이루며, 마늘과 올리브 오일로 풍미를 더했습니다. 파슬리를 뿌려 향긋한 맛을 더합니다.\n",
      "</Document>\n",
      "--\n",
      "<Document href=\"./data/restaurant_menu.txt\">\n",
      "4. 버섯 크림 수프\n",
      "   • 가격: ₩10,000\n",
      "   • 주요 식재료: 양송이버섯, 표고버섯, 생크림, 트러플 오일\n",
      "   • 설명: 양송이버섯과 표고버섯을 오랜 시간 정성스레 끓여 만든 크림 수프입니다. 부드러운 텍스처와 깊은 버섯 향이 특징이며, 최상급 트러플 오일을 살짝 뿌려 고급스러운 향을 더했습니다. 파슬리를 곱게 다져 고명으로 올려 제공됩니다.\n",
      "</Document>\n",
      "=================================\u001b[1m Tool Message \u001b[0m=================================\n",
      "Name: search_web\n",
      "\n",
      "<Document href='https://www.quora.com/What-drinks-match-perfectly-with-pasta-dishes'>\n",
      "White wine, such as Pinot Grigio, or sparkling water pairs well with pasta dishes. For tomato-based pasta, red wine like Chianti is a great\n",
      "</Document>\n",
      "\n",
      "--\n",
      "\n",
      "<Document href='https://makemeacocktail.com/level-up/791/the-best-cocktails-to-enjoy-with-pasta'>\n",
      "This pairing works well because of the contrast in temperature and texture, as well as the complementary interplay of flavors. The cold, bubbly Moscow Mule with its sharp ginger and lime flavors refreshes the palate after each rich, savory bite of the sausage fettuccine, making each forkful as enjoyable as the first. This combination is a testament to the principle that opposites attract, offering a dining experience that is both varied and harmonious. [...] When pairing sangria with a pasta dish, the choice of wine can significantly influence the harmony between the drink and the meal. For a versatile pairing that complements a wide range of pasta dishes, from light and zesty to rich and savory, a medium-bodied red wine is an excellent choice. Specifically, a Tempranillo from Spain or a Sangiovese from Italy offer the right balance of fruitiness and acidity, with enough body to stand up to hearty ingredients without overwhelming delicate flavors. [...] This pairing is about balance—the warmth and creaminess of the Spaghetti Carbonara are beautifully offset by the cool, crisp notes of the Pisco Sour, making each bite and sip a delightful experience. The contrasting flavors and textures highlight the best qualities of both the meal and the beverage, proving that opposites do indeed attract and can complement each other in unexpected and delicious ways.\n",
      "\n",
      "## Sangria\n",
      "</Document>\n",
      "\n",
      "--\n",
      "\n",
      "<Document href='https://www.broadsheet.com.au/national/food-and-drink/article/pasta-and-cocktails'>\n",
      "A top-notch comfort food, four-cheeses pasta needs a simple, spritely drink to rein it in. Enter the Negroni – designed as an aperitif, it is a fine balance of bitter, sharp, sweet and citrus. “The bitterness of the Negroni will help you enjoy and digest all the cheese in this pasta. Simply a perfect combination,” Gualdi says.\n",
      "\n",
      "**Negroni**  \n",
      "_Makes one. Approximately 1.7 standard drinks._ [...] With this type of tomato-heavy pasta, “a vermouth-based cocktail is the ideal match,” Gualdi says. “The Bulleit Rye will cut through a lot of the fattiness and mouthfeel from the guanciale (cured meat) and the pecorino, which makes this pasta very tasty.”\n",
      "\n",
      "**Reverse Manhattan**  \n",
      "_Makes one. Approximately 1.4 standard drinks._\n",
      "\n",
      "**Ingredients:**  \n",
      "25ml Bulleit Rye whiskey  \n",
      "50ml rosso vermouth  \n",
      "1 dash orange bitters  \n",
      "1 dash Angostura bitters  \n",
      "1 cherry, for garnish [...] Sometimes things just go together. When it comes to food and drinks, we all know the tried-and-tested pairings: white wine and fish; burgers and beer; tea and cake. They’re classics for a reason. But if you feel like having a little fun, why not (literally) mix it up?\n",
      "</Document>\n",
      "==================================\u001b[1m Ai Message \u001b[0m==================================\n",
      "\n",
      "파스타에 어울리는 음료는 여러 가지가 있습니다. 다음은 추천하는 음료들입니다:\n",
      "\n",
      "1. **와인**:\n",
      "   - **흰 와인**: Pinot Grigio와 같은 흰 와인은 파스타와 잘 어울립니다. 특히 크림 소스나 해산물 파스타에 적합합니다.\n",
      "   - **레드 와인**: 토마토 기반의 파스타에는 Chianti와 같은 레드 와인이 좋습니다. 이는 토마토의 산미와 잘 조화됩니다. [Source: search_web | Quora | https://www.quora.com/What-drinks-match-perfectly-with-pasta-dishes]\n",
      "\n",
      "2. **스파클링 워터**: 파스타의 풍미를 살려주고 상쾌한 느낌을 줍니다. [Source: search_web | Quora | https://www.quora.com/What-drinks-match-perfectly-with-pasta-dishes]\n",
      "\n",
      "3. **칵테일**:\n",
      "   - **네그로니**: 쓴맛과 상큼한 맛이 조화를 이루며, 치즈가 많은 파스타에 잘 어울립니다. [Source: search_web | Broadsheet | https://www.broadsheet.com.au/national/food-and-drink/article/pasta-and-cocktails]\n",
      "   - **모스크바 뮬**: 생강과 라임의 맛이 풍부한 파스타와 잘 어울립니다. [Source: search_web | Make Me A Cocktail | https://makemeacocktail.com/level-up/791/the-best-cocktails-to-enjoy-with-pasta]\n",
      "\n",
      "4. **산그리아**: 중간 정도의 바디감을 가진 레드 와인으로, 다양한 파스타와 잘 어울립니다. [Source: search_web | Make Me A Cocktail | https://makemeacocktail.com/level-up/791/the-best-cocktails-to-enjoy-with-pasta]\n",
      "\n",
      "이러한 음료들은 각기 다른 파스타 요리와의 조화를 고려해 선택할 수 있습니다.\n",
      "================================\u001b[1m Human Message \u001b[0m=================================\n",
      "\n",
      "여러개 중 저렴한 메뉴는 무엇인가요?\n",
      "==================================\u001b[1m Ai Message \u001b[0m==================================\n",
      "Tool Calls:\n",
      "  search_menu (call_SF3PvSqWb5gxg1slAZZ2QLIw)\n",
      " Call ID: call_SF3PvSqWb5gxg1slAZZ2QLIw\n",
      "  Args:\n",
      "    query: 저렴한 메뉴\n",
      "=================================\u001b[1m Tool Message \u001b[0m=================================\n",
      "Name: search_menu\n",
      "\n",
      "<Document href=\"./data/restaurant_menu.txt\">\n",
      "3. 연어 타르타르\n",
      "   • 가격: ₩18,000\n",
      "   • 주요 식재료: 노르웨이산 생연어, 아보카도, 케이퍼, 적양파\n",
      "   • 설명: 신선한 노르웨이산 생연어를 곱게 다져 아보카도, 케이퍼, 적양파와 함께 섞어 만든 타르타르입니다. 레몬 드레싱으로 상큼한 맛을 더했으며, 바삭한 브리오쉬 토스트와 함께 제공됩니다. 전채요리로 완벽한 메뉴입니다.\n",
      "</Document>\n",
      "--\n",
      "<Document href=\"./data/restaurant_menu.txt\">\n",
      "10. 티라미수\n",
      "    • 가격: ₩9,000\n",
      "    • 주요 식재료: 마스카포네 치즈, 에스프레소, 카카오 파우더, 레이디핑거 비스킷\n",
      "    • 설명: 부드러운 마스카포네 치즈 크림과 에스프레소에 적신 레이디핑거 비스킷을 층층이 쌓아 만든 이탈리아 정통 디저트입니다. 고소한 카카오 파우더를 듬뿍 뿌려 풍미를 더했습니다. 커피의 쌉싸름함과 치즈의 부드러움이 조화롭게 어우러집니다.\n",
      "</Document>\n",
      "==================================\u001b[1m Ai Message \u001b[0m==================================\n",
      "\n",
      "저렴한 메뉴 중 하나는 **티라미수**입니다. 가격은 ₩9,000이며, 주요 식재료로는 마스카포네 치즈, 에스프레소, 카카오 파우더, 레이디핑거 비스킷이 포함되어 있습니다. 부드러운 마스카포네 치즈 크림과 에스프레소에 적신 레이디핑거 비스킷을 층층이 쌓아 만든 이탈리아 정통 디저트로, 고소한 카카오 파우더를 뿌려 풍미를 더했습니다. [Source: search_menu | 저렴한 메뉴 | ./data/restaurant_menu.txt]\n",
      "\n",
      "또 다른 메뉴는 **연어 타르타르**로, 가격은 ₩18,000입니다. 이는 노르웨이산 생연어를 사용한 전채요리입니다. [Source: search_menu | 저렴한 메뉴 | ./data/restaurant_menu.txt]\n",
      "\n",
      "따라서, 가장 저렴한 메뉴는 티라미수입니다.\n"
     ]
    }
   ],
   "source": [
    "\n",
    "config = {\"configurable\": {\"thread_id\": \"1\"}}\n",
    "inputs = {\n",
    "    \"messages\": [\n",
    "        HumanMessage(\"여러개 중 저렴한 메뉴는 무엇인가요?\")\n",
    "    ]\n",
    "}\n",
    "\n",
    "messages = graph_memory.invoke(inputs, config)\n",
    "for message in messages['messages']:\n",
    "    message.pretty_print()"
   ]
  },
  {
   "cell_type": "code",
   "execution_count": 63,
   "id": "021e7a49",
   "metadata": {},
   "outputs": [
    {
     "name": "stdout",
     "output_type": "stream",
     "text": [
      "Running on local URL:  http://127.0.0.1:7863\n",
      "\n",
      "To create a public link, set `share=True` in `launch()`.\n"
     ]
    },
    {
     "data": {
      "text/html": [
       "<div><iframe src=\"http://127.0.0.1:7863/\" width=\"100%\" height=\"500\" allow=\"autoplay; camera; microphone; clipboard-read; clipboard-write;\" frameborder=\"0\" allowfullscreen></iframe></div>"
      ],
      "text/plain": [
       "<IPython.core.display.HTML object>"
      ]
     },
     "metadata": {},
     "output_type": "display_data"
    },
    {
     "data": {
      "text/plain": []
     },
     "execution_count": 63,
     "metadata": {},
     "output_type": "execute_result"
    }
   ],
   "source": [
    "#챗봇 구현\n",
    "\n",
    "import gradio as gr\n",
    "from typing import List, Tuple\n",
    "import uuid\n",
    "\n",
    "memory = MemorySaver()\n",
    "\n",
    "graph_memory = builder.compile(checkpointer=memory)\n",
    "\n",
    "example_questions = [\n",
    "    \"채식주의자를 위한 메뉴를 추천해주세요.\",\n",
    "    \"오늘의 스페셜 메뉴는 무엇인가요?\",\n",
    "    \"파스타에 어울리는 음료는 무엇인가요?\",\n",
    "]\n",
    "\n",
    "#챗봇 답변 메시지 처리를 위한 함수\n",
    "def process_message(message: str, history: List[Tuple[str, str]], thread_id: str) -> str:\n",
    "    try:\n",
    "        config= {\n",
    "            \"configurable\": {\"thread_id\": thread_id}\n",
    "        }\n",
    "        inputs = {\"messages\": [HumanMessage(content=message)]}\n",
    "        result = graph_memory.invoke(inputs, config)\n",
    "        \n",
    "        if \"messages\" in result:\n",
    "            last_message = result[\"messages\"][-1]\n",
    "            if isinstance(last_message, AIMessage):\n",
    "                return last_message.content\n",
    "            \n",
    "        return \"응답을 처리하는데 문제가 발생했습니다.\"\n",
    "    \n",
    "    except Exception as e:\n",
    "        return f\"오류가 발생했습니다. : {str(e)}\"\n",
    "\n",
    "\n",
    "class Chatbot:\n",
    "    def __init__(self):\n",
    "        self.thread_id = str(uuid.uuid4())\n",
    "        \n",
    "    def chat(self, message: str, history: List[Tuple[str, str]]) -> str:\n",
    "        response = process_message(message, history, self.thread_id)\n",
    "        history.append((message, response))\n",
    "        return response#, history\n",
    "    \n",
    "chatbot = Chatbot()\n",
    "\n",
    "demo = gr.ChatInterface(\n",
    "    fn=chatbot.chat,\n",
    "    examples=example_questions,\n",
    "    title=\"LangGraph chatbot\",\n",
    "    description=\"레스토랑 메뉴에 대한 질문을 해보세요.\",\n",
    "    theme=gr.themes.Soft(),\n",
    ")\n",
    "\n",
    "demo.launch()"
   ]
  },
  {
   "cell_type": "code",
   "execution_count": null,
   "id": "6d885903",
   "metadata": {},
   "outputs": [],
   "source": []
  }
 ],
 "metadata": {
  "kernelspec": {
   "display_name": "langgraph-env-aipzLsQi-py3.11",
   "language": "python",
   "name": "python3"
  },
  "language_info": {
   "codemirror_mode": {
    "name": "ipython",
    "version": 3
   },
   "file_extension": ".py",
   "mimetype": "text/x-python",
   "name": "python",
   "nbconvert_exporter": "python",
   "pygments_lexer": "ipython3",
   "version": "3.11.9"
  }
 },
 "nbformat": 4,
 "nbformat_minor": 5
}
