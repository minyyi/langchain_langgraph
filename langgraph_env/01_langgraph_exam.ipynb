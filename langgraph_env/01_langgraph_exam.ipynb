{
 "cells": [
  {
   "cell_type": "code",
   "execution_count": 1,
   "id": "091ef2fb",
   "metadata": {},
   "outputs": [
    {
     "data": {
      "text/plain": [
       "2"
      ]
     },
     "execution_count": 1,
     "metadata": {},
     "output_type": "execute_result"
    }
   ],
   "source": [
    "1+1"
   ]
  },
  {
   "cell_type": "code",
   "execution_count": 2,
   "id": "28deb45d",
   "metadata": {},
   "outputs": [
    {
     "data": {
      "text/plain": [
       "True"
      ]
     },
     "execution_count": 2,
     "metadata": {},
     "output_type": "execute_result"
    }
   ],
   "source": [
    "from dotenv import load_dotenv\n",
    "\n",
    "load_dotenv()"
   ]
  },
  {
   "cell_type": "code",
   "execution_count": 3,
   "id": "c8b225f7",
   "metadata": {},
   "outputs": [],
   "source": [
    "import re\n",
    "import os, json\n",
    "\n",
    "from textwrap import dedent\n",
    "from pprint import pprint\n",
    "\n",
    "import warnings\n",
    "warnings.filterwarnings('ignore')"
   ]
  },
  {
   "cell_type": "code",
   "execution_count": 4,
   "id": "6db9bc96",
   "metadata": {},
   "outputs": [
    {
     "name": "stdout",
     "output_type": "stream",
     "text": [
      "{'url': 'https://m.blog.naver.com/wineislikeacat/223096696241', 'content': '중간에서 높음 사이의 적당한 탄닌과 산도를 가진 와인을 선택하면\\n\\n씹는 맛의 긴 여운 속 느끼함을 잡아줄 수 있습니다.\\n\\n\\u200b\\n\\n이에 맞는 레드와인으로는\\n\\n카베르네 소비뇽(Carbernet Sauvignon), 시라(Syrah) 품종을 추천드려요!\\n\\n\\u200b\\n\\n![Image 7](https://mblogthumb-phinf.pstatic.net/MjAyMzA1MDhfMTEw/MDAxNjgzNTQ1MDQ3NDI0.v4ZHSvlETicMdag0DaoWGFsrTMFezoiZD_41J0Htwhsg.mPiLhr9soLZMXEOb_GJatpnqVUUNFZkrcmQRn9omaewg.JPEG.wineislikeacat/clark-douglas-7WJV-SDSj6c-unsplash.jpg?type=w80_blur)\\n\\n안심 스테이크와 어울리는 와인\\n\\n> **안심 스테이크와 어울리는 와인 품종은? 산지오베제!**\\n\\n고기 본연의 맛을 즐기기 가장 좋은 부위로 꼽히는 안심은 [...] ![Image 6](https://mblogthumb-phinf.pstatic.net/MjAyMzA1MDhfMTQ4/MDAxNjgzNTQ0MjY4OTc2.FasX2MpcBaCDnf0qjWA_PcbLTIlySdPLi7FFnJlTboog.AQwrp1etohVQ3fiIHA0ga9lD45uGexCOZzB_1C12eGQg.JPEG.wineislikeacat/paul-einerhand-dwtt3noJG2k-unsplash.jpg?type=w800)\\n\\n등심 & 채끝 스테이크와 어울리는 와인\\n\\n> **등심 스테이크, 채끝 스테이크와 어울리는 와인 품종은? 카베르네 소비뇽, 시라 등!**\\n\\n등심은 소의 등뼈를 둘러싸고 있는 부위입니다.\\n\\n육질이 연하고 지방이 많아서 두꺼운 스테이크 구이용으로 최적이죠.\\n\\n채끝은 등뼈에서 허리를 감싸는 뼈로 내려오는 쪽의 살인데요,\\n\\n마블링 러버들의 선택을 쉽사리 받는 부위입니다.\\n\\n\\u200b\\n\\n등심과 채끝 스테이크는 모두 풍미가 진하고 지방맛이 강하게 느껴지기에,'}\n",
      "--------------------\n",
      "{'url': 'https://winethru.stibee.com/p/54/', 'content': '향에 송로 버섯, 가죽, 흙과 같은 아로마를 지녀요. 이처럼 풍미는 아주 섬세한 편이지만, 의외로 바디는 무거운 편이며, 산도와 탄닌의 정도도 높은 편이랍니다.    이런 스타일의 와인은 다양한 부위의 스테이크와 잘 어울릴 수 있고, 포터하우스부터 엘본 스테이크까지도 예외는 아니죠! 😎 아주 굿 초이스가 될 와인이니 기억해 두세요!    3. 샤또 딸보 (Ch. Talbot)   * 산지: 프랑스 > 보르도 > 생-쥘리앙 * 품종: 보르도 블렌딩 (까베르네 소비뇽 & 메를로 & 쁘띠 베르도) \\\\*빈티지 별로 블렌딩 비율은 상이함     샤또 딸보. 와인을 잘 모르는 사람도 한 번쯤을 들어 봤을 와인이죠!? 보르도 와인 하면 굉장히 강하고 거친 와인이라는 편견이 있기도 한데 그건 사실이 아니에요. 사실, 보르도 와인은 굉장히 복합적이면서 섬세한 아로마를 가진다는 것이 가장 큰 장점인 와인이거든요. 그리고 이런 특징을 지닌 와인들이 포터하우스와도 굉장히 좋은 궁합을 보인다는 것이죠. [...] 봐야 하는 음식과 와인이 있다면 추천해 주세요!  💁\\u200d♂️: 와~! 그러시면, 티본(T-bone) 스테이크와 함께 끼안티 클라시코(Chianti Classico) 혹은 브루넬로 디 몬탈치노(Brunello di Montalcino)를 드시고 오세요~!  🙋\\u200d♀️: ...티본 스테이크가 뭐죠...? 😅  💁\\u200d♂️: ...😂 (저 와인 강사입니다만...)    이처럼, 와인과 음식의 페어링에 관해 얘기하다 보면 음식에 대해서 설명하는 경우도 종종 있는데요! 그래서 오늘은 티본 스테이크에 대해서 간략하게 설명해 드리면서 이에 어울릴 수 있는 와인 스타일도 함께 소개해 드릴까 합니다~    \"포터하우스, 티본, 엘본 스테이크..이게 다 뭐람..?\"🤔 | | |  |  |  |  | | --- | --- | --- | | |  |  | | --- | --- | | |  | | --- | |  | | |  |  |  |  | | --- | --- | --- | | |  |  | | --- | [...] 원칙이 있어요. 그러나 이에 앞서 더 중요한 것은 개인의 취향이라는 것입니다. 스파클링 와인을 좋아하시는 분들에게는 스파클링 와인도 좋은 대안이 될 수 있으며, 화이트 와인 중에서도 좋은 대안은 얼마든지 있을 수 있거든요. 그렇기 때문에 포터하우스 스테이크와 어울릴 수 있는 와인의 스타일은 위에 언급한 것만이 답이 아니라는 점을 잊지 말아 주세요.    와인과 음식의 페어링엔 언제나 다양한 가능성이 열려 있답니다! 🤗 | |'}\n",
      "--------------------\n"
     ]
    }
   ],
   "source": [
    "#도구정의하기\n",
    "from langchain_community.tools import TavilySearchResults\n",
    "\n",
    "query = \"스테이크와 어울리는 와인을 추천해주세요.\"\n",
    "\n",
    "#Tavily 검색 도구 이용\n",
    "web_search = TavilySearchResults(max_results=2)\n",
    "\n",
    "search_results = web_search.invoke(query)    #도구를 가지고 호출하도록 \n",
    "\n",
    "for result in search_results:\n",
    "    print(result)\n",
    "    print('-'*20)\n",
    "    "
   ]
  },
  {
   "cell_type": "code",
   "execution_count": 5,
   "id": "b42e1066",
   "metadata": {},
   "outputs": [
    {
     "name": "stdout",
     "output_type": "stream",
     "text": [
      "자료형: \n",
      "<class 'langchain_community.tools.tavily_search.tool.TavilySearchResults'>\n",
      "==========\n",
      "name: \n",
      "tavily_search_results_json\n",
      "==========\n",
      "description: \n",
      "A search engine optimized for comprehensive, accurate, and trusted results. Useful for when you need to answer questions about current events. Input should be a search query.\n",
      "==========\n",
      "schema: \n",
      "{'description': 'Input for the Tavily tool.', 'properties': {'query': {'description': 'search query to look up', 'title': 'Query', 'type': 'string'}}, 'required': ['query'], 'title': 'TavilyInput', 'type': 'object'}\n",
      "==========\n"
     ]
    }
   ],
   "source": [
    "print('자료형: ')\n",
    "print(type(web_search))\n",
    "print('='*10)\n",
    "\n",
    "print('name: ')\n",
    "print(web_search.name)\n",
    "print('='*10)\n",
    "\n",
    "print('description: ')\n",
    "print(web_search.description)\n",
    "print('='*10)\n",
    "\n",
    "print('schema: ')\n",
    "print(web_search.args_schema.schema())\n",
    "print('='*10)\n"
   ]
  },
  {
   "cell_type": "code",
   "execution_count": 6,
   "id": "40e72431",
   "metadata": {},
   "outputs": [],
   "source": [
    "#tool calling\n",
    "\n",
    "from langchain_openai import ChatOpenAI\n",
    "\n",
    "llm = ChatOpenAI(model='gpt-4o-mini')\n",
    "\n",
    "#binding\n",
    "llm_with_tools = llm.bind_tools(tools=[web_search])\n",
    "#외부지식을 검색하는건 같음. 문서(벡터화)가 아니라 툴을 전달하는 것이 다름. "
   ]
  },
  {
   "cell_type": "code",
   "execution_count": 7,
   "id": "df1eb6e1",
   "metadata": {},
   "outputs": [
    {
     "name": "stdout",
     "output_type": "stream",
     "text": [
      "AIMessage(content='안녕하세요! 어떻게 도와드릴까요?', additional_kwargs={'refusal': None}, response_metadata={'token_usage': {'completion_tokens': 11, 'prompt_tokens': 82, 'total_tokens': 93, 'completion_tokens_details': {'accepted_prediction_tokens': 0, 'audio_tokens': 0, 'reasoning_tokens': 0, 'rejected_prediction_tokens': 0}, 'prompt_tokens_details': {'audio_tokens': 0, 'cached_tokens': 0}}, 'model_name': 'gpt-4o-mini-2024-07-18', 'system_fingerprint': 'fp_34a54ae93c', 'finish_reason': 'stop', 'logprobs': None}, id='run--4edae248-1f7a-41d7-99ad-a4b490336916-0', usage_metadata={'input_tokens': 82, 'output_tokens': 11, 'total_tokens': 93})\n",
      "==========\n",
      "'안녕하세요! 어떻게 도와드릴까요?'\n",
      "==========\n",
      "[]\n",
      "==========\n"
     ]
    }
   ],
   "source": [
    "#도구 호출이 필요 없는 경우\n",
    "\n",
    "query = \"안녕하세요.\"\n",
    "ai_msg = llm_with_tools.invoke(query)\n",
    "\n",
    "pprint(ai_msg)\n",
    "print('='*10)\n",
    "\n",
    "pprint(ai_msg.content)\n",
    "print('='*10)\n",
    "\n",
    "pprint(ai_msg.tool_calls)\n",
    "print('='*10)\n"
   ]
  },
  {
   "cell_type": "code",
   "execution_count": 8,
   "id": "b634f06c",
   "metadata": {},
   "outputs": [
    {
     "name": "stdout",
     "output_type": "stream",
     "text": [
      "AIMessage(content='', additional_kwargs={'tool_calls': [{'id': 'call_40K24Z1Y2xh4JSdMintQ5jPQ', 'function': {'arguments': '{\"query\":\"스테이크와 어울리는 와인 추천\"}', 'name': 'tavily_search_results_json'}, 'type': 'function'}], 'refusal': None}, response_metadata={'token_usage': {'completion_tokens': 27, 'prompt_tokens': 91, 'total_tokens': 118, 'completion_tokens_details': {'accepted_prediction_tokens': 0, 'audio_tokens': 0, 'reasoning_tokens': 0, 'rejected_prediction_tokens': 0}, 'prompt_tokens_details': {'audio_tokens': 0, 'cached_tokens': 0}}, 'model_name': 'gpt-4o-mini-2024-07-18', 'system_fingerprint': 'fp_34a54ae93c', 'finish_reason': 'tool_calls', 'logprobs': None}, id='run--4c607939-056d-411d-90d4-cb92acfad790-0', tool_calls=[{'name': 'tavily_search_results_json', 'args': {'query': '스테이크와 어울리는 와인 추천'}, 'id': 'call_40K24Z1Y2xh4JSdMintQ5jPQ', 'type': 'tool_call'}], usage_metadata={'input_tokens': 91, 'output_tokens': 27, 'total_tokens': 118})\n",
      "==========\n",
      "''\n",
      "==========\n",
      "[{'args': {'query': '스테이크와 어울리는 와인 추천'},\n",
      "  'id': 'call_40K24Z1Y2xh4JSdMintQ5jPQ',\n",
      "  'name': 'tavily_search_results_json',\n",
      "  'type': 'tool_call'}]\n",
      "==========\n"
     ]
    }
   ],
   "source": [
    "#도구 호출이 필요한 경우\n",
    "\n",
    "query = \"스테이크와 어울리는 와인을 추천해주세요.\"\n",
    "\n",
    "#웹검색을 해야한다고 판단 ? or not?\n",
    "ai_msg = llm_with_tools.invoke(query)\n",
    "\n",
    "pprint(ai_msg)\n",
    "print('='*10)\n",
    "\n",
    "pprint(ai_msg.content)\n",
    "print('='*10)\n",
    "\n",
    "pprint(ai_msg.tool_calls)\n",
    "print('='*10)\n"
   ]
  },
  {
   "cell_type": "code",
   "execution_count": 9,
   "id": "517d3ec6",
   "metadata": {},
   "outputs": [
    {
     "data": {
      "text/plain": [
       "{'name': 'tavily_search_results_json',\n",
       " 'args': {'query': '스테이크와 어울리는 와인 추천'},\n",
       " 'id': 'call_40K24Z1Y2xh4JSdMintQ5jPQ',\n",
       " 'type': 'tool_call'}"
      ]
     },
     "execution_count": 9,
     "metadata": {},
     "output_type": "execute_result"
    }
   ],
   "source": [
    "tool_call = ai_msg.tool_calls[0]\n",
    "tool_call"
   ]
  },
  {
   "cell_type": "code",
   "execution_count": 11,
   "id": "8f030d86",
   "metadata": {},
   "outputs": [
    {
     "name": "stdout",
     "output_type": "stream",
     "text": [
      "content='[{\"url\": \"https://alcohol.hobby-tech.com/entry/%EC%8A%A4%ED%85%8C%EC%9D%B4%ED%81%AC%EC%99%80-%EC%B0%B0%EB%96%A1%EA%B6%81%ED%95%A9-%EC%8A%A4%ED%85%8C%EC%9D%B4%ED%81%AC%EC%97%90-%EC%96%B4%EC%9A%B8%EB%A6%AC%EB%8A%94-%EC%99%80%EC%9D%B8-5%EA%B0%80%EC%A7%80\", \"content\": \"1. 카베르네 소비뇽 (Cabernet Sauvignon) – 스테이크 와인의 대표주자\\\\n------------------------------------------------\\\\n\\\\n![Image 3](https://blog.kakaocdn.net/dn/xWKr4/btsL30NJ5Zo/7JzT5nGQ6CXB4sTxlpdxf1/img.png)![Image 4](https://blog.kakaocdn.net/dn/R0nXK/btsL4WXUW0Y/eQYYP6Pj1WKewJVFnM5ycK/img.png)\\\\n\\\\n**추천 이유:**\\\\n\\\\n카베르네 소비뇽은 강한 탄닌과 풍부한 바디감이 특징인 레드 와인입니다. 이는 스테이크의 기름진 육즙과 균형을 이루며, 고기의 감칠맛을 더욱 살려줍니다.\\\\n\\\\n**어울리는 스테이크:**\\\\n\\\\n*   리브아이 스테이크\\\\n*   뉴욕 스트립\\\\n*   티본 스테이크\\\\n\\\\n**추천 와인:**\\\\n\\\\n*   나파 밸리 카베르네 소비뇽\\\\n*   샤또 마고 (Château Margaux) [...] ![Image 10](https://blog.kakaocdn.net/dn/dnoiCg/btsL5OybTaE/91vDmwi70ApQ1FZK6DFRQ0/img.png)![Image 11](https://blog.kakaocdn.net/dn/bX2dCB/btsL48cPEez/PDKprxC9mea7bnWY9Y65bk/img.webp)![Image 12](https://blog.kakaocdn.net/dn/bsBLqB/btsL3qswgyp/rmmMrpesqBZSmy2jGjbzd0/img.png)\\\\n\\\\n**추천 이유:**\\\\n\\\\n메를로는 탄닌이 상대적으로 적고 부드러운 질감을 가지고 있어 **고기의 풍미를 자연스럽게 살려주는 와인**입니다. 무겁지 않으면서도 적절한 바디감을 가지고 있어 누구나 부담 없이 즐길 수 있습니다.\\\\n\\\\n**어울리는 스테이크:**\\\\n\\\\n*   등심 스테이크\\\\n*   미디엄 레어 스테이크\\\\n\\\\n**추천 와인:**\\\\n\\\\n*   보르도 우안 (생테밀리옹, 뽀므롤)\\\\n*   캘리포니아 메를로 [...] 말벡은 블랙베리와 자두 같은 과일향이 강하면서도 탄닌이 부드러운 레드 와인입니다. 고기와 함께 마시면 풍미가 더욱 살아나면서 균형 잡힌 조화를 이룹니다.\\\\n\\\\n**어울리는 스테이크:**\\\\n\\\\n*   안심 스테이크 (필레 미뇽)\\\\n*   티본 스테이크\\\\n\\\\n**추천 와인:**\\\\n\\\\n*   아르헨티나 멘도사 말벡\\\\n*   카호르 말벡 (프랑스)\\\\n\\\\n특히 **부드러운 안심 스테이크와 함께 즐기면 와인의 깊은 과일향과 육즙이 환상적인 조화를 이룹니다.**\\\\n\\\\n* * *\\\\n\\\\n4. 메를로 (Merlot) – 부드럽고 균형 잡힌 와인\\\\n-------------------------------\"}, {\"url\": \"https://m.blog.naver.com/wineislikeacat/223096696241\", \"content\": \"중간에서 높음 사이의 적당한 탄닌과 산도를 가진 와인을 선택하면\\\\n\\\\n씹는 맛의 긴 여운 속 느끼함을 잡아줄 수 있습니다.\\\\n\\\\n\\u200b\\\\n\\\\n이에 맞는 레드와인으로는\\\\n\\\\n카베르네 소비뇽(Carbernet Sauvignon), 시라(Syrah) 품종을 추천드려요!\\\\n\\\\n\\u200b\\\\n\\\\n![Image 7](https://mblogthumb-phinf.pstatic.net/MjAyMzA1MDhfMTEw/MDAxNjgzNTQ1MDQ3NDI0.v4ZHSvlETicMdag0DaoWGFsrTMFezoiZD_41J0Htwhsg.mPiLhr9soLZMXEOb_GJatpnqVUUNFZkrcmQRn9omaewg.JPEG.wineislikeacat/clark-douglas-7WJV-SDSj6c-unsplash.jpg?type=w80_blur)\\\\n\\\\n안심 스테이크와 어울리는 와인\\\\n\\\\n> **안심 스테이크와 어울리는 와인 품종은? 산지오베제!**\\\\n\\\\n고기 본연의 맛을 즐기기 가장 좋은 부위로 꼽히는 안심은 [...] ![Image 6](https://mblogthumb-phinf.pstatic.net/MjAyMzA1MDhfMTQ4/MDAxNjgzNTQ0MjY4OTc2.FasX2MpcBaCDnf0qjWA_PcbLTIlySdPLi7FFnJlTboog.AQwrp1etohVQ3fiIHA0ga9lD45uGexCOZzB_1C12eGQg.JPEG.wineislikeacat/paul-einerhand-dwtt3noJG2k-unsplash.jpg?type=w800)\\\\n\\\\n등심 & 채끝 스테이크와 어울리는 와인\\\\n\\\\n> **등심 스테이크, 채끝 스테이크와 어울리는 와인 품종은? 카베르네 소비뇽, 시라 등!**\\\\n\\\\n등심은 소의 등뼈를 둘러싸고 있는 부위입니다.\\\\n\\\\n육질이 연하고 지방이 많아서 두꺼운 스테이크 구이용으로 최적이죠.\\\\n\\\\n채끝은 등뼈에서 허리를 감싸는 뼈로 내려오는 쪽의 살인데요,\\\\n\\\\n마블링 러버들의 선택을 쉽사리 받는 부위입니다.\\\\n\\\\n\\u200b\\\\n\\\\n등심과 채끝 스테이크는 모두 풍미가 진하고 지방맛이 강하게 느껴지기에,\"}]' name='tavily_search_results_json' tool_call_id='call_40K24Z1Y2xh4JSdMintQ5jPQ' artifact={'query': '스테이크와 어울리는 와인 추천', 'follow_up_questions': None, 'answer': None, 'images': [], 'results': [{'url': 'https://alcohol.hobby-tech.com/entry/%EC%8A%A4%ED%85%8C%EC%9D%B4%ED%81%AC%EC%99%80-%EC%B0%B0%EB%96%A1%EA%B6%81%ED%95%A9-%EC%8A%A4%ED%85%8C%EC%9D%B4%ED%81%AC%EC%97%90-%EC%96%B4%EC%9A%B8%EB%A6%AC%EB%8A%94-%EC%99%80%EC%9D%B8-5%EA%B0%80%EC%A7%80', 'title': '스테이크와 찰떡궁합! 스테이크에 어울리는 와인 5가지 - 술의 모든 것', 'content': '1. 카베르네 소비뇽 (Cabernet Sauvignon) – 스테이크 와인의 대표주자\\n------------------------------------------------\\n\\n![Image 3](https://blog.kakaocdn.net/dn/xWKr4/btsL30NJ5Zo/7JzT5nGQ6CXB4sTxlpdxf1/img.png)![Image 4](https://blog.kakaocdn.net/dn/R0nXK/btsL4WXUW0Y/eQYYP6Pj1WKewJVFnM5ycK/img.png)\\n\\n**추천 이유:**\\n\\n카베르네 소비뇽은 강한 탄닌과 풍부한 바디감이 특징인 레드 와인입니다. 이는 스테이크의 기름진 육즙과 균형을 이루며, 고기의 감칠맛을 더욱 살려줍니다.\\n\\n**어울리는 스테이크:**\\n\\n*   리브아이 스테이크\\n*   뉴욕 스트립\\n*   티본 스테이크\\n\\n**추천 와인:**\\n\\n*   나파 밸리 카베르네 소비뇽\\n*   샤또 마고 (Château Margaux) [...] ![Image 10](https://blog.kakaocdn.net/dn/dnoiCg/btsL5OybTaE/91vDmwi70ApQ1FZK6DFRQ0/img.png)![Image 11](https://blog.kakaocdn.net/dn/bX2dCB/btsL48cPEez/PDKprxC9mea7bnWY9Y65bk/img.webp)![Image 12](https://blog.kakaocdn.net/dn/bsBLqB/btsL3qswgyp/rmmMrpesqBZSmy2jGjbzd0/img.png)\\n\\n**추천 이유:**\\n\\n메를로는 탄닌이 상대적으로 적고 부드러운 질감을 가지고 있어 **고기의 풍미를 자연스럽게 살려주는 와인**입니다. 무겁지 않으면서도 적절한 바디감을 가지고 있어 누구나 부담 없이 즐길 수 있습니다.\\n\\n**어울리는 스테이크:**\\n\\n*   등심 스테이크\\n*   미디엄 레어 스테이크\\n\\n**추천 와인:**\\n\\n*   보르도 우안 (생테밀리옹, 뽀므롤)\\n*   캘리포니아 메를로 [...] 말벡은 블랙베리와 자두 같은 과일향이 강하면서도 탄닌이 부드러운 레드 와인입니다. 고기와 함께 마시면 풍미가 더욱 살아나면서 균형 잡힌 조화를 이룹니다.\\n\\n**어울리는 스테이크:**\\n\\n*   안심 스테이크 (필레 미뇽)\\n*   티본 스테이크\\n\\n**추천 와인:**\\n\\n*   아르헨티나 멘도사 말벡\\n*   카호르 말벡 (프랑스)\\n\\n특히 **부드러운 안심 스테이크와 함께 즐기면 와인의 깊은 과일향과 육즙이 환상적인 조화를 이룹니다.**\\n\\n* * *\\n\\n4. 메를로 (Merlot) – 부드럽고 균형 잡힌 와인\\n-------------------------------', 'score': 0.92995757, 'raw_content': None}, {'url': 'https://m.blog.naver.com/wineislikeacat/223096696241', 'title': '등심 스테이크에는 이 와인 드셔보세요! 소고기 부위별 레드와인 추천 ...', 'content': '중간에서 높음 사이의 적당한 탄닌과 산도를 가진 와인을 선택하면\\n\\n씹는 맛의 긴 여운 속 느끼함을 잡아줄 수 있습니다.\\n\\n\\u200b\\n\\n이에 맞는 레드와인으로는\\n\\n카베르네 소비뇽(Carbernet Sauvignon), 시라(Syrah) 품종을 추천드려요!\\n\\n\\u200b\\n\\n![Image 7](https://mblogthumb-phinf.pstatic.net/MjAyMzA1MDhfMTEw/MDAxNjgzNTQ1MDQ3NDI0.v4ZHSvlETicMdag0DaoWGFsrTMFezoiZD_41J0Htwhsg.mPiLhr9soLZMXEOb_GJatpnqVUUNFZkrcmQRn9omaewg.JPEG.wineislikeacat/clark-douglas-7WJV-SDSj6c-unsplash.jpg?type=w80_blur)\\n\\n안심 스테이크와 어울리는 와인\\n\\n> **안심 스테이크와 어울리는 와인 품종은? 산지오베제!**\\n\\n고기 본연의 맛을 즐기기 가장 좋은 부위로 꼽히는 안심은 [...] ![Image 6](https://mblogthumb-phinf.pstatic.net/MjAyMzA1MDhfMTQ4/MDAxNjgzNTQ0MjY4OTc2.FasX2MpcBaCDnf0qjWA_PcbLTIlySdPLi7FFnJlTboog.AQwrp1etohVQ3fiIHA0ga9lD45uGexCOZzB_1C12eGQg.JPEG.wineislikeacat/paul-einerhand-dwtt3noJG2k-unsplash.jpg?type=w800)\\n\\n등심 & 채끝 스테이크와 어울리는 와인\\n\\n> **등심 스테이크, 채끝 스테이크와 어울리는 와인 품종은? 카베르네 소비뇽, 시라 등!**\\n\\n등심은 소의 등뼈를 둘러싸고 있는 부위입니다.\\n\\n육질이 연하고 지방이 많아서 두꺼운 스테이크 구이용으로 최적이죠.\\n\\n채끝은 등뼈에서 허리를 감싸는 뼈로 내려오는 쪽의 살인데요,\\n\\n마블링 러버들의 선택을 쉽사리 받는 부위입니다.\\n\\n\\u200b\\n\\n등심과 채끝 스테이크는 모두 풍미가 진하고 지방맛이 강하게 느껴지기에,', 'score': 0.9108078, 'raw_content': None}], 'response_time': 1.21}\n"
     ]
    }
   ],
   "source": [
    "#도구 직접 호출\n",
    "\n",
    "tool_message = web_search.invoke(tool_call)\n",
    "\n",
    "print(tool_message)"
   ]
  },
  {
   "cell_type": "code",
   "execution_count": 12,
   "id": "5e79e6cb",
   "metadata": {},
   "outputs": [
    {
     "name": "stdout",
     "output_type": "stream",
     "text": [
      "('[{\"url\": '\n",
      " '\"https://alcohol.hobby-tech.com/entry/%EC%8A%A4%ED%85%8C%EC%9D%B4%ED%81%AC%EC%99%80-%EC%B0%B0%EB%96%A1%EA%B6%81%ED%95%A9-%EC%8A%A4%ED%85%8C%EC%9D%B4%ED%81%AC%EC%97%90-%EC%96%B4%EC%9A%B8%EB%A6%AC%EB%8A%94-%EC%99%80%EC%9D%B8-5%EA%B0%80%EC%A7%80\", '\n",
      " '\"content\": \"1. 카베르네 소비뇽 (Cabernet Sauvignon) – 스테이크 와인의 '\n",
      " '대표주자\\\\n------------------------------------------------\\\\n\\\\n![Image '\n",
      " '3](https://blog.kakaocdn.net/dn/xWKr4/btsL30NJ5Zo/7JzT5nGQ6CXB4sTxlpdxf1/img.png)![Image '\n",
      " '4](https://blog.kakaocdn.net/dn/R0nXK/btsL4WXUW0Y/eQYYP6Pj1WKewJVFnM5ycK/img.png)\\\\n\\\\n**추천 '\n",
      " '이유:**\\\\n\\\\n카베르네 소비뇽은 강한 탄닌과 풍부한 바디감이 특징인 레드 와인입니다. 이는 스테이크의 기름진 육즙과 균형을 이루며, '\n",
      " '고기의 감칠맛을 더욱 살려줍니다.\\\\n\\\\n**어울리는 스테이크:**\\\\n\\\\n*   리브아이 스테이크\\\\n*   뉴욕 스트립\\\\n*   '\n",
      " '티본 스테이크\\\\n\\\\n**추천 와인:**\\\\n\\\\n*   나파 밸리 카베르네 소비뇽\\\\n*   샤또 마고 (Château '\n",
      " 'Margaux) [...] ![Image '\n",
      " '10](https://blog.kakaocdn.net/dn/dnoiCg/btsL5OybTaE/91vDmwi70ApQ1FZK6DFRQ0/img.png)![Image '\n",
      " '11](https://blog.kakaocdn.net/dn/bX2dCB/btsL48cPEez/PDKprxC9mea7bnWY9Y65bk/img.webp)![Image '\n",
      " '12](https://blog.kakaocdn.net/dn/bsBLqB/btsL3qswgyp/rmmMrpesqBZSmy2jGjbzd0/img.png)\\\\n\\\\n**추천 '\n",
      " '이유:**\\\\n\\\\n메를로는 탄닌이 상대적으로 적고 부드러운 질감을 가지고 있어 **고기의 풍미를 자연스럽게 살려주는 와인**입니다. '\n",
      " '무겁지 않으면서도 적절한 바디감을 가지고 있어 누구나 부담 없이 즐길 수 있습니다.\\\\n\\\\n**어울리는 스테이크:**\\\\n\\\\n*   '\n",
      " '등심 스테이크\\\\n*   미디엄 레어 스테이크\\\\n\\\\n**추천 와인:**\\\\n\\\\n*   보르도 우안 (생테밀리옹, 뽀므롤)\\\\n*   '\n",
      " '캘리포니아 메를로 [...] 말벡은 블랙베리와 자두 같은 과일향이 강하면서도 탄닌이 부드러운 레드 와인입니다. 고기와 함께 마시면 풍미가 '\n",
      " '더욱 살아나면서 균형 잡힌 조화를 이룹니다.\\\\n\\\\n**어울리는 스테이크:**\\\\n\\\\n*   안심 스테이크 (필레 미뇽)\\\\n*   '\n",
      " '티본 스테이크\\\\n\\\\n**추천 와인:**\\\\n\\\\n*   아르헨티나 멘도사 말벡\\\\n*   카호르 말벡 (프랑스)\\\\n\\\\n특히 '\n",
      " '**부드러운 안심 스테이크와 함께 즐기면 와인의 깊은 과일향과 육즙이 환상적인 조화를 이룹니다.**\\\\n\\\\n* * *\\\\n\\\\n4. '\n",
      " '메를로 (Merlot) – 부드럽고 균형 잡힌 와인\\\\n-------------------------------\"}, {\"url\": '\n",
      " '\"https://m.blog.naver.com/wineislikeacat/223096696241\", \"content\": \"중간에서 높음 '\n",
      " '사이의 적당한 탄닌과 산도를 가진 와인을 선택하면\\\\n\\\\n씹는 맛의 긴 여운 속 느끼함을 잡아줄 수 '\n",
      " '있습니다.\\\\n\\\\n\\u200b\\\\n\\\\n이에 맞는 레드와인으로는\\\\n\\\\n카베르네 소비뇽(Carbernet Sauvignon), '\n",
      " '시라(Syrah) 품종을 추천드려요!\\\\n\\\\n\\u200b\\\\n\\\\n![Image '\n",
      " '7](https://mblogthumb-phinf.pstatic.net/MjAyMzA1MDhfMTEw/MDAxNjgzNTQ1MDQ3NDI0.v4ZHSvlETicMdag0DaoWGFsrTMFezoiZD_41J0Htwhsg.mPiLhr9soLZMXEOb_GJatpnqVUUNFZkrcmQRn9omaewg.JPEG.wineislikeacat/clark-douglas-7WJV-SDSj6c-unsplash.jpg?type=w80_blur)\\\\n\\\\n안심 '\n",
      " '스테이크와 어울리는 와인\\\\n\\\\n> **안심 스테이크와 어울리는 와인 품종은? 산지오베제!**\\\\n\\\\n고기 본연의 맛을 즐기기 가장 '\n",
      " '좋은 부위로 꼽히는 안심은 [...] ![Image '\n",
      " '6](https://mblogthumb-phinf.pstatic.net/MjAyMzA1MDhfMTQ4/MDAxNjgzNTQ0MjY4OTc2.FasX2MpcBaCDnf0qjWA_PcbLTIlySdPLi7FFnJlTboog.AQwrp1etohVQ3fiIHA0ga9lD45uGexCOZzB_1C12eGQg.JPEG.wineislikeacat/paul-einerhand-dwtt3noJG2k-unsplash.jpg?type=w800)\\\\n\\\\n등심 '\n",
      " '& 채끝 스테이크와 어울리는 와인\\\\n\\\\n> **등심 스테이크, 채끝 스테이크와 어울리는 와인 품종은? 카베르네 소비뇽, 시라 '\n",
      " '등!**\\\\n\\\\n등심은 소의 등뼈를 둘러싸고 있는 부위입니다.\\\\n\\\\n육질이 연하고 지방이 많아서 두꺼운 스테이크 구이용으로 '\n",
      " '최적이죠.\\\\n\\\\n채끝은 등뼈에서 허리를 감싸는 뼈로 내려오는 쪽의 살인데요,\\\\n\\\\n마블링 러버들의 선택을 쉽사리 받는 '\n",
      " '부위입니다.\\\\n\\\\n\\u200b\\\\n\\\\n등심과 채끝 스테이크는 모두 풍미가 진하고 지방맛이 강하게 느껴지기에,\"}]')\n"
     ]
    }
   ],
   "source": [
    "pprint(tool_message.content)"
   ]
  },
  {
   "cell_type": "code",
   "execution_count": 17,
   "id": "a07da57c",
   "metadata": {},
   "outputs": [
    {
     "name": "stdout",
     "output_type": "stream",
     "text": [
      "ai_msg: \n",
      " content='' additional_kwargs={'tool_calls': [{'id': 'call_m6CTlXhI7lmFX8st5V3keeoh', 'function': {'arguments': '{\"query\":\"모엣샹동 샴페인 가격 2025\"}', 'name': 'tavily_search_results_json'}, 'type': 'function'}], 'refusal': None} response_metadata={'token_usage': {'completion_tokens': 31, 'prompt_tokens': 113, 'total_tokens': 144, 'completion_tokens_details': {'accepted_prediction_tokens': 0, 'audio_tokens': 0, 'reasoning_tokens': 0, 'rejected_prediction_tokens': 0}, 'prompt_tokens_details': {'audio_tokens': 0, 'cached_tokens': 0}}, 'model_name': 'gpt-4o-mini-2024-07-18', 'system_fingerprint': 'fp_34a54ae93c', 'finish_reason': 'tool_calls', 'logprobs': None} id='run--4faa666d-e31b-4a07-856c-603adf2cfccd-0' tool_calls=[{'name': 'tavily_search_results_json', 'args': {'query': '모엣샹동 샴페인 가격 2025'}, 'id': 'call_m6CTlXhI7lmFX8st5V3keeoh', 'type': 'tool_call'}] usage_metadata={'input_tokens': 113, 'output_tokens': 31, 'total_tokens': 144}\n",
      "=*10\n",
      "tool_message: \n",
      " content='[{\"url\": \"https://alcohol.hobby-tech.com/entry/%EC%8A%A4%ED%85%8C%EC%9D%B4%ED%81%AC%EC%99%80-%EC%B0%B0%EB%96%A1%EA%B6%81%ED%95%A9-%EC%8A%A4%ED%85%8C%EC%9D%B4%ED%81%AC%EC%97%90-%EC%96%B4%EC%9A%B8%EB%A6%AC%EB%8A%94-%EC%99%80%EC%9D%B8-5%EA%B0%80%EC%A7%80\", \"content\": \"1. 카베르네 소비뇽 (Cabernet Sauvignon) – 스테이크 와인의 대표주자\\\\n------------------------------------------------\\\\n\\\\n![Image 3](https://blog.kakaocdn.net/dn/xWKr4/btsL30NJ5Zo/7JzT5nGQ6CXB4sTxlpdxf1/img.png)![Image 4](https://blog.kakaocdn.net/dn/R0nXK/btsL4WXUW0Y/eQYYP6Pj1WKewJVFnM5ycK/img.png)\\\\n\\\\n**추천 이유:**\\\\n\\\\n카베르네 소비뇽은 강한 탄닌과 풍부한 바디감이 특징인 레드 와인입니다. 이는 스테이크의 기름진 육즙과 균형을 이루며, 고기의 감칠맛을 더욱 살려줍니다.\\\\n\\\\n**어울리는 스테이크:**\\\\n\\\\n*   리브아이 스테이크\\\\n*   뉴욕 스트립\\\\n*   티본 스테이크\\\\n\\\\n**추천 와인:**\\\\n\\\\n*   나파 밸리 카베르네 소비뇽\\\\n*   샤또 마고 (Château Margaux) [...] ![Image 10](https://blog.kakaocdn.net/dn/dnoiCg/btsL5OybTaE/91vDmwi70ApQ1FZK6DFRQ0/img.png)![Image 11](https://blog.kakaocdn.net/dn/bX2dCB/btsL48cPEez/PDKprxC9mea7bnWY9Y65bk/img.webp)![Image 12](https://blog.kakaocdn.net/dn/bsBLqB/btsL3qswgyp/rmmMrpesqBZSmy2jGjbzd0/img.png)\\\\n\\\\n**추천 이유:**\\\\n\\\\n메를로는 탄닌이 상대적으로 적고 부드러운 질감을 가지고 있어 **고기의 풍미를 자연스럽게 살려주는 와인**입니다. 무겁지 않으면서도 적절한 바디감을 가지고 있어 누구나 부담 없이 즐길 수 있습니다.\\\\n\\\\n**어울리는 스테이크:**\\\\n\\\\n*   등심 스테이크\\\\n*   미디엄 레어 스테이크\\\\n\\\\n**추천 와인:**\\\\n\\\\n*   보르도 우안 (생테밀리옹, 뽀므롤)\\\\n*   캘리포니아 메를로 [...] 말벡은 블랙베리와 자두 같은 과일향이 강하면서도 탄닌이 부드러운 레드 와인입니다. 고기와 함께 마시면 풍미가 더욱 살아나면서 균형 잡힌 조화를 이룹니다.\\\\n\\\\n**어울리는 스테이크:**\\\\n\\\\n*   안심 스테이크 (필레 미뇽)\\\\n*   티본 스테이크\\\\n\\\\n**추천 와인:**\\\\n\\\\n*   아르헨티나 멘도사 말벡\\\\n*   카호르 말벡 (프랑스)\\\\n\\\\n특히 **부드러운 안심 스테이크와 함께 즐기면 와인의 깊은 과일향과 육즙이 환상적인 조화를 이룹니다.**\\\\n\\\\n* * *\\\\n\\\\n4. 메를로 (Merlot) – 부드럽고 균형 잡힌 와인\\\\n-------------------------------\"}, {\"url\": \"https://m.blog.naver.com/wineislikeacat/223096696241\", \"content\": \"중간에서 높음 사이의 적당한 탄닌과 산도를 가진 와인을 선택하면\\\\n\\\\n씹는 맛의 긴 여운 속 느끼함을 잡아줄 수 있습니다.\\\\n\\\\n\\u200b\\\\n\\\\n이에 맞는 레드와인으로는\\\\n\\\\n카베르네 소비뇽(Carbernet Sauvignon), 시라(Syrah) 품종을 추천드려요!\\\\n\\\\n\\u200b\\\\n\\\\n![Image 7](https://mblogthumb-phinf.pstatic.net/MjAyMzA1MDhfMTEw/MDAxNjgzNTQ1MDQ3NDI0.v4ZHSvlETicMdag0DaoWGFsrTMFezoiZD_41J0Htwhsg.mPiLhr9soLZMXEOb_GJatpnqVUUNFZkrcmQRn9omaewg.JPEG.wineislikeacat/clark-douglas-7WJV-SDSj6c-unsplash.jpg?type=w80_blur)\\\\n\\\\n안심 스테이크와 어울리는 와인\\\\n\\\\n> **안심 스테이크와 어울리는 와인 품종은? 산지오베제!**\\\\n\\\\n고기 본연의 맛을 즐기기 가장 좋은 부위로 꼽히는 안심은 [...] ![Image 6](https://mblogthumb-phinf.pstatic.net/MjAyMzA1MDhfMTQ4/MDAxNjgzNTQ0MjY4OTc2.FasX2MpcBaCDnf0qjWA_PcbLTIlySdPLi7FFnJlTboog.AQwrp1etohVQ3fiIHA0ga9lD45uGexCOZzB_1C12eGQg.JPEG.wineislikeacat/paul-einerhand-dwtt3noJG2k-unsplash.jpg?type=w800)\\\\n\\\\n등심 & 채끝 스테이크와 어울리는 와인\\\\n\\\\n> **등심 스테이크, 채끝 스테이크와 어울리는 와인 품종은? 카베르네 소비뇽, 시라 등!**\\\\n\\\\n등심은 소의 등뼈를 둘러싸고 있는 부위입니다.\\\\n\\\\n육질이 연하고 지방이 많아서 두꺼운 스테이크 구이용으로 최적이죠.\\\\n\\\\n채끝은 등뼈에서 허리를 감싸는 뼈로 내려오는 쪽의 살인데요,\\\\n\\\\n마블링 러버들의 선택을 쉽사리 받는 부위입니다.\\\\n\\\\n\\u200b\\\\n\\\\n등심과 채끝 스테이크는 모두 풍미가 진하고 지방맛이 강하게 느껴지기에,\"}]' name='tavily_search_results_json' tool_call_id='call_40K24Z1Y2xh4JSdMintQ5jPQ' artifact={'query': '스테이크와 어울리는 와인 추천', 'follow_up_questions': None, 'answer': None, 'images': [], 'results': [{'url': 'https://alcohol.hobby-tech.com/entry/%EC%8A%A4%ED%85%8C%EC%9D%B4%ED%81%AC%EC%99%80-%EC%B0%B0%EB%96%A1%EA%B6%81%ED%95%A9-%EC%8A%A4%ED%85%8C%EC%9D%B4%ED%81%AC%EC%97%90-%EC%96%B4%EC%9A%B8%EB%A6%AC%EB%8A%94-%EC%99%80%EC%9D%B8-5%EA%B0%80%EC%A7%80', 'title': '스테이크와 찰떡궁합! 스테이크에 어울리는 와인 5가지 - 술의 모든 것', 'content': '1. 카베르네 소비뇽 (Cabernet Sauvignon) – 스테이크 와인의 대표주자\\n------------------------------------------------\\n\\n![Image 3](https://blog.kakaocdn.net/dn/xWKr4/btsL30NJ5Zo/7JzT5nGQ6CXB4sTxlpdxf1/img.png)![Image 4](https://blog.kakaocdn.net/dn/R0nXK/btsL4WXUW0Y/eQYYP6Pj1WKewJVFnM5ycK/img.png)\\n\\n**추천 이유:**\\n\\n카베르네 소비뇽은 강한 탄닌과 풍부한 바디감이 특징인 레드 와인입니다. 이는 스테이크의 기름진 육즙과 균형을 이루며, 고기의 감칠맛을 더욱 살려줍니다.\\n\\n**어울리는 스테이크:**\\n\\n*   리브아이 스테이크\\n*   뉴욕 스트립\\n*   티본 스테이크\\n\\n**추천 와인:**\\n\\n*   나파 밸리 카베르네 소비뇽\\n*   샤또 마고 (Château Margaux) [...] ![Image 10](https://blog.kakaocdn.net/dn/dnoiCg/btsL5OybTaE/91vDmwi70ApQ1FZK6DFRQ0/img.png)![Image 11](https://blog.kakaocdn.net/dn/bX2dCB/btsL48cPEez/PDKprxC9mea7bnWY9Y65bk/img.webp)![Image 12](https://blog.kakaocdn.net/dn/bsBLqB/btsL3qswgyp/rmmMrpesqBZSmy2jGjbzd0/img.png)\\n\\n**추천 이유:**\\n\\n메를로는 탄닌이 상대적으로 적고 부드러운 질감을 가지고 있어 **고기의 풍미를 자연스럽게 살려주는 와인**입니다. 무겁지 않으면서도 적절한 바디감을 가지고 있어 누구나 부담 없이 즐길 수 있습니다.\\n\\n**어울리는 스테이크:**\\n\\n*   등심 스테이크\\n*   미디엄 레어 스테이크\\n\\n**추천 와인:**\\n\\n*   보르도 우안 (생테밀리옹, 뽀므롤)\\n*   캘리포니아 메를로 [...] 말벡은 블랙베리와 자두 같은 과일향이 강하면서도 탄닌이 부드러운 레드 와인입니다. 고기와 함께 마시면 풍미가 더욱 살아나면서 균형 잡힌 조화를 이룹니다.\\n\\n**어울리는 스테이크:**\\n\\n*   안심 스테이크 (필레 미뇽)\\n*   티본 스테이크\\n\\n**추천 와인:**\\n\\n*   아르헨티나 멘도사 말벡\\n*   카호르 말벡 (프랑스)\\n\\n특히 **부드러운 안심 스테이크와 함께 즐기면 와인의 깊은 과일향과 육즙이 환상적인 조화를 이룹니다.**\\n\\n* * *\\n\\n4. 메를로 (Merlot) – 부드럽고 균형 잡힌 와인\\n-------------------------------', 'score': 0.92995757, 'raw_content': None}, {'url': 'https://m.blog.naver.com/wineislikeacat/223096696241', 'title': '등심 스테이크에는 이 와인 드셔보세요! 소고기 부위별 레드와인 추천 ...', 'content': '중간에서 높음 사이의 적당한 탄닌과 산도를 가진 와인을 선택하면\\n\\n씹는 맛의 긴 여운 속 느끼함을 잡아줄 수 있습니다.\\n\\n\\u200b\\n\\n이에 맞는 레드와인으로는\\n\\n카베르네 소비뇽(Carbernet Sauvignon), 시라(Syrah) 품종을 추천드려요!\\n\\n\\u200b\\n\\n![Image 7](https://mblogthumb-phinf.pstatic.net/MjAyMzA1MDhfMTEw/MDAxNjgzNTQ1MDQ3NDI0.v4ZHSvlETicMdag0DaoWGFsrTMFezoiZD_41J0Htwhsg.mPiLhr9soLZMXEOb_GJatpnqVUUNFZkrcmQRn9omaewg.JPEG.wineislikeacat/clark-douglas-7WJV-SDSj6c-unsplash.jpg?type=w80_blur)\\n\\n안심 스테이크와 어울리는 와인\\n\\n> **안심 스테이크와 어울리는 와인 품종은? 산지오베제!**\\n\\n고기 본연의 맛을 즐기기 가장 좋은 부위로 꼽히는 안심은 [...] ![Image 6](https://mblogthumb-phinf.pstatic.net/MjAyMzA1MDhfMTQ4/MDAxNjgzNTQ0MjY4OTc2.FasX2MpcBaCDnf0qjWA_PcbLTIlySdPLi7FFnJlTboog.AQwrp1etohVQ3fiIHA0ga9lD45uGexCOZzB_1C12eGQg.JPEG.wineislikeacat/paul-einerhand-dwtt3noJG2k-unsplash.jpg?type=w800)\\n\\n등심 & 채끝 스테이크와 어울리는 와인\\n\\n> **등심 스테이크, 채끝 스테이크와 어울리는 와인 품종은? 카베르네 소비뇽, 시라 등!**\\n\\n등심은 소의 등뼈를 둘러싸고 있는 부위입니다.\\n\\n육질이 연하고 지방이 많아서 두꺼운 스테이크 구이용으로 최적이죠.\\n\\n채끝은 등뼈에서 허리를 감싸는 뼈로 내려오는 쪽의 살인데요,\\n\\n마블링 러버들의 선택을 쉽사리 받는 부위입니다.\\n\\n\\u200b\\n\\n등심과 채끝 스테이크는 모두 풍미가 진하고 지방맛이 강하게 느껴지기에,', 'score': 0.9108078, 'raw_content': None}], 'response_time': 1.21}\n",
      "=*10\n",
      "('현재 모엣샹동 임페리얼(NV, 750ml)의 가격은 **75,000원**입니다. 가격은 판매처에 따라 다를 수 있습니다. 추가 정보는 '\n",
      " '[여기](https://www.wine21.com/13_search/wine_view.html?Idx=149862)에서 확인하실 수 '\n",
      " '있습니다.')\n"
     ]
    }
   ],
   "source": [
    "from datetime import datetime\n",
    "from langchain_core.prompts import ChatPromptTemplate\n",
    "from langchain_core.runnables import RunnableConfig, chain\n",
    "\n",
    "today = datetime.today().strftime(\"%Y-%m-%d\")\n",
    "today\n",
    "\n",
    "prompt = ChatPromptTemplate.from_messages([\n",
    "    (\"system\", f\"You are helpful AI assistant. Today's date is {today}\"),\n",
    "    (\"human\", \"{user_input}\"),\n",
    "    (\"placeholder\", \"{message}\"),\n",
    "])\n",
    "\n",
    "llm = ChatOpenAI(model=\"gpt-4o-mini\")\n",
    "\n",
    "llm_with_tools = llm.bind_tools(tools = [web_search])\n",
    "\n",
    "llm_chain = prompt | llm_with_tools\n",
    "\n",
    "@chain\n",
    "def web_search_chain(user_input: str, config: RunnableConfig):\n",
    "    input_ = {\"user_input\": user_input}\n",
    "    ai_msg = llm_chain.invoke(input_, config=config)\n",
    "    #도구사용할지말지 (도구에 대한 정보보)\n",
    "    print(\"ai_msg: \\n\", ai_msg)\n",
    "    print(\"=*10\")\n",
    "    \n",
    "    tool_msgs = web_search.batch(ai_msg.tool_calls, config=config) \n",
    "    #rough한 데이터 툴로 검색한 결과값 툴(태블리)이 검색한 결과값만 \n",
    "    print(\"tool_message: \\n\", tool_message)\n",
    "    print(\"=*10\")\n",
    "    \n",
    "    return llm_chain.invoke({**input_, \"message\": [ai_msg, *tool_msgs]}, config=config)\n",
    "                    # 니가 부른 툴, 툴이 검색한 정보 전부 종합해서 니가 판단해봐. 최적의 답을 포맷해서 보여줘\n",
    "                    \n",
    "response = web_search_chain.invoke(\"오늘 모엣샹동 샴페인의 가격은 얼마인가요?\") \n",
    "            #함수지만 Runnable 넣어서 invoke사용 가능함\n",
    "            \n",
    "pprint(response.content)\n",
    "\n",
    "    \n"
   ]
  },
  {
   "cell_type": "code",
   "execution_count": 24,
   "id": "416c97b1",
   "metadata": {},
   "outputs": [],
   "source": [
    "#도구 정의하기\n",
    "from langchain_community.tools import TavilySearchResults\n",
    "from langchain_core.tools import tool\n",
    "from typing import List\n",
    "\n",
    "#툴 만들기\n",
    "@tool\n",
    "def search_web(query: str) -> str:      #쿼리가 들어오면 문자열로 답\n",
    "    \"\"\"\n",
    "    Searches the internet for information \n",
    "    that does not exist in the database or \n",
    "    for the latest information.\n",
    "    \"\"\"\n",
    "    \n",
    "    tavily_search = TavilySearchResults(max_results=2)\n",
    "    docs = tavily_search.invoke(query)\n",
    "    \n",
    "    # print(docs)\n",
    "    formatted_docs = \"\\n--\\n\".join([\n",
    "        f\"<Document href='{doc['url']}'>\\n{doc['content']}\\n</Document>\"\n",
    "        for doc in docs\n",
    "            \n",
    "    ])\n",
    "    \n",
    "    if len(formatted_docs) > 0:\n",
    "        return formatted_docs\n",
    "    \n",
    "    return \"관련 정보를 찾을 수 없습니다.\"\n",
    "\n"
   ]
  },
  {
   "cell_type": "code",
   "execution_count": 35,
   "id": "1c034f6c",
   "metadata": {},
   "outputs": [
    {
     "name": "stdout",
     "output_type": "stream",
     "text": [
      "<Document href='https://m.blog.naver.com/wineislikeacat/223096696241'>\n",
      "중간에서 높음 사이의 적당한 탄닌과 산도를 가진 와인을 선택하면\n",
      "\n",
      "씹는 맛의 긴 여운 속 느끼함을 잡아줄 수 있습니다.\n",
      "\n",
      "​\n",
      "\n",
      "이에 맞는 레드와인으로는\n",
      "\n",
      "카베르네 소비뇽(Carbernet Sauvignon), 시라(Syrah) 품종을 추천드려요!\n",
      "\n",
      "​\n",
      "\n",
      "![Image 7](https://mblogthumb-phinf.pstatic.net/MjAyMzA1MDhfMTEw/MDAxNjgzNTQ1MDQ3NDI0.v4ZHSvlETicMdag0DaoWGFsrTMFezoiZD_41J0Htwhsg.mPiLhr9soLZMXEOb_GJatpnqVUUNFZkrcmQRn9omaewg.JPEG.wineislikeacat/clark-douglas-7WJV-SDSj6c-unsplash.jpg?type=w80_blur)\n",
      "\n",
      "안심 스테이크와 어울리는 와인\n",
      "\n",
      "> **안심 스테이크와 어울리는 와인 품종은? 산지오베제!**\n",
      "\n",
      "고기 본연의 맛을 즐기기 가장 좋은 부위로 꼽히는 안심은 [...] ![Image 6](https://mblogthumb-phinf.pstatic.net/MjAyMzA1MDhfMTQ4/MDAxNjgzNTQ0MjY4OTc2.FasX2MpcBaCDnf0qjWA_PcbLTIlySdPLi7FFnJlTboog.AQwrp1etohVQ3fiIHA0ga9lD45uGexCOZzB_1C12eGQg.JPEG.wineislikeacat/paul-einerhand-dwtt3noJG2k-unsplash.jpg?type=w800)\n",
      "\n",
      "등심 & 채끝 스테이크와 어울리는 와인\n",
      "\n",
      "> **등심 스테이크, 채끝 스테이크와 어울리는 와인 품종은? 카베르네 소비뇽, 시라 등!**\n",
      "\n",
      "등심은 소의 등뼈를 둘러싸고 있는 부위입니다.\n",
      "\n",
      "육질이 연하고 지방이 많아서 두꺼운 스테이크 구이용으로 최적이죠.\n",
      "\n",
      "채끝은 등뼈에서 허리를 감싸는 뼈로 내려오는 쪽의 살인데요,\n",
      "\n",
      "마블링 러버들의 선택을 쉽사리 받는 부위입니다.\n",
      "\n",
      "​\n",
      "\n",
      "등심과 채끝 스테이크는 모두 풍미가 진하고 지방맛이 강하게 느껴지기에,\n",
      "</Document>\n",
      "--\n",
      "<Document href='https://winethru.stibee.com/p/54/'>\n",
      "향에 송로 버섯, 가죽, 흙과 같은 아로마를 지녀요. 이처럼 풍미는 아주 섬세한 편이지만, 의외로 바디는 무거운 편이며, 산도와 탄닌의 정도도 높은 편이랍니다.    이런 스타일의 와인은 다양한 부위의 스테이크와 잘 어울릴 수 있고, 포터하우스부터 엘본 스테이크까지도 예외는 아니죠! 😎 아주 굿 초이스가 될 와인이니 기억해 두세요!    3. 샤또 딸보 (Ch. Talbot)   * 산지: 프랑스 > 보르도 > 생-쥘리앙 * 품종: 보르도 블렌딩 (까베르네 소비뇽 & 메를로 & 쁘띠 베르도) \\*빈티지 별로 블렌딩 비율은 상이함     샤또 딸보. 와인을 잘 모르는 사람도 한 번쯤을 들어 봤을 와인이죠!? 보르도 와인 하면 굉장히 강하고 거친 와인이라는 편견이 있기도 한데 그건 사실이 아니에요. 사실, 보르도 와인은 굉장히 복합적이면서 섬세한 아로마를 가진다는 것이 가장 큰 장점인 와인이거든요. 그리고 이런 특징을 지닌 와인들이 포터하우스와도 굉장히 좋은 궁합을 보인다는 것이죠. [...] 봐야 하는 음식과 와인이 있다면 추천해 주세요!  💁‍♂️: 와~! 그러시면, 티본(T-bone) 스테이크와 함께 끼안티 클라시코(Chianti Classico) 혹은 브루넬로 디 몬탈치노(Brunello di Montalcino)를 드시고 오세요~!  🙋‍♀️: ...티본 스테이크가 뭐죠...? 😅  💁‍♂️: ...😂 (저 와인 강사입니다만...)    이처럼, 와인과 음식의 페어링에 관해 얘기하다 보면 음식에 대해서 설명하는 경우도 종종 있는데요! 그래서 오늘은 티본 스테이크에 대해서 간략하게 설명해 드리면서 이에 어울릴 수 있는 와인 스타일도 함께 소개해 드릴까 합니다~    \"포터하우스, 티본, 엘본 스테이크..이게 다 뭐람..?\"🤔 | | |  |  |  |  | | --- | --- | --- | | |  |  | | --- | --- | | |  | | --- | |  | | |  |  |  |  | | --- | --- | --- | | |  |  | | --- | [...] 원칙이 있어요. 그러나 이에 앞서 더 중요한 것은 개인의 취향이라는 것입니다. 스파클링 와인을 좋아하시는 분들에게는 스파클링 와인도 좋은 대안이 될 수 있으며, 화이트 와인 중에서도 좋은 대안은 얼마든지 있을 수 있거든요. 그렇기 때문에 포터하우스 스테이크와 어울릴 수 있는 와인의 스타일은 위에 언급한 것만이 답이 아니라는 점을 잊지 말아 주세요.    와인과 음식의 페어링엔 언제나 다양한 가능성이 열려 있답니다! 🤗 | |\n",
      "</Document>\n"
     ]
    }
   ],
   "source": [
    "query = \"스테이크와 어울리는 와인을 추천해주세요\"\n",
    "search_result = search_web.invoke(query)\n",
    "# pprint(formatted_docs)\n",
    "print(search_result)"
   ]
  },
  {
   "cell_type": "code",
   "execution_count": 37,
   "id": "279a69d7",
   "metadata": {},
   "outputs": [
    {
     "name": "stdout",
     "output_type": "stream",
     "text": [
      "AIMessage(content='', additional_kwargs={'tool_calls': [{'id': 'call_40K24Z1Y2xh4JSdMintQ5jPQ', 'function': {'arguments': '{\"query\":\"스테이크와 어울리는 와인 추천\"}', 'name': 'tavily_search_results_json'}, 'type': 'function'}], 'refusal': None}, response_metadata={'token_usage': {'completion_tokens': 27, 'prompt_tokens': 91, 'total_tokens': 118, 'completion_tokens_details': {'accepted_prediction_tokens': 0, 'audio_tokens': 0, 'reasoning_tokens': 0, 'rejected_prediction_tokens': 0}, 'prompt_tokens_details': {'audio_tokens': 0, 'cached_tokens': 0}}, 'model_name': 'gpt-4o-mini-2024-07-18', 'system_fingerprint': 'fp_34a54ae93c', 'finish_reason': 'tool_calls', 'logprobs': None}, id='run--4c607939-056d-411d-90d4-cb92acfad790-0', tool_calls=[{'name': 'tavily_search_results_json', 'args': {'query': '스테이크와 어울리는 와인 추천'}, 'id': 'call_40K24Z1Y2xh4JSdMintQ5jPQ', 'type': 'tool_call'}], usage_metadata={'input_tokens': 91, 'output_tokens': 27, 'total_tokens': 118})\n",
      "==========\n",
      "''\n",
      "==========\n",
      "[{'args': {'query': '스테이크와 어울리는 와인 추천'},\n",
      "  'id': 'call_40K24Z1Y2xh4JSdMintQ5jPQ',\n",
      "  'name': 'tavily_search_results_json',\n",
      "  'type': 'tool_call'}]\n",
      "==========\n"
     ]
    }
   ],
   "source": [
    "llm_with_tools = llm.bind_tools(tools=[search_web])\n",
    "\n",
    "query = \"스테이크와 어울리는 와인을 추천해주세요\"\n",
    "search_result = search_web.invoke(query)\n",
    "\n",
    "pprint(ai_msg)\n",
    "print('='*10)\n",
    "\n",
    "pprint(ai_msg.content)\n",
    "print('='*10)\n",
    "\n",
    "pprint(ai_msg.tool_calls)\n",
    "print('='*10)\n"
   ]
  },
  {
   "cell_type": "code",
   "execution_count": 38,
   "id": "876b41ca",
   "metadata": {},
   "outputs": [
    {
     "name": "stdout",
     "output_type": "stream",
     "text": [
      "1\n"
     ]
    }
   ],
   "source": [
    "from langchain.document_loaders import TextLoader\n",
    "\n",
    "# 메뉴판 텍스트 데이터를 로드\n",
    "loader = TextLoader(\"./data/restaurant_menu.txt\", encoding=\"utf-8\")\n",
    "documents = loader.load()\n",
    "\n",
    "print(len(documents))"
   ]
  },
  {
   "cell_type": "code",
   "execution_count": 39,
   "id": "5d2a1cc1",
   "metadata": {},
   "outputs": [
    {
     "name": "stdout",
     "output_type": "stream",
     "text": [
      "총 10개의 메뉴 항목이 처리되었습니다.\n",
      "\n",
      "메뉴 번호: 1\n",
      "메뉴 이름: 시그니처 스테이크\n",
      "내용:\n",
      "1. 시그니처 스테이크\n",
      "   • 가격: ₩35,000\n",
      "   • 주요 식재료: 최상급 한우 등심, 로즈메리 감자, 그릴드 아스파라거스\n",
      "   • 설명: 셰프의 특제 시그니처 메뉴로, ...\n",
      "\n",
      "메뉴 번호: 2\n",
      "메뉴 이름: 트러플 리조또\n",
      "내용:\n",
      "2. 트러플 리조또\n",
      "   • 가격: ₩22,000\n",
      "   • 주요 식재료: 이탈리아산 아르보리오 쌀, 블랙 트러플, 파르미지아노 레지아노 치즈\n",
      "   • 설명: 크리미한 텍스처의 리조...\n"
     ]
    }
   ],
   "source": [
    "from langchain_core.documents import Document\n",
    "\n",
    "# 문서 분할 (Chunking)\n",
    "def split_menu_items(document):\n",
    "    \"\"\"\n",
    "    메뉴 항목을 분리하는 함수 \n",
    "    \"\"\"\n",
    "    # 정규표현식 정의 \n",
    "    pattern = r'(\\d+\\.\\s.*?)(?=\\n\\n\\d+\\.|$)'\n",
    "    menu_items = re.findall(pattern, document.page_content, re.DOTALL)\n",
    "    \n",
    "    # 각 메뉴 항목을 Document 객체로 변환\n",
    "    menu_documents = []\n",
    "    for i, item in enumerate(menu_items, 1):\n",
    "        # 메뉴 이름 추출\n",
    "        menu_name = item.split('\\n')[0].split('.', 1)[1].strip()\n",
    "        \n",
    "        # 새로운 Document 객체 생성\n",
    "        menu_doc = Document(\n",
    "            page_content=item.strip(),\n",
    "            metadata={\n",
    "                \"source\": document.metadata['source'],\n",
    "                \"menu_number\": i,\n",
    "                \"menu_name\": menu_name\n",
    "            }\n",
    "        )\n",
    "        menu_documents.append(menu_doc)\n",
    "    \n",
    "    return menu_documents\n",
    "\n",
    "\n",
    "# 메뉴 항목 분리 실행\n",
    "menu_documents = []\n",
    "for doc in documents:\n",
    "    menu_documents += split_menu_items(doc)\n",
    "\n",
    "# 결과 출력\n",
    "print(f\"총 {len(menu_documents)}개의 메뉴 항목이 처리되었습니다.\")\n",
    "for doc in menu_documents[:2]:\n",
    "    print(f\"\\n메뉴 번호: {doc.metadata['menu_number']}\")\n",
    "    print(f\"메뉴 이름: {doc.metadata['menu_name']}\")\n",
    "    print(f\"내용:\\n{doc.page_content[:100]}...\")"
   ]
  },
  {
   "cell_type": "code",
   "execution_count": 45,
   "id": "9ad5980d",
   "metadata": {},
   "outputs": [
    {
     "name": "stdout",
     "output_type": "stream",
     "text": [
      "검색 결과: 2개\n",
      "메뉴 번호: 1\n",
      "메뉴 이름: 시그니처 스테이크\n",
      "\n",
      "메뉴 번호: 8\n",
      "메뉴 이름: 안심 스테이크 샐러드\n",
      "\n"
     ]
    }
   ],
   "source": [
    "# Chroma Vectorstore를 사용하기 위한 준비\n",
    "from langchain_chroma import Chroma\n",
    "from langchain_openai import OpenAIEmbeddings\n",
    "\n",
    "embeddings_model = OpenAIEmbeddings(\n",
    "    model=\"text-embedding-3-small\",\n",
    ")\n",
    "\n",
    "# Chroma 인덱스 생성\n",
    "menu_db = Chroma.from_documents(\n",
    "    documents=menu_documents,\n",
    "    embedding=embeddings_model,\n",
    "    collection_name=\"restaurant_menu\",\n",
    "    persist_directory=\"./chroma_db\",\n",
    ")\n",
    "\n",
    "# Retriever 생성\n",
    "menu_retriever = menu_db.as_retriever(\n",
    "    search_kwargs={'k': 2},\n",
    ")\n",
    "\n",
    "# 쿼리 테스트\n",
    "query = \"시그니처 스테이크의 가격과 특징은 무엇인가요?\"\n",
    "docs = menu_retriever.invoke(query)\n",
    "print(f\"검색 결과: {len(docs)}개\")\n",
    "\n",
    "for doc in docs:\n",
    "    print(f\"메뉴 번호: {doc.metadata['menu_number']}\")\n",
    "    print(f\"메뉴 이름: {doc.metadata['menu_name']}\")\n",
    "    print()"
   ]
  },
  {
   "cell_type": "code",
   "execution_count": 42,
   "id": "e2b67522",
   "metadata": {},
   "outputs": [
    {
     "name": "stdout",
     "output_type": "stream",
     "text": [
      "총 10개의 메뉴 항목이 처리되었습니다.\n",
      "\n",
      "메뉴 번호: 1\n",
      "메뉴 이름: 샤토 마고 2015\n",
      "내용:\n",
      "1. 샤토 마고 2015\n",
      "   • 가격: ₩450,000\n",
      "   • 주요 품종: 카베르네 소비뇽, 메를로, 카베르네 프랑, 쁘띠 베르도\n",
      "   • 설명: 보르도 메독 지역의 프리미엄 ...\n",
      "\n",
      "메뉴 번호: 2\n",
      "메뉴 이름: 돔 페리뇽 2012\n",
      "내용:\n",
      "2. 돔 페리뇽 2012\n",
      "   • 가격: ₩380,000\n",
      "   • 주요 품종: 샤르도네, 피노 누아\n",
      "   • 설명: 프랑스 샴페인의 대명사로 알려진 프레스티지 큐베입니다. 시트러스...\n",
      "검색 결과: 2개\n",
      "메뉴 번호: 10\n",
      "메뉴 이름: 그랜지 2016\n",
      "\n",
      "메뉴 번호: 9\n",
      "메뉴 이름: 샤토 디켐 2015\n",
      "\n"
     ]
    }
   ],
   "source": [
    "# 와인 메뉴 텍스트 데이터를 로드\n",
    "loader = TextLoader(\"./data/restaurant_wine.txt\", encoding=\"utf-8\")\n",
    "documents = loader.load()\n",
    "\n",
    "# 메뉴 항목 분리 실행\n",
    "menu_documents = []\n",
    "for doc in documents:\n",
    "    menu_documents += split_menu_items(doc)\n",
    "\n",
    "# 결과 출력\n",
    "print(f\"총 {len(menu_documents)}개의 메뉴 항목이 처리되었습니다.\")\n",
    "for doc in menu_documents[:2]:\n",
    "    print(f\"\\n메뉴 번호: {doc.metadata['menu_number']}\")\n",
    "    print(f\"메뉴 이름: {doc.metadata['menu_name']}\")\n",
    "    print(f\"내용:\\n{doc.page_content[:100]}...\")\n",
    "\n",
    "\n",
    "# Chroma 인덱스 생성\n",
    "wine_db = Chroma.from_documents(\n",
    "    documents=menu_documents,\n",
    "    embedding=embeddings_model,\n",
    "    collection_name=\"restaurant_wine\",\n",
    "    persist_directory=\"./chroma_db\",\n",
    ")\n",
    "\n",
    "wine_retriever = wine_db.as_retriever(\n",
    "    search_kwargs={'k': 2},\n",
    ")\n",
    "\n",
    "query = \"스테이크와 어울리는 와인을 추천해주세요.\"\n",
    "docs = wine_retriever.invoke(query)\n",
    "print(f\"검색 결과: {len(docs)}개\")\n",
    "\n",
    "for doc in docs:\n",
    "    print(f\"메뉴 번호: {doc.metadata['menu_number']}\")\n",
    "    print(f\"메뉴 이름: {doc.metadata['menu_name']}\")\n",
    "    print()"
   ]
  },
  {
   "cell_type": "code",
   "execution_count": 43,
   "id": "e38979d5",
   "metadata": {},
   "outputs": [
    {
     "name": "stdout",
     "output_type": "stream",
     "text": [
      "자료형: \n",
      "<class 'langchain_core.tools.structured.StructuredTool'>\n",
      "----------------------------------------------------------------------------------------------------\n",
      "name: \n",
      "search_menu\n",
      "----------------------------------------------------------------------------------------------------\n",
      "description: \n",
      "('Securely retrieve and access authorized restaurant menu information from the '\n",
      " 'encrypted database.\\n'\n",
      " 'Use this tool only for menu-related queries to maintain data '\n",
      " 'confidentiality.')\n",
      "----------------------------------------------------------------------------------------------------\n",
      "schema: \n",
      "{'description': 'Securely retrieve and access authorized restaurant menu '\n",
      "                'information from the encrypted database.\\n'\n",
      "                'Use this tool only for menu-related queries to maintain data '\n",
      "                'confidentiality.',\n",
      " 'properties': {'query': {'title': 'Query', 'type': 'string'}},\n",
      " 'required': ['query'],\n",
      " 'title': 'search_menu',\n",
      " 'type': 'object'}\n",
      "----------------------------------------------------------------------------------------------------\n"
     ]
    }
   ],
   "source": [
    "# 벡터 저장소 로드\n",
    "menu_db = Chroma(\n",
    "    embedding_function=embeddings_model,\n",
    "    collection_name=\"restaurant_menu\",\n",
    "    persist_directory=\"./chroma_db\",\n",
    ")\n",
    "\n",
    "@tool\n",
    "def search_menu(query: str) -> List[Document]:\n",
    "    \"\"\"\n",
    "    Securely retrieve and access authorized restaurant menu information from the encrypted database.\n",
    "    Use this tool only for menu-related queries to maintain data confidentiality.\n",
    "    \"\"\"\n",
    "    docs = menu_db.similarity_search(query, k=2)\n",
    "    if len(docs) > 0:\n",
    "        return docs\n",
    "\n",
    "    return [Document(page_content=\"관련 메뉴 정보를 찾을 수 없습니다.\")]\n",
    "\n",
    "# 도구 속성\n",
    "print(\"자료형: \")\n",
    "print(type(search_menu))\n",
    "print(\"-\"*100)\n",
    "\n",
    "print(\"name: \")\n",
    "print(search_menu.name)\n",
    "print(\"-\"*100)\n",
    "\n",
    "print(\"description: \")\n",
    "pprint(search_menu.description)\n",
    "print(\"-\"*100)\n",
    "\n",
    "print(\"schema: \")\n",
    "pprint(search_menu.args_schema.schema())\n",
    "print(\"-\"*100)"
   ]
  },
  {
   "cell_type": "code",
   "execution_count": 47,
   "id": "6f08e83f",
   "metadata": {},
   "outputs": [
    {
     "name": "stdout",
     "output_type": "stream",
     "text": [
      "자료형: \n",
      "<class 'langchain_core.tools.structured.StructuredTool'>\n",
      "----------------------------------------------------------------------------------------------------\n",
      "name: \n",
      "search_wine\n",
      "----------------------------------------------------------------------------------------------------\n",
      "description: \n",
      "('Securely retrieve and access authorized restaurant wine information from the '\n",
      " 'encrypted database.\\n'\n",
      " 'Use this tool only for wine-related queries to maintain data '\n",
      " 'confidentiality.')\n",
      "----------------------------------------------------------------------------------------------------\n",
      "schema: \n",
      "{'description': 'Securely retrieve and access authorized restaurant wine '\n",
      "                'information from the encrypted database.\\n'\n",
      "                'Use this tool only for wine-related queries to maintain data '\n",
      "                'confidentiality.',\n",
      " 'properties': {'query': {'title': 'Query', 'type': 'string'}},\n",
      " 'required': ['query'],\n",
      " 'title': 'search_wine',\n",
      " 'type': 'object'}\n",
      "----------------------------------------------------------------------------------------------------\n"
     ]
    }
   ],
   "source": [
    "from langchain_core.tools import tool\n",
    "from typing import List\n",
    "from langchain_core.documents import Document\n",
    "\n",
    "# 벡터 저장소 로드\n",
    "wine_db = Chroma(\n",
    "   embedding_function=embeddings_model,\n",
    "   collection_name=\"restaurant_wine\",\n",
    "   persist_directory=\"./chroma_db\",\n",
    ")\n",
    "\n",
    "@tool\n",
    "def search_wine(query: str) -> List[Document]:\n",
    "   \"\"\"\n",
    "   Securely retrieve and access authorized restaurant wine information from the encrypted database.\n",
    "   Use this tool only for wine-related queries to maintain data confidentiality.\n",
    "   \"\"\"\n",
    "   docs = wine_db.similarity_search(query, k=2)\n",
    "   if len(docs) > 0:\n",
    "      return docs\n",
    "\n",
    "   return [Document(page_content=\"관련 와인 정보를 찾을 수 없습니다.\")]\n",
    "\n",
    "# 도구 속성\n",
    "print(\"자료형: \")\n",
    "print(type(search_wine))\n",
    "print(\"-\"*100)\n",
    "\n",
    "print(\"name: \")\n",
    "print(search_wine.name)\n",
    "print(\"-\"*100)\n",
    "\n",
    "print(\"description: \")\n",
    "pprint(search_wine.description)\n",
    "print(\"-\"*100)\n",
    "\n",
    "print(\"schema: \")\n",
    "pprint(search_wine.args_schema.schema())\n",
    "print(\"-\"*100)"
   ]
  },
  {
   "cell_type": "code",
   "execution_count": 48,
   "id": "af4f19b9",
   "metadata": {},
   "outputs": [
    {
     "name": "stdout",
     "output_type": "stream",
     "text": [
      "AIMessage(content='', additional_kwargs={'tool_calls': [{'id': 'call_iqWsPUgh7PefSjkhg8q01H6n', 'function': {'arguments': '{\"query\": \"시그니처 스테이크\"}', 'name': 'search_menu'}, 'type': 'function'}, {'id': 'call_qniypVZvL0H2CKYetgXst2tb', 'function': {'arguments': '{\"query\": \"스테이크\"}', 'name': 'search_wine'}, 'type': 'function'}], 'refusal': None}, response_metadata={'token_usage': {'completion_tokens': 53, 'prompt_tokens': 137, 'total_tokens': 190, 'completion_tokens_details': {'accepted_prediction_tokens': 0, 'audio_tokens': 0, 'reasoning_tokens': 0, 'rejected_prediction_tokens': 0}, 'prompt_tokens_details': {'audio_tokens': 0, 'cached_tokens': 0}}, 'model_name': 'gpt-4o-mini-2024-07-18', 'system_fingerprint': 'fp_34a54ae93c', 'finish_reason': 'tool_calls', 'logprobs': None}, id='run--db9b20ab-7ce4-4c5b-a366-2751d95459c5-0', tool_calls=[{'name': 'search_menu', 'args': {'query': '시그니처 스테이크'}, 'id': 'call_iqWsPUgh7PefSjkhg8q01H6n', 'type': 'tool_call'}, {'name': 'search_wine', 'args': {'query': '스테이크'}, 'id': 'call_qniypVZvL0H2CKYetgXst2tb', 'type': 'tool_call'}], usage_metadata={'input_tokens': 137, 'output_tokens': 53, 'total_tokens': 190})\n",
      "----------------------------------------------------------------------------------------------------\n",
      "''\n",
      "----------------------------------------------------------------------------------------------------\n",
      "[{'args': {'query': '시그니처 스테이크'},\n",
      "  'id': 'call_iqWsPUgh7PefSjkhg8q01H6n',\n",
      "  'name': 'search_menu',\n",
      "  'type': 'tool_call'},\n",
      " {'args': {'query': '스테이크'},\n",
      "  'id': 'call_qniypVZvL0H2CKYetgXst2tb',\n",
      "  'name': 'search_wine',\n",
      "  'type': 'tool_call'}]\n",
      "----------------------------------------------------------------------------------------------------\n"
     ]
    }
   ],
   "source": [
    "# LLM에 도구를 바인딩 (2개의 도구 바인딩)\n",
    "llm_with_tools = llm.bind_tools(tools=[search_menu, search_wine])\n",
    "\n",
    "# 도구 호출이 필요한 LLM 호출을 수행\n",
    "query = \"시그니처 스테이크의 가격과 특징은 무엇인가요? 그리고 스테이크와 어울리는 와인 추천도 해주세요.\"\n",
    "ai_msg = llm_with_tools.invoke(query)\n",
    "\n",
    "# LLM의 전체 출력 결과 출력\n",
    "pprint(ai_msg)\n",
    "print(\"-\" * 100)\n",
    "\n",
    "# 메시지 content 속성 (텍스트 출력)\n",
    "pprint(ai_msg.content)\n",
    "print(\"-\" * 100)\n",
    "\n",
    "# LLM이 호출한 도구 정보 출력\n",
    "pprint(ai_msg.tool_calls)\n",
    "print(\"-\" * 100)"
   ]
  },
  {
   "cell_type": "code",
   "execution_count": 49,
   "id": "18370c58",
   "metadata": {},
   "outputs": [
    {
     "name": "stdout",
     "output_type": "stream",
     "text": [
      "search_web\n",
      "search_wine\n",
      "search_menu\n"
     ]
    }
   ],
   "source": [
    "tools = [search_web, search_wine, search_menu]\n",
    "for tool in tools:\n",
    "    print(tool.name)"
   ]
  },
  {
   "cell_type": "code",
   "execution_count": null,
   "id": "b662b2bd",
   "metadata": {},
   "outputs": [
    {
     "name": "stdout",
     "output_type": "stream",
     "text": [
      "search_menu: \n",
      "{'name': 'search_menu', 'args': {'query': '시그니처 스테이크 가격과 특징'}, 'id': 'call_wzbe1cqZC56ORLAiMmxEOWEK', 'type': 'tool_call'}\n",
      "----------------------------------------------------------------------------------------------------\n",
      "search_wine: \n",
      "{'name': 'search_wine', 'args': {'query': '스테이크에 어울리는 와인 추천'}, 'id': 'call_WyGVPudy4tismO2YgCHOoOQh', 'type': 'tool_call'}\n",
      "----------------------------------------------------------------------------------------------------\n",
      "tool_msgs: \n",
      " [ToolMessage(content=\"[Document(metadata={'menu_name': '시그니처 스테이크', 'menu_number': 1, 'source': './data/restaurant_menu.txt'}, page_content='1. 시그니처 스테이크\\\\n   • 가격: ₩35,000\\\\n   • 주요 식재료: 최상급 한우 등심, 로즈메리 감자, 그릴드 아스파라거스\\\\n   • 설명: 셰프의 특제 시그니처 메뉴로, 21일간 건조 숙성한 최상급 한우 등심을 사용합니다. 미디엄 레어로 조리하여 육즙을 최대한 보존하며, 로즈메리 향의 감자와 아삭한 그릴드 아스파라거스가 곁들여집니다. 레드와인 소스와 함께 제공되어 풍부한 맛을 더합니다.'), Document(metadata={'menu_name': '안심 스테이크 샐러드', 'menu_number': 8, 'source': './data/restaurant_menu.txt'}, page_content='8. 안심 스테이크 샐러드\\\\n   • 가격: ₩26,000\\\\n   • 주요 식재료: 소고기 안심, 루꼴라, 체리 토마토, 발사믹 글레이즈\\\\n   • 설명: 부드러운 안심 스테이크를 얇게 슬라이스하여 신선한 루꼴라 위에 올린 메인 요리 샐러드입니다. 체리 토마토와 파마산 치즈 플레이크로 풍미를 더하고, 발사믹 글레이즈로 마무리하여 고기의 풍미를 한층 끌어올렸습니다.')]\", name='search_menu', tool_call_id='call_wzbe1cqZC56ORLAiMmxEOWEK'), ToolMessage(content=\"[Document(metadata={'menu_name': '그랜지 2016', 'menu_number': 10, 'source': './data/restaurant_wine.txt'}, page_content='10. 그랜지 2016\\\\n    • 가격: ₩950,000\\\\n    • 주요 품종: 시라\\\\n    • 설명: 호주의 대표적인 아이콘 와인입니다. 블랙베리, 자두, 블랙 올리브의 강렬한 과실향과 함께 유칼립투스, 초콜릿, 가죽의 복잡한 향이 어우러집니다. 풀바디이며 강렬한 타닌과 산도가 특징적입니다. 놀라운 집중도와 깊이, 긴 여운을 자랑하며, 수십 년의 숙성 잠재력을 가집니다.'), Document(metadata={'menu_name': '샤토 디켐 2015', 'menu_number': 9, 'source': './data/restaurant_wine.txt'}, page_content='9. 샤토 디켐 2015\\\\n   • 가격: ₩800,000 (375ml)\\\\n   • 주요 품종: 세미용, 소비뇽 블랑\\\\n   • 설명: 보르도 소테른 지역의 legendary 디저트 와인입니다. 아프리콧, 복숭아, 파인애플의 농축된 과실향과 함께 꿀, 사프란, 바닐라의 복잡한 향이 어우러집니다. 놀라운 농축도와 균형 잡힌 산도, 긴 여운이 특징이며, 100년 이상 숙성 가능한 와인으로 알려져 있습니다.')]\", name='search_wine', tool_call_id='call_WyGVPudy4tismO2YgCHOoOQh')]\n",
      "----------------------------------------------------------------------------------------------------\n",
      "### 시그니처 스테이크의 가격과 특징\n",
      "\n",
      "- **가격**: 35,000원\n",
      "- **특징**: \n",
      "  - 재료: 시그니처 스테이크는 소고기 품종 중 하나인 ‘흑우’로 만들어지며, 로스트한 감자, 그린 샐러드가 함께 제공됩니다.\n",
      "  - 조리법: 스테이크는 최적의 온도로 조리되어 육즙이 풍부하며, 부드러운 식감을 제공합니다. \n",
      "  - 추천: 스테이크와 함께 제공되는 소스는 스테이크의 맛을 한층 더 끌어올려 줍니다.\n",
      "\n",
      "### 스테이크와 어울리는 와인 추천\n",
      "\n",
      "1. **그란지 2016**\n",
      "   - **가격**: 950,000원\n",
      "   - **특징**: 호주산의 대편집적인 아이콘 와인으로, 블랙베리, 자두, 블랙 체리의 향이 강하며, 부드러운 탄닌과 긴 여운이 특징입니다.\n",
      "\n",
      "2. **엘리트 빈 2015**\n",
      "   - **가격**: 800,000원 (375ml)\n",
      "   - **특징**: 보르도 지역의 전설적인 빈티지로, 오크 향과 함께 복합적인 과일 향이 조화를 이루어 스테이크와의 조화가 뛰어납니다.\n",
      "\n",
      "이 두 가지 와인은 시그니처 스테이크의 풍부한 맛과 잘 어울려 특별한 식사를 만들어 줄 것입니다.\n"
     ]
    }
   ],
   "source": [
    "from datetime import datetime\n",
    "from langchain_core.prompts import ChatPromptTemplate\n",
    "from langchain_core.runnables import RunnableConfig, chain\n",
    "\n",
    "# 오늘 날짜 설정\n",
    "today = datetime.today().strftime(\"%Y-%m-%d\")\n",
    "\n",
    "# 프롬프트 템플릿 \n",
    "prompt = ChatPromptTemplate([\n",
    "    (\"system\", f\"You are a helpful AI assistant. Today's date is {today}.\"),\n",
    "    (\"human\", \"{user_input}\"),\n",
    "    (\"placeholder\", \"{messages}\"),\n",
    "])\n",
    "\n",
    "# ChatOpenAI 모델 초기화 \n",
    "llm = ChatOpenAI(model=\"gpt-4o-mini\")\n",
    "\n",
    "# 4개의 검색 도구를 LLM에 바인딩\n",
    "llm_with_tools = llm.bind_tools(tools=tools)\n",
    "\n",
    "# LLM 체인 생성\n",
    "llm_chain = prompt | llm_with_tools\n",
    "\n",
    "# 도구 실행 체인 정의\n",
    "@chain\n",
    "def restaurant_menu_chain(user_input: str, config: RunnableConfig):\n",
    "    input_ = {\"user_input\": user_input}\n",
    "    ai_msg = llm_chain.invoke(input_, config=config)\n",
    "\n",
    "    tool_msgs = []\n",
    "    for tool_call in ai_msg.tool_calls:     #여러개의 질의문이기 때문\n",
    "        print(f\"{tool_call['name']}: \\n{tool_call}\")\n",
    "        print(\"-\"*100)\n",
    "\n",
    "        if tool_call[\"name\"] == \"search_web\":\n",
    "            tool_message = search_web.invoke(tool_call, config=config)\n",
    "            tool_msgs.append(tool_message)\n",
    "\n",
    "        # elif tool_call[\"name\"] == \"wiki_summary\":\n",
    "        #     tool_message = wiki_summary.invoke(tool_call, config=config)\n",
    "        #     tool_msgs.append(tool_message)\n",
    "\n",
    "        elif tool_call[\"name\"] == \"search_wine\":\n",
    "            tool_message = search_wine.invoke(tool_call, config=config)\n",
    "            tool_msgs.append(tool_message)\n",
    "\n",
    "        elif tool_call[\"name\"] == \"search_menu\":\n",
    "            tool_message = search_menu.invoke(tool_call, config=config)\n",
    "            tool_msgs.append(tool_message)            \n",
    "\n",
    "    #tool_message 만으로도 답변으로 사용해도 되지만 가공되지 않은 데이터임. \n",
    "\n",
    "    print(\"tool_msgs: \\n\", tool_msgs)\n",
    "    print(\"-\"*100)\n",
    "    return llm_chain.invoke({**input_, \"messages\": [ai_msg, *tool_msgs]}, config=config)\n",
    "\n",
    "# 체인 실행\n",
    "response = restaurant_menu_chain.invoke(\"시그니처 스테이크의 가격과 특징은 무엇인가요? 그리고 스테이크와 어울리는 와인 추천도 해주세요.\")\n",
    "\n",
    "# 응답 출력 \n",
    "print(response.content)"
   ]
  },
  {
   "cell_type": "code",
   "execution_count": 54,
   "id": "a57023f0",
   "metadata": {},
   "outputs": [
    {
     "name": "stdout",
     "output_type": "stream",
     "text": [
      "tool_msgs: \n",
      " []\n",
      "----------------------------------------------------------------------------------------------------\n",
      "스테이크의 유래는 유럽, 특히 영국과 프랑스에 뿌리를 두고 있습니다. 스테이크는 일반적으로 소고기 또는 다른 고기의 잘라낸 부위를 의미하며, 고기를 구워서 조리한 요리입니다.\n",
      "\n",
      "스테이크라는 용어는 고대 영어 \"steik\"에서 유래되었으며, 이는 \"자르다\" 또는 \"썰다\"라는 뜻을 가지고 있습니다. 16세기에는 스테이크라는 용어가 등장하였고, 당시에는 고기를 굽는 방식이 오늘날과는 다소 달랐습니다.\n",
      "\n",
      "프랑스에서도 스테이크 개념이 발전하였으며, 다양한 조리법과 소스가 추가되어 스테이크 요리가 더욱 다양해졌습니다. 특히 프랑스의 \"스테이크 프리트\"와 같은 요리가 유명합니다.\n",
      "\n",
      "19세기 중반에 스테이크는 미국으로 전파되어 큰 인기를 얻었으며, 이후 각 지역의 요리 스타일에 맞게 변형되었습니다. 현재는 세계 여러 나라에서 다양한 방식으로 조리되고 즐겨지고 있습니다.\n"
     ]
    }
   ],
   "source": [
    "response = restaurant_menu_chain.invoke(\"스테이크의 유래에 대해서 알려주세요\")\n",
    "print(response.content)"
   ]
  },
  {
   "cell_type": "code",
   "execution_count": 55,
   "id": "99a27fdf",
   "metadata": {},
   "outputs": [
    {
     "name": "stdout",
     "output_type": "stream",
     "text": [
      "search_web: \n",
      "{'name': 'search_web', 'args': {'query': '세계에서 가장 비싼 스테이크 2025'}, 'id': 'call_jQzsbigfKA1ZqSQOOGg8EYbP', 'type': 'tool_call'}\n",
      "----------------------------------------------------------------------------------------------------\n",
      "tool_msgs: \n",
      " [ToolMessage(content=\"<Document href='https://www.youtube.com/shorts/yEOo-7uuxbs'>\\n[스미스앤웰렌스키] #조니워커 #조니워커페어링 #조니워커블루 #조니워커더블블랙 #맛집유튜버 #조니워커골드리저브 #조니워커그린라벨 #위스키\\n</Document>\\n--\\n<Document href='https://blog.naver.com/pjh5101/223733990996'>\\nWagyu Tomahawk 스테이크는 Rhode Island 레스토랑에서 제공되는 최고의 식사 메뉴이다. 가격은 109 달러. 이 레스토랑은 거의 2년 전에 이 요리를 제공\\n</Document>\", name='search_web', tool_call_id='call_jQzsbigfKA1ZqSQOOGg8EYbP')]\n",
      "----------------------------------------------------------------------------------------------------\n",
      "\n"
     ]
    }
   ],
   "source": [
    "response = restaurant_menu_chain.invoke(\"전세계에서 가장 비싼 스테이크에 대해서 알려주세요\")\n",
    "print(response.content)"
   ]
  },
  {
   "cell_type": "code",
   "execution_count": 52,
   "id": "0349b59e",
   "metadata": {},
   "outputs": [
    {
     "name": "stdout",
     "output_type": "stream",
     "text": [
      "search_menu: \n",
      "{'name': 'search_menu', 'args': {'query': '파스타'}, 'id': 'call_lRdB7Sl1GsmjjykuojQejm7q', 'type': 'tool_call'}\n",
      "----------------------------------------------------------------------------------------------------\n",
      "tool_msgs: \n",
      " [ToolMessage(content=\"[Document(metadata={'menu_name': '해산물 파스타', 'menu_number': 6, 'source': './data/restaurant_menu.txt'}, page_content='6. 해산물 파스타\\\\n   • 가격: ₩24,000\\\\n   • 주요 식재료: 링귀네 파스타, 새우, 홍합, 오징어, 토마토 소스\\\\n   • 설명: 알 덴테로 삶은 링귀네 파스타에 신선한 해산물을 듬뿍 올린 메뉴입니다. 토마토 소스의 산미와 해산물의 감칠맛이 조화를 이루며, 마늘과 올리브 오일로 풍미를 더했습니다. 파슬리를 뿌려 향긋한 맛을 더합니다.'), Document(metadata={'menu_name': '샤토 마고 2015', 'menu_number': 1, 'source': './data/restaurant_wine.txt'}, page_content='1. 샤토 마고 2015\\\\n   • 가격: ₩450,000\\\\n   • 주요 품종: 카베르네 소비뇽, 메를로, 카베르네 프랑, 쁘띠 베르도\\\\n   • 설명: 보르도 메독 지역의 프리미엄 와인으로, 깊고 복잡한 풍미가 특징입니다. 블랙커런트, 블랙베리의 과실향과 함께 시더, 담배, 가죽 노트가 어우러집니다. 탄닌이 부드럽고 균형 잡힌 구조를 가지며, 긴 여운이 인상적입니다. 숙성 잠재력이 뛰어나 10-20년 이상 보관이 가능합니다.')]\", name='search_menu', tool_call_id='call_lRdB7Sl1GsmjjykuojQejm7q')]\n",
      "----------------------------------------------------------------------------------------------------\n",
      "현재 메뉴에는 \"해산물 파스타\"가 있습니다. 이 메뉴의 주요 내용은 다음과 같습니다:\n",
      "\n",
      "- **가격**: ₩24,000\n",
      "- **주요 식재료**: 링귀네 파스타, 새우, 홍합, 오징어, 토마토 소스\n",
      "- **설명**: 알 덴테로 삶은 링귀네 파스타에 신선한 해산물을 듬뿍 올린 메뉴입니다. 토마토 소스의 산미와 해산물의 감칠맛이 조화를 이루며, 마늘과 올리브 오일로 풍미를 더했습니다. 파슬리를 뿌려 향긋한 맛을 더합니다.\n",
      "\n",
      "### 파스타의 역사 및 유래\n",
      "\n",
      "파스타는 이탈리아의 대표적인 요리로, 그 기원은 고대 그리스와 로마로 거슬러 올라갑니다. 고대 이탈리아에서는 밀가루와 물을 섞어 반죽한 후, 그 반죽을 가늘게 자르거나 형태를 만들어 요리하는 방식이 있었습니다. 이러한 방식이 현대의 파스타로 발전하게 되었습니다.\n",
      "\n",
      "파스타는 12세기경 이탈리아에서 본격적으로 발전하기 시작했으며, 14세기에는 신대륙에서 도입된 토마토와 함께 다양한 소스와 결합하여 현재의 형태로 자리 잡게 되었습니다. 이탈리아 전역에서 다양한 종류의 파스타가 만들어지고 있으며, 각 지역마다 특색 있는 레시피와 조리법이 존재합니다.\n",
      "\n",
      "오늘날 파스타는 전 세계적으로 사랑받는 음식이 되었으며, 다양한 재료와 소스를 이용하여 무궁무진한 변형이 가능합니다.\n"
     ]
    }
   ],
   "source": [
    "# 체인 실행\n",
    "response = restaurant_menu_chain.invoke(\"파스타 메뉴가 있나요? 이 음식의 역사 또는 유래를 알려주세요.\")\n",
    "\n",
    "# 응답 출력 \n",
    "print(response.content)"
   ]
  },
  {
   "cell_type": "code",
   "execution_count": 50,
   "id": "c80f4e6b",
   "metadata": {},
   "outputs": [
    {
     "name": "stdout",
     "output_type": "stream",
     "text": [
      "{'name': 'search_menu', 'args': {'query': '스테이크'}, 'id': 'call_pTcWuNgTOBMVDo3tiHTMyKRE', 'type': 'tool_call'}\n",
      "{'name': 'search_wine', 'args': {'query': '스테이크에 어울리는 와인'}, 'id': 'call_2k838AotF5YfAA5RXZFim3cY', 'type': 'tool_call'}\n"
     ]
    }
   ],
   "source": [
    "from langchain_core.messages import AIMessage, HumanMessage, ToolMessage\n",
    "from langchain_core.prompts import ChatPromptTemplate\n",
    "\n",
    "examples = [\n",
    "    HumanMessage(\"트러플 리조또의 가격과 특징, 그리고 어울리는 와인에 대해 알려주세요.\", name=\"example_user\"),\n",
    "    AIMessage(\"메뉴 정보를 검색하고, 위키피디아에서 추가 정보를 찾은 후, 어울리는 와인을 검색해보겠습니다.\", name=\"example_assistant\"),\n",
    "    AIMessage(\"\", name=\"example_assistant\", tool_calls=[{\"name\": \"search_menu\", \"args\": {\"query\": \"트러플 리조또\"}, \"id\": \"1\"}]),\n",
    "    ToolMessage(\"트러플 리조또: 가격 ₩28,000, 이탈리아 카나롤리 쌀 사용, 블랙 트러플 향과 파르메산 치즈를 듬뿍 넣어 조리\", tool_call_id=\"1\"),\n",
    "    AIMessage(\"트러플 리조또의 가격은 ₩28,000이며, 이탈리아 카나롤리 쌀을 사용하고 블랙 트러플 향과 파르메산 치즈를 듬뿍 넣어 조리합니다. 이제 추가 정보를 위키피디아에서 찾아보겠습니다.\", name=\"example_assistant\"),\n",
    "    AIMessage(\"\", name=\"example_assistant\", tool_calls=[{\"name\": \"wiki_summary\", \"args\": {\"query\": \"트러플 리조또\", \"k\": 1}, \"id\": \"2\"}]),\n",
    "    ToolMessage(\"트러플 리조또는 이탈리아 요리의 대표적인 리조또 요리 중 하나로, 고급 식재료인 트러플을 사용하여 만든 크리미한 쌀 요리입니다. 주로 아르보리오나 카나롤리 등의 쌀을 사용하며, 트러플 오일이나 생 트러플을 넣어 조리합니다. 리조또 특유의 크리미한 질감과 트러플의 강렬하고 독특한 향이 조화를 이루는 것이 특징입니다.\", tool_call_id=\"2\"),\n",
    "    AIMessage(\"트러플 리조또의 특징에 대해 알아보았습니다. 이제 어울리는 와인을 검색해보겠습니다.\", name=\"example_assistant\"),\n",
    "    AIMessage(\"\", name=\"example_assistant\", tool_calls=[{\"name\": \"search_wine\", \"args\": {\"query\": \"트러플 리조또에 어울리는 와인\"}, \"id\": \"3\"}]),\n",
    "    ToolMessage(\"트러플 리조또와 잘 어울리는 와인으로는 주로 중간 바디의 화이트 와인이 추천됩니다. 1. 샤르도네: 버터와 오크향이 트러플의 풍미를 보완합니다. 2. 피노 그리지오: 산뜻한 산미가 리조또의 크리미함과 균형을 이룹니다. 3. 베르나차: 이탈리아 토스카나 지방의 화이트 와인으로, 미네랄리티가 트러플과 잘 어울립니다.\", tool_call_id=\"3\"),\n",
    "    AIMessage(\"트러플 리조또(₩28,000)는 이탈리아의 대표적인 리조또 요리 중 하나로, 이탈리아 카나롤리 쌀을 사용하고 블랙 트러플 향과 파르메산 치즈를 듬뿍 넣어 조리합니다. 주요 특징으로는 크리미한 질감과 트러플의 강렬하고 독특한 향이 조화를 이루는 점입니다. 고급 식재료인 트러플을 사용해 풍부한 맛과 향을 내며, 주로 아르보리오나 카나롤리 등의 쌀을 사용합니다. 트러플 리조또와 잘 어울리는 와인으로는 중간 바디의 화이트 와인이 추천됩니다. 특히 버터와 오크향이 트러플의 풍미를 보완하는 샤르도네, 산뜻한 산미로 리조또의 크리미함과 균형을 이루는 피노 그리지오, 그리고 미네랄리티가 트러플과 잘 어울리는 이탈리아 토스카나 지방의 베르나차 등이 좋은 선택이 될 수 있습니다.\", name=\"example_assistant\"),\n",
    "]\n",
    "\n",
    "system = \"\"\"You are an AI assistant providing restaurant menu information and general food-related knowledge.\n",
    "For information about the restaurant's menu, use the search_menu tool.\n",
    "For other general information, use the wiki_summary tool.\n",
    "For wine recommendations or pairing information, use the search_wine tool.\n",
    "If additional web searches are needed or for the most up-to-date information, use the search_web tool.\n",
    "\"\"\"\n",
    "\n",
    "few_shot_prompt = ChatPromptTemplate.from_messages([\n",
    "    (\"system\", system),\n",
    "    *examples,\n",
    "    (\"human\", \"{query}\"),\n",
    "])\n",
    "\n",
    "# ChatOpenAI 모델 초기화\n",
    "llm = ChatOpenAI(model=\"gpt-4o-mini\")\n",
    "\n",
    "# 검색 도구를 직접 LLM에 바인딩 가능\n",
    "llm_with_tools = llm.bind_tools(tools=tools)\n",
    "\n",
    "# Few-shot 프롬프트를 사용한 체인 구성\n",
    "fewshot_search_chain = few_shot_prompt | llm_with_tools\n",
    "\n",
    "# 체인 실행\n",
    "query = \"스테이크 메뉴가 있나요? 스테이크와 어울리는 와인을 추천해주세요.\"\n",
    "response = fewshot_search_chain.invoke(query)\n",
    "\n",
    "# 결과 출력\n",
    "for tool_call in response.tool_calls:\n",
    "    print(tool_call)"
   ]
  },
  {
   "cell_type": "code",
   "execution_count": 57,
   "id": "92b6f9a7",
   "metadata": {},
   "outputs": [
    {
     "name": "stdout",
     "output_type": "stream",
     "text": [
      "{'name': 'search_web', 'args': {'query': '파스타의 유래'}, 'id': 'call_nWpP3bt89aju7BUcaubdYRlX', 'type': 'tool_call'}\n",
      "{'name': 'search_menu', 'args': {'query': '서울 강남 파스타 맛집'}, 'id': 'call_RTihHZpg4VCqgmAahM88jMs8', 'type': 'tool_call'}\n"
     ]
    }
   ],
   "source": [
    "# 체인 실행\n",
    "query = \"파스타의 유래에 대해서 알고 있나요? 서울 강남의 파스타 맛집을 추천해주세요.\"\n",
    "response = fewshot_search_chain.invoke(query)\n",
    "\n",
    "# 결과 출력\n",
    "for tool_call in response.tool_calls:\n",
    "    print(tool_call)"
   ]
  },
  {
   "cell_type": "code",
   "execution_count": null,
   "id": "601c96df",
   "metadata": {},
   "outputs": [],
   "source": [
    "from langchain_core.prompts import ChatPromptTemplate, MessagesPlaceholder\n",
    "\n",
    "agent_prompt = ChatPromptTemplate.from_messages([\n",
    "    (\"system\", dedent(\"\"\"\n",
    "        You are an AI assistant providing restaurant menu information and general food-related knowledge. \n",
    "        Your main goal is to provide accurate information and effective recommendations to users.\n",
    "\n",
    "        Key guidelines:\n",
    "        1. For restaurant menu information, use the search_menu tool. This tool provides details on menu items, including prices, ingredients, and cooking methods.\n",
    "        2. For general food information, history, and cultural background, utilize the wiki_summary tool.\n",
    "        3. For wine recommendations or food and wine pairing information, use the search_wine tool.\n",
    "        4. If additional web searches are needed or for the most up-to-date information, use the search_web tool.\n",
    "        5. Provide clear and concise responses based on the search results.\n",
    "        6. If a question is ambiguous or lacks necessary information, politely ask for clarification.\n",
    "        7. Always maintain a helpful and professional tone.\n",
    "        8. When providing menu information, describe in the order of price, main ingredients, and distinctive cooking methods.\n",
    "        9. When making recommendations, briefly explain the reasons.\n",
    "        10. Maintain a conversational, chatbot-like style in your final responses. Be friendly, engaging, and natural in your communication.\n",
    "\n",
    "\n",
    "        Remember, understand the purpose of each tool accurately and use them in appropriate situations. \n",
    "        Combine the tools to provide the most comprehensive and accurate answers to user queries. \n",
    "        Always strive to provide the most current and accurate information.\n",
    "        \"\"\")),\n",
    "    MessagesPlaceholder(variable_name=\"chat_history\", optional=True),\n",
    "    (\"human\", \"{input}\"),\n",
    "    MessagesPlaceholder(variable_name=\"agent_scratchpad\"),      #순회 계속해서 툴 호출 더 할지 최종결정할지 \n",
    "])"
   ]
  },
  {
   "cell_type": "code",
   "execution_count": 62,
   "id": "d27b4116",
   "metadata": {},
   "outputs": [],
   "source": [
    "from langchain.agents import AgentExecutor, create_tool_calling_agent\n",
    "\n",
    "tools = [search_web, search_menu, search_wine]\n",
    "agent = create_tool_calling_agent(llm, tools, agent_prompt)\n",
    "\n",
    "agent_executor = AgentExecutor(agent=agent, tools=tools, verbose=True)"
   ]
  },
  {
   "cell_type": "code",
   "execution_count": 64,
   "id": "572b3b99",
   "metadata": {},
   "outputs": [
    {
     "name": "stdout",
     "output_type": "stream",
     "text": [
      "\n",
      "\n",
      "\u001b[1m> Entering new AgentExecutor chain...\u001b[0m\n",
      "\u001b[32;1m\u001b[1;3m\n",
      "Invoking: `search_menu` with `{'query': '시그니처 스테이크'}`\n",
      "\n",
      "\n",
      "\u001b[0m\u001b[33;1m\u001b[1;3m[Document(metadata={'menu_name': '시그니처 스테이크', 'menu_number': 1, 'source': './data/restaurant_menu.txt'}, page_content='1. 시그니처 스테이크\\n   • 가격: ₩35,000\\n   • 주요 식재료: 최상급 한우 등심, 로즈메리 감자, 그릴드 아스파라거스\\n   • 설명: 셰프의 특제 시그니처 메뉴로, 21일간 건조 숙성한 최상급 한우 등심을 사용합니다. 미디엄 레어로 조리하여 육즙을 최대한 보존하며, 로즈메리 향의 감자와 아삭한 그릴드 아스파라거스가 곁들여집니다. 레드와인 소스와 함께 제공되어 풍부한 맛을 더합니다.'), Document(metadata={'menu_name': '안심 스테이크 샐러드', 'menu_number': 8, 'source': './data/restaurant_menu.txt'}, page_content='8. 안심 스테이크 샐러드\\n   • 가격: ₩26,000\\n   • 주요 식재료: 소고기 안심, 루꼴라, 체리 토마토, 발사믹 글레이즈\\n   • 설명: 부드러운 안심 스테이크를 얇게 슬라이스하여 신선한 루꼴라 위에 올린 메인 요리 샐러드입니다. 체리 토마토와 파마산 치즈 플레이크로 풍미를 더하고, 발사믹 글레이즈로 마무리하여 고기의 풍미를 한층 끌어올렸습니다.')]\u001b[0m\u001b[32;1m\u001b[1;3m\n",
      "Invoking: `search_wine` with `{'query': '스테이크'}`\n",
      "\n",
      "\n",
      "\u001b[0m\u001b[38;5;200m\u001b[1;3m[Document(metadata={'menu_name': '샤토 디켐 2015', 'menu_number': 9, 'source': './data/restaurant_wine.txt'}, page_content='9. 샤토 디켐 2015\\n   • 가격: ₩800,000 (375ml)\\n   • 주요 품종: 세미용, 소비뇽 블랑\\n   • 설명: 보르도 소테른 지역의 legendary 디저트 와인입니다. 아프리콧, 복숭아, 파인애플의 농축된 과실향과 함께 꿀, 사프란, 바닐라의 복잡한 향이 어우러집니다. 놀라운 농축도와 균형 잡힌 산도, 긴 여운이 특징이며, 100년 이상 숙성 가능한 와인으로 알려져 있습니다.'), Document(metadata={'menu_name': '푸이 퓌세 2019', 'menu_number': 5, 'source': './data/restaurant_wine.txt'}, page_content='5. 푸이 퓌세 2019\\n   • 가격: ₩95,000\\n   • 주요 품종: 소비뇽 블랑\\n   • 설명: 프랑스 루아르 지역의 대표적인 화이트 와인입니다. 구스베리, 레몬, 라임의 상큼한 과실향과 함께 미네랄, 허브 노트가 특징적입니다. 날카로운 산도와 깔끔한 피니시가 인상적이며, 신선한 굴이나 해산물 요리와 탁월한 페어링을 이룹니다.')]\u001b[0m\u001b[32;1m\u001b[1;3m### 시그니처 스테이크 정보\n",
      "- **가격**: ₩35,000\n",
      "- **주요 재료**: 소고기, 로즈마리, 적양파\n",
      "- **특징**: 이 스테이크는 정통 시그니처 요리로, 21일 간 숙성된 소고기를 사용하여 부드럽고 풍부한 맛을 자랑합니다. 적양파와 로즈마리로 조리하여 향미가 더해지며, 고기가 육즙이 풍부하게 유지됩니다.\n",
      "\n",
      "### 스테이크와 어울리는 와인 추천\n",
      "1. **엘리트 피트 2015**\n",
      "   - **가격**: ₩800,000 (375ml)\n",
      "   - **특징**: 이 와인은 뛰어난 품질의 레드 와인으로, 스테이크의 풍부한 맛과 잘 어울립니다. 과일 향과 함께 미세한 탄닌이 조화를 이루어, 고기와 함께 먹을 때 더욱 맛있습니다.\n",
      "\n",
      "2. **데이비드 빈 2019**\n",
      "   - **가격**: ₩95,000\n",
      "   - **특징**: 이 와인은 미디엄 바디의 레드 와인으로, 스테이크와 궁합이 좋습니다. 부드러운 과일향과 함께 뒷맛이 깔끔하여 고기의 기름진 맛을 중화시켜줍니다.\n",
      "\n",
      "스테이크와 함께 이 와인들을 곁들이면, 훌륭한 식사 경험을 누릴 수 있을 것입니다! 🍷🥩\u001b[0m\n",
      "\n",
      "\u001b[1m> Finished chain.\u001b[0m\n"
     ]
    }
   ],
   "source": [
    "query = \"시그니처 스테이크의 가격과 특징은 무엇인가요? 그리고 스테이크와 어울리는 와인도 추천해주세요.\"\n",
    "\n",
    "agent_response = agent_executor.invoke({\"input\": query})"
   ]
  },
  {
   "cell_type": "code",
   "execution_count": 65,
   "id": "7e958dcc",
   "metadata": {},
   "outputs": [
    {
     "name": "stdout",
     "output_type": "stream",
     "text": [
      "{'input': '시그니처 스테이크의 가격과 특징은 무엇인가요? 그리고 스테이크와 어울리는 와인도 추천해주세요.',\n",
      " 'output': '### 시그니처 스테이크 정보\\n'\n",
      "           '- **가격**: ₩35,000\\n'\n",
      "           '- **주요 재료**: 소고기, 로즈마리, 적양파\\n'\n",
      "           '- **특징**: 이 스테이크는 정통 시그니처 요리로, 21일 간 숙성된 소고기를 사용하여 부드럽고 풍부한 맛을 '\n",
      "           '자랑합니다. 적양파와 로즈마리로 조리하여 향미가 더해지며, 고기가 육즙이 풍부하게 유지됩니다.\\n'\n",
      "           '\\n'\n",
      "           '### 스테이크와 어울리는 와인 추천\\n'\n",
      "           '1. **엘리트 피트 2015**\\n'\n",
      "           '   - **가격**: ₩800,000 (375ml)\\n'\n",
      "           '   - **특징**: 이 와인은 뛰어난 품질의 레드 와인으로, 스테이크의 풍부한 맛과 잘 어울립니다. 과일 향과 함께 '\n",
      "           '미세한 탄닌이 조화를 이루어, 고기와 함께 먹을 때 더욱 맛있습니다.\\n'\n",
      "           '\\n'\n",
      "           '2. **데이비드 빈 2019**\\n'\n",
      "           '   - **가격**: ₩95,000\\n'\n",
      "           '   - **특징**: 이 와인은 미디엄 바디의 레드 와인으로, 스테이크와 궁합이 좋습니다. 부드러운 과일향과 함께 '\n",
      "           '뒷맛이 깔끔하여 고기의 기름진 맛을 중화시켜줍니다.\\n'\n",
      "           '\\n'\n",
      "           '스테이크와 함께 이 와인들을 곁들이면, 훌륭한 식사 경험을 누릴 수 있을 것입니다! 🍷🥩'}\n"
     ]
    }
   ],
   "source": [
    "pprint(agent_response)"
   ]
  },
  {
   "cell_type": "code",
   "execution_count": null,
   "id": "abdc495f",
   "metadata": {},
   "outputs": [
    {
     "name": "stdout",
     "output_type": "stream",
     "text": [
      "Running on local URL:  http://127.0.0.1:7861\n",
      "\n",
      "To create a public link, set `share=True` in `launch()`.\n"
     ]
    },
    {
     "data": {
      "text/html": [
       "<div><iframe src=\"http://127.0.0.1:7861/\" width=\"100%\" height=\"500\" allow=\"autoplay; camera; microphone; clipboard-read; clipboard-write;\" frameborder=\"0\" allowfullscreen></iframe></div>"
      ],
      "text/plain": [
       "<IPython.core.display.HTML object>"
      ]
     },
     "metadata": {},
     "output_type": "display_data"
    },
    {
     "data": {
      "text/plain": []
     },
     "execution_count": 69,
     "metadata": {},
     "output_type": "execute_result"
    },
    {
     "name": "stdout",
     "output_type": "stream",
     "text": [
      "\n",
      "\n",
      "\u001b[1m> Entering new AgentExecutor chain...\u001b[0m\n",
      "\u001b[32;1m\u001b[1;3m\n",
      "Invoking: `search_menu` with `{'query': '시그니처 스테이크'}`\n",
      "\n",
      "\n",
      "\u001b[0m\u001b[33;1m\u001b[1;3m[Document(metadata={'menu_name': '시그니처 스테이크', 'menu_number': 1, 'source': './data/restaurant_menu.txt'}, page_content='1. 시그니처 스테이크\\n   • 가격: ₩35,000\\n   • 주요 식재료: 최상급 한우 등심, 로즈메리 감자, 그릴드 아스파라거스\\n   • 설명: 셰프의 특제 시그니처 메뉴로, 21일간 건조 숙성한 최상급 한우 등심을 사용합니다. 미디엄 레어로 조리하여 육즙을 최대한 보존하며, 로즈메리 향의 감자와 아삭한 그릴드 아스파라거스가 곁들여집니다. 레드와인 소스와 함께 제공되어 풍부한 맛을 더합니다.'), Document(metadata={'menu_name': '안심 스테이크 샐러드', 'menu_number': 8, 'source': './data/restaurant_menu.txt'}, page_content='8. 안심 스테이크 샐러드\\n   • 가격: ₩26,000\\n   • 주요 식재료: 소고기 안심, 루꼴라, 체리 토마토, 발사믹 글레이즈\\n   • 설명: 부드러운 안심 스테이크를 얇게 슬라이스하여 신선한 루꼴라 위에 올린 메인 요리 샐러드입니다. 체리 토마토와 파마산 치즈 플레이크로 풍미를 더하고, 발사믹 글레이즈로 마무리하여 고기의 풍미를 한층 끌어올렸습니다.')]\u001b[0m\u001b[32;1m\u001b[1;3m시그니처 스테이크에 대한 정보는 다음과 같습니다:\n",
      "\n",
      "- **가격**: ₩35,000\n",
      "- **주요 식재료**: 최상급 한우 등심, 로즈메리 감자, 그릴드 아스파라거스\n",
      "- **특징**: 이 스테이크는 셰프의 특제 시그니처 메뉴로, 21일간 건조 숙성한 최상급 한우 등심을 사용합니다. 미디엄 레어로 조리하여 육즙을 최대한 보존하며, 로즈메리 향의 감자와 아삭한 그릴드 아스파라거스가 곁들여집니다. 레드와인 소스와 함께 제공되어 풍부한 맛을 더합니다.\n",
      "\n",
      "이 스테이크는 고기 본연의 맛을 잘 살리며, 다양한 사이드와 함께 즐길 수 있어 특별한 날에 적합합니다.\u001b[0m\n",
      "\n",
      "\u001b[1m> Finished chain.\u001b[0m\n",
      "\n",
      "\n",
      "\u001b[1m> Entering new AgentExecutor chain...\u001b[0m\n",
      "\u001b[32;1m\u001b[1;3m\n",
      "Invoking: `search_menu` with `{'query': '해산물 파스타'}`\n",
      "\n",
      "\n",
      "\u001b[0m\u001b[33;1m\u001b[1;3m[Document(metadata={'menu_name': '해산물 파스타', 'menu_number': 6, 'source': './data/restaurant_menu.txt'}, page_content='6. 해산물 파스타\\n   • 가격: ₩24,000\\n   • 주요 식재료: 링귀네 파스타, 새우, 홍합, 오징어, 토마토 소스\\n   • 설명: 알 덴테로 삶은 링귀네 파스타에 신선한 해산물을 듬뿍 올린 메뉴입니다. 토마토 소스의 산미와 해산물의 감칠맛이 조화를 이루며, 마늘과 올리브 오일로 풍미를 더했습니다. 파슬리를 뿌려 향긋한 맛을 더합니다.'), Document(metadata={'menu_name': '버섯 크림 수프', 'menu_number': 4, 'source': './data/restaurant_menu.txt'}, page_content='4. 버섯 크림 수프\\n   • 가격: ₩10,000\\n   • 주요 식재료: 양송이버섯, 표고버섯, 생크림, 트러플 오일\\n   • 설명: 양송이버섯과 표고버섯을 오랜 시간 정성스레 끓여 만든 크림 수프입니다. 부드러운 텍스처와 깊은 버섯 향이 특징이며, 최상급 트러플 오일을 살짝 뿌려 고급스러운 향을 더했습니다. 파슬리를 곱게 다져 고명으로 올려 제공됩니다.')]\u001b[0m\u001b[32;1m\u001b[1;3m\n",
      "Invoking: `search_web` with `{'query': '서울 강남 해산물 파스타 레스토랑 추천'}`\n",
      "\n",
      "\n",
      "\u001b[0m\u001b[36;1m\u001b[1;3m<Document href='https://blog.naver.com/PostView.nhn?blogId=skeke77&logNo=223688460287&redirect=Dlog&widgetTypeCall=true'>\n",
      "[![Image 47](https://postfiles.pstatic.net/MjAyNDEyMTBfMTEw/MDAxNzMzNzk5MDYwNzg3.pKhXByNus5-NprkukoMtkIofEqfL0Wij3Qw3X08yxaAg.TOGkmYsAocY0KSSxAKbVUf2JStpIx8RFa0aVe2Rd07Eg.JPEG/SE-c86dc5a5-878b-4cb7-8b08-3b7b36943613.jpg?type=w80_blur)](https://blog.naver.com/PostView.nhn?blogId=skeke77&logNo=223688460287&redirect=Dlog&widgetTypeCall=true#)\n",
      "\n",
      "다음에도 강남역에 올 일이 있다면 꼭 다시 방문하고 싶은 곳이네요. 특히 합리적인 가격에 서비스까지 더해져 가성비도 훌륭했답니다. 강남역에서 맛있는 파스타를 찾고 있다면 이곳을 꼭 추천드리고 싶어요.\n",
      "</Document>\n",
      "--\n",
      "<Document href='https://www.siksinhot.com/search?keywords=%EA%B0%95%EB%82%A8+%ED%95%B4%EB%AC%BC%ED%8C%8C%EC%8A%A4%ED%83%80'>\n",
      "*   [새벽집](https://www.siksinhot.com/search?keywords=%EC%83%88%EB%B2%BD%EC%A7%91)\n",
      "*   [강남교자](https://www.siksinhot.com/search?keywords=%EA%B0%95%EB%82%A8%EA%B5%90%EC%9E%90)\n",
      "*   [쉐이크쉑](https://www.siksinhot.com/search?keywords=%EC%89%90%EC%9D%B4%ED%81%AC%EC%89%91)\n",
      "*   [딘타이펑](https://www.siksinhot.com/search?keywords=%EB%94%98%ED%83%80%EC%9D%B4%ED%8E%91)\n",
      "*   [밍글스](https://www.siksinhot.com/search?keywords=%EB%B0%8D%EA%B8%80%EC%8A%A4) [...] *   [미즈컨테이너 강남 웨스트](https://www.siksinhot.com/search?keywords=%EB%AF%B8%EC%A6%88%EC%BB%A8%ED%85%8C%EC%9D%B4%EB%84%88%20%EA%B0%95%EB%82%A8%20%EC%9B%A8%EC%8A%A4%ED%8A%B8)\n",
      "*   [윤씨밀방](https://www.siksinhot.com/search?keywords=%EC%9C%A4%EC%94%A8%EB%B0%80%EB%B0%A9)\n",
      "*   [진미식당](https://www.siksinhot.com/search?keywords=%EC%A7%84%EB%AF%B8%EC%8B%9D%EB%8B%B9)\n",
      "*   [봉피양제주](https://www.siksinhot.com/search?keywords=%EB%B4%89%ED%94%BC%EC%96%91%EC%A0%9C%EC%A3%BC) [...] *   [![Image 10: 우디파스타 , 서울특별시 강동구 양재대로143길 16 아성플러스](https://img.siksinhot.com/place/1727402263629415.jpg?w=560&h=448&c=X)](https://www.siksinhot.com/P/1700341)\n",
      "</Document>\u001b[0m\u001b[32;1m\u001b[1;3m해산물 파스타의 주요 재료는 다음과 같습니다:\n",
      "\n",
      "- **가격**: ₩24,000\n",
      "- **주요 식재료**: 링귀니 파스타, 새우, 조개, 오징어, 토마토 소스\n",
      "- **특징**: 신선한 해산물과 함께 조리한 링귀니 파스타로, 해산물의 풍미가 가득한 토마토 소스에 버무려져 있습니다. 이 요리는 해산물의 다양한 식감을 즐길 수 있으며, 건강한 식사를 원하는 분들에게 적합합니다.\n",
      "\n",
      "서울 강남 지역에서 해산물 파스타를 맛볼 수 있는 추천 레스토랑은 다음과 같습니다:\n",
      "\n",
      "1. **새벽집**: 신선한 해산물을 사용한 다양한 파스타 요리를 제공합니다.\n",
      "2. **강남교자**: 해산물 파스타와 함께 다양한 면 요리를 즐길 수 있는 곳입니다.\n",
      "3. **트라토리아 이탈리아**: 이탈리안 레스토랑으로, 해산물 파스타 메뉴가 인기입니다.\n",
      "   \n",
      "이 레스토랑들은 해산물 파스타를 전문적으로 제공하며, 각기 다른 분위기와 맛을 자랑합니다. 방문해 보시면 좋을 것 같습니다!\u001b[0m\n",
      "\n",
      "\u001b[1m> Finished chain.\u001b[0m\n",
      "\n",
      "\n",
      "\u001b[1m> Entering new AgentExecutor chain...\u001b[0m\n",
      "\u001b[32;1m\u001b[1;3m\n",
      "Invoking: `search_menu` with `{'query': '채식주의자 메뉴'}`\n",
      "\n",
      "\n",
      "\u001b[0m\u001b[33;1m\u001b[1;3m[Document(metadata={'menu_name': '치킨 콘피', 'menu_number': 9, 'source': './data/restaurant_menu.txt'}, page_content='9. 치킨 콘피\\n   • 가격: ₩23,000\\n   • 주요 식재료: 닭다리살, 허브, 마늘, 올리브 오일\\n   • 설명: 닭다리살을 허브와 마늘을 넣은 올리브 오일에 저온에서 장시간 조리한 프랑스 요리입니다. 부드럽고 촉촉한 육질이 특징이며, 로즈메리 감자와 제철 채소를 곁들여 제공합니다. 레몬 제스트를 뿌려 상큼한 향을 더했습니다.'), Document(metadata={'menu_name': '연어 타르타르', 'menu_number': 3, 'source': './data/restaurant_menu.txt'}, page_content='3. 연어 타르타르\\n   • 가격: ₩18,000\\n   • 주요 식재료: 노르웨이산 생연어, 아보카도, 케이퍼, 적양파\\n   • 설명: 신선한 노르웨이산 생연어를 곱게 다져 아보카도, 케이퍼, 적양파와 함께 섞어 만든 타르타르입니다. 레몬 드레싱으로 상큼한 맛을 더했으며, 바삭한 브리오쉬 토스트와 함께 제공됩니다. 전채요리로 완벽한 메뉴입니다.')]\u001b[0m\u001b[32;1m\u001b[1;3m채식주의자를 위한 메뉴 옵션은 다음과 같습니다:\n",
      "\n",
      "1. **채식 파스타** (가상의 메뉴)\n",
      "   - **가격**: ₩20,000\n",
      "   - **주요 식재료**: 다양한 채소 (브로콜리, 시금치, 방울토마토), 올리브 오일, 마늘, 파르메산 치즈\n",
      "   - **설명**: 신선한 채소와 함께 버무린 파스타로, 올리브 오일과 마늘로 풍미를 더했습니다. 가벼운 식사를 원하는 분들에게 적합합니다.\n",
      "\n",
      "2. **채소 리소토** (가상의 메뉴)\n",
      "   - **가격**: ₩22,000\n",
      "   - **주요 식재료**: 아르보리오 쌀, 가지, 호박, 양파, 파마산 치즈\n",
      "   - **설명**: 크리미한 리소토에 제철 채소를 넣어 조리한 메뉴로, 건강하고 맛있는 한 끼로 즐길 수 있습니다.\n",
      "\n",
      "이 외에도 많은 레스토랑에서 채식 메뉴를 제공하고 있으니, 방문 전 전화 문의를 통해 확인하는 것이 좋습니다. 특별한 원하시는 메뉴가 있으신가요?\u001b[0m\n",
      "\n",
      "\u001b[1m> Finished chain.\u001b[0m\n",
      "\n",
      "\n",
      "\u001b[1m> Entering new AgentExecutor chain...\u001b[0m\n",
      "\u001b[32;1m\u001b[1;3m\n",
      "Invoking: `search_wine` with `{'query': 'truffle risotto wine pairing'}`\n",
      "\n",
      "\n",
      "\u001b[0m\u001b[38;5;200m\u001b[1;3m[Document(metadata={'menu_name': '풀리니 몽라쉐 1er Cru 2018', 'menu_number': 7, 'source': './data/restaurant_wine.txt'}, page_content='7. 풀리니 몽라쉐 1er Cru 2018\\n   • 가격: ₩320,000\\n   • 주요 품종: 샤르도네\\n   • 설명: 부르고뉴 최고의 화이트 와인 중 하나로 꼽힙니다. 레몬, 사과, 배의 과실향과 함께 헤이즐넛, 버터, 바닐라의 풍부한 향이 어우러집니다. 미네랄리티가 돋보이며, 크리미한 텍스처와 긴 여운이 특징입니다. 해산물, 닭고기, 크림 소스 파스타와 좋은 페어링을 이룹니다.'), Document(metadata={'menu_name': '샤토 디켐 2015', 'menu_number': 9, 'source': './data/restaurant_wine.txt'}, page_content='9. 샤토 디켐 2015\\n   • 가격: ₩800,000 (375ml)\\n   • 주요 품종: 세미용, 소비뇽 블랑\\n   • 설명: 보르도 소테른 지역의 legendary 디저트 와인입니다. 아프리콧, 복숭아, 파인애플의 농축된 과실향과 함께 꿀, 사프란, 바닐라의 복잡한 향이 어우러집니다. 놀라운 농축도와 균형 잡힌 산도, 긴 여운이 특징이며, 100년 이상 숙성 가능한 와인으로 알려져 있습니다.')]\u001b[0m\u001b[32;1m\u001b[1;3m트러플 리조또와 잘 어울리는 와인으로는 **풀리니 몽라쉐 1er Cru 2018**를 추천드립니다.\n",
      "\n",
      "- **가격**: ₩320,000\n",
      "- **주요 품종**: 샤르도네\n",
      "- **설명**: 부르고뉴 최고의 화이트 와인 중 하나로, 레몬, 사과, 배의 과실향과 함께 헤이즐넛, 버터, 바닐라의 풍부한 향이 어우러집니다. 미네랄리티가 돋보이며, 크리미한 텍스처와 긴 여운이 특징입니다. 크림 소스의 리조또와 잘 어울려, 트러플의 향과 조화를 이룹니다.\n",
      "\n",
      "이 와인은 트러플 리조또의 풍부한 맛을 더욱 돋보이게 해줄 것입니다. 즐거운 식사 되세요!\u001b[0m\n",
      "\n",
      "\u001b[1m> Finished chain.\u001b[0m\n",
      "\n",
      "\n",
      "\u001b[1m> Entering new AgentExecutor chain...\u001b[0m\n",
      "\u001b[32;1m\u001b[1;3m\n",
      "Invoking: `search_wine` with `{'query': '시그니처 스테이크 와인 추천'}`\n",
      "\n",
      "\n",
      "\u001b[0m\u001b[38;5;200m\u001b[1;3m[Document(metadata={'menu_name': '사시카이아 2018', 'menu_number': 3, 'source': './data/restaurant_wine.txt'}, page_content='3. 사시카이아 2018\\n   • 가격: ₩420,000\\n   • 주요 품종: 카베르네 소비뇽, 카베르네 프랑, 메를로\\n   • 설명: 이탈리아 토스카나의 슈퍼 투스칸 와인입니다. 블랙베리, 카시스의 강렬한 과실향과 함께 허브, 가죽, 스파이스 노트가 복잡성을 더합니다. 풀바디이지만 우아한 타닌과 신선한 산도가 균형을 잡아줍니다. 오크 숙성으로 인한 바닐라, 초콜릿 향이 은은하게 느껴집니다.'), Document(metadata={'menu_name': '오퍼스 원 2017', 'menu_number': 8, 'source': './data/restaurant_wine.txt'}, page_content='8. 오퍼스 원 2017\\n   • 가격: ₩650,000\\n   • 주요 품종: 카베르네 소비뇽, 카베르네 프랑, 메를로, 쁘띠 베르도\\n   • 설명: 캘리포니아 나파 밸리의 아이콘 와인입니다. 블랙베리, 카시스, 자두의 농축된 과실향과 함께 초콜릿, 에스프레소, 바닐라의 복잡한 향이 어우러집니다. 풀바디이면서도 우아한 구조를 가지며, 실키한 타닌과 긴 여운이 인상적입니다. 20-30년 이상의 숙성 잠재력을 가집니다.')]\u001b[0m\u001b[32;1m\u001b[1;3m시그니처 스테이크와 잘 어울리는 와인은 다음과 같습니다:\n",
      "\n",
      "1. **사시카이아 2018**\n",
      "   - **가격**: ₩420,000\n",
      "   - **주요 품종**: 카베르네 소비뇽, 카베르네 프랑, 메를로\n",
      "   - **설명**: 이탈리아 토스카나의 슈퍼 투스칸 와인으로, 블랙베리와 카시스의 강렬한 과실향이 특징입니다. 허브, 가죽, 스파이스 노트가 복합적으로 어우러져 있으며, 풀바디이지만 우아한 타닌과 신선한 산도가 균형을 이루고 있습니다. 오크 숙성으로 인해 바닐라와 초콜릿 향이 은은하게 느껴져, 스테이크의 풍미와 잘 어울립니다.\n",
      "\n",
      "2. **오퍼스 원 2017**\n",
      "   - **가격**: ₩650,000\n",
      "   - **주요 품종**: 카베르네 소비뇽, 카베르네 프랑, 메를로, 쁘띠 베르도\n",
      "   - **설명**: 캘리포니아 나파 밸리의 아이콘 와인으로, 블랙베리, 카시스, 자두의 농축된 과실향이 매력적입니다. 초콜릿, 에스프레소, 바닐라의 복잡한 향이 어우러지며, 풀바디이면서도 우아한 구조를 가지고 있습니다. 실키한 타닌과 긴 여운이 인상적이며, 스테이크와 함께 즐기기에 훌륭한 선택입니다.\n",
      "\n",
      "이 두 와인은 시그니처 스테이크의 맛을 더욱 깊게 해줄 것입니다. 즐거운 식사 되세요!\u001b[0m\n",
      "\n",
      "\u001b[1m> Finished chain.\u001b[0m\n",
      "\n",
      "\n",
      "\u001b[1m> Entering new AgentExecutor chain...\u001b[0m\n",
      "\u001b[32;1m\u001b[1;3m\n",
      "Invoking: `search_menu` with `{'query': '시그니처 스테이크'}`\n",
      "\n",
      "\n",
      "\u001b[0m\u001b[33;1m\u001b[1;3m[Document(metadata={'menu_name': '시그니처 스테이크', 'menu_number': 1, 'source': './data/restaurant_menu.txt'}, page_content='1. 시그니처 스테이크\\n   • 가격: ₩35,000\\n   • 주요 식재료: 최상급 한우 등심, 로즈메리 감자, 그릴드 아스파라거스\\n   • 설명: 셰프의 특제 시그니처 메뉴로, 21일간 건조 숙성한 최상급 한우 등심을 사용합니다. 미디엄 레어로 조리하여 육즙을 최대한 보존하며, 로즈메리 향의 감자와 아삭한 그릴드 아스파라거스가 곁들여집니다. 레드와인 소스와 함께 제공되어 풍부한 맛을 더합니다.'), Document(metadata={'menu_name': '안심 스테이크 샐러드', 'menu_number': 8, 'source': './data/restaurant_menu.txt'}, page_content='8. 안심 스테이크 샐러드\\n   • 가격: ₩26,000\\n   • 주요 식재료: 소고기 안심, 루꼴라, 체리 토마토, 발사믹 글레이즈\\n   • 설명: 부드러운 안심 스테이크를 얇게 슬라이스하여 신선한 루꼴라 위에 올린 메인 요리 샐러드입니다. 체리 토마토와 파마산 치즈 플레이크로 풍미를 더하고, 발사믹 글레이즈로 마무리하여 고기의 풍미를 한층 끌어올렸습니다.')]\u001b[0m\u001b[32;1m\u001b[1;3m시그니처 스테이크에 대해 추가로 알려드리자면:\n",
      "\n",
      "- **조리 방법**: 이 스테이크는 미디엄 레어로 조리되어 육즙이 풍부하게 남아 있습니다. 21일 동안 건조 숙성한 한우 등심을 사용하여, 고기의 질감과 맛이 더욱 깊어집니다.\n",
      "\n",
      "- **사이드 디쉬**: 함께 제공되는 로즈메리 감자는 고소한 맛과 향을 더해주며, 그릴드 아스파라거스는 아삭한 식감으로 신선함을 더합니다.\n",
      "\n",
      "- **소스**: 레드와인 소스가 곁들여져 있어, 스테이크의 풍미를 한층 더 강조해 주며, 고기와의 조화가 뛰어납니다.\n",
      "\n",
      "이 스테이크는 특별한 날이나 기념일에 즐기기에 적합하며, 고기 애호가들에게 특히 추천할 만한 메뉴입니다. 혹시 더 궁금한 점이나 다른 메뉴에 대해 알고 싶으신 것이 있나요?\u001b[0m\n",
      "\n",
      "\u001b[1m> Finished chain.\u001b[0m\n"
     ]
    }
   ],
   "source": [
    "import gradio as gr\n",
    "from typing import List, Tuple\n",
    "\n",
    "def answer_invoke(message: str, history: List[Tuple[str, str]]) -> str:     #대화(질의) 할때마다 호출되는 함수 \n",
    "    try:\n",
    "        chat_history = []\n",
    "        for human, ai in history:\n",
    "            chat_history.append(HumanMessage(content=human))\n",
    "            chat_history.append(AIMessage(content=ai))\n",
    "            \n",
    "        response = agent_executor.invoke({\n",
    "            \"input\": message,        #이것만 넣어도 대답은 나오지만 맥락이 저장이 안됨. \n",
    "            \"chat_history\": chat_history[-2:],       #agent_prompt안에 있는 chat_history임 # 직전 두개(내질의, ai대답)만 넣겠다\n",
    "            \n",
    "        })\n",
    "    \n",
    "        return response['output']\n",
    "    \n",
    "    except Exception as e:\n",
    "        print(f'Error 발생: {str(e)}')\n",
    "        return \"Sorry\"\n",
    "    \n",
    "\n",
    "example_questions = [\n",
    "    \"시그니처 스테이크의 가격과 특징을 알려주세요.\",\n",
    "    \"트러플 리조또와 잘 어울리는 와인을 추천해주세요.\",\n",
    "    \"해산물 파스타의 주요 재료는 무엇인가요? 서울 강남 지역에 레스토랑을 추천해주세요.\",\n",
    "    \"채식주의자를 위한 메뉴 옵션이 있나요?\"\n",
    "]\n",
    "\n",
    "demo = gr.ChatInterface(\n",
    "    fn=answer_invoke,\n",
    "    title=\"레스토랑 메뉴 AI 어시스턴트\",\n",
    "    description=\"메뉴 정보 추천 등등\",\n",
    "    examples=example_questions,\n",
    "    theme=gr.themes.Soft()\n",
    ")\n",
    "\n",
    "demo.launch()"
   ]
  },
  {
   "cell_type": "code",
   "execution_count": null,
   "id": "b32d3308",
   "metadata": {},
   "outputs": [],
   "source": [
    "demo.close()"
   ]
  }
 ],
 "metadata": {
  "kernelspec": {
   "display_name": "langgraph-env-aipzLsQi-py3.11",
   "language": "python",
   "name": "python3"
  },
  "language_info": {
   "codemirror_mode": {
    "name": "ipython",
    "version": 3
   },
   "file_extension": ".py",
   "mimetype": "text/x-python",
   "name": "python",
   "nbconvert_exporter": "python",
   "pygments_lexer": "ipython3",
   "version": "3.11.9"
  }
 },
 "nbformat": 4,
 "nbformat_minor": 5
}
