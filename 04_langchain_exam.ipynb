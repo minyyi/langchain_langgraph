{
 "cells": [
  {
   "cell_type": "code",
   "execution_count": 52,
   "id": "5344357b",
   "metadata": {},
   "outputs": [
    {
     "data": {
      "text/plain": [
       "True"
      ]
     },
     "execution_count": 52,
     "metadata": {},
     "output_type": "execute_result"
    }
   ],
   "source": [
    "from dotenv import load_dotenv\n",
    "load_dotenv()"
   ]
  },
  {
   "cell_type": "code",
   "execution_count": 53,
   "id": "f134009b",
   "metadata": {},
   "outputs": [],
   "source": [
    "import os\n",
    "from glob import glob\n",
    "\n",
    "from pprint import pprint\n",
    "import json"
   ]
  },
  {
   "cell_type": "code",
   "execution_count": 54,
   "id": "dfa1c559",
   "metadata": {},
   "outputs": [
    {
     "data": {
      "text/plain": [
       "HuggingFaceEmbeddings(client=SentenceTransformer(\n",
       "  (0): Transformer({'max_seq_length': 8192, 'do_lower_case': False}) with Transformer model: XLMRobertaModel \n",
       "  (1): Pooling({'word_embedding_dimension': 1024, 'pooling_mode_cls_token': True, 'pooling_mode_mean_tokens': False, 'pooling_mode_max_tokens': False, 'pooling_mode_mean_sqrt_len_tokens': False, 'pooling_mode_weightedmean_tokens': False, 'pooling_mode_lasttoken': False, 'include_prompt': True})\n",
       "  (2): Normalize()\n",
       "), model_name='BAAI/bge-m3', cache_folder=None, model_kwargs={}, encode_kwargs={}, multi_process=False, show_progress=False)"
      ]
     },
     "execution_count": 54,
     "metadata": {},
     "output_type": "execute_result"
    }
   ],
   "source": [
    "from langchain_huggingface.embeddings import HuggingFaceEmbeddings\n",
    "\n",
    "embeddings_model = HuggingFaceEmbeddings(model_name=\"BAAI/bge-m3\")\n",
    "\n",
    "embeddings_model"
   ]
  },
  {
   "cell_type": "code",
   "execution_count": 55,
   "id": "6649cbfe",
   "metadata": {},
   "outputs": [],
   "source": [
    "from langchain_chroma import Chroma\n",
    "\n",
    "chroma_db = Chroma(\n",
    "    collection_name=\"ai_sample_collection\",     #db에 있는 테이블\n",
    "    persist_directory=\"./chroma_db\",            #로컬 디렉토리에 어떻게 넣을거냐\n",
    "    embedding_function=embeddings_model,\n",
    ")"
   ]
  },
  {
   "cell_type": "code",
   "execution_count": 56,
   "id": "2e9ab609",
   "metadata": {},
   "outputs": [
    {
     "data": {
      "text/plain": [
       "{'ids': ['doc_1', 'doc_2', 'doc_3', 'doc_4', 'doc_5'],\n",
       " 'embeddings': None,\n",
       " 'documents': ['인공지능은 컴퓨터 과학의 한 분야입니다.',\n",
       "  '머신러닝은 인공지능의 한 분야입니다.',\n",
       "  '딥러닝은 머신러닝의 한 종류입니다.',\n",
       "  '자연어 처리는 컴퓨터가 인간의 언어를 이해하고 생성하는 기술입니다.',\n",
       "  '컴퓨터 비전은 컴퓨터가 디지털 이미지나 비디오를 이해하는 방법을 연구합니다.'],\n",
       " 'uris': None,\n",
       " 'data': None,\n",
       " 'metadatas': [{'chapter': 'Chapter 1', 'source': 'AI_Textbook'},\n",
       "  {'chapter': 'Chapter 2', 'source': 'AI_Textbook'},\n",
       "  {'chapter': 'Chapter 3', 'source': 'AI_Textbook'},\n",
       "  {'chapter': 'Chapter 4', 'source': 'AI_Textbook'},\n",
       "  {'chapter': 'Chapter 5', 'source': 'AI_Textbook'}],\n",
       " 'included': [<IncludeEnum.documents: 'documents'>,\n",
       "  <IncludeEnum.metadatas: 'metadatas'>]}"
      ]
     },
     "execution_count": 56,
     "metadata": {},
     "output_type": "execute_result"
    }
   ],
   "source": [
    "chroma_db.get()"
   ]
  },
  {
   "cell_type": "code",
   "execution_count": 57,
   "id": "1ae055fc",
   "metadata": {},
   "outputs": [
    {
     "name": "stdout",
     "output_type": "stream",
     "text": [
      "5개의 문서가 성공적으로 DB에 추가되었습니다.\n",
      "['doc_1', 'doc_2', 'doc_3', 'doc_4', 'doc_5']\n"
     ]
    }
   ],
   "source": [
    "from langchain_core.documents import Document\n",
    "\n",
    "\n",
    "#5개의 도큐먼트 객체 만들어서 크로마디비안에 저장 \n",
    "documents = [\n",
    "    \"인공지능은 컴퓨터 과학의 한 분야입니다.\",   #content\n",
    "    \"머신러닝은 인공지능의 한 분야입니다.\",\n",
    "    \"딥러닝은 머신러닝의 한 종류입니다.\",\n",
    "    \"자연어 처리는 컴퓨터가 인간의 언어를 이해하고 생성하는 기술입니다.\",\n",
    "    \"컴퓨터 비전은 컴퓨터가 디지털 이미지나 비디오를 이해하는 방법을 연구합니다.\",\n",
    "]\n",
    "\n",
    "doc_objects = []\n",
    "\n",
    "for idx, content in enumerate(documents, start=1):\n",
    "    doc = Document(\n",
    "        page_content=content, \n",
    "        metadata={'source': \"AI_Textbook\", \"chapter\": f\"Chapter {idx}\"},\n",
    "    )\n",
    "    doc_objects.append(doc)\n",
    "    \n",
    "# 순차적 ID 리스트 생성\n",
    "doc_ids = [f\"doc_{i}\" for i in range(1, len(doc_objects) + 1)]\n",
    "\n",
    "added_docs_ids = chroma_db.add_documents(documents=doc_objects, ids=doc_ids)\n",
    "\n",
    "print(f'{len(added_docs_ids)}개의 문서가 성공적으로 DB에 추가되었습니다.')\n",
    "print(added_docs_ids)"
   ]
  },
  {
   "cell_type": "code",
   "execution_count": 58,
   "id": "fb2344a7",
   "metadata": {},
   "outputs": [
    {
     "name": "stdout",
     "output_type": "stream",
     "text": [
      "질문: 인공지능과 머신러닝의 관계는?\n",
      "문서 ID: Chapter 2, 내용: 머신러닝은 인공지능의 한 분야입니다.\n",
      "문서 ID: Chapter 3, 내용: 딥러닝은 머신러닝의 한 종류입니다.\n"
     ]
    }
   ],
   "source": [
    "query = \"인공지능과 머신러닝의 관계는?\"\n",
    "#embedding_function=embeddings_model, 이렇게 임베딩모델객체로 넣어줘서 따로 임베딩 안해도 됨. \n",
    "results = chroma_db.similarity_search(query, k=2)\n",
    "\n",
    "print(f\"질문: {query}\")\n",
    "for doc in results:\n",
    "    print(f\"문서 ID: {doc.metadata['chapter']}, 내용: {doc.page_content}\")"
   ]
  },
  {
   "cell_type": "code",
   "execution_count": 59,
   "id": "7b4ccd09",
   "metadata": {},
   "outputs": [],
   "source": [
    "#chroma_db.update_documents(document_ids=added_docs_ids, document=doc_objects)\n",
    "#Document(page_content, metadata={})\n"
   ]
  },
  {
   "cell_type": "code",
   "execution_count": 60,
   "id": "cf3c1138",
   "metadata": {},
   "outputs": [],
   "source": [
    "updated_content = [\n",
    "    \"신경망은 인간의 뇌 구조를 모방한 딥러닝의 핵심 구조입니다.\",\n",
    "    \"빅데이터는 머신러닝 모델 학습에 필요한 대용량의 데이터를 의미합니다.\"\n",
    "]\n",
    "\n",
    "updated_docs = []\n",
    "start_chapter = len(documents) + 1  # 6부터 시작\n",
    "\n",
    "for idx, content in enumerate(updated_content, start=start_chapter):\n",
    "    doc = Document(\n",
    "        page_content=content,\n",
    "        metadata={\"source\": \"AI_Textbook\", \"chapter\": f\"Chapter {idx}\"}\n",
    "    )\n",
    "    updated_docs.append(doc)"
   ]
  },
  {
   "cell_type": "code",
   "execution_count": 61,
   "id": "f2f759f2",
   "metadata": {},
   "outputs": [
    {
     "name": "stdout",
     "output_type": "stream",
     "text": [
      "질문: 인공지능과 머신러닝의 관계는?\n",
      "문서 ID: Chapter 2, 내용: 머신러닝은 인공지능의 한 분야입니다.\n",
      "문서 ID: Chapter 3, 내용: 딥러닝은 머신러닝의 한 종류입니다.\n"
     ]
    }
   ],
   "source": [
    "print(f\"질문: {query}\")\n",
    "for doc in results:\n",
    "    print(f\"문서 ID: {doc.metadata['chapter']}, 내용: {doc.page_content}\")"
   ]
  },
  {
   "cell_type": "code",
   "execution_count": 62,
   "id": "b3a28e74",
   "metadata": {},
   "outputs": [
    {
     "name": "stdout",
     "output_type": "stream",
     "text": [
      "문서 업데이트 완료\n"
     ]
    }
   ],
   "source": [
    "update_document_1 = Document(\n",
    "    page_content=\"인공지능은 컴퓨터 과학의 한 분야로, 머신러닝과 딥러닝을 포합합니다.\",\n",
    "    metadata={\"source\": \"AI_Textbook\", \"chapter\": \"Chapter 6\"},\n",
    ")\n",
    "\n",
    "chroma_db.update_document(document_id='doc_1', document=update_document_1)\n",
    "\n",
    "print('문서 업데이트 완료')"
   ]
  },
  {
   "cell_type": "code",
   "execution_count": 63,
   "id": "1280e11b",
   "metadata": {},
   "outputs": [
    {
     "data": {
      "text/plain": [
       "{'ids': ['doc_1', 'doc_2', 'doc_3', 'doc_4', 'doc_5'],\n",
       " 'embeddings': None,\n",
       " 'documents': ['인공지능은 컴퓨터 과학의 한 분야로, 머신러닝과 딥러닝을 포합합니다.',\n",
       "  '머신러닝은 인공지능의 한 분야입니다.',\n",
       "  '딥러닝은 머신러닝의 한 종류입니다.',\n",
       "  '자연어 처리는 컴퓨터가 인간의 언어를 이해하고 생성하는 기술입니다.',\n",
       "  '컴퓨터 비전은 컴퓨터가 디지털 이미지나 비디오를 이해하는 방법을 연구합니다.'],\n",
       " 'uris': None,\n",
       " 'data': None,\n",
       " 'metadatas': [{'chapter': 'Chapter 6', 'source': 'AI_Textbook'},\n",
       "  {'chapter': 'Chapter 2', 'source': 'AI_Textbook'},\n",
       "  {'chapter': 'Chapter 3', 'source': 'AI_Textbook'},\n",
       "  {'chapter': 'Chapter 4', 'source': 'AI_Textbook'},\n",
       "  {'chapter': 'Chapter 5', 'source': 'AI_Textbook'}],\n",
       " 'included': [<IncludeEnum.documents: 'documents'>,\n",
       "  <IncludeEnum.metadatas: 'metadatas'>]}"
      ]
     },
     "execution_count": 63,
     "metadata": {},
     "output_type": "execute_result"
    }
   ],
   "source": [
    "chroma_db.get()"
   ]
  },
  {
   "cell_type": "code",
   "execution_count": 64,
   "id": "f052a30b",
   "metadata": {},
   "outputs": [],
   "source": [
    "chroma_db.delete(ids=['doc_5'])"
   ]
  },
  {
   "cell_type": "code",
   "execution_count": 65,
   "id": "aa86e6c1",
   "metadata": {},
   "outputs": [
    {
     "data": {
      "text/plain": [
       "{'ids': ['doc_1', 'doc_2', 'doc_3', 'doc_4'],\n",
       " 'embeddings': None,\n",
       " 'documents': ['인공지능은 컴퓨터 과학의 한 분야로, 머신러닝과 딥러닝을 포합합니다.',\n",
       "  '머신러닝은 인공지능의 한 분야입니다.',\n",
       "  '딥러닝은 머신러닝의 한 종류입니다.',\n",
       "  '자연어 처리는 컴퓨터가 인간의 언어를 이해하고 생성하는 기술입니다.'],\n",
       " 'uris': None,\n",
       " 'data': None,\n",
       " 'metadatas': [{'chapter': 'Chapter 6', 'source': 'AI_Textbook'},\n",
       "  {'chapter': 'Chapter 2', 'source': 'AI_Textbook'},\n",
       "  {'chapter': 'Chapter 3', 'source': 'AI_Textbook'},\n",
       "  {'chapter': 'Chapter 4', 'source': 'AI_Textbook'}],\n",
       " 'included': [<IncludeEnum.documents: 'documents'>,\n",
       "  <IncludeEnum.metadatas: 'metadatas'>]}"
      ]
     },
     "execution_count": 65,
     "metadata": {},
     "output_type": "execute_result"
    }
   ],
   "source": [
    "chroma_db.get()"
   ]
  },
  {
   "cell_type": "code",
   "execution_count": 66,
   "id": "6d63be1a",
   "metadata": {},
   "outputs": [
    {
     "data": {
      "text/plain": [
       "{'ids': ['doc_1', 'doc_2', 'doc_3', 'doc_4'],\n",
       " 'embeddings': None,\n",
       " 'documents': ['인공지능은 컴퓨터 과학의 한 분야로, 머신러닝과 딥러닝을 포합합니다.',\n",
       "  '머신러닝은 인공지능의 한 분야입니다.',\n",
       "  '딥러닝은 머신러닝의 한 종류입니다.',\n",
       "  '자연어 처리는 컴퓨터가 인간의 언어를 이해하고 생성하는 기술입니다.'],\n",
       " 'uris': None,\n",
       " 'data': None,\n",
       " 'metadatas': [{'chapter': 'Chapter 6', 'source': 'AI_Textbook'},\n",
       "  {'chapter': 'Chapter 2', 'source': 'AI_Textbook'},\n",
       "  {'chapter': 'Chapter 3', 'source': 'AI_Textbook'},\n",
       "  {'chapter': 'Chapter 4', 'source': 'AI_Textbook'}],\n",
       " 'included': [<IncludeEnum.documents: 'documents'>,\n",
       "  <IncludeEnum.metadatas: 'metadatas'>]}"
      ]
     },
     "execution_count": 66,
     "metadata": {},
     "output_type": "execute_result"
    }
   ],
   "source": [
    "chroma_db2 = Chroma(\n",
    "    collection_name=\"ai_sample_collection\",\n",
    "    persist_directory=\"./chroma_db\",\n",
    "    embedding_function=embeddings_model,\n",
    ")\n",
    "\n",
    "chroma_db2.get()"
   ]
  },
  {
   "cell_type": "code",
   "execution_count": 67,
   "id": "6dae4912",
   "metadata": {},
   "outputs": [],
   "source": [
    "from langchain_community.document_loaders import TextLoader\n",
    "from langchain_text_splitters import CharacterTextSplitter\n",
    "from transformers import AutoTokenizer"
   ]
  },
  {
   "cell_type": "code",
   "execution_count": 69,
   "id": "20543e44",
   "metadata": {},
   "outputs": [
    {
     "name": "stdout",
     "output_type": "stream",
     "text": [
      "한국어 문서 수:  8\n"
     ]
    }
   ],
   "source": [
    "#데이터 로드\n",
    "def load_text_files(text_files):\n",
    "    data = []\n",
    "    for file in text_files:\n",
    "        loader = TextLoader(file, encoding='utf-8')\n",
    "        data += loader.load()\n",
    "        \n",
    "    return data\n",
    "\n",
    "korean_text_files = glob(os.path.join(\"data\", \"*_KR.txt\"))\n",
    "korean_data = load_text_files(korean_text_files)\n",
    "# korean_data\n",
    "\n",
    "tokenizer = AutoTokenizer.from_pretrained(\"BAAI/bge-m3\")\n",
    "text_splitter = CharacterTextSplitter.from_huggingface_tokenizer(\n",
    "    tokenizer=tokenizer,            #bge-m3의 기준으로 알아서 잘 잘라줌. \n",
    "    separator=r\"[.!?]\\s+\",\n",
    "    chunk_size=100,\n",
    "    chunk_overlap=0,\n",
    "    is_separator_regex=True,\n",
    "    keep_separator=True,\n",
    ")\n",
    "\n",
    "korean_docs = text_splitter.split_documents(korean_data)\n",
    "\n",
    "print(\"한국어 문서 수: \", len(korean_docs))"
   ]
  },
  {
   "cell_type": "code",
   "execution_count": null,
   "id": "64918e55",
   "metadata": {},
   "outputs": [],
   "source": [
    "\n",
    "from langchain_huggingface.embeddings import HuggingFaceEmbeddings\n",
    "from langchain_chroma import Chroma\n",
    "\n",
    "embeddings_huggingface = HuggingFaceEmbeddings(model_name=\"BAAI/bge-m3\")\n",
    "\n",
    "chroma_db = Chroma.from_documents(\n",
    "    documents=korean_docs,\n",
    "    embedding=embeddings_huggingface,\n",
    "    collection_name=\"db_korean_cosine\",\n",
    "    persist_directory=\"./chroma_db\",\n",
    "    collection_metadata={\"hnsw:space\" : \"cosine\"},      #원래 유클리드 자리 (12, ip, cosine 등)\n",
    "    #임베디드 된 문서마다 다르기 때문에 상황에 따라 맞는거 사용\n",
    "    \n",
    ")\n"
   ]
  },
  {
   "cell_type": "code",
   "execution_count": 71,
   "id": "318b9ea3",
   "metadata": {},
   "outputs": [
    {
     "data": {
      "text/plain": [
       "{'ids': ['7419c14c-a63e-40ca-a06a-515bb493c2da',\n",
       "  '978fa4f8-cf5f-4f9e-a7cf-b1e12e0a3f54',\n",
       "  '99547b22-d522-48d3-916a-fc5e1c11c0ae',\n",
       "  'd287c92c-ba67-4a22-8c58-f3f2cd7468a8',\n",
       "  '55db9d38-a5ff-4690-8826-06efadd09abc',\n",
       "  'a70ea8a7-090c-49eb-bcfb-545cda64f294',\n",
       "  '7bf8b05d-6e46-49f1-92c2-8619029a0276',\n",
       "  'ab7e4a4b-3e82-426d-9f7f-9a915e546c30'],\n",
       " 'embeddings': None,\n",
       " 'documents': ['리비안은 MIT 박사 출신 RJ 스카린지가 2009년에 설립한 혁신적인 미국 전기차 제조업체입니다. 2011년부터 자율 전기차에 집중한 리비안은 2015년 대규모 투자를 통해 크게 성장하며 미시간과 베이 지역에 연구소를 설립했습니다. 주요 공급업체와의 접근성을 높이기 위해 본사를 미시간주 리보니아로 이전했습니다',\n",
       "  '.\\n\\n리비안의 초기 모델은 스포츠카 R1(원래 이름은 Avera)로, 2+2 좌석의 미드 엔진 하이브리드 쿠페로 피터 스티븐스가 디자인했습니다. 이 차는 쉽게 교체 가능한 본체 패널을 갖춘 모듈식 캡슐 구조를 특징으로 하며, 2013년 말에서 2014년 초 사이에 생산이 예상되었습니다',\n",
       "  '. 리비안은 디젤 하이브리드 버전, 브라질 원메이크 시리즈를 위한 R1 GT 레이싱 버전, 4도어 세단 및 크로스오버 등 다양한 버전을 고려했습니다. 2011년에 프로토타입 해치백도 공개되었지만, R1과의 관계는 불명확합니다',\n",
       "  '.\\n\\n리비안은 2021년 10월 첫 번째 양산 차량인 R1T 트럭을 고객에게 인도하기 시작했습니다.',\n",
       "  '테슬라(Tesla, Inc.)는 텍사스주 오스틴에 본사를 둔 미국의 대표적인 전기차 제조업체입니다. 2003년 마틴 에버하드(CEO)와 마크 타페닝(CFO)에 의해 설립된 테슬라는 2004년 페이팔과 Zip2의 공동 창업자인 일론 머스크의 참여로 큰 전환점을 맞았습니다',\n",
       "  '. 머스크는 최대 주주이자 회장으로서 회사를 현재의 성공으로 이끌었습니다. 회사 이름은 유명한 물리학자이자 전기공학자인 니콜라 테슬라의 이름을 따서 지어졌습니다. 테슬라는 2010년 6월 나스닥에 상장되었습니다',\n",
       "  '.\\n\\n2023년 테슬라는 1,808,581대의 차량을 판매하여 2022년에 비해 37.65% 증가했습니다. 2012년부터 2023년 3분기까지 테슬라의 전 세계 누적 판매량은 4,962,975대를 초과했습니다. SMT Packaging에 따르면, 2023년 테슬라의 판매량은 전 세계 전기차 시장의 약 12.9%를 차지했습니다',\n",
       "  '.'],\n",
       " 'uris': None,\n",
       " 'data': None,\n",
       " 'metadatas': [{'source': 'data\\\\리비안_KR.txt'},\n",
       "  {'source': 'data\\\\리비안_KR.txt'},\n",
       "  {'source': 'data\\\\리비안_KR.txt'},\n",
       "  {'source': 'data\\\\리비안_KR.txt'},\n",
       "  {'source': 'data\\\\테슬라_KR.txt'},\n",
       "  {'source': 'data\\\\테슬라_KR.txt'},\n",
       "  {'source': 'data\\\\테슬라_KR.txt'},\n",
       "  {'source': 'data\\\\테슬라_KR.txt'}],\n",
       " 'included': [<IncludeEnum.documents: 'documents'>,\n",
       "  <IncludeEnum.metadatas: 'metadatas'>]}"
      ]
     },
     "execution_count": 71,
     "metadata": {},
     "output_type": "execute_result"
    }
   ],
   "source": [
    "chroma_db.get()"
   ]
  },
  {
   "cell_type": "code",
   "execution_count": 72,
   "id": "62598ae5",
   "metadata": {},
   "outputs": [
    {
     "name": "stdout",
     "output_type": "stream",
     "text": [
      "쿼리: 리비안은 언제 사업을 시작했나요?\n",
      "검색결과\n",
      " - 리비안은 MIT 박사 출신 RJ 스카린지가 2009년에 설립한 혁신적인 미국 전기차 제조업체입니다. 2011년부터 자율 전기차에 집중한 리비안은 2015년 대규모 투자를 통해 크게 성장하며 미시간과 베이 지역에 연구소를 설립했습니다. 주요 공급업체와의 접근성을 높이기 위해 본사를 미시간주 리보니아로 이전했습니다 [출처 : data\\리비안_KR.txt]\n",
      " - .\n",
      "\n",
      "리비안의 초기 모델은 스포츠카 R1(원래 이름은 Avera)로, 2+2 좌석의 미드 엔진 하이브리드 쿠페로 피터 스티븐스가 디자인했습니다. 이 차는 쉽게 교체 가능한 본체 패널을 갖춘 모듈식 캡슐 구조를 특징으로 하며, 2013년 말에서 2014년 초 사이에 생산이 예상되었습니다 [출처 : data\\리비안_KR.txt]\n"
     ]
    }
   ],
   "source": [
    "#sementic search\n",
    "chroma_k_retriever = chroma_db.as_retriever(\n",
    "    search_kwargs={\"k\":2},\n",
    "    \n",
    ")\n",
    "query = \"리비안은 언제 사업을 시작했나요?\"\n",
    "retrieved_docs = chroma_k_retriever.invoke(query)\n",
    "\n",
    "print(f\"쿼리: {query}\")\n",
    "print(\"검색결과\")\n",
    "for doc in retrieved_docs:\n",
    "    print(f\" - {doc.page_content} [출처 : {doc.metadata['source']}]\")   \n",
    "\n"
   ]
  },
  {
   "cell_type": "markdown",
   "id": "ea6da139",
   "metadata": {},
   "source": [
    "### MMR (Maximal Margimal Relevance) 검색"
   ]
  },
  {
   "cell_type": "code",
   "execution_count": 100,
   "id": "db2f4d4c",
   "metadata": {},
   "outputs": [
    {
     "name": "stdout",
     "output_type": "stream",
     "text": [
      "쿼리: 리비안은 어떤 회사인가요?\n",
      "검색결과\n",
      " - 리비안은 MIT 박사 출신 RJ 스카린지가 2009년에 설립한 혁신적인 미국 전기차 제조업체입니다. 2011년부터 자율 전기차에 집중한 리비안은 2015년 대규모 투자를 통해 크게 성장하며 미시간과 베이 지역에 연구소를 설립했습니다. 주요 공급업체와의 접근성을 높이기 위해 본사를 미시간주 리보니아로 이전했습니다  (유사도:  0.6815)\n",
      " - .\n",
      "\n",
      "리비안의 초기 모델은 스포츠카 R1(원래 이름은 Avera)로, 2+2 좌석의 미드 엔진 하이브리드 쿠페로 피터 스티븐스가 디자인했습니다. 이 차는 쉽게 교체 가능한 본체 패널을 갖춘 모듈식 캡슐 구조를 특징으로 하며, 2013년 말에서 2014년 초 사이에 생산이 예상되었습니다  (유사도:  0.5930)\n"
     ]
    }
   ],
   "source": [
    "from re import search\n",
    "from langchain_community.utils.math import  cosine_similarity\n",
    "\n",
    "chroma_mma = chroma_db.as_retriever(\n",
    "    search_type = \"mmr\",\n",
    "    search_kwargs = {\n",
    "        \"k\" : 2,\n",
    "        \"fetch_k\" : 8,      #MMR을 위한 후보 문서 수\n",
    "        \"lamda_mult\" : 0.5,     #MMR의 다양성 조절 파라미터 ( 1으 최소 다양성, 0은 최대 다양성)\n",
    "    },\n",
    ")\n",
    "\n",
    "query = \"리비안은 어떤 회사인가요?\"\n",
    "retrieved_docs = chroma_mma.invoke(query)\n",
    "\n",
    "print(f\"쿼리: {query}\")\n",
    "print(f\"검색결과\")\n",
    "\n",
    "for doc in retrieved_docs: \n",
    "    score = cosine_similarity(\n",
    "        [ embeddings_huggingface.embed_query(query)],\n",
    "        [ embeddings_huggingface.embed_query(doc.page_content)]\n",
    "    )[0][0]\n",
    "    print(f\" - {doc.page_content}  (유사도: {score: .4f})\")"
   ]
  },
  {
   "cell_type": "code",
   "execution_count": 101,
   "id": "4eb6724d",
   "metadata": {},
   "outputs": [
    {
     "name": "stdout",
     "output_type": "stream",
     "text": [
      "쿼리: 리비안은 언제 사업을 시작했나요?\n",
      "검색결과\n",
      " - 리비안은 MIT 박사 출신 RJ 스카린지가 2009년에 설립한 혁신적인 미국 전기차 제조업체입니다. 2011년부터 자율 전기차에 집중한 리비안은 2015년 대규모 투자를 통해 크게 성장하며 미시간과 베이 지역에 연구소를 설립했습니다. 주요 공급업체와의 접근성을 높이기 위해 본사를 미시간주 리보니아로 이전했습니다  (유사도:  0.6734)\n",
      " - .\n",
      "\n",
      "리비안의 초기 모델은 스포츠카 R1(원래 이름은 Avera)로, 2+2 좌석의 미드 엔진 하이브리드 쿠페로 피터 스티븐스가 디자인했습니다. 이 차는 쉽게 교체 가능한 본체 패널을 갖춘 모듈식 캡슐 구조를 특징으로 하며, 2013년 말에서 2014년 초 사이에 생산이 예상되었습니다  (유사도:  0.5955)\n",
      " - .\n",
      "\n",
      "리비안은 2021년 10월 첫 번째 양산 차량인 R1T 트럭을 고객에게 인도하기 시작했습니다.  (유사도:  0.5690)\n"
     ]
    }
   ],
   "source": [
    "from re import search\n",
    "from langchain_community.utils.math import  cosine_similarity\n",
    "\n",
    "chroma_mma = chroma_db.as_retriever(\n",
    "    search_type = \"mmr\",\n",
    "    search_kwargs = {\n",
    "        \"k\" : 3,\n",
    "        \"fetch_k\" : 8,      #MMR을 위한 후보 문서 수\n",
    "        \"lamda_mult\" : 0.9,     #MMR의 다양성 조절 파라미터 ( 1은 최소 다양성, 0은 최대 다양성)\n",
    "    },\n",
    ")\n",
    "\n",
    "query = \"리비안은 언제 사업을 시작했나요?\"\n",
    "retrieved_docs = chroma_mma.invoke(query)\n",
    "\n",
    "print(f\"쿼리: {query}\")\n",
    "print(f\"검색결과\")\n",
    "\n",
    "for doc in retrieved_docs: \n",
    "    score = cosine_similarity(\n",
    "        [ embeddings_huggingface.embed_query(query)],\n",
    "        [ embeddings_huggingface.embed_query(doc.page_content)]\n",
    "    )[0][0]\n",
    "    print(f\" - {doc.page_content}  (유사도: {score: .4f})\")"
   ]
  },
  {
   "cell_type": "code",
   "execution_count": null,
   "id": "6750edbd",
   "metadata": {},
   "outputs": [
    {
     "name": "stdout",
     "output_type": "stream",
     "text": [
      " - 리비안은 MIT 박사 출신 RJ 스카린지가 2009년에 설립한 혁신적인 미국 전기차 제조업체입니다. 2011년부터 자율 전기차에 집중한 리비안은 2015년 대규모 투자를 통해 크게 성장하며 미시간과 베이 지역에 연구소를 설립했습니다. 주요 공급업체와의 접근성을 높이기 위해 본사를 미시간주 리보니아로 이전했습니다  (유사도:  0.6734)\n",
      " - .\n",
      "\n",
      "리비안은 2021년 10월 첫 번째 양산 차량인 R1T 트럭을 고객에게 인도하기 시작했습니다.  (유사도:  0.5690)\n"
     ]
    }
   ],
   "source": [
    "chroma_mma = chroma_db.as_retriever(\n",
    "    search_type = \"mmr\",\n",
    "    search_kwargs = {\n",
    "        \"k\" : 2,\n",
    "        \"fetch_k\" : 8,      #MMR을 위한 후보 문서 수\n",
    "        \"lamda_mult\" : 0.9,     #MMR의 다양성 조절 파라미터 ( 1은 최소 다양성, 0은 최대 다양성)\n",
    "        \"score_threshold\" : 0.1,    #유사도 점수 임계값\n",
    "    },\n",
    ")\n",
    "\n",
    "query = \"리비안은 언제 사업을 시작했나요?\"\n",
    "retrieved_docs = chroma_mma.invoke(query)\n",
    "\n",
    "for doc in retrieved_docs: \n",
    "    score = cosine_similarity(\n",
    "        [ embeddings_huggingface.embed_query(query)],\n",
    "        [ embeddings_huggingface.embed_query(doc.page_content)]\n",
    "    )[0][0]\n",
    "    print(f\" - {doc.page_content}  (유사도: {score: .4f})\")"
   ]
  },
  {
   "cell_type": "markdown",
   "id": "cae77518",
   "metadata": {},
   "source": [
    "#### Similary score threshold (기준 스코어 이상인 문서를 대상으로 추출) 검색"
   ]
  },
  {
   "cell_type": "code",
   "execution_count": 111,
   "id": "328d81b1",
   "metadata": {},
   "outputs": [
    {
     "name": "stdout",
     "output_type": "stream",
     "text": [
      " - 리비안은 MIT 박사 출신 RJ 스카린지가 2009년에 설립한 혁신적인 미국 전기차 제조업체입니다. 2011년부터 자율 전기차에 집중한 리비안은 2015년 대규모 투자를 통해 크게 성장하며 미시간과 베이 지역에 연구소를 설립했습니다. 주요 공급업체와의 접근성을 높이기 위해 본사를 미시간주 리보니아로 이전했습니다  (유사도:  0.6734)\n"
     ]
    }
   ],
   "source": [
    "chroma_mma = chroma_db.as_retriever(\n",
    "    search_type = \"similarity_score_threshold\",\n",
    "    search_kwargs = {\n",
    "        \"k\" : 3,\n",
    "        \"score_threshold\" : 0.6,    #유사도 점수 임계값\n",
    "    },\n",
    ")\n",
    "\n",
    "query = \"리비안은 언제 사업을 시작했나요?\"\n",
    "retrieved_docs = chroma_mma.invoke(query)\n",
    "\n",
    "for doc in retrieved_docs: \n",
    "    score = cosine_similarity(\n",
    "        [ embeddings_huggingface.embed_query(query)],\n",
    "        [ embeddings_huggingface.embed_query(doc.page_content)]\n",
    "    )[0][0]\n",
    "    print(f\" - {doc.page_content}  (유사도: {score: .4f})\")"
   ]
  },
  {
   "cell_type": "markdown",
   "id": "5ca1b77b",
   "metadata": {},
   "source": [
    "#### metadata"
   ]
  },
  {
   "cell_type": "code",
   "execution_count": 113,
   "id": "d094e0a6",
   "metadata": {},
   "outputs": [
    {
     "name": "stdout",
     "output_type": "stream",
     "text": [
      "쿼리: 리비안은 언제 사업을 시작했나요?\n",
      "검색결과\n",
      " - 리비안은 MIT 박사 출신 RJ 스카린지가 2009년에 설립한 혁신적인 미국 전기차 제조업체입니다. 2011년부터 자율 전기차에 집중한 리비안은 2015년 대규모 투자를 통해 크게 성장하며 미시간과 베이 지역에 연구소를 설립했습니다. 주요 공급업체와의 접근성을 높이기 위해 본사를 미시간주 리보니아로 이전했습니다  (유사도:  0.6734) \n",
      " - .\n",
      "\n",
      "리비안의 초기 모델은 스포츠카 R1(원래 이름은 Avera)로, 2+2 좌석의 미드 엔진 하이브리드 쿠페로 피터 스티븐스가 디자인했습니다. 이 차는 쉽게 교체 가능한 본체 패널을 갖춘 모듈식 캡슐 구조를 특징으로 하며, 2013년 말에서 2014년 초 사이에 생산이 예상되었습니다  (유사도:  0.6734) \n",
      " - .\n",
      "\n",
      "리비안은 2021년 10월 첫 번째 양산 차량인 R1T 트럭을 고객에게 인도하기 시작했습니다.  (유사도:  0.6734) \n",
      " - . 리비안은 디젤 하이브리드 버전, 브라질 원메이크 시리즈를 위한 R1 GT 레이싱 버전, 4도어 세단 및 크로스오버 등 다양한 버전을 고려했습니다. 2011년에 프로토타입 해치백도 공개되었지만, R1과의 관계는 불명확합니다  (유사도:  0.6734) \n"
     ]
    }
   ],
   "source": [
    "chroma_metadata = chroma_db.as_retriever(\n",
    "    search_kwargs = {\n",
    "        \"k\" : 8,        #검색할 문서 수 \n",
    "        \"filter\" : {'source' : \"data\\리비안_KR.txt\"}    #메타데이터 필터링\n",
    "    }\n",
    ")\n",
    "\n",
    "\n",
    "query = \"리비안은 언제 사업을 시작했나요?\"\n",
    "retrieved_docs = chroma_metadata.invoke(query)\n",
    "\n",
    "print(f\"쿼리: {query}\")\n",
    "print(f\"검색결과\")\n",
    "\n",
    "for doc in retrieved_docs:\n",
    "    print(f\" - {doc.page_content}  (유사도: {score: .4f}) \")"
   ]
  },
  {
   "cell_type": "code",
   "execution_count": 116,
   "id": "3c6e16c8",
   "metadata": {},
   "outputs": [
    {
     "name": "stdout",
     "output_type": "stream",
     "text": [
      "쿼리: 언제 사업을 시작했나요?\n",
      "검색결과\n",
      " - 리비안은 MIT 박사 출신 RJ 스카린지가 2009년에 설립한 혁신적인 미국 전기차 제조업체입니다. 2011년부터 자율 전기차에 집중한 리비안은 2015년 대규모 투자를 통해 크게 성장하며 미시간과 베이 지역에 연구소를 설립했습니다. 주요 공급업체와의 접근성을 높이기 위해 본사를 미시간주 리보니아로 이전했습니다  [출처 : data\\리비안_KR.txt] \n",
      " - .\n",
      "\n",
      "리비안은 2021년 10월 첫 번째 양산 차량인 R1T 트럭을 고객에게 인도하기 시작했습니다.  [출처 : data\\리비안_KR.txt] \n"
     ]
    }
   ],
   "source": [
    "chroma_content = chroma_db.as_retriever(\n",
    "    search_kwargs = {\n",
    "        \"k\" : 2,        #검색할 문서 수 \n",
    "        \"where_document\" : {\"$contains\" : \"리비안\"}    #문서 내용 필터링 \n",
    "    }\n",
    ")\n",
    "\n",
    "\n",
    "query = \"언제 사업을 시작했나요?\"\n",
    "retrieved_docs = chroma_content.invoke(query)\n",
    "\n",
    "print(f\"쿼리: {query}\")\n",
    "print(f\"검색결과\")\n",
    "\n",
    "for doc in retrieved_docs:\n",
    "    print(f\" - {doc.page_content}  [출처 : {doc.metadata['source']}] \")"
   ]
  },
  {
   "cell_type": "code",
   "execution_count": 117,
   "id": "e75ceff6",
   "metadata": {},
   "outputs": [
    {
     "name": "stdout",
     "output_type": "stream",
     "text": [
      "쿼리: 언제 사업을 시작했나요?\n",
      "검색결과\n",
      " - 테슬라(Tesla, Inc.)는 텍사스주 오스틴에 본사를 둔 미국의 대표적인 전기차 제조업체입니다. 2003년 마틴 에버하드(CEO)와 마크 타페닝(CFO)에 의해 설립된 테슬라는 2004년 페이팔과 Zip2의 공동 창업자인 일론 머스크의 참여로 큰 전환점을 맞았습니다  [출처 : data\\테슬라_KR.txt] \n",
      " - . 머스크는 최대 주주이자 회장으로서 회사를 현재의 성공으로 이끌었습니다. 회사 이름은 유명한 물리학자이자 전기공학자인 니콜라 테슬라의 이름을 따서 지어졌습니다. 테슬라는 2010년 6월 나스닥에 상장되었습니다  [출처 : data\\테슬라_KR.txt] \n"
     ]
    }
   ],
   "source": [
    "chroma_content = chroma_db.as_retriever(\n",
    "    search_kwargs = {\n",
    "        \"k\" : 2,        #검색할 문서 수 \n",
    "        \"where_document\" : {\"$contains\" : \"테슬라\"}    #문서 내용 필터링 \n",
    "    }\n",
    ")\n",
    "\n",
    "\n",
    "query = \"언제 사업을 시작했나요?\"\n",
    "retrieved_docs = chroma_content.invoke(query)\n",
    "\n",
    "print(f\"쿼리: {query}\")\n",
    "print(f\"검색결과\")\n",
    "\n",
    "for doc in retrieved_docs:\n",
    "    print(f\" - {doc.page_content}  [출처 : {doc.metadata['source']}] \")"
   ]
  },
  {
   "cell_type": "code",
   "execution_count": 121,
   "id": "ea620947",
   "metadata": {},
   "outputs": [
    {
     "name": "stdout",
     "output_type": "stream",
     "text": [
      "LLM 응답 : content='테슬라의 창립자는 엘론 머스크(Elon Musk)입니다. 그러나 테슬라는 2003년에 마틴 에버하드(Martin Eberhard)와 마크 타페닝(Mark Tarpenning)에 의해 설립되었습니다. 엘론 머스크는 2004년에 투자자로 참여한 후, CEO로 취임하고 회사의 비전을 이끌어가면서 테슬라의 주요 인물로 자리잡게 되었습니다' additional_kwargs={'refusal': None} response_metadata={'token_usage': {'completion_tokens': 100, 'prompt_tokens': 17, 'total_tokens': 117, 'completion_tokens_details': {'accepted_prediction_tokens': 0, 'audio_tokens': 0, 'reasoning_tokens': 0, 'rejected_prediction_tokens': 0}, 'prompt_tokens_details': {'audio_tokens': 0, 'cached_tokens': 0}}, 'model_name': 'gpt-4o-mini-2024-07-18', 'system_fingerprint': 'fp_62a23a81ef', 'finish_reason': 'length', 'logprobs': None} id='run-e135d929-e2a8-41b0-9a0d-79934d32231c-0' usage_metadata={'input_tokens': 17, 'output_tokens': 100, 'total_tokens': 117}\n"
     ]
    }
   ],
   "source": [
    "from langchain_openai import ChatOpenAI\n",
    "\n",
    "llm = ChatOpenAI(\n",
    "    model=\"gpt-4o-mini\",  # OpenAI의 GPT-4 모델\n",
    "    temperature=0.0,  # 생성되는 응답의 다양성 조절 ; 창의서 1도 없는 상태\n",
    "    max_tokens=100,  # 최대 토큰 수\n",
    ")\n",
    "\n",
    "response = llm.invoke(\n",
    "    \"테슬라 창업자는 누구인가요?\")\n",
    "print(f\"LLM 응답 : {response}\")  # LLM의 응답 내용 출력"
   ]
  },
  {
   "cell_type": "code",
   "execution_count": 127,
   "id": "4dc0742f",
   "metadata": {},
   "outputs": [
    {
     "name": "stdout",
     "output_type": "stream",
     "text": [
      "테슬라(Tesla, Inc.)는 텍사스주 오스틴에 본사를 둔 미국의 대표적인 전기차 제조업체입니다. 2003년 마틴 에버하드(CEO)와 마크 타페닝(CFO)에 의해 설립된 테슬라는 2004년 페이팔과 Zip2의 공동 창업자인 일론 머스크의 참여로 큰 전환점을 맞았습니다\n",
      "\n",
      "\n",
      "위 내용에 근거하여 다음 질문에 답변하세요. \n",
      "\n",
      "테슬라 창업자는 누구인가요?\n"
     ]
    }
   ],
   "source": [
    "#context를 제공하고 답변 생성\n",
    "\n",
    "query_with_context = f\"\"\"{retrieved_docs[0].page_content}\n",
    "\\n\\n위 내용에 근거하여 다음 질문에 답변하세요. \\n\\n{query}\"\"\"\n",
    "\n",
    "print(query_with_context)"
   ]
  },
  {
   "cell_type": "code",
   "execution_count": 128,
   "id": "f96df882",
   "metadata": {},
   "outputs": [
    {
     "name": "stdout",
     "output_type": "stream",
     "text": [
      "LLM 응답 : content='테슬라의 창업자는 마틴 에버하드와 마크 타페닝입니다.' additional_kwargs={'refusal': None} response_metadata={'token_usage': {'completion_tokens': 21, 'prompt_tokens': 124, 'total_tokens': 145, 'completion_tokens_details': {'accepted_prediction_tokens': 0, 'audio_tokens': 0, 'reasoning_tokens': 0, 'rejected_prediction_tokens': 0}, 'prompt_tokens_details': {'audio_tokens': 0, 'cached_tokens': 0}}, 'model_name': 'gpt-4o-mini-2024-07-18', 'system_fingerprint': 'fp_34a54ae93c', 'finish_reason': 'stop', 'logprobs': None} id='run-ca23c89d-0094-4399-aa47-5992e4c5737f-0' usage_metadata={'input_tokens': 124, 'output_tokens': 21, 'total_tokens': 145}\n"
     ]
    }
   ],
   "source": [
    "response = llm.invoke(query_with_context)\n",
    "\n",
    "print(f\"LLM 응답 : {response}\")"
   ]
  },
  {
   "cell_type": "code",
   "execution_count": 129,
   "id": "0f6f7698",
   "metadata": {},
   "outputs": [
    {
     "name": "stdout",
     "output_type": "stream",
     "text": [
      "{'input': '테슬라 창업자는 누구인가요?', 'context': [Document(metadata={'source': 'data\\\\테슬라_KR.txt'}, page_content='테슬라(Tesla, Inc.)는 텍사스주 오스틴에 본사를 둔 미국의 대표적인 전기차 제조업체입니다. 2003년 마틴 에버하드(CEO)와 마크 타페닝(CFO)에 의해 설립된 테슬라는 2004년 페이팔과 Zip2의 공동 창업자인 일론 머스크의 참여로 큰 전환점을 맞았습니다'), Document(metadata={'source': 'data\\\\테슬라_KR.txt'}, page_content='. 머스크는 최대 주주이자 회장으로서 회사를 현재의 성공으로 이끌었습니다. 회사 이름은 유명한 물리학자이자 전기공학자인 니콜라 테슬라의 이름을 따서 지어졌습니다. 테슬라는 2010년 6월 나스닥에 상장되었습니다')], 'answer': '테슬라의 창업자는 마틴 에버하드와 마크 타페닝입니다.'}\n"
     ]
    }
   ],
   "source": [
    "### 전체 RAG 파이프라인 구성\n",
    "\n",
    "from langchain_core.prompts import ChatPromptTemplate\n",
    "from langchain.chains import create_retrieval_chain\n",
    "from langchain.chains.combine_documents import create_stuff_documents_chain\n",
    "\n",
    "#llm 초기화\n",
    "\n",
    "llm = ChatOpenAI(model_name=\"gpt-4o-mini\", temperature=0.0, max_tokens=100)\n",
    "\n",
    "# 프롬프트 생성\n",
    "\n",
    "retrieval_qa_chat_prompt = ChatPromptTemplate.from_template(\"\"\"\n",
    "다음 컨텍스트를 바탕으로 질문에 답변해주세요. 컨텍스트에 관련 정보가 없다면, \n",
    "'주어진 정보로는 답변할 수 없습니다.' 라고 답변해주세요.\n",
    "\n",
    "컨텍스트 : {context}\n",
    "질문 : {input}\n",
    "답변 : \n",
    "\"\"\")\n",
    "\n",
    "\n",
    "#체인 생성\n",
    "\n",
    "combine_docs_chain = create_stuff_documents_chain(llm, retrieval_qa_chat_prompt)\n",
    "\n",
    "rag_chain = create_retrieval_chain(chroma_content, combine_docs_chain)\n",
    "\n",
    "# RAG 체인 실행\n",
    "query = \"테슬라 창업자는 누구인가요?\"\n",
    "response = rag_chain.invoke({\"input\": query}) #전부 프롬프트에 모이는거야. \n",
    "print(response)  # RAG 체인의 응답 내용 출력"
   ]
  },
  {
   "cell_type": "code",
   "execution_count": 130,
   "id": "369f1edb",
   "metadata": {},
   "outputs": [
    {
     "name": "stdout",
     "output_type": "stream",
     "text": [
      "Running on local URL:  http://127.0.0.1:7861\n",
      "\n",
      "To create a public link, set `share=True` in `launch()`.\n"
     ]
    },
    {
     "data": {
      "text/html": [
       "<div><iframe src=\"http://127.0.0.1:7861/\" width=\"100%\" height=\"500\" allow=\"autoplay; camera; microphone; clipboard-read; clipboard-write;\" frameborder=\"0\" allowfullscreen></iframe></div>"
      ],
      "text/plain": [
       "<IPython.core.display.HTML object>"
      ]
     },
     "metadata": {},
     "output_type": "display_data"
    },
    {
     "data": {
      "text/plain": []
     },
     "execution_count": 130,
     "metadata": {},
     "output_type": "execute_result"
    },
    {
     "name": "stderr",
     "output_type": "stream",
     "text": [
      "c:\\Users\\KOSA\\AppData\\Local\\pypoetry\\Cache\\virtualenvs\\langchain-env-e_qH7Re7-py3.11\\Lib\\site-packages\\gradio\\analytics.py:106: UserWarning: IMPORTANT: You are using gradio version 4.44.0, however version 4.44.1 is available, please upgrade. \n",
      "--------\n",
      "  warnings.warn(\n"
     ]
    }
   ],
   "source": [
    "### Gradio 챗봇\n",
    "\n",
    "import gradio as gr\n",
    "def answer_invoke(message, history):\n",
    "    response = rag_chain.invoke({\"input\": message})\n",
    "    return response['answer']\n",
    "\n",
    "demo = gr.ChatInterface(fn=answer_invoke, title=\"miny bot\")\n",
    "\n",
    "demo.launch()"
   ]
  },
  {
   "cell_type": "code",
   "execution_count": 147,
   "id": "bd27e40d",
   "metadata": {},
   "outputs": [
    {
     "name": "stdout",
     "output_type": "stream",
     "text": [
      "Closing server running on port: 7865\n"
     ]
    }
   ],
   "source": [
    "demo.close()"
   ]
  },
  {
   "cell_type": "code",
   "execution_count": 148,
   "id": "3c1d45b2",
   "metadata": {},
   "outputs": [],
   "source": [
    "retriever = chroma_db.as_retriever(\n",
    "    search_kwargs={\"k\": 2},\n",
    ")"
   ]
  },
  {
   "cell_type": "code",
   "execution_count": 149,
   "id": "1e32a8d1",
   "metadata": {},
   "outputs": [],
   "source": [
    "# RAG 체인 생성\n",
    "from langchain.prompts import ChatPromptTemplate\n",
    "from langchain_core.output_parsers import StrOutputParser\n",
    "from langchain_openai import ChatOpenAI\n",
    "from langchain_core.runnables import RunnablePassthrough\n",
    "\n",
    "template = \"\"\"Answer the question based only on the following context.\n",
    "Do not use any external information or knowledge.\n",
    "If the answer is not in the context, answer \"잘 모르겠습니다.\".\n",
    "\n",
    "[Context]\n",
    "{context}\n",
    "\n",
    "[Question]\n",
    "{question}\n",
    "\n",
    "[Answer]\n",
    "\"\"\"\n",
    "\n",
    "prompt = ChatPromptTemplate.from_template(template)\n",
    "\n",
    "\n",
    "# 문서 포맷터 함수\n",
    "def format_docs(docs):\n",
    "    return \"\\n\\n\".join([d.page_content for d in docs])\n",
    "\n",
    "\n",
    "# LLM 모델 생성\n",
    "llm = ChatOpenAI(model=\"gpt-4o-mini\", temperature=0)"
   ]
  },
  {
   "cell_type": "code",
   "execution_count": 150,
   "id": "a27b7d83",
   "metadata": {},
   "outputs": [],
   "source": [
    "retriever_chain = retriever | format_docs"
   ]
  },
  {
   "cell_type": "code",
   "execution_count": 151,
   "id": "60bc4572",
   "metadata": {},
   "outputs": [],
   "source": [
    "# LLM 체인 생성\n",
    "rag_chain = (\n",
    "    {\"context\": retriever_chain, \"question\": RunnablePassthrough()}\n",
    "    | prompt\n",
    "    | llm\n",
    "    | StrOutputParser()\n",
    ")"
   ]
  },
  {
   "cell_type": "code",
   "execution_count": null,
   "id": "70ccedf4",
   "metadata": {},
   "outputs": [
    {
     "name": "stdout",
     "output_type": "stream",
     "text": [
      "Running on local URL:  http://127.0.0.1:7866\n",
      "\n",
      "To create a public link, set `share=True` in `launch()`.\n"
     ]
    },
    {
     "data": {
      "text/html": [
       "<div><iframe src=\"http://127.0.0.1:7866/\" width=\"100%\" height=\"500\" allow=\"autoplay; camera; microphone; clipboard-read; clipboard-write;\" frameborder=\"0\" allowfullscreen></iframe></div>"
      ],
      "text/plain": [
       "<IPython.core.display.HTML object>"
      ]
     },
     "metadata": {},
     "output_type": "display_data"
    },
    {
     "data": {
      "text/plain": []
     },
     "execution_count": 153,
     "metadata": {},
     "output_type": "execute_result"
    },
    {
     "name": "stderr",
     "output_type": "stream",
     "text": [
      "c:\\Users\\KOSA\\AppData\\Local\\pypoetry\\Cache\\virtualenvs\\langchain-env-e_qH7Re7-py3.11\\Lib\\site-packages\\gradio\\analytics.py:106: UserWarning: IMPORTANT: You are using gradio version 4.44.0, however version 4.44.1 is available, please upgrade. \n",
      "--------\n",
      "  warnings.warn(\n"
     ]
    }
   ],
   "source": [
    "import gradio as gr\n",
    "from langchain_core.messages import HumanMessage, AIMessage\n",
    "\n",
    "def answer_invoke(message, history):\n",
    "    history_langchain_format = []\n",
    "    for human, ai in history:\n",
    "        history_langchain_format.append(HumanMessage(content=human))\n",
    "        history_langchain_format.append(AIMessage(content=ai))\n",
    "    #키보드에 입력한 메시지 값\n",
    "    history_langchain_format.append(HumanMessage(content=message))\n",
    "        \n",
    "    \n",
    "    response = rag_chain.invoke(message)\n",
    "    \n",
    "    final_answer = llm.invoke(\n",
    "       history_langchain_format[:-1] + [AIMessage(content=response)] +\n",
    "       [HumanMessage(content=message)], \n",
    "       #과거 질의 + ai대답 + 방금 한 질문 \n",
    "    )\n",
    "    return final_answer.content\n",
    "\n",
    "demo = gr.ChatInterface(fn=answer_invoke, title=\"QA Bot\")\n",
    "\n",
    "demo.launch()"
   ]
  },
  {
   "cell_type": "code",
   "execution_count": null,
   "id": "6ade97d0",
   "metadata": {},
   "outputs": [],
   "source": []
  }
 ],
 "metadata": {
  "kernelspec": {
   "display_name": "langchain-env-e_qH7Re7-py3.11",
   "language": "python",
   "name": "python3"
  },
  "language_info": {
   "codemirror_mode": {
    "name": "ipython",
    "version": 3
   },
   "file_extension": ".py",
   "mimetype": "text/x-python",
   "name": "python",
   "nbconvert_exporter": "python",
   "pygments_lexer": "ipython3",
   "version": "3.11.9"
  }
 },
 "nbformat": 4,
 "nbformat_minor": 5
}
