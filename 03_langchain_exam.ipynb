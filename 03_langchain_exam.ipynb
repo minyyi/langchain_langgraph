{
 "cells": [
  {
   "cell_type": "code",
   "execution_count": 1,
   "id": "5319ee83",
   "metadata": {},
   "outputs": [
    {
     "data": {
      "text/plain": [
       "True"
      ]
     },
     "execution_count": 1,
     "metadata": {},
     "output_type": "execute_result"
    }
   ],
   "source": [
    "from dotenv import load_dotenv\n",
    "load_dotenv()"
   ]
  },
  {
   "cell_type": "code",
   "execution_count": 2,
   "id": "2069dd56",
   "metadata": {},
   "outputs": [],
   "source": [
    "import os\n",
    "from glob import glob\n",
    "\n",
    "from pprint import pprint\n",
    "import json"
   ]
  },
  {
   "cell_type": "markdown",
   "id": "87f95bc1",
   "metadata": {},
   "source": [
    "PDF 문서"
   ]
  },
  {
   "cell_type": "code",
   "execution_count": 3,
   "id": "4586b003",
   "metadata": {},
   "outputs": [
    {
     "data": {
      "text/plain": [
       "15"
      ]
     },
     "execution_count": 3,
     "metadata": {},
     "output_type": "execute_result"
    }
   ],
   "source": [
    "#PDF\n",
    "\n",
    "from langchain_community.document_loaders import PyPDFLoader\n",
    "\n",
    "pdf_loader = PyPDFLoader('./data/transformer.pdf')\n",
    "pdf_docs = pdf_loader.load()\n",
    "\n",
    "len(pdf_docs)"
   ]
  },
  {
   "cell_type": "code",
   "execution_count": 4,
   "id": "0a45ddc5",
   "metadata": {},
   "outputs": [
    {
     "data": {
      "text/plain": [
       "list"
      ]
     },
     "execution_count": 4,
     "metadata": {},
     "output_type": "execute_result"
    }
   ],
   "source": [
    "type(pdf_docs)"
   ]
  },
  {
   "cell_type": "code",
   "execution_count": 5,
   "id": "6225844e",
   "metadata": {},
   "outputs": [
    {
     "data": {
      "text/plain": [
       "Document(metadata={'source': './data/transformer.pdf', 'page': 0}, page_content='Provided proper attribution is provided, Google hereby grants permission to\\nreproduce the tables and figures in this paper solely for use in journalistic or\\nscholarly works.\\nAttention Is All You Need\\nAshish Vaswani∗\\nGoogle Brain\\navaswani@google.comNoam Shazeer∗\\nGoogle Brain\\nnoam@google.comNiki Parmar∗\\nGoogle Research\\nnikip@google.comJakob Uszkoreit∗\\nGoogle Research\\nusz@google.com\\nLlion Jones∗\\nGoogle Research\\nllion@google.comAidan N. Gomez∗ †\\nUniversity of Toronto\\naidan@cs.toronto.eduŁukasz Kaiser∗\\nGoogle Brain\\nlukaszkaiser@google.com\\nIllia Polosukhin∗ ‡\\nillia.polosukhin@gmail.com\\nAbstract\\nThe dominant sequence transduction models are based on complex recurrent or\\nconvolutional neural networks that include an encoder and a decoder. The best\\nperforming models also connect the encoder and decoder through an attention\\nmechanism. We propose a new simple network architecture, the Transformer,\\nbased solely on attention mechanisms, dispensing with recurrence and convolutions\\nentirely. Experiments on two machine translation tasks show these models to\\nbe superior in quality while being more parallelizable and requiring significantly\\nless time to train. Our model achieves 28.4 BLEU on the WMT 2014 English-\\nto-German translation task, improving over the existing best results, including\\nensembles, by over 2 BLEU. On the WMT 2014 English-to-French translation task,\\nour model establishes a new single-model state-of-the-art BLEU score of 41.8 after\\ntraining for 3.5 days on eight GPUs, a small fraction of the training costs of the\\nbest models from the literature. We show that the Transformer generalizes well to\\nother tasks by applying it successfully to English constituency parsing both with\\nlarge and limited training data.\\n∗Equal contribution. Listing order is random. Jakob proposed replacing RNNs with self-attention and started\\nthe effort to evaluate this idea. Ashish, with Illia, designed and implemented the first Transformer models and\\nhas been crucially involved in every aspect of this work. Noam proposed scaled dot-product attention, multi-head\\nattention and the parameter-free position representation and became the other person involved in nearly every\\ndetail. Niki designed, implemented, tuned and evaluated countless model variants in our original codebase and\\ntensor2tensor. Llion also experimented with novel model variants, was responsible for our initial codebase, and\\nefficient inference and visualizations. Lukasz and Aidan spent countless long days designing various parts of and\\nimplementing tensor2tensor, replacing our earlier codebase, greatly improving results and massively accelerating\\nour research.\\n†Work performed while at Google Brain.\\n‡Work performed while at Google Research.\\n31st Conference on Neural Information Processing Systems (NIPS 2017), Long Beach, CA, USA.arXiv:1706.03762v7  [cs.CL]  2 Aug 2023')"
      ]
     },
     "execution_count": 5,
     "metadata": {},
     "output_type": "execute_result"
    }
   ],
   "source": [
    "pdf_docs[0]"
   ]
  },
  {
   "cell_type": "code",
   "execution_count": 6,
   "id": "49e490d5",
   "metadata": {},
   "outputs": [
    {
     "name": "stdout",
     "output_type": "stream",
     "text": [
      "Provided proper attribution is provided, Google hereby grants permission to\n",
      "reproduce the tables and figures in this paper solely for use in journalistic or\n",
      "scholarly works.\n",
      "Attention Is All You Need\n",
      "Ashish Vaswani∗\n",
      "Google Brain\n",
      "avaswani@google.comNoam Shazeer∗\n",
      "Google Brain\n",
      "noam@google.comNiki Parmar∗\n",
      "Google Research\n",
      "nikip@google.comJakob Uszkoreit∗\n",
      "Google Research\n",
      "usz@google.com\n",
      "Llion Jones∗\n",
      "Google Research\n",
      "llion@google.comAidan N. Gomez∗ †\n",
      "University of Toronto\n",
      "aidan@cs.toronto.eduŁukasz Kaiser∗\n",
      "Google Brain\n",
      "lukaszkaiser@google.com\n",
      "Illia Polosukhin∗ ‡\n",
      "illia.polosukhin@gmail.com\n",
      "Abstract\n",
      "The dominant sequence transduction models are based on complex recurrent or\n",
      "convolutional neural networks that include an encoder and a decoder. The best\n",
      "performing models also connect the encoder and decoder through an attention\n",
      "mechanism. We propose a new simple network architecture, the Transformer,\n",
      "based solely on attention mechanisms, dispensing with recurrence and convolutions\n",
      "entirely. Experiments on two machine translation tasks show these models to\n",
      "be superior in quality while being more parallelizable and requiring significantly\n",
      "less time to train. Our model achieves 28.4 BLEU on the WMT 2014 English-\n",
      "to-German translation task, improving over the existing best results, including\n",
      "ensembles, by over 2 BLEU. On the WMT 2014 English-to-French translation task,\n",
      "our model establishes a new single-model state-of-the-art BLEU score of 41.8 after\n",
      "training for 3.5 days on eight GPUs, a small fraction of the training costs of the\n",
      "best models from the literature. We show that the Transformer generalizes well to\n",
      "other tasks by applying it successfully to English constituency parsing both with\n",
      "large and limited training data.\n",
      "∗Equal contribution. Listing order is random. Jakob proposed replacing RNNs with self-attention and started\n",
      "the effort to evaluate this idea. Ashish, with Illia, designed and implemented the first Transformer models and\n",
      "has been crucially involved in every aspect of this work. Noam proposed scaled dot-product attention, multi-head\n",
      "attention and the parameter-free position representation and became the other person involved in nearly every\n",
      "detail. Niki designed, implemented, tuned and evaluated countless model variants in our original codebase and\n",
      "tensor2tensor. Llion also experimented with novel model variants, was responsible for our initial codebase, and\n",
      "efficient inference and visualizations. Lukasz and Aidan spent countless long days designing various parts of and\n",
      "implementing tensor2tensor, replacing our earlier codebase, greatly improving results and massively accelerating\n",
      "our research.\n",
      "†Work performed while at Google Brain.\n",
      "‡Work performed while at Google Research.\n",
      "31st Conference on Neural Information Processing Systems (NIPS 2017), Long Beach, CA, USA.arXiv:1706.03762v7  [cs.CL]  2 Aug 2023\n"
     ]
    }
   ],
   "source": [
    "print(pdf_docs[0].page_content)"
   ]
  },
  {
   "cell_type": "code",
   "execution_count": 7,
   "id": "7de14715",
   "metadata": {},
   "outputs": [
    {
     "name": "stdout",
     "output_type": "stream",
     "text": [
      "{'source': './data/transformer.pdf', 'page': 0}\n"
     ]
    }
   ],
   "source": [
    "print(pdf_docs[0].metadata)"
   ]
  },
  {
   "cell_type": "code",
   "execution_count": 8,
   "id": "96aafd9c",
   "metadata": {},
   "outputs": [
    {
     "name": "stderr",
     "output_type": "stream",
     "text": [
      "USER_AGENT environment variable not set, consider setting it to identify your requests.\n"
     ]
    },
    {
     "data": {
      "text/plain": [
       "2"
      ]
     },
     "execution_count": 8,
     "metadata": {},
     "output_type": "execute_result"
    }
   ],
   "source": [
    "#bs4 = \"0.0.2\" 웹페이지 읽어오는 라이브러리\n",
    "\n",
    "from langchain_community.document_loaders import WebBaseLoader\n",
    "\n",
    "web_loader = WebBaseLoader([\"https://python.langchain.com/docs/introduction/\", \"https://js.langchain.com\"])\n",
    "\n",
    "web_docs = web_loader.load()\n",
    "\n",
    "len(web_docs)"
   ]
  },
  {
   "cell_type": "code",
   "execution_count": 9,
   "id": "8e2f017c",
   "metadata": {},
   "outputs": [
    {
     "name": "stdout",
     "output_type": "stream",
     "text": [
      "{'source': 'https://python.langchain.com/docs/introduction/', 'title': 'Introduction | 🦜️🔗 LangChain', 'description': 'LangChain is a framework for developing applications powered by large language models (LLMs).', 'language': 'en'}\n"
     ]
    }
   ],
   "source": [
    "print(web_docs[0].metadata)"
   ]
  },
  {
   "cell_type": "code",
   "execution_count": 10,
   "id": "1bafe210",
   "metadata": {},
   "outputs": [
    {
     "name": "stdout",
     "output_type": "stream",
     "text": [
      "\n",
      "\n",
      "\n",
      "\n",
      "\n",
      "Introduction | 🦜️🔗 LangChain\n",
      "\n",
      "\n",
      "\n",
      "\n",
      "\n",
      "\n",
      "Skip to main contentWe are growing and hiring for multiple roles for LangChain, LangGraph and LangSmith.  Join our team!IntegrationsAPI ReferenceMoreContributingPeopleError referenceLangSmithLangGraphLangChain HubLangChain JS/TSv0.3v0.3v0.2v0.1💬SearchIntroductionTutorialsBuild a Question Answering application over a Graph DatabaseTutorialsBuild a simple LLM application with chat models and prompt templatesBuild a ChatbotBuild a Retrieval Augmented Generation (RAG) App: Part 2Build an Extraction ChainBuild an AgentTaggingBuild a Retrieval Augmented Generation (RAG) App: Part 1Build a semantic search engineBuild a Question/Answering system over SQL dataSummarize TextHow-to guidesHow-to guidesHow to use tools in a chainHow to use a vectorstore as a retrieverHow to add memory to chatbotsHow to use example selectorsHow to add a semantic layer over graph databaseHow to invoke runnables in parallelHow to stream chat model responsesHow to add default invocation args to a RunnableHow to add retrieval to chatbotsHow to use few shot examples in chat modelsHow to do tool/function callingHow to install LangChain packagesHow to add examples to the prompt for query analysisHow to use few shot examplesHow to run custom functionsHow to use output parsers to parse an LLM response into structured formatHow to handle cases where no queries are generatedHow to route between sub-chainsHow to return structured data from a modelHow to summarize text through parallelizationHow to summarize text through iterative refinementHow to summarize text in a single LLM callHow to use toolkitsHow to add ad-hoc tool calling capability to LLMs and Chat ModelsBuild an Agent with AgentExecutor (Legacy)How to construct knowledge graphsHow to partially format prompt templatesHow to handle multiple queries when doing query analysisHow to use built-in tools and toolkitsHow to pass through arguments from one step to the nextHow to compose prompts togetherHow to handle multiple retrievers when doing query analysisHow to add values to a chain's stateHow to construct filters for query analysisHow to configure runtime chain internalsHow deal with high cardinality categoricals when doing query analysisCustom Document LoaderHow to use the MultiQueryRetrieverHow to add scores to retriever resultsCachingHow to use callbacks in async environmentsHow to attach callbacks to a runnableHow to propagate callbacks  constructorHow to dispatch custom callback eventsHow to pass callbacks in at runtimeHow to split by characterHow to cache chat model responsesHow to handle rate limitsHow to init any model in one lineHow to track token usage in ChatModelsHow to add tools to chatbotsHow to split codeHow to do retrieval with contextual compressionHow to convert Runnables to ToolsHow to create custom callback handlersHow to create a custom chat model classCustom EmbeddingsHow to create a custom LLM classCustom RetrieverHow to create toolsHow to debug your LLM appsHow to load CSVsHow to load documents from a directoryHow to load HTMLHow to load JSONHow to load MarkdownHow to load Microsoft Office filesHow to load PDFsHow to load web pagesHow to create a dynamic (self-constructing) chainText embedding modelsHow to combine results from multiple retrieversHow to select examples from a LangSmith datasetHow to select examples by lengthHow to select examples by maximal marginal relevance (MMR)How to select examples by n-gram overlapHow to select examples by similarityHow to use reference examples when doing extractionHow to handle long text when doing extractionHow to use prompting alone (no tool calling) to do extractionHow to add fallbacks to a runnableHow to filter messagesHybrid SearchHow to use the LangChain indexing APIHow to inspect runnablesLangChain Expression Language CheatsheetHow to cache LLM responsesHow to track token usage for LLMsRun models locallyHow to get log probabilitiesHow to reorder retrieved results to mitigate the \"lost in the middle\" effectHow to split Markdown by HeadersHow to merge consecutive messages of the same typeHow to add message historyHow to migrate from legacy LangChain agents to LangGraphHow to retrieve using multiple vectors per documentHow to pass multimodal data to modelsHow to use multimodal promptsHow to create a custom Output ParserHow to use the output-fixing parserHow to parse JSON outputHow to retry when a parsing error occursHow to parse text from message objectsHow to parse XML outputHow to parse YAML outputHow to use the Parent Document RetrieverHow to use LangChain with different Pydantic versionsHow to add chat historyHow to get a RAG application to add citationsHow to do per-user retrievalHow to get your RAG application to return sourcesHow to stream results from your RAG applicationHow to split JSON dataHow to recursively split text by charactersResponse metadataHow to pass runtime secrets to runnablesHow to do \"self-querying\" retrievalHow to split text based on semantic similarityHow to chain runnablesHow to save and load LangChain objectsHow to split text by tokensHow to split HTMLHow to do question answering over CSVsHow to deal with large databases when doing SQL question-answeringHow to better prompt when doing SQL question-answeringHow to do query validation as part of SQL question-answeringHow to stream runnablesHow to stream responses from an LLMHow to use a time-weighted vector store retrieverHow to return artifacts from a toolHow to use chat models to call toolsHow to disable parallel tool callingHow to force models to call a toolHow to access the RunnableConfig from a toolHow to pass tool outputs to chat modelsHow to pass run time values to toolsHow to stream events from a toolHow to stream tool callsHow to convert tools to OpenAI FunctionsHow to handle tool errorsHow to use few-shot prompting with tool callingHow to add a human-in-the-loop for toolsHow to bind model-specific toolsHow to trim messagesHow to create and query vector storesConceptual guideAgentsArchitectureAsync programming with langchainCallbacksChat historyChat modelsDocument loadersEmbedding modelsEvaluationExample selectorsFew-shot promptingConceptual guideKey-value storesLangChain Expression Language (LCEL)MessagesMultimodalityOutput parsersPrompt TemplatesRetrieval augmented generation (RAG)RetrievalRetrieversRunnable interfaceStreamingStructured outputsTestingString-in, string-out llmsText splittersTokensTool callingToolsTracingVector storesWhy LangChain?Ecosystem🦜🛠️ LangSmith🦜🕸️ LangGraphVersionsv0.3v0.2Pydantic compatibilityMigrating from v0.0 chainsHow to migrate from v0.0 chainsMigrating from ConstitutionalChainMigrating from ConversationalChainMigrating from ConversationalRetrievalChainMigrating from LLMChainMigrating from LLMMathChainMigrating from LLMRouterChainMigrating from MapReduceDocumentsChainMigrating from MapRerankDocumentsChainMigrating from MultiPromptChainMigrating from RefineDocumentsChainMigrating from RetrievalQAMigrating from StuffDocumentsChainUpgrading to LangGraph memoryHow to migrate to LangGraph memoryHow to use BaseChatMessageHistory with LangGraphMigrating off ConversationBufferMemory or ConversationStringBufferMemoryMigrating off ConversationBufferWindowMemory or ConversationTokenBufferMemoryMigrating off ConversationSummaryMemory or ConversationSummaryBufferMemoryA Long-Term Memory AgentRelease policySecurity PolicyIntroductionOn this pageIntroduction\n",
      "LangChain is a framework for developing applications powered by large language models (LLMs).\n",
      "LangChain simplifies every stage of the LLM application lifecycle:\n",
      "\n",
      "Development: Build your applications using LangChain's open-source components and third-party integrations.\n",
      "Use LangGraph to build stateful agents with first-class streaming and human-in-the-loop support.\n",
      "Productionization: Use LangSmith to inspect, monitor and evaluate your applications, so that you can continuously optimize and deploy with confidence.\n",
      "Deployment: Turn your LangGraph applications into production-ready APIs and Assistants with LangGraph Platform.\n",
      "\n",
      "\n",
      "\n",
      "LangChain implements a standard interface for large language models and related\n",
      "technologies, such as embedding models and vector stores, and integrates with\n",
      "hundreds of providers. See the integrations page for\n",
      "more.\n",
      "\n",
      "Select chat model:Google Gemini▾OpenAIAnthropicAzureGoogle GeminiGoogle VertexAWSGroqCohereNVIDIAFireworks AIMistral AITogether AIIBM watsonxDatabricksxAIPerplexitypip install -qU \"langchain[google-genai]\"import getpassimport osif not os.environ.get(\"GOOGLE_API_KEY\"):  os.environ[\"GOOGLE_API_KEY\"] = getpass.getpass(\"Enter API key for Google Gemini: \")from langchain.chat_models import init_chat_modelmodel = init_chat_model(\"gemini-2.0-flash\", model_provider=\"google_genai\")\n",
      "model.invoke(\"Hello, world!\")\n",
      "noteThese docs focus on the Python LangChain library. Head here for docs on the JavaScript LangChain library.\n",
      "Architecture​\n",
      "The LangChain framework consists of multiple open-source libraries. Read more in the\n",
      "Architecture page.\n",
      "\n",
      "langchain-core: Base abstractions for chat models and other components.\n",
      "Integration packages (e.g. langchain-openai, langchain-anthropic, etc.): Important integrations have been split into lightweight packages that are co-maintained by the LangChain team and the integration developers.\n",
      "langchain: Chains, agents, and retrieval strategies that make up an application's cognitive architecture.\n",
      "langchain-community: Third-party integrations that are community maintained.\n",
      "langgraph: Orchestration framework for combining LangChain components into production-ready applications with persistence, streaming, and other key features. See LangGraph documentation.\n",
      "\n",
      "Guides​\n",
      "Tutorials​\n",
      "If you're looking to build something specific or are more of a hands-on learner, check out our tutorials section.\n",
      "This is the best place to get started.\n",
      "These are the best ones to get started with:\n",
      "\n",
      "Build a Simple LLM Application\n",
      "Build a Chatbot\n",
      "Build an Agent\n",
      "Introduction to LangGraph\n",
      "\n",
      "Explore the full list of LangChain tutorials here, and check out other LangGraph tutorials here. To learn more about LangGraph, check out our first LangChain Academy course, Introduction to LangGraph, available here.\n",
      "How-to guides​\n",
      "Here you’ll find short answers to “How do I….?” types of questions.\n",
      "These how-to guides don’t cover topics in depth – you’ll find that material in the Tutorials and the API Reference.\n",
      "However, these guides will help you quickly accomplish common tasks using chat models,\n",
      "vector stores, and other common LangChain components.\n",
      "Check out LangGraph-specific how-tos here.\n",
      "Conceptual guide​\n",
      "Introductions to all the key parts of LangChain you’ll need to know! Here you'll find high level explanations of all LangChain concepts.\n",
      "For a deeper dive into LangGraph concepts, check out this page.\n",
      "Integrations​\n",
      "LangChain is part of a rich ecosystem of tools that integrate with our framework and build on top of it.\n",
      "If you're looking to get up and running quickly with chat models, vector stores,\n",
      "or other LangChain components from a specific provider, check out our growing list of integrations.\n",
      "API reference​\n",
      "Head to the reference section for full documentation of all classes and methods in the LangChain Python packages.\n",
      "Ecosystem​\n",
      "🦜🛠️ LangSmith​\n",
      "Trace and evaluate your language model applications and intelligent agents to help you move from prototype to production.\n",
      "🦜🕸️ LangGraph​\n",
      "Build stateful, multi-actor applications with LLMs. Integrates smoothly with LangChain, but can be used without it. LangGraph powers production-grade agents, trusted by Linkedin, Uber, Klarna, GitLab, and many more.\n",
      "Additional resources​\n",
      "Versions​\n",
      "See what changed in v0.3, learn how to migrate legacy code, read up on our versioning policies, and more.\n",
      "Security​\n",
      "Read up on security best practices to make sure you're developing safely with LangChain.\n",
      "Contributing​\n",
      "Check out the developer's guide for guidelines on contributing and help getting your dev environment set up.Edit this pageWas this page helpful?NextTutorialsArchitectureGuidesTutorialsHow-to guidesConceptual guideIntegrationsAPI referenceEcosystem🦜🛠️ LangSmith🦜🕸️ LangGraphAdditional resourcesVersionsSecurityContributingCommunityTwitterGitHubOrganizationPythonJS/TSMoreHomepageBlogYouTubeCopyright © 2025 LangChain, Inc.\n",
      "\n",
      "\n"
     ]
    }
   ],
   "source": [
    "print(web_docs[0].page_content)"
   ]
  },
  {
   "cell_type": "markdown",
   "id": "2ea8bfa3",
   "metadata": {},
   "source": [
    "##### 3. JSON파일"
   ]
  },
  {
   "cell_type": "code",
   "execution_count": 11,
   "id": "986986bd",
   "metadata": {},
   "outputs": [
    {
     "name": "stdout",
     "output_type": "stream",
     "text": [
      "문서의 수:  5\n",
      "--------------------------------------------------\n",
      "첫번째 문서의 내용:  안녕하세요 여러분, 오늘 회의 시간 확인차 연락드립니다.\n",
      "--------------------------------------------------\n",
      "첫번째 문서의 metadata:  {'source': 'C:\\\\AI_Prompt\\\\workspace\\\\ai_agent_work2\\\\langchain_env\\\\data\\\\kakao_chat.json', 'seq_num': 1}\n"
     ]
    }
   ],
   "source": [
    "from langchain_community.document_loaders import JSONLoader\n",
    "\n",
    "json_loader = JSONLoader(\n",
    "    file_path='./data/kakao_chat.json',\n",
    "    jq_schema=\".messages[].content\", #target json파일 카톡 메시지만 불러오기 \n",
    "    text_content=True,\n",
    ")\n",
    "\n",
    "json_docs = json_loader.load()\n",
    "\n",
    "print(\"문서의 수: \", len(json_docs))\n",
    "print('-'*50)\n",
    "print(\"첫번째 문서의 내용: \", json_docs[0].page_content)\n",
    "print('-'*50)\n",
    "print(\"첫번째 문서의 metadata: \", json_docs[0].metadata)"
   ]
  },
  {
   "cell_type": "code",
   "execution_count": 12,
   "id": "cf9ed562",
   "metadata": {},
   "outputs": [
    {
     "name": "stdout",
     "output_type": "stream",
     "text": [
      "문서의 수:  5\n",
      "--------------------------------------------------\n",
      "첫번째 문서의 내용:  {\"sender\": \"\\uae40\\ucca0\\uc218\", \"timestamp\": \"2023-09-15 09:30:22\", \"content\": \"\\uc548\\ub155\\ud558\\uc138\\uc694 \\uc5ec\\ub7ec\\ubd84, \\uc624\\ub298 \\ud68c\\uc758 \\uc2dc\\uac04 \\ud655\\uc778\\ucc28 \\uc5f0\\ub77d\\ub4dc\\ub9bd\\ub2c8\\ub2e4.\"}\n",
      "--------------------------------------------------\n",
      "첫번째 문서의 metadata:  {'source': 'C:\\\\AI_Prompt\\\\workspace\\\\ai_agent_work2\\\\langchain_env\\\\data\\\\kakao_chat.json', 'seq_num': 1}\n"
     ]
    }
   ],
   "source": [
    "from langchain_community.document_loaders import JSONLoader\n",
    "\n",
    "json_loader = JSONLoader(\n",
    "    file_path='./data/kakao_chat.json',\n",
    "    jq_schema=\".messages[]\", #target text 아님 리스트 전체\n",
    "    text_content=False, #그래서 false\n",
    ")\n",
    "\n",
    "json_docs = json_loader.load()\n",
    "\n",
    "print(\"문서의 수: \", len(json_docs))\n",
    "print('-'*50)\n",
    "print(\"첫번째 문서의 내용: \", json_docs[0].page_content)\n",
    "print('-'*50)\n",
    "print(\"첫번째 문서의 metadata: \", json_docs[0].metadata)"
   ]
  },
  {
   "cell_type": "code",
   "execution_count": 13,
   "id": "1d71f0db",
   "metadata": {},
   "outputs": [
    {
     "name": "stdout",
     "output_type": "stream",
     "text": [
      "문서의 수:  5\n",
      "--------------------------------------------------\n",
      "첫번째 문서의 내용:  {\"sender\": \"김철수\", \"timestamp\": \"2023-09-15 09:30:22\", \"content\": \"안녕하세요 여러분, 오늘 회의 시간 확인차 연락드립니다.\"}\n",
      "--------------------------------------------------\n",
      "첫번째 문서의 metadata:  {'source': 'C:\\\\AI_Prompt\\\\workspace\\\\ai_agent_work2\\\\langchain_env\\\\data\\\\kakao_chat.json', 'seq_num': 1}\n"
     ]
    }
   ],
   "source": [
    "decoded_json_docs = []\n",
    "for doc in json_docs:\n",
    "    \n",
    "    decoded_data = json.loads(doc.page_content)\n",
    "    \n",
    "    \n",
    "    decoded_json_docs.append(\n",
    "        {\n",
    "            \"page_content\": json.dumps(decoded_data, ensure_ascii=False),\n",
    "            \"metadata\": doc.metadata\n",
    "        }\n",
    "    )\n",
    "\n",
    "\n",
    "print(\"문서의 수: \", len(decoded_json_docs))\n",
    "print('-'*50)\n",
    "print(\"첫번째 문서의 내용: \", decoded_json_docs[0]['page_content'])\n",
    "print('-'*50)\n",
    "print(\"첫번째 문서의 metadata: \", decoded_json_docs[0]['metadata'])"
   ]
  },
  {
   "cell_type": "markdown",
   "id": "ed4e2e3e",
   "metadata": {},
   "source": [
    "도큐먼트 객체를 만들어서 처리하는 방법"
   ]
  },
  {
   "cell_type": "code",
   "execution_count": 14,
   "id": "c163c428",
   "metadata": {},
   "outputs": [
    {
     "name": "stdout",
     "output_type": "stream",
     "text": [
      "문서의 수:  5\n",
      "--------------------------------------------------\n",
      "첫번째 문서의 내용:  {\"sender\": \"김철수\", \"timestamp\": \"2023-09-15 09:30:22\", \"content\": \"안녕하세요 여러분, 오늘 회의 시간 확인차 연락드립니다.\"}\n",
      "--------------------------------------------------\n",
      "첫번째 문서의 metadata:  {'source': 'C:\\\\AI_Prompt\\\\workspace\\\\ai_agent_work2\\\\langchain_env\\\\data\\\\kakao_chat.json', 'seq_num': 1}\n"
     ]
    }
   ],
   "source": [
    "from langchain_core.documents import Document\n",
    "\n",
    "decoded_json_docs = []\n",
    "for doc in json_docs:\n",
    "    \n",
    "    decoded_data = json.loads(doc.page_content)\n",
    "    \n",
    "    document_obj = Document(\n",
    "        page_content = json.dumps(decoded_data, ensure_ascii=False),\n",
    "        metadata= doc.metadata\n",
    "    )\n",
    "\n",
    "    decoded_json_docs.append(document_obj)\n",
    "\n",
    "print(\"문서의 수: \", len(decoded_json_docs))\n",
    "print('-'*50)\n",
    "print(\"첫번째 문서의 내용: \", decoded_json_docs[0].page_content)\n",
    "print('-'*50)\n",
    "print(\"첫번째 문서의 metadata: \", decoded_json_docs[0].metadata)"
   ]
  },
  {
   "cell_type": "code",
   "execution_count": 15,
   "id": "ba8a9c71",
   "metadata": {},
   "outputs": [
    {
     "name": "stdout",
     "output_type": "stream",
     "text": [
      "문서의 수:  5\n",
      "--------------------------------------------------\n",
      "첫번째 문서의 내용:  안녕하세요 여러분, 오늘 회의 시간 확인차 연락드립니다.\n",
      "--------------------------------------------------\n",
      "첫번째 문서의 metadata:  {'source': 'C:\\\\AI_Prompt\\\\workspace\\\\ai_agent_work2\\\\langchain_env\\\\data\\\\kakao_chat.jsonl', 'seq_num': 1}\n"
     ]
    }
   ],
   "source": [
    "#{}나열\n",
    "#jsonl파일 로드 하기 \n",
    "\n",
    "jsonl_loader = JSONLoader(\n",
    "    file_path='./data/kakao_chat.jsonl',\n",
    "    jq_schema=\".\", #한줄 {} 한개를 의미하는 거임\n",
    "    content_key='content',\n",
    "    text_content=True,\n",
    "    json_lines=True,\n",
    ")\n",
    "\n",
    "jsonl_docs = jsonl_loader.load()\n",
    "\n",
    "print(\"문서의 수: \", len(jsonl_docs))\n",
    "print('-'*50)\n",
    "print(\"첫번째 문서의 내용: \", jsonl_docs[0].page_content)\n",
    "print('-'*50)\n",
    "print(\"첫번째 문서의 metadata: \", jsonl_docs[0].metadata)\n"
   ]
  },
  {
   "cell_type": "code",
   "execution_count": 16,
   "id": "e90abed6",
   "metadata": {},
   "outputs": [
    {
     "name": "stdout",
     "output_type": "stream",
     "text": [
      "문서의 수:  10\n",
      "--------------------------------------------------\n",
      "첫번째 문서의 내용:  Team: KIA 타이거즈\n",
      "City: 광주\n",
      "Founded: 1982\n",
      "Home Stadium: 광주-기아 챔피언스 필드\n",
      "Championships: 11\n",
      "Introduction: KBO 리그의 전통 강호로, 역대 최다 우승 기록을 보유하고 있다. '타이거즈 스피릿'으로 유명하며, 양현종, 안치홍 등 스타 선수들을 배출했다. 광주를 연고로 하는 유일한 프로야구팀으로 지역 사랑이 강하다.\n",
      "--------------------------------------------------\n",
      "첫번째 문서의 metadata:  {'source': './data/kbo_teams_2023.csv', 'row': 0}\n"
     ]
    }
   ],
   "source": [
    "#csv\n",
    "\n",
    "from langchain_community.document_loaders import CSVLoader\n",
    "\n",
    "csv_loader = CSVLoader(\n",
    "    file_path='./data/kbo_teams_2023.csv', encoding='utf-8'\n",
    "    \n",
    ")\n",
    "\n",
    "csv_docs = csv_loader.load()\n",
    "\n",
    "print(\"문서의 수: \", len(csv_docs))\n",
    "print('-'*50)\n",
    "print(\"첫번째 문서의 내용: \", csv_docs[0].page_content)\n",
    "print('-'*50)\n",
    "print(\"첫번째 문서의 metadata: \", csv_docs[0].metadata)\n"
   ]
  },
  {
   "cell_type": "markdown",
   "id": "df07441e",
   "metadata": {},
   "source": [
    "0609\n",
    "문서청킹"
   ]
  },
  {
   "cell_type": "markdown",
   "id": "cb505cc8",
   "metadata": {},
   "source": [
    "##### RecursiveCharacterTextSplit"
   ]
  },
  {
   "cell_type": "code",
   "execution_count": 17,
   "id": "a0ad2be3",
   "metadata": {},
   "outputs": [],
   "source": [
    "##### RecursiveCharacterTextSplit"
   ]
  },
  {
   "cell_type": "code",
   "execution_count": 18,
   "id": "da0407a2",
   "metadata": {},
   "outputs": [
    {
     "name": "stdout",
     "output_type": "stream",
     "text": [
      "생성된 텍스트 청크 수 : 52\n",
      "각 청크의 길이 : [981, 910, 975, 451, 932, 998, 904, 907, 995, 385, 926, 953, 216, 920, 996, 829, 975, 910, 906, 870, 929, 961, 945, 997, 195, 977, 968, 947, 933, 965, 938, 915, 733, 952, 945, 948, 618, 980, 989, 994, 624, 945, 914, 946, 918, 988, 929, 929, 849, 812, 814, 817]\n"
     ]
    }
   ],
   "source": [
    "from pydoc import text\n",
    "from langchain_text_splitters import RecursiveCharacterTextSplitter\n",
    "#효과적인 텍스트 분할 전략 중 재귀적 분할 \n",
    "\n",
    "text_splitter = RecursiveCharacterTextSplitter(\n",
    "    chunk_size = 1000,      #청크크기\n",
    "    chunk_overlap = 200,    #청크 간의 겹치는 부분 크기\n",
    "    length_function = len,  #글자 수를 기준을 분할 \n",
    "    separators=[\"\\n\\n\", \"\\n\", \".\", \" \", \"\"],     #구분자\n",
    ")\n",
    "\n",
    "\n",
    "texts = text_splitter.split_documents(pdf_docs)\n",
    "print(f'생성된 텍스트 청크 수 : {len(texts)}')\n",
    "print(f'각 청크의 길이 : {list(len(text.page_content) for text in texts)}')\n"
   ]
  },
  {
   "cell_type": "code",
   "execution_count": 19,
   "id": "6a5ddd42",
   "metadata": {},
   "outputs": [
    {
     "name": "stdout",
     "output_type": "stream",
     "text": [
      "Provided proper attribution is provided, Google hereby grants permission to\n",
      "reproduce the tables and figures in this paper solely for use in journalistic or\n",
      "scholarly works.\n",
      "Attention Is All You Need\n",
      "\n",
      "--------------------------------------------------------------------------------------------------------------------------------------------------------------------------------------------------------\n",
      "the encoder and decoder through an attention\n",
      "mechanism. We propose a new simple network architecture, the Transformer,\n",
      "based solely on attention mechanisms, dispensing with recurrence and convolutions\n",
      "++++++++++++++++++++++++++++++++++++++++++++++++++++++++++++++++++++++++++++++++++++++++++++++++++++++++++++++++++++++++++++++++++++++++++++++++++++++++++++++++++++++++++++++++++++++++++++++++++++++++++++++++++++++++++++++++++++++++++++++++++++++++++++++++++++++++++++++++++++++++++++++++++++++++++++++++++++++++++++++++++++++++++++++++++++++++++++++++++++++++++++++++++++++++++++++++++++++++++++++++++++++++++++++++++++++++++++++++++++++++++++++++++++++++++++++++++++++++++++++++++++++++++++++++++++++++++++++++++++++++++++++++++++++++++++++++++++++++++++++++++++++++++++++++++++++++++++++++++++++++++++++++++++++++++++++++++++++++++++++++++++++++++++++++++++++++++++++++++++++++++++++++++++++++++++++++++++++++++++++++++++++++++++++++++++++++++++++++++++++++++++++++++++++++++++++++++++++++++++++++++++++++++++++++++++++++++++++++++++++++++++++++++++++++++++++++++++++++++++++++++++++++++++++++++++++++++++++++++++++++++++++++++++++++++++++++++++++++++++++++++++++++++++++++++++++++++++++++++++++++++++++++++++++++++++++++++++++++++++++++++++++++++++++++++++++++++++++++++++++++++++++++++++++++++++++++++++++++++++++++++++++++++++++++++++++++++++++++++++++++++++++++++++++++++++++++++++++++++++++++++++++++++++++++++++++++++++++++++++++++++++++++++++++++++++++++++++++++++++++++++++++++++++++++++++++++++++++++++++++++++++++++++++++++++++++++++++++++++++++++++++++++++++++++++++++++++++++++++++++++++++++++++++++++++++++++++++++++++++++++++++++++++++++++++++++++++++++++++++++++++++++++++++++++++++++++++++++++++++++++++++++++++++++++++++++++++++++++++++++++++++++++++++++++++++++++++++++++++++++++++++++++++++++++++++++++++++++++++++++++++++++++++++++++++++++++++++++++++++++++++++++++++++++++++++++++++++++++++++++++++++++++++++++++++++++++++++++++++++++++++++++++++++++++++++++++++++++++++++++++++++++++++++++++++++++++++++++++++++++++++++++++++++++++++++++++++++++++++++++++++++++++++++++++++++++++++++++++++++++++++++++++++++++++++++++++++++++++++++++++++++++++++++++++++++++++++++++++++++++++\n",
      "\n",
      "mechanism. We propose a new simple network architecture, the Transformer,\n",
      "based solely on attention mechanisms, dispensing with recurrence and convolutions\n",
      "entirely. Experiments on two machine transla\n",
      "--------------------------------------------------------------------------------------------------------------------------------------------------------------------------------------------------------\n",
      "the\n",
      "best models from the literature. We show that the Transformer generalizes well to\n",
      "other tasks by applying it successfully to English constituency parsing both with\n",
      "large and limited training data.\n",
      "++++++++++++++++++++++++++++++++++++++++++++++++++++++++++++++++++++++++++++++++++++++++++++++++++++++++++++++++++++++++++++++++++++++++++++++++++++++++++++++++++++++++++++++++++++++++++++++++++++++++++++++++++++++++++++++++++++++++++++++++++++++++++++++++++++++++++++++++++++++++++++++++++++++++++++++++++++++++++++++++++++++++++++++++++++++++++++++++++++++++++++++++++++++++++++++++++++++++++++++++++++++++++++++++++++++++++++++++++++++++++++++++++++++++++++++++++++++++++++++++++++++++++++++++++++++++++++++++++++++++++++++++++++++++++++++++++++++++++++++++++++++++++++++++++++++++++++++++++++++++++++++++++++++++++++++++++++++++++++++++++++++++++++++++++++++++++++++++++++++++++++++++++++++++++++++++++++++++++++++++++++++++++++++++++++++++++++++++++++++++++++++++++++++++++++++++++++++++++++++++++++++++++++++++++++++++++++++++++++++++++++++++++++++++++++++++++++++++++++++++++++++++++++++++++++++++++++++++++++++++++++++++++++++++++++++++++++++++++++++++++++++++++++++++++++++++++++++++++++++++++++++++++++++++++++++++++++++++++++++++++++++++++++++++++++++++++++++++++++++++++++++++++++++++++++++++++++++++++++++++++++++++++++++++++++++++++++++++++++++++++++++++++++++++++++++++++++++++++++++++++++++++++++++++++++++++++++++++++++++++++++++++++++++++++++++++++++++++++++++++++++++++++++++++++++++++++++++++++++++++++++++++++++++++++++++++++++++++++++++++++++++++++++++++++++++++++++++++++++++++++++++++++++++++++++++++++++++++++++++++++++++++++++++++++++++++++++++++++++++++++++++++++++++++++++++++++++++++++++++++++++++++++++++++++++++++++++++++++++++++++++++++++++++++++++++++++++++++++++++++++++++++++++++++++++++++++++++++++++++++++++++++++++++++++++++++++++++++++++++++++++++++++++++++++++++++++++++++++++++++++++++++++++++++++++++++++++++++++++++++++++++++++++++++++++++++++++++++++++++++++++++++++++++++++++++++++++++++++++++++++++++++++++++++++++++++++++++++++++++++++++++++++++++++++++++++++++++++++++++++++++++++++++++++++++++++++++++++++++++++++++++++++++++++++++++++++++++++++++++++\n",
      "\n",
      "best models from the literature. We show that the Transformer generalizes well to\n",
      "other tasks by applying it successfully to English constituency parsing both with\n",
      "large and limited training data.\n",
      "∗Eq\n",
      "--------------------------------------------------------------------------------------------------------------------------------------------------------------------------------------------------------\n",
      " experimented with novel model variants, was responsible for our initial codebase, and\n",
      "efficient inference and visualizations. Lukasz and Aidan spent countless long days designing various parts of and\n",
      "++++++++++++++++++++++++++++++++++++++++++++++++++++++++++++++++++++++++++++++++++++++++++++++++++++++++++++++++++++++++++++++++++++++++++++++++++++++++++++++++++++++++++++++++++++++++++++++++++++++++++++++++++++++++++++++++++++++++++++++++++++++++++++++++++++++++++++++++++++++++++++++++++++++++++++++++++++++++++++++++++++++++++++++++++++++++++++++++++++++++++++++++++++++++++++++++++++++++++++++++++++++++++++++++++++++++++++++++++++++++++++++++++++++++++++++++++++++++++++++++++++++++++++++++++++++++++++++++++++++++++++++++++++++++++++++++++++++++++++++++++++++++++++++++++++++++++++++++++++++++++++++++++++++++++++++++++++++++++++++++++++++++++++++++++++++++++++++++++++++++++++++++++++++++++++++++++++++++++++++++++++++++++++++++++++++++++++++++++++++++++++++++++++++++++++++++++++++++++++++++++++++++++++++++++++++++++++++++++++++++++++++++++++++++++++++++++++++++++++++++++++++++++++++++++++++++++++++++++++++++++++++++++++++++++++++++++++++++++++++++++++++++++++++++++++++++++++++++++++++++++++++++++++++++++++++++++++++++++++++++++++++++++++++++++++++++++++++++++++++++++++++++++++++++++++++++++++++++++++++++++++++++++++++++++++++++++++++++++++++++++++++++++++++++++++++++++++++++++++++++++++++++++++++++++++++++++++++++++++++++++++++++++++++++++++++++++++++++++++++++++++++++++++++++++++++++++++++++++++++++++++++++++++++++++++++++++++++++++++++++++++++++++++++++++++++++++++++++++++++++++++++++++++++++++++++++++++++++++++++++++++++++++++++++++++++++++++++++++++++++++++++++++++++++++++++++++++++++++++++++++++++++++++++++++++++++++++++++++++++++++++++++++++++++++++++++++++++++++++++++++++++++++++++++++++++++++++++++++++++++++++++++++++++++++++++++++++++++++++++++++++++++++++++++++++++++++++++++++++++++++++++++++++++++++++++++++++++++++++++++++++++++++++++++++++++++++++++++++++++++++++++++++++++++++++++++++++++++++++++++++++++++++++++++++++++++++++++++++++++++++++++++++++++++++++++++++++++++++++++++++++++++++++++++++++++++++++++++++++++++++++++++++++++++++++++++++++++++++++++++\n",
      "\n",
      "efficient inference and visualizations. Lukasz and Aidan spent countless long days designing various parts of and\n",
      "implementing tensor2tensor, replacing our earlier codebase, greatly improving results \n",
      "--------------------------------------------------------------------------------------------------------------------------------------------------------------------------------------------------------\n",
      "ormed while at Google Brain.\n",
      "‡Work performed while at Google Research.\n",
      "31st Conference on Neural Information Processing Systems (NIPS 2017), Long Beach, CA, USA.arXiv:1706.03762v7  [cs.CL]  2 Aug 2023\n",
      "++++++++++++++++++++++++++++++++++++++++++++++++++++++++++++++++++++++++++++++++++++++++++++++++++++++++++++++++++++++++++++++++++++++++++++++++++++++++++++++++++++++++++++++++++++++++++++++++++++++++++++++++++++++++++++++++++++++++++++++++++++++++++++++++++++++++++++++++++++++++++++++++++++++++++++++++++++++++++++++++++++++++++++++++++++++++++++++++++++++++++++++++++++++++++++++++++++++++++++++++++++++++++++++++++++++++++++++++++++++++++++++++++++++++++++++++++++++++++++++++++++++++++++++++++++++++++++++++++++++++++++++++++++++++++++++++++++++++++++++++++++++++++++++++++++++++++++++++++++++++++++++++++++++++++++++++++++++++++++++++++++++++++++++++++++++++++++++++++++++++++++++++++++++++++++++++++++++++++++++++++++++++++++++++++++++++++++++++++++++++++++++++++++++++++++++++++++++++++++++++++++++++++++++++++++++++++++++++++++++++++++++++++++++++++++++++++++++++++++++++++++++++++++++++++++++++++++++++++++++++++++++++++++++++++++++++++++++++++++++++++++++++++++++++++++++++++++++++++++++++++++++++++++++++++++++++++++++++++++++++++++++++++++++++++++++++++++++++++++++++++++++++++++++++++++++++++++++++++++++++++++++++++++++++++++++++++++++++++++++++++++++++++++++++++++++++++++++++++++++++++++++++++++++++++++++++++++++++++++++++++++++++++++++++++++++++++++++++++++++++++++++++++++++++++++++++++++++++++++++++++++++++++++++++++++++++++++++++++++++++++++++++++++++++++++++++++++++++++++++++++++++++++++++++++++++++++++++++++++++++++++++++++++++++++++++++++++++++++++++++++++++++++++++++++++++++++++++++++++++++++++++++++++++++++++++++++++++++++++++++++++++++++++++++++++++++++++++++++++++++++++++++++++++++++++++++++++++++++++++++++++++++++++++++++++++++++++++++++++++++++++++++++++++++++++++++++++++++++++++++++++++++++++++++++++++++++++++++++++++++++++++++++++++++++++++++++++++++++++++++++++++++++++++++++++++++++++++++++++++++++++++++++++++++++++++++++++++++++++++++++++++++++++++++++++++++++++++++++++++++++++++++++++++++++++++++++++++++++++++++++++++++++++++++++++++++++++++++++++++++\n",
      "\n",
      "1 Introduction\n",
      "Recurrent neural networks, long short-term memory [ 13] and gated recurrent [ 7] neural networks\n",
      "in particular, have been firmly established as state of the art approaches in sequence m\n",
      "--------------------------------------------------------------------------------------------------------------------------------------------------------------------------------------------------------\n",
      "\n",
      "sequential nature precludes parallelization within training examples, which becomes critical at longer\n",
      "sequence lengths, as memory constraints limit batching across examples. Recent work has achieved\n",
      "++++++++++++++++++++++++++++++++++++++++++++++++++++++++++++++++++++++++++++++++++++++++++++++++++++++++++++++++++++++++++++++++++++++++++++++++++++++++++++++++++++++++++++++++++++++++++++++++++++++++++++++++++++++++++++++++++++++++++++++++++++++++++++++++++++++++++++++++++++++++++++++++++++++++++++++++++++++++++++++++++++++++++++++++++++++++++++++++++++++++++++++++++++++++++++++++++++++++++++++++++++++++++++++++++++++++++++++++++++++++++++++++++++++++++++++++++++++++++++++++++++++++++++++++++++++++++++++++++++++++++++++++++++++++++++++++++++++++++++++++++++++++++++++++++++++++++++++++++++++++++++++++++++++++++++++++++++++++++++++++++++++++++++++++++++++++++++++++++++++++++++++++++++++++++++++++++++++++++++++++++++++++++++++++++++++++++++++++++++++++++++++++++++++++++++++++++++++++++++++++++++++++++++++++++++++++++++++++++++++++++++++++++++++++++++++++++++++++++++++++++++++++++++++++++++++++++++++++++++++++++++++++++++++++++++++++++++++++++++++++++++++++++++++++++++++++++++++++++++++++++++++++++++++++++++++++++++++++++++++++++++++++++++++++++++++++++++++++++++++++++++++++++++++++++++++++++++++++++++++++++++++++++++++++++++++++++++++++++++++++++++++++++++++++++++++++++++++++++++++++++++++++++++++++++++++++++++++++++++++++++++++++++++++++++++++++++++++++++++++++++++++++++++++++++++++++++++++++++++++++++++++++++++++++++++++++++++++++++++++++++++++++++++++++++++++++++++++++++++++++++++++++++++++++++++++++++++++++++++++++++++++++++++++++++++++++++++++++++++++++++++++++++++++++++++++++++++++++++++++++++++++++++++++++++++++++++++++++++++++++++++++++++++++++++++++++++++++++++++++++++++++++++++++++++++++++++++++++++++++++++++++++++++++++++++++++++++++++++++++++++++++++++++++++++++++++++++++++++++++++++++++++++++++++++++++++++++++++++++++++++++++++++++++++++++++++++++++++++++++++++++++++++++++++++++++++++++++++++++++++++++++++++++++++++++++++++++++++++++++++++++++++++++++++++++++++++++++++++++++++++++++++++++++++++++++++++++++++++++++++++++++++++++++++++++++++++++++++++++++++\n",
      "\n"
     ]
    }
   ],
   "source": [
    "for text in texts[:5]:\n",
    "    # print('-'*50)\n",
    "    print(text.page_content[:200])\n",
    "    print('-'*200)\n",
    "    print(text.page_content[-200:])\n",
    "    print('+'*2000)\n",
    "    print()"
   ]
  },
  {
   "cell_type": "code",
   "execution_count": 20,
   "id": "513be0a7",
   "metadata": {},
   "outputs": [
    {
     "name": "stderr",
     "output_type": "stream",
     "text": [
      "Created a chunk of size 11, which is longer than the specified 10\n",
      "Created a chunk of size 13, which is longer than the specified 10\n"
     ]
    },
    {
     "name": "stdout",
     "output_type": "stream",
     "text": [
      "생성된 텍스트 청크 수 : 9\n",
      "각 청크의 길이 : [31, 9, 15, 7, 11, 11, 27, 13, 13]\n",
      "안녕하세요 여러분, 오늘 회의 시간 확인차 연락드립니다.\n",
      "--------------------------------------------------------------------------------------------------------------------------------------------------------------------------------------------------------\n",
      "안녕하세요 여러분, 오늘 회의 시간 확인차 연락드립니다.\n",
      "++++++++++++++++++++++++++++++++++++++++++++++++++++++++++++++++++++++++++++++++++++++++++++++++++++++++++++++++++++++++++++++++++++++++++++++++++++++++++++++++++++++++++++++++++++++++++++++++++++++++++++++++++++++++++++++++++++++++++++++++++++++++++++++++++++++++++++++++++++++++++++++++++++++++++++++++++++++++++++++++++++++++++++++++++++++++++++++++++++++++++++++++++++++++++++++++++++++++++++++++++++++++++++++++++++++++++++++++++++++++++++++++++++++++++++++++++++++++++++++++++++++++++++++++++++++++++++++++++++++++++++++++++++++++++++++++++++++++++++++++++++++++++++++++++++++++++++++++++++++++++++++++++++++++++++++++++++++++++++++++++++++++++++++++++++++++++++++++++++++++++++++++++++++++++++++++++++++++++++++++++++++++++++++++++++++++++++++++++++++++++++++++++++++++++++++++++++++++++++++++++++++++++++++++++++++++++++++++++++++++++++++++++++++++++++++++++++++++++++++++++++++++++++++++++++++++++++++++++++++++++++++++++++++++++++++++++++++++++++++++++++++++++++++++++++++++++++++++++++++++++++++++++++++++++++++++++++++++++++++++++++++++++++++++++++++++++++++++++++++++++++++++++++++++++++++++++++++++++++++++++++++++++++++++++++++++++++++++++++++++++++++++++++++++++++++++++++++++++++++++++++++++++++++++++++++++++++++++++++++++++++++++++++++++++++++++++++++++++++++++++++++++++++++++++++++++++++++++++++++++++++++++++++++++++++++++++++++++++++++++++++++++++++++++++++++++++++++++++++++++++++++++++++++++++++++++++++++++++++++++++++++++++++++++++++++++++++++++++++++++++++++++++++++++++++++++++++++++++++++++++++++++++++++++++++++++++++++++++++++++++++++++++++++++++++++++++++++++++++++++++++++++++++++++++++++++++++++++++++++++++++++++++++++++++++++++++++++++++++++++++++++++++++++++++++++++++++++++++++++++++++++++++++++++++++++++++++++++++++++++++++++++++++++++++++++++++++++++++++++++++++++++++++++++++++++++++++++++++++++++++++++++++++++++++++++++++++++++++++++++++++++++++++++++++++++++++++++++++++++++++++++++++++++++++++++++++++++++++++++++++++++++++++++++++++++++++++++++++++++++\n",
      "\n",
      "네, 안녕하세요.\n",
      "--------------------------------------------------------------------------------------------------------------------------------------------------------------------------------------------------------\n",
      "네, 안녕하세요.\n",
      "++++++++++++++++++++++++++++++++++++++++++++++++++++++++++++++++++++++++++++++++++++++++++++++++++++++++++++++++++++++++++++++++++++++++++++++++++++++++++++++++++++++++++++++++++++++++++++++++++++++++++++++++++++++++++++++++++++++++++++++++++++++++++++++++++++++++++++++++++++++++++++++++++++++++++++++++++++++++++++++++++++++++++++++++++++++++++++++++++++++++++++++++++++++++++++++++++++++++++++++++++++++++++++++++++++++++++++++++++++++++++++++++++++++++++++++++++++++++++++++++++++++++++++++++++++++++++++++++++++++++++++++++++++++++++++++++++++++++++++++++++++++++++++++++++++++++++++++++++++++++++++++++++++++++++++++++++++++++++++++++++++++++++++++++++++++++++++++++++++++++++++++++++++++++++++++++++++++++++++++++++++++++++++++++++++++++++++++++++++++++++++++++++++++++++++++++++++++++++++++++++++++++++++++++++++++++++++++++++++++++++++++++++++++++++++++++++++++++++++++++++++++++++++++++++++++++++++++++++++++++++++++++++++++++++++++++++++++++++++++++++++++++++++++++++++++++++++++++++++++++++++++++++++++++++++++++++++++++++++++++++++++++++++++++++++++++++++++++++++++++++++++++++++++++++++++++++++++++++++++++++++++++++++++++++++++++++++++++++++++++++++++++++++++++++++++++++++++++++++++++++++++++++++++++++++++++++++++++++++++++++++++++++++++++++++++++++++++++++++++++++++++++++++++++++++++++++++++++++++++++++++++++++++++++++++++++++++++++++++++++++++++++++++++++++++++++++++++++++++++++++++++++++++++++++++++++++++++++++++++++++++++++++++++++++++++++++++++++++++++++++++++++++++++++++++++++++++++++++++++++++++++++++++++++++++++++++++++++++++++++++++++++++++++++++++++++++++++++++++++++++++++++++++++++++++++++++++++++++++++++++++++++++++++++++++++++++++++++++++++++++++++++++++++++++++++++++++++++++++++++++++++++++++++++++++++++++++++++++++++++++++++++++++++++++++++++++++++++++++++++++++++++++++++++++++++++++++++++++++++++++++++++++++++++++++++++++++++++++++++++++++++++++++++++++++++++++++++++++++++++++++++++++++++++++++++++++++++++++++++++++++++++++++++++++++++++++++++++++++++++\n",
      "\n",
      "오후 2시에 하기로 했어요.\n",
      "--------------------------------------------------------------------------------------------------------------------------------------------------------------------------------------------------------\n",
      "오후 2시에 하기로 했어요.\n",
      "++++++++++++++++++++++++++++++++++++++++++++++++++++++++++++++++++++++++++++++++++++++++++++++++++++++++++++++++++++++++++++++++++++++++++++++++++++++++++++++++++++++++++++++++++++++++++++++++++++++++++++++++++++++++++++++++++++++++++++++++++++++++++++++++++++++++++++++++++++++++++++++++++++++++++++++++++++++++++++++++++++++++++++++++++++++++++++++++++++++++++++++++++++++++++++++++++++++++++++++++++++++++++++++++++++++++++++++++++++++++++++++++++++++++++++++++++++++++++++++++++++++++++++++++++++++++++++++++++++++++++++++++++++++++++++++++++++++++++++++++++++++++++++++++++++++++++++++++++++++++++++++++++++++++++++++++++++++++++++++++++++++++++++++++++++++++++++++++++++++++++++++++++++++++++++++++++++++++++++++++++++++++++++++++++++++++++++++++++++++++++++++++++++++++++++++++++++++++++++++++++++++++++++++++++++++++++++++++++++++++++++++++++++++++++++++++++++++++++++++++++++++++++++++++++++++++++++++++++++++++++++++++++++++++++++++++++++++++++++++++++++++++++++++++++++++++++++++++++++++++++++++++++++++++++++++++++++++++++++++++++++++++++++++++++++++++++++++++++++++++++++++++++++++++++++++++++++++++++++++++++++++++++++++++++++++++++++++++++++++++++++++++++++++++++++++++++++++++++++++++++++++++++++++++++++++++++++++++++++++++++++++++++++++++++++++++++++++++++++++++++++++++++++++++++++++++++++++++++++++++++++++++++++++++++++++++++++++++++++++++++++++++++++++++++++++++++++++++++++++++++++++++++++++++++++++++++++++++++++++++++++++++++++++++++++++++++++++++++++++++++++++++++++++++++++++++++++++++++++++++++++++++++++++++++++++++++++++++++++++++++++++++++++++++++++++++++++++++++++++++++++++++++++++++++++++++++++++++++++++++++++++++++++++++++++++++++++++++++++++++++++++++++++++++++++++++++++++++++++++++++++++++++++++++++++++++++++++++++++++++++++++++++++++++++++++++++++++++++++++++++++++++++++++++++++++++++++++++++++++++++++++++++++++++++++++++++++++++++++++++++++++++++++++++++++++++++++++++++++++++++++++++++++++++++++++++++++++++++++++++++++++++++++++++++++++++++++++++++++++++\n",
      "\n",
      "확인했습니다.\n",
      "--------------------------------------------------------------------------------------------------------------------------------------------------------------------------------------------------------\n",
      "확인했습니다.\n",
      "++++++++++++++++++++++++++++++++++++++++++++++++++++++++++++++++++++++++++++++++++++++++++++++++++++++++++++++++++++++++++++++++++++++++++++++++++++++++++++++++++++++++++++++++++++++++++++++++++++++++++++++++++++++++++++++++++++++++++++++++++++++++++++++++++++++++++++++++++++++++++++++++++++++++++++++++++++++++++++++++++++++++++++++++++++++++++++++++++++++++++++++++++++++++++++++++++++++++++++++++++++++++++++++++++++++++++++++++++++++++++++++++++++++++++++++++++++++++++++++++++++++++++++++++++++++++++++++++++++++++++++++++++++++++++++++++++++++++++++++++++++++++++++++++++++++++++++++++++++++++++++++++++++++++++++++++++++++++++++++++++++++++++++++++++++++++++++++++++++++++++++++++++++++++++++++++++++++++++++++++++++++++++++++++++++++++++++++++++++++++++++++++++++++++++++++++++++++++++++++++++++++++++++++++++++++++++++++++++++++++++++++++++++++++++++++++++++++++++++++++++++++++++++++++++++++++++++++++++++++++++++++++++++++++++++++++++++++++++++++++++++++++++++++++++++++++++++++++++++++++++++++++++++++++++++++++++++++++++++++++++++++++++++++++++++++++++++++++++++++++++++++++++++++++++++++++++++++++++++++++++++++++++++++++++++++++++++++++++++++++++++++++++++++++++++++++++++++++++++++++++++++++++++++++++++++++++++++++++++++++++++++++++++++++++++++++++++++++++++++++++++++++++++++++++++++++++++++++++++++++++++++++++++++++++++++++++++++++++++++++++++++++++++++++++++++++++++++++++++++++++++++++++++++++++++++++++++++++++++++++++++++++++++++++++++++++++++++++++++++++++++++++++++++++++++++++++++++++++++++++++++++++++++++++++++++++++++++++++++++++++++++++++++++++++++++++++++++++++++++++++++++++++++++++++++++++++++++++++++++++++++++++++++++++++++++++++++++++++++++++++++++++++++++++++++++++++++++++++++++++++++++++++++++++++++++++++++++++++++++++++++++++++++++++++++++++++++++++++++++++++++++++++++++++++++++++++++++++++++++++++++++++++++++++++++++++++++++++++++++++++++++++++++++++++++++++++++++++++++++++++++++++++++++++++++++++++++++++++++++++++++++++++++++++++++++++++++++++++++++++\n",
      "\n",
      "회의실은 어디인가요?\n",
      "--------------------------------------------------------------------------------------------------------------------------------------------------------------------------------------------------------\n",
      "회의실은 어디인가요?\n",
      "++++++++++++++++++++++++++++++++++++++++++++++++++++++++++++++++++++++++++++++++++++++++++++++++++++++++++++++++++++++++++++++++++++++++++++++++++++++++++++++++++++++++++++++++++++++++++++++++++++++++++++++++++++++++++++++++++++++++++++++++++++++++++++++++++++++++++++++++++++++++++++++++++++++++++++++++++++++++++++++++++++++++++++++++++++++++++++++++++++++++++++++++++++++++++++++++++++++++++++++++++++++++++++++++++++++++++++++++++++++++++++++++++++++++++++++++++++++++++++++++++++++++++++++++++++++++++++++++++++++++++++++++++++++++++++++++++++++++++++++++++++++++++++++++++++++++++++++++++++++++++++++++++++++++++++++++++++++++++++++++++++++++++++++++++++++++++++++++++++++++++++++++++++++++++++++++++++++++++++++++++++++++++++++++++++++++++++++++++++++++++++++++++++++++++++++++++++++++++++++++++++++++++++++++++++++++++++++++++++++++++++++++++++++++++++++++++++++++++++++++++++++++++++++++++++++++++++++++++++++++++++++++++++++++++++++++++++++++++++++++++++++++++++++++++++++++++++++++++++++++++++++++++++++++++++++++++++++++++++++++++++++++++++++++++++++++++++++++++++++++++++++++++++++++++++++++++++++++++++++++++++++++++++++++++++++++++++++++++++++++++++++++++++++++++++++++++++++++++++++++++++++++++++++++++++++++++++++++++++++++++++++++++++++++++++++++++++++++++++++++++++++++++++++++++++++++++++++++++++++++++++++++++++++++++++++++++++++++++++++++++++++++++++++++++++++++++++++++++++++++++++++++++++++++++++++++++++++++++++++++++++++++++++++++++++++++++++++++++++++++++++++++++++++++++++++++++++++++++++++++++++++++++++++++++++++++++++++++++++++++++++++++++++++++++++++++++++++++++++++++++++++++++++++++++++++++++++++++++++++++++++++++++++++++++++++++++++++++++++++++++++++++++++++++++++++++++++++++++++++++++++++++++++++++++++++++++++++++++++++++++++++++++++++++++++++++++++++++++++++++++++++++++++++++++++++++++++++++++++++++++++++++++++++++++++++++++++++++++++++++++++++++++++++++++++++++++++++++++++++++++++++++++++++++++++++++++++++++++++++++++++++++++++++++++++++++++++++++++++++++\n",
      "\n"
     ]
    }
   ],
   "source": [
    "##문장을 구분하여 분할 (마침표, 느낌표, 물음표 다음에 공백이 오는 경우 문자의 끝으로)\n",
    "from langchain_text_splitters import CharacterTextSplitter\n",
    "from torch import chunk\n",
    "\n",
    "text_splitter = CharacterTextSplitter(\n",
    "    chunk_size=10,\n",
    "    chunk_overlap=0,\n",
    "    # length_function=len,\n",
    "    separator=r'(?<=[.!?])\\s+',        #구분자\n",
    "    is_separator_regex=True,            #구분자가 정규표현식인지 여부\n",
    "    keep_separator=True,                #구분자를 청크에 포함할지 여부\n",
    ")\n",
    "\n",
    "texts = text_splitter.split_documents(jsonl_docs)\n",
    "\n",
    "print(f'생성된 텍스트 청크 수 : {len(texts)}')\n",
    "print(f'각 청크의 길이 : {list(len(text.page_content) for text in texts)}')\n",
    "\n",
    "for text in texts[:5]:\n",
    "    # print('-'*50)\n",
    "    print(text.page_content[:50])\n",
    "    print('-'*200)\n",
    "    print(text.page_content[-500:])\n",
    "    print('+'*2000)\n",
    "    print()"
   ]
  },
  {
   "cell_type": "code",
   "execution_count": 21,
   "id": "ae69bb53",
   "metadata": {},
   "outputs": [
    {
     "name": "stdout",
     "output_type": "stream",
     "text": [
      "생성된 텍스트 청크 수 : 3\n",
      "각 청크의 길이 : [1140, 1374, 337]\n"
     ]
    }
   ],
   "source": [
    "from langchain_text_splitters import RecursiveCharacterTextSplitter\n",
    "\n",
    "text_splitter = RecursiveCharacterTextSplitter.from_tiktoken_encoder(\n",
    "    chunk_size = 300,\n",
    "    chunk_overlap = 0,\n",
    "    encoding_name='cl100k_base', #openai에서 제공해주는거 tiktoken 인코딩 이름\n",
    "    #model_name = \"gpt-4o-mini\" 이 안에 들어가있는 토크나이저 사용 가능\n",
    "    \n",
    ")\n",
    "\n",
    "chunks = text_splitter.split_documents(pdf_docs[:1])\n",
    "\n",
    "print(f'생성된 텍스트 청크 수 : {len(chunks)}')\n",
    "print(f'각 청크의 길이 : {list(len(text.page_content) for text in chunks)}')"
   ]
  },
  {
   "cell_type": "code",
   "execution_count": 22,
   "id": "00e12361",
   "metadata": {},
   "outputs": [
    {
     "name": "stderr",
     "output_type": "stream",
     "text": [
      "c:\\Users\\KOSA\\AppData\\Local\\pypoetry\\Cache\\virtualenvs\\langchain-env-e_qH7Re7-py3.11\\Lib\\site-packages\\tqdm\\auto.py:21: TqdmWarning: IProgress not found. Please update jupyter and ipywidgets. See https://ipywidgets.readthedocs.io/en/stable/user_install.html\n",
      "  from .autonotebook import tqdm as notebook_tqdm\n"
     ]
    },
    {
     "data": {
      "text/plain": [
       "XLMRobertaTokenizerFast(name_or_path='BAAI/bge-m3', vocab_size=250002, model_max_length=8192, is_fast=True, padding_side='right', truncation_side='right', special_tokens={'bos_token': '<s>', 'eos_token': '</s>', 'unk_token': '<unk>', 'sep_token': '</s>', 'pad_token': '<pad>', 'cls_token': '<s>', 'mask_token': '<mask>'}, clean_up_tokenization_spaces=True),  added_tokens_decoder={\n",
       "\t0: AddedToken(\"<s>\", rstrip=False, lstrip=False, single_word=False, normalized=False, special=True),\n",
       "\t1: AddedToken(\"<pad>\", rstrip=False, lstrip=False, single_word=False, normalized=False, special=True),\n",
       "\t2: AddedToken(\"</s>\", rstrip=False, lstrip=False, single_word=False, normalized=False, special=True),\n",
       "\t3: AddedToken(\"<unk>\", rstrip=False, lstrip=False, single_word=False, normalized=False, special=True),\n",
       "\t250001: AddedToken(\"<mask>\", rstrip=False, lstrip=True, single_word=False, normalized=False, special=True),\n",
       "}"
      ]
     },
     "execution_count": 22,
     "metadata": {},
     "output_type": "execute_result"
    }
   ],
   "source": [
    "from transformers import AutoTokenizer\n",
    "tokenizer = AutoTokenizer.from_pretrained(\"BAAI/bge-m3\")\n",
    "\n",
    "tokenizer\n"
   ]
  },
  {
   "cell_type": "code",
   "execution_count": 23,
   "id": "e64fac18",
   "metadata": {},
   "outputs": [
    {
     "name": "stdout",
     "output_type": "stream",
     "text": [
      "[0, 107687, 5, 20451, 54272, 16367, 5, 2]\n"
     ]
    }
   ],
   "source": [
    "tokens = tokenizer.encode(\"안녕하세요. 반갑습니다.\")\n",
    "print(tokens)"
   ]
  },
  {
   "cell_type": "code",
   "execution_count": 24,
   "id": "18d6a34b",
   "metadata": {},
   "outputs": [
    {
     "name": "stdout",
     "output_type": "stream",
     "text": [
      "['<s>', '▁안녕하세요', '.', '▁반', '갑', '습니다', '.', '</s>']\n"
     ]
    }
   ],
   "source": [
    "print(tokenizer.convert_ids_to_tokens(tokens))"
   ]
  },
  {
   "cell_type": "code",
   "execution_count": 25,
   "id": "d6549405",
   "metadata": {},
   "outputs": [
    {
     "name": "stdout",
     "output_type": "stream",
     "text": [
      "<s> 안녕하세요. 반갑습니다.</s>\n"
     ]
    }
   ],
   "source": [
    "print(tokenizer.decode(tokens))"
   ]
  },
  {
   "cell_type": "markdown",
   "id": "52a36a2f",
   "metadata": {},
   "source": [
    "### 문서 임베딩"
   ]
  },
  {
   "cell_type": "code",
   "execution_count": 26,
   "id": "8e432014",
   "metadata": {},
   "outputs": [
    {
     "data": {
      "text/plain": [
       "OpenAIEmbeddings(client=<openai.resources.embeddings.Embeddings object at 0x000001D770258FD0>, async_client=<openai.resources.embeddings.AsyncEmbeddings object at 0x000001D70150A9D0>, model='text-embedding-3-small', dimensions=None, deployment='text-embedding-ada-002', openai_api_version='', openai_api_base=None, openai_api_type='', openai_proxy='', embedding_ctx_length=8191, openai_api_key=SecretStr('**********'), openai_organization=None, allowed_special=None, disallowed_special=None, chunk_size=1000, max_retries=2, request_timeout=None, headers=None, tiktoken_enabled=True, tiktoken_model_name=None, show_progress_bar=False, model_kwargs={}, skip_empty=False, default_headers=None, default_query=None, retry_min_seconds=4, retry_max_seconds=20, http_client=None, http_async_client=None, check_embedding_ctx_length=True)"
      ]
     },
     "execution_count": 26,
     "metadata": {},
     "output_type": "execute_result"
    }
   ],
   "source": [
    "from langchain_openai import OpenAIEmbeddings\n",
    "\n",
    "embeddings_model = OpenAIEmbeddings(\n",
    "    model=\"text-embedding-3-small\"\n",
    ")\n",
    "embeddings_model"
   ]
  },
  {
   "cell_type": "code",
   "execution_count": 27,
   "id": "cee0d803",
   "metadata": {},
   "outputs": [
    {
     "data": {
      "text/plain": [
       "8191"
      ]
     },
     "execution_count": 27,
     "metadata": {},
     "output_type": "execute_result"
    }
   ],
   "source": [
    "embeddings_model.embedding_ctx_length"
   ]
  },
  {
   "cell_type": "code",
   "execution_count": 28,
   "id": "3cc1645e",
   "metadata": {},
   "outputs": [
    {
     "name": "stdout",
     "output_type": "stream",
     "text": [
      "임베딩 벡터의 개수: 5\n",
      "임베한 벡터의 차원: 1536\n",
      "[-0.002310403622686863, 0.012099752202630043, -0.002436630427837372, 0.015039036981761456, 0.018447164446115494, -0.04565808176994324, -0.003119608387351036, 0.046956416219472885, -0.018239790573716164, -0.031881313771009445, 0.006847810931503773, 0.006965021602809429, -0.018591422587633133, -0.027138788253068924, 0.004891293589025736, -0.015580009669065475, -0.041546691209077835, 0.010053073056042194, 0.05157271400094032, -0.045874472707509995, -0.01464232336729765, -0.027751890942454338, -0.018753714859485626, -0.022702815011143684, 0.004363845102488995, -0.03981557860970497, 0.05031044781208038, 0.017716851085424423, 0.00028372881934046745, -0.023333948105573654, 0.048976048827171326, -0.015273458324372768, -0.029933813959360123, -0.06159874051809311, 0.02044876292347908, 0.03537960350513458, 0.002585398033261299, -0.006807237863540649, -0.005130222998559475, 0.02477654255926609, 0.00756459916010499, 0.02753550186753273, -0.0025651114992797375, 0.025984713807702065, -0.017996354028582573, 0.005590049549937248, -0.025840455666184425, 0.0036064835730940104, 0.0075150104239583015, 0.056657858192920685, -0.025010963901877403, 0.030096106231212616, 0.007974836975336075, -0.03480256721377373, -0.0020331551786512136, 0.09542755782604218, 0.01380381640046835, 0.0292846467345953, 0.003762013278901577, 0.030276430770754814, 0.015165263786911964, 0.01509313378483057, 0.0036650889087468386, 0.02093563787639141, -0.0518612340092659, -0.024379828944802284, 0.036389417946338654, 0.026183070614933968, -0.01988975703716278, -0.02921251766383648, 0.008971127681434155, -0.019637303426861763, -0.04508104547858238, 0.02122415602207184, -0.000698756193742156, -0.012388271279633045, -0.0649167075753212, 0.025461774319410324, 0.01275793556123972, 0.024379828944802284, -0.004253396764397621, 0.0005328016122803092, 0.048002295196056366, -0.059939756989479065, -0.009241614490747452, -0.02282904088497162, -0.00111462885979563, -0.057667672634124756, -0.05326776206493378, -0.004670396447181702, -0.030492819845676422, 0.049012113362550735, 0.0043886397033929825, 0.0041722506284713745, -0.05305137485265732, 0.03235015645623207, 0.061057768762111664, -0.052149754017591476, 0.0037980780471116304, 0.02787811867892742, -0.05168091133236885, -0.005729801021516323, 0.0318993479013443, 0.05474642291665077, 0.001877625472843647, -0.021620869636535645, -0.007194934878498316, 0.019835660234093666, -0.021692998707294464, 0.008159669116139412, -0.010161267593502998, -0.004936374258249998, -0.07566402852535248, 0.040609005838632584, -0.05795619264245033, -0.01954714208841324, 0.02850925363600254, -0.023297883570194244, -0.023388046771287918, -0.0073527186177670956, -0.023496240377426147, 0.02962726354598999, 0.03447798267006874, -0.004454007372260094, -0.01800536923110485, -0.0248126070946455, 0.014948874711990356, -0.03269277513027191, -0.025083092972636223, -0.004357083234935999, -0.004864244721829891, -0.026615848764777184, -0.012135817669332027, 0.02798631228506565, 0.041727013885974884, -0.016526710242033005, 0.005242925602942705, 0.0251912884414196, -0.001341161085292697, -0.05326776206493378, 0.019258622080087662, -0.019529107958078384, 0.01779799722135067, 0.012784983962774277, -0.028942031785845757, -0.05251040309667587, -0.012929243966937065, 0.01793324016034603, 0.03988770768046379, 0.041546691209077835, -0.046920351684093475, -0.01880781166255474, -0.07057888060808182, -0.039238542318344116, -0.05052683502435684, 0.024163439869880676, 0.0005026536528021097, 0.03278293460607529, -0.011856314726173878, -0.028635479509830475, 0.008231799118220806, -0.008191226050257683, -0.03319768235087395, 0.009971926920115948, -0.026110941544175148, 0.040609005838632584, -0.022342165932059288, 0.046920351684093475, -0.018681585788726807, 0.002396057592704892, -0.027842054143548012, -0.010386672802269459, -0.024488024413585663, -0.021260220557451248, 0.005842503625899553, 0.014651339501142502, 0.021368416026234627, 0.01573328487575054, -0.049048177897930145, -0.026237167418003082, -0.030961662530899048, -0.018681585788726807, -0.0002795024774968624, 0.027030594646930695, -0.008358025923371315, -0.024794574826955795, 0.016689002513885498, -0.04771377891302109, -0.029122354462742805, 0.019384849816560745, 0.03651564568281174, 0.026128973811864853, 0.019222557544708252, 0.043566323816776276, 0.008258847519755363, -0.026615848764777184, -0.0011743612121790648, -0.05377266928553581, -0.010756337083876133, -0.0032345650251954794, 0.028942031785845757, -0.040500812232494354, -0.025389645248651505, -0.01397512387484312, 0.012262044474482536, 0.00656830845400691, 0.04187127575278282, 0.006784697063267231, -0.03161082789301872, -0.026814205572009087, -0.01869961805641651, -0.02551587112247944, 0.07328374683856964, 0.00046461651800200343, -0.03409930318593979, -0.06033647060394287, 0.020304502919316292, 0.007587139960378408, -0.014083318412303925, 0.03011413849890232, -0.006577324587851763, -0.008141636848449707, 0.013028422370553017, -0.005220384802669287, 0.005184320267289877, -0.0026192087680101395, 0.021692998707294464, -0.036245159804821014, 0.02593061700463295, -0.03418946638703346, -0.023568371310830116, 0.02977152168750763, 0.0028333435766398907, -0.00833999365568161, 0.0023442143574357033, -0.01326284371316433, -0.011730087921023369, -0.02272084727883339, 0.011459602043032646, 0.0057388171553611755, 0.008425647392868996, -0.00024780488456599414, -0.005125714931637049, -0.020015984773635864, -0.008646544069051743, -0.00591463316231966, -0.0004423577629495412, 0.027355177327990532, -0.00403024535626173, -0.011802217923104763, 0.01794225536286831, -0.028797771781682968, 0.023532304912805557, -0.02115202695131302, 0.011360423639416695, 0.004638839513063431, 0.030042007565498352, -0.026814205572009087, 0.005450298544019461, -0.0020162498112767935, -0.01451609656214714, 0.013641524128615856, -0.026201102882623672, -0.032332126051187515, 0.013217762112617493, 0.007271572481840849, -0.002925759879872203, 0.027156822383403778, -0.03887789323925972, -0.026147006079554558, -0.013289892114698887, 0.04035655036568642, 0.014633307233452797, -0.025389645248651505, -0.04075326398015022, 0.012433351948857307, -0.03689432889223099, 0.021692998707294464, -0.02246839366853237, 0.05052683502435684, -0.052330076694488525, 0.029951846227049828, 0.04573021084070206, -0.003597467439249158, -0.00174689048435539, 3.349380858708173e-05, -0.036659907549619675, -0.020917605608701706, -0.012262044474482536, -0.06286101043224335, 0.06253642588853836, 0.0021548739168792963, -0.01587754487991333, 0.04320567473769188, 0.02977152168750763, -0.01769881881773472, -0.011468618176877499, 0.046848222613334656, -0.005247433669865131, 0.00660437298938632, 0.023856889456510544, -0.05838897079229355, -0.017770947888493538, -0.02055695652961731, 0.004859736654907465, 0.023983115330338478, -0.04944489151239395, 0.01605786755681038, -0.0021965738851577044, -0.03696645796298981, -0.015589025802910328, 0.007289605215191841, 0.07443781942129135, 0.009038749150931835, -0.0274273082613945, -0.01626524142920971, -0.017428332939743996, -0.0570906363427639, 0.002955062547698617, -0.017220959067344666, -0.014759534038603306, 0.03812053054571152, 0.012334173545241356, -0.02795024774968624, -0.03056494891643524, 0.012703838758170605, -0.0008695006836205721, 0.01936681754887104, -0.014687404967844486, -0.04735312983393669, 0.07169689238071442, 0.06159874051809311, -0.030492819845676422, 0.004985963460057974, -0.008204749785363674, -0.03440585359930992, -0.02679617330431938, 0.014209545217454433, -0.05081535503268242, -0.03590254485607147, -0.05636933818459511, 0.02149464190006256, -0.048110492527484894, 0.050130121409893036, 0.010305526666343212, 0.0001662363501964137, -0.0021019037812948227, 0.007753939833492041, 0.019619271159172058, -0.0006102846236899495, 0.018825843930244446, -0.0112882936373353, -0.01751849427819252, -0.020394664257764816, -0.0369303934276104, -0.006550275720655918, -0.047064609825611115, -0.008678101003170013, -0.02425360307097435, -0.04024835675954819, -0.04839900881052017, -0.0013276367681100965, 0.03786807879805565, 0.042628634721040726, 0.03985164314508438, 0.010017008520662785, 0.002522284397855401, -0.026687977835536003, -0.007086740341037512, 0.0016082662623375654, -0.03235015645623207, -0.0003755814686883241, 0.011982541531324387, -0.07144443690776825, -0.009313743561506271, -0.029879717156291008, -0.01845617964863777, 0.0270486269146204, -0.045802343636751175, 0.01612098142504692, 0.02630929835140705, 0.05499887466430664, 0.007375258952379227, -0.0225765872746706, -0.032259996980428696, 0.005364644341170788, -0.01106288842856884, -0.012658757157623768, -0.06870350986719131, 0.032223932445049286, 0.029158420860767365, -0.03200754150748253, -0.029302679002285004, 0.003845413215458393, -0.012361222878098488, -0.027319112792611122, -0.018789779394865036, -0.05539558827877045, -0.0395631268620491, 0.024488024413585663, -0.03150263428688049, -0.030997727066278458, -0.02436179667711258, 0.021999549120664597, 0.014525112695991993, -0.04032048583030701, 0.05622508004307747, 0.059723369777202606, 0.009737505577504635, 0.03458617627620697, 0.004284953232854605, -0.06257249414920807, 0.038481179624795914, -0.00038966929423622787, -0.03510911762714386, -0.049120306968688965, -0.01985369250178337, 0.033305875957012177, 0.020827442407608032, 0.0006728345761075616, 0.01947501115500927, 0.027337145060300827, 0.03995983675122261, -0.03458617627620697, 0.007064200006425381, 0.02044876292347908, 0.037327107042074203, 0.0052699740044772625, 0.05283498391509056, -0.012225979007780552, -0.004823671653866768, 0.006744124460965395, -0.023225754499435425, -0.0034261594992130995, -0.05178910493850708, -0.0007274953532032669, 0.023225754499435425, 0.015561976470053196, -0.009710457175970078, 0.024469992145895958, 0.0032638676930218935, -0.02118809148669243, 0.006203151773661375, -0.02153070643544197, -0.014056270010769367, 0.038481179624795914, -0.0292846467345953, -0.02492080256342888, -0.010891580954194069, -0.05366447567939758, 0.02903219312429428, -0.065313421189785, 0.030997727066278458, 0.03891395777463913, -0.015543944202363491, -0.04937276244163513, 0.021278252825140953, -0.034459952265024185, 0.01141452044248581, 0.024830639362335205, -0.0006970656686462462, 0.016625888645648956, -0.026056844741106033, -0.008303928188979626, -0.005693736020475626, 0.038372986018657684, 0.04634331539273262, 0.006847810931503773, -0.051464520394802094, 0.038445115089416504, -0.011279277503490448, -0.035722218453884125, 0.01794225536286831, -0.02309952676296234, 0.015002971515059471, -0.0002056822704616934, -0.004523883108049631, -0.013073503039777279, -0.04500891640782356, -0.0071543618105351925, 0.00863752793520689, -0.002470441162586212, 0.010684208013117313, 0.011261245235800743, 0.035992708057165146, 0.04230405390262604, -0.06726092100143433, 0.005982254631817341, 0.059867627918720245, -0.0047064609825611115, 0.012415319681167603, -0.03267474099993706, 0.07941477000713348, 0.0025606034323573112, 0.02969939261674881, 0.049012113362550735, -0.012162866070866585, 0.006437573116272688, 0.010675191879272461, 0.013181697577238083, 0.023460175842046738, -0.029753489419817924, -0.010287494398653507, 0.02771582640707493, 0.005513411946594715, -0.0004795496060978621, -0.052257947623729706, 0.02208971232175827, -0.004264666698873043, -0.019745497032999992, 0.03207967057824135, 0.04302534833550453, -0.003737218677997589, 0.009737505577504635, -0.009800619445741177, 0.006671994458884001, -0.009313743561506271, 0.007943280041217804, 0.027174854651093483, -0.027228951454162598, -0.009313743561506271, -0.022288069128990173, -0.029014160856604576, 0.0022934982553124428, -0.000124254627735354, -0.05420544743537903, -0.009620294906198978, -0.01660785637795925, 0.00949406810104847, -0.017121780663728714, 0.016139013692736626, -0.01713981293141842, 0.015543944202363491, -0.03913034871220589, -0.01796930469572544, 0.013010389171540737, 0.010152251459658146, 0.01512919832020998, -0.04190734028816223, -0.010630110278725624, 0.016382452100515366, -0.014813631772994995, 0.009313743561506271, 0.0249929316341877, -0.007194934878498316, 0.047064609825611115, -0.01102682389318943, -0.037110716104507446, 0.003840905148535967, 0.029050225391983986, 0.020430728793144226, 0.00036177539732307196, 0.03696645796298981, -0.02302739769220352, 0.011198131367564201, -0.0045982664451003075, 0.00649167038500309, -0.025948649272322655, -0.0026349870022386312, -0.02690436691045761, 0.008583431132137775, -0.020791377872228622, -0.04212372750043869, -0.004192537162452936, 0.008457204326987267, 0.010494867339730263, 0.028455154970288277, -0.01643654890358448, 0.021873323246836662, 0.029483003541827202, -0.04554988816380501, 0.029789553955197334, -0.016382452100515366, 0.06235610321164131, -0.009800619445741177, -0.04205159842967987, 0.01003504078835249, -0.027301080524921417, -0.012117785401642323, 0.024542121216654778, 0.020502859726548195, 0.015480831265449524, 0.03202557563781738, 0.013154649175703526, 0.04075326398015022, 5.191364107304253e-05, 0.002767976140603423, 0.020502859726548195, 0.03262064605951309, -0.029230549931526184, 0.0341353677213192, 0.018519293516874313, -0.01380381640046835, -0.027319112792611122, -0.025732260197401047, -0.015787381678819656, 0.007699842564761639, 0.016274256631731987, 0.01378578320145607, 0.024379828944802284, -0.004967931192368269, 0.012902195565402508, 0.020466795191168785, 0.00526095787063241, -0.024830639362335205, -0.031773120164871216, -0.015796398743987083, 0.036245159804821014, 0.007442880421876907, -0.010458802804350853, -0.013443167321383953, 0.008312944322824478, 0.008087539114058018, -0.02324378676712513, -0.005815454758703709, -0.011144034564495087, 0.0005040624528191984, 0.0001804650528356433, 0.026147006079554558, -0.014957890845835209, 0.00886293314397335, -0.006500686518847942, 0.03366652503609657, -0.016111966222524643, 0.0043886397033929825, -0.031051823869347572, 0.0013129854341968894, -0.009394889697432518, -0.02093563787639141, 0.0017018094658851624, 0.00767730176448822, 0.07328374683856964, -0.013587427325546741, 0.036064837127923965, -0.009467019699513912, -0.06589045375585556, -0.0112882936373353, -0.006365443579852581, 0.012505481950938702, -0.009358825162053108, -0.022630684077739716, 0.004562201909720898, 0.009503084234893322, -0.031105920672416687, 0.029374809935688972, -0.008804327808320522, 0.0011512571945786476, -0.02872564271092415, 0.009047766216099262, 0.006784697063267231, 0.003432921599596739, -0.0253716129809618, -0.033414069563150406, 0.01266777329146862, -0.004546423442661762, -0.016770148649811745, -0.0036200080066919327, -0.030510852113366127, 0.023965083062648773, 0.0015812176279723644, 0.009881764650344849, -0.013848897069692612, 0.02041269652545452, -0.015381652861833572, -0.006699043326079845, 0.04645150899887085, 0.019456978887319565, 0.03640745207667351, -0.007014610804617405, -0.011784185655415058, -0.028419090434908867, 0.01936681754887104, 0.011135018430650234, 0.009575214236974716, -0.04032048583030701, 0.03364849090576172, 0.0020849984139204025, 0.01738325133919716, 0.04280896112322807, 0.03812053054571152, -0.014993955381214619, -0.018302904441952705, -0.018167661502957344, -0.043710581958293915, 0.017220959067344666, 0.004291715566068888, 0.014398885890841484, 0.01880781166255474, 0.019529107958078384, -0.0630413368344307, 0.015787381678819656, 0.029086289927363396, -0.025065060704946518, -0.004591504577547312, -0.065313421189785, -0.013001373037695885, 0.018573390319943428, -0.03959919139742851, -0.03272883966565132, 0.0253716129809618, -0.02484867163002491, 0.008817852474749088, 0.012171882204711437, -0.023514272645115852, -0.025804391130805016, -0.01576934941112995, 0.04536956548690796, -0.007726890966296196, -0.010882563889026642, -0.0035771809052675962, -0.01988975703716278, 0.000534492137376219, -0.018230775371193886, -0.010422737337648869, 0.03604680299758911, -0.008394090458750725, 0.04446794465184212, -0.0225765872746706, 0.009521116502583027, -0.04288109019398689, -0.026706011965870857, -0.025876520201563835, -0.012469417415559292, -0.012523514218628407, -0.005220384802669287, -0.027102723717689514, -0.0391664132475853, -0.007952296175062656, -0.03388291224837303, -0.00030683286604471505, 0.02526341751217842, -0.010693224146962166, -0.021656934171915054, -0.008596954867243767, 0.060047950595617294, -0.008015410043299198, -0.03876969963312149, -0.004372861236333847, -0.023748693987727165, -0.017563575878739357, 0.00011636544513748959, -0.018753714859485626, 0.027138788253068924, 0.03491076081991196, -0.017644720152020454, 0.026183070614933968, 0.0001629961479920894, 0.0019497552420943975, 0.013848897069692612, -0.04432368278503418, 0.009845700114965439, -0.002871662611141801, 0.03198951110243797, -0.025533903390169144, 0.00037501793121919036, -0.009926846250891685, 0.013037438504397869, 0.005089649930596352, 0.013668572530150414, -0.02306346222758293, 0.024451958015561104, 0.020809410139918327, 0.0016950472490862012, 0.0092325983569026, 0.0016860311152413487, 0.0021717792842537165, 0.004302985966205597, -0.02373066172003746, -0.002817565342411399, 0.012559578754007816, 0.029014160856604576, -0.012875146232545376, -0.005657671019434929, 0.0014347042888402939, 0.04017622768878937, -0.001599250128492713, 0.00623020064085722, -0.04785803705453873, -0.005856027826666832, 0.03148460015654564, 0.011531731113791466, -0.0201422106474638, -0.019384849816560745, -0.001532755559310317, -0.008087539114058018, -0.021206123754382133, 0.02641749195754528, 0.033341940492391586, -0.009602262638509274, -0.024343764409422874, -0.0050535849295556545, 0.021368416026234627, -0.040536876767873764, -0.005044568795710802, -0.013362022116780281, 0.011775168590247631, 0.002903219312429428, 0.012000573799014091, 0.0027972788084298372, -0.002849122043699026, 0.03815659508109093, 0.007695334497839212, 0.043710581958293915, 0.034604210406541824, 0.05398906022310257, 0.009169484488666058, -0.015327555127441883, 0.045802343636751175, -0.046956416219472885, -0.02921251766383648, 0.03260261192917824, -0.010512899607419968, -0.015327555127441883, 0.04569414630532265, -0.019619271159172058, -0.032512448728084564, -0.008898998610675335, -0.0026147007010877132, -0.005883076228201389, -0.014416918158531189, 0.03157476335763931, 0.00036459293914958835, -0.005675703752785921, -0.010476835072040558, 0.03866150602698326, -0.01490379311144352, -0.018131596967577934, 0.023604435846209526, -0.031322311609983444, 0.0047425259836018085, 0.07681810110807419, 0.018897974863648415, 0.033937010914087296, 0.0006131022237241268, 0.035055018961429596, 0.0009241614025086164, -0.01768980175256729, -0.010269462130963802, -0.028112540021538734, 0.032368190586566925, -0.013812832534313202, 0.006478146184235811, 0.002256306353956461, 0.018176676705479622, -0.035055018961429596, -0.0024591709952801466, -0.01765373721718788, 0.016950473189353943, -0.021620869636535645, -0.006252740975469351, -0.03159279748797417, 0.007203951012343168, 0.024902768433094025, -0.009791603311896324, 0.0663953647017479, 0.013280875980854034, 0.018420115113258362, -0.015381652861833572, 0.020899573341012, -0.007735907565802336, 0.011883363127708435, 0.03409930318593979, 0.0358123816549778, -0.017302105203270912, 0.03220589831471443, -0.017284072935581207, 0.001178869279101491, 0.022143809124827385, 0.0010954693425446749, 0.01581443101167679, 0.029194485396146774, 0.05171697586774826, -0.014813631772994995, -0.01734718680381775, -0.016310323029756546, -0.024866703897714615, -0.005062601529061794, 0.021999549120664597, -0.010864531621336937, -0.014344788156449795, 0.01266777329146862, -0.0820835679769516, 0.024596218019723892, -0.03485666587948799, 0.01832093670964241, -0.008844900876283646, -0.011964509263634682, 0.025678163394331932, -0.04746132344007492, 0.04208766296505928, -0.0030790353193879128, -0.03280096873641014, 0.011405504308640957, -0.012739903293550014, 0.028437122702598572, 0.03977951407432556, -0.01842913217842579, 0.009971926920115948, -0.0034013648983091116, 0.010729288682341576, -0.02007008157670498, -0.027156822383403778, -0.01432675588876009, -0.03703858703374863, -0.018122579902410507, 0.020538924261927605, 0.01626524142920971, 0.013758734799921513, 0.015625089406967163, -0.03658777475357056, 0.013948075473308563, 0.02391098625957966, -0.00041474562021903694, -0.021692998707294464, 0.011522714979946613, -0.05413331836462021, 0.013443167321383953, 0.02373066172003746, -0.07465421408414841, -0.004792115185409784, -0.008921538479626179, -0.009557181969285011, -0.001341161085292697, 0.0044968342408537865, 0.026724044233560562, 0.02787811867892742, -0.0402844212949276, -0.05160878226161003, -0.03179115429520607, 0.021963484585285187, 0.0026890842709690332, -0.010242413729429245, 0.010476835072040558, -0.012352206744253635, -0.005256449803709984, 0.001291571999900043, -0.011594844982028008, 0.00802442617714405, 0.008542858064174652, -0.06992971897125244, 0.00034317944664508104, -0.03070920705795288, -0.013073503039777279, -0.006694535259157419, -0.03213376924395561, 0.0065367515198886395, 0.025533903390169144, 0.006910924334079027, 0.010467818938195705, 0.048002295196056366, 0.007731399033218622, -0.06390689313411713, 0.023225754499435425, -0.0020478065125644207, 0.0274273082613945, 0.018266839906573296, 0.05810045078396797, 0.006176103372126818, -0.011162066832184792, 0.010720272548496723, 0.0008339993073605001, -0.05315956845879555, 0.005328579340130091, -0.012965308502316475, -0.013416118919849396, -0.01106288842856884, 0.0031331325881183147, -0.009421938098967075, 0.0066269137896597385, 0.019078297540545464, 0.015300506725907326, -0.01909632980823517, 0.027138788253068924, 0.013767750933766365, 0.009385873563587666, -0.021729063242673874, 0.024794574826955795, -0.032368190586566925, -0.02044876292347908, -0.03649761527776718, 0.05481855198740959, 0.006509703118354082, 0.005517920013517141, -0.01601278781890869, 0.03981557860970497, -0.007127313409000635, 0.025353580713272095, 0.01776193268597126, -0.0010098153725266457, -0.014633307233452797, -0.0010594045743346214, -0.03794020786881447, 0.00276572210714221, -0.052438270300626755, 0.04320567473769188, -0.00830843672156334, -0.0008441425743512809, -0.04764164984226227, -0.017013587057590485, 0.0021819225512444973, -0.025533903390169144, 0.016553759574890137, -0.021837258711457253, -0.022594619542360306, 0.008817852474749088, -0.028833836317062378, -0.04558595269918442, -0.00023442142992280424, 0.016454581171274185, 0.02906825765967369, 0.030312495306134224, -0.012812033295631409, 0.021584805101156235, -0.00018638194887898862, 0.03361242637038231, 0.02286510542035103, -0.03085346706211567, 0.014047253876924515, 0.017085716128349304, -0.0028108032420277596, 0.009917830117046833, -0.03750742971897125, 0.02787811867892742, -0.0455138236284256, -0.01598573848605156, 0.0034509541001170874, 0.024506056681275368, -0.01685129478573799, 0.003834142815321684, 0.01845617964863777, -0.023081494495272636, 0.005003996193408966, -0.004548677243292332, 0.022774944081902504, -0.015589025802910328, 0.04991373419761658, -0.022666748613119125, -0.023784758523106575, 0.054602161049842834, 0.005468330811709166, -0.00012115530989831313, 0.021368416026234627, -0.007469929289072752, 0.009746521711349487, -0.007997377775609493, 0.010449786670506, -0.03312555328011513, -0.014471015892922878, -0.006261757109314203, 0.056513600051403046, 0.02544374205172062, 0.007001086138188839, -0.02659781649708748, 0.030835434794425964, -0.023496240377426147, 0.027842054143548012, -0.043602388352155685, 0.00687485933303833, -0.0007844101637601852, -6.311346078291535e-05, -0.03619106486439705, -0.0020906333811581135, -0.00911087915301323, 0.020683184266090393, -0.010215364396572113, 0.012739903293550014, -0.013930043205618858, 0.02477654255926609, -0.00021103564358782023, -0.007203951012343168, 6.399395351763815e-05, -0.009259646758437157, 0.010179299861192703, -0.0324583537876606, 0.013479232788085938, 0.007614188361912966, -0.05478248745203018, -0.03335997462272644, 0.012379255145788193, 0.009034241549670696, 0.02421753667294979, 0.020701216533780098, 0.02118809148669243, 0.022450361400842667, 0.005720784422010183, 0.02977152168750763, 0.017374234274029732, 0.0067892055958509445, 0.005472838878631592, -0.020196307450532913, -0.03563205897808075, -0.00875924713909626, -0.016878344118595123, -0.004174504894763231, -0.004312002100050449, 0.01909632980823517, -0.01741029880940914, 0.02630929835140705, 0.019420914351940155, -0.01902420073747635, 0.007240016013383865, 0.01958320662379265, -0.026742076501250267, 0.00975553784519434, -0.011053872294723988, -0.017338169738650322, -0.018537325784564018, -0.041438497602939606, 0.009701441042125225, 0.039382800459861755, 0.028671544045209885, 0.02659781649708748, 0.014092334546148777, -0.005170796066522598, -0.03655171021819115, 0.01940288208425045, -0.018402082845568657, 0.009277679026126862, -0.005463822744786739, 0.022847073152661324, -0.009467019699513912, -0.0029415381141006947, -0.04540563002228737, 0.02935677580535412, 0.016878344118595123, -0.0024321223609149456, -0.010891580954194069, 0.009971926920115948, 0.0034780027344822884, 0.010539948008954525, -0.0328189991414547, 0.013966107740998268, 0.009313743561506271, -0.010332575999200344, 0.025047028437256813, -0.032999325543642044, -0.011089936830103397, 0.0008768263505771756, -0.013010389171540737, 0.02156677283346653, -0.005653162952512503, 0.017058666795492172, -0.014543144963681698, 0.0009838937548920512, -0.018591422587633133, 0.0006424048915505409, -0.03530747443437576, -0.008980143815279007, 0.026724044233560562, -0.0023599928244948387, 0.00806049071252346, -0.005896600894629955, -0.01661687344312668, -0.012541546486318111, 0.010062089189887047, -0.030474785715341568, -0.004406671971082687, 0.02331591583788395, -0.003888240084052086, 0.05103174224495888, 0.01633737049996853, -0.03417143225669861, -0.02712075598537922, 0.02959119714796543, -0.043602388352155685, 0.005626114550977945, 0.011351407505571842, -0.02488473616540432, 0.02648962289094925, -0.019168460741639137, -0.01591360941529274, -0.006144546438008547, 0.005544968415051699, 0.006676502991467714, 0.015174279920756817, -0.004643347579985857, 0.0028085492085665464, -0.0014031475875526667, -0.005143747199326754, -0.0061174980364739895, 0.01154976338148117, 0.061021704226732254, 0.007875658571720123, -0.05326776206493378, -0.028797771781682968, -0.01156779658049345, 0.031123952940106392, 0.017861109226942062, 0.017121780663728714, -0.024469992145895958, -0.044828590005636215, -0.009394889697432518, -0.03491076081991196, -0.006442081183195114, -0.050130121409893036, 0.010648142546415329, -0.036840230226516724, -0.020773345604538918, -0.019745497032999992, -0.013028422370553017, -0.015255426056683064, -0.0032931703608483076, 0.011270261369645596, -0.03873363509774208, 0.04493678733706474, 0.004397655837237835, -0.013930043205618858, 0.0055224280804395676, 0.003940083552151918, -0.02003401704132557, 0.021133994683623314, -0.04731706529855728, -0.03651564568281174, -0.06852319091558456, -0.023640500381588936, -0.011423536576330662, -0.019276654347777367, -0.010179299861192703, -0.004032499622553587, 0.019745497032999992, -0.01246040128171444, 0.027283048257231712, 0.024506056681275368, -0.0012273314641788602, 0.010098153725266457, 0.0033359972294420004, -0.030907563865184784, -0.03473043814301491, 0.054457902908325195, 0.057811930775642395, -0.01755455881357193, -0.00623020064085722, 0.029897749423980713, -0.0001415826554875821, -0.013848897069692612, 0.006013811565935612, 0.000311904470436275, -0.0034171431325376034, -0.03280096873641014, -0.019637303426861763, -0.01636441983282566, 0.026219135150313377, -0.0028355978429317474, -0.01951107569038868, -0.02425360307097435, -0.00691994046792388, 0.006527735386043787, -0.023568371310830116, 0.00207147398032248, -0.004411180038005114, -0.03559599444270134, 0.02932071126997471, -0.014317739754915237, 0.009313743561506271, 0.00161390146240592, 0.008299420587718487, -0.012730887159705162, -0.0184651967138052, 0.04497285187244415, 0.0041722506284713745, -0.010476835072040558, -0.025642098858952522, 0.018402082845568657, 0.02160283736884594, 0.025101125240325928, -0.016625888645648956, -0.00869162566959858, 0.018329953774809837, -0.036389417946338654, 0.027138788253068924, -0.0020286471117287874, 0.0005683029303327203, -0.035018954426050186, -0.0016432041302323341, -0.02059302106499672, 0.0221979059278965, -0.013325956650078297, -0.0002503406722098589, -0.030240364372730255, 0.0016499662306159735, -0.00830843672156334, 0.01787012629210949, 0.007943280041217804, 0.02708469144999981, -0.004656871780753136, -0.0012656503822654486, -0.04003196954727173, 0.023406079038977623, -0.009128911420702934, 0.0326567105948925, -0.0406811349093914, 0.016526710242033005, -0.018717650324106216, 0.007483453489840031, 0.001636441913433373, -0.02227003686130047, 0.001154074794612825, -0.017770947888493538, 0.007767464034259319, 0.006739616394042969, 0.03667793795466423, 0.0077178748324513435, -0.0028243274427950382, -0.005905617028474808, 0.008064999245107174, -0.029014160856604576, 0.003780045546591282, 0.01667998731136322, 0.02055695652961731, -0.03088953159749508, -0.002628224901854992, 0.021656934171915054, 0.00023892954050097615, -0.017329154536128044, 0.02582242339849472, -0.010864531621336937, -0.03029446303844452, 0.006608881056308746, 0.0010701112914830446, 0.012604660354554653, 0.026651913300156593, 0.009286695159971714, -0.06989365071058273, -0.017112765461206436, 0.017229976132512093, 0.0013648286694660783, 0.020737281069159508, 0.004787607118487358, 0.00020483699336182326, 0.013542345724999905, 0.009647343307733536, -0.007681810297071934, -0.02712075598537922, -0.02659781649708748, -0.0067215836606919765, -0.0006970656686462462, -0.0007849736721254885, -0.008876457810401917, 0.018555358052253723, -0.005040060728788376, -0.006040859967470169, -0.0003079598827753216, 0.03873363509774208, -0.002524538431316614, -0.026507655158638954, 0.04288109019398689, 0.0028829327784478664, -0.012072703801095486, 0.011820250190794468, -0.017491444945335388, -0.03308948874473572, 0.005396201275289059, 0.014218561351299286, 0.047028545290231705, 0.00019863835768774152, -0.023297883570194244, 0.04129423573613167, -0.025317514315247536, 0.003942337352782488, 0.0014177989214658737, -0.020430728793144226, -0.028419090434908867, -0.04075326398015022, -0.013884961605072021, 0.001855085021816194, -0.023460175842046738, -0.005441281944513321, 0.002050060546025634, 0.02585848793387413, 0.0010391180403530598, -0.0028874408453702927, 0.019655335694551468, -0.002366754924878478, -0.02593061700463295, 0.031069856137037277, 0.013343988917768002, -0.014489048160612583, 0.0033698081970214844, 0.04197946935892105, -0.00036008484312333167, -0.016589824110269547, -0.02003401704132557, 0.017843076959252357, -0.011089936830103397, 0.032440319657325745, 0.02962726354598999, 0.040464747697114944, -0.03647958114743233, 0.04353025555610657, -0.0006491670501418412, -0.021909387782216072, 0.05359234660863876, 0.0036109916400164366, -0.019673367962241173, -0.0388057641685009, 0.031123952940106392, 0.003574926871806383, 0.005599065683782101, 0.04753345251083374, -0.017572591081261635, 0.019348785281181335, 0.02048482745885849, -0.044395811855793, -0.012433351948857307, 0.03440585359930992, -0.0019598985090851784, 0.0227569118142128, -0.008894490078091621, 0.022991333156824112, 0.024307699874043465, 0.004073072224855423, 0.004481055773794651, 0.01608491688966751, -0.029374809935688972, 0.03678613156080246, -0.012559578754007816, -0.03202557563781738, 0.012649741023778915, 0.000413900357671082, -0.021837258711457253, -0.014930842444300652, 0.013930043205618858, 0.03909428417682648, -0.0054322658106684685, 0.030655110254883766, -0.009737505577504635, -0.01741931587457657, 0.004113645292818546, 0.010918629355728626, -0.01850126124918461, 0.005526936147361994, 0.035055018961429596, -0.013127600774168968, -0.00314891105517745, 0.02436179667711258, -0.006473638117313385, 0.024091310799121857, -0.003978402353823185, 0.002312657656148076, 0.03211573511362076, 0.00623020064085722, -0.006748632527887821, -0.025209320709109306, -0.024632282555103302, 0.020358599722385406, 0.04342206194996834, -0.015011987648904324, 0.010702240280807018, 0.0075014857575297356, -0.0018866417231038213, -0.01601278781890869, 0.030546916648745537, 0.009665376506745815, 0.010404705069959164, 0.000318103120662272, 0.004508104640990496, 0.024830639362335205, 0.003063257085159421, 0.004059548024088144, 0.0005519610713236034, 0.022252004593610764, -0.026669945567846298, 0.024379828944802284, 0.02872564271092415, -0.016355402767658234, 0.009728489443659782, -0.007388783153146505, 0.0018032417865470052, 0.02585848793387413, 0.009566198103129864, -0.007776480168104172, 0.020791377872228622, -0.005206860601902008, 0.030204299837350845, 0.027896150946617126, -0.027265015989542007, 0.031340342015028, 0.015516895800828934, -0.013425135053694248, -0.029266614466905594, -0.014921826310455799, 0.01933075301349163, 0.0053240712732076645, -0.030420688912272453, -0.02279297634959221, 0.008168685249984264, 0.0040167211554944515, -0.02302739769220352, -0.016184095293283463, -0.01111698616296053, -0.03162886202335358, 0.005729801021516323, 0.030691174790263176, -0.00019314410747028887, 0.012397287413477898, -0.016463598236441612, 0.03381078317761421, -0.00503555266186595, -0.014840680174529552, 0.015390668995678425, 0.031051823869347572, 0.0060093034990131855, -0.009845700114965439, -0.026471590623259544, 0.021783161908388138, 0.009854716248810291, 0.013677588663995266, -0.0005714022554457188, -0.0004217895329929888, 0.004963423125445843, 0.01895207166671753, 0.00040347536560148, -0.00833999365568161, -0.03963525593280792, -0.005342104006558657, -0.017491444945335388, -0.016202127560973167, 0.007817053236067295, -0.025119157508015633, 0.021512674167752266, -0.012307125143706799, 0.027517469599843025, -0.0221979059278965, -0.006910924334079027, 0.008258847519755363, -0.024488024413585663, -0.03747136518359184, 0.008596954867243767, -0.047100674360990524, 0.00764123722910881, 0.015480831265449524, 0.031250178813934326, -0.0025944141671061516, -0.0038296347483992577, 0.01246040128171444, 0.00029330854886211455]\n"
     ]
    }
   ],
   "source": [
    "documents = [\n",
    "    \"인공지능은 컴퓨터 과학의 한 분야입니다.\",\n",
    "    \"머신러닝은 인공지능의 한 분야입니다.\",\n",
    "    \"딥러닝은 머신러닝의 한 종류입니다.\",\n",
    "    \"자연어 처리는 컴퓨터가 인간의 언어를 이해하고 생성하는 기술입니다.\",\n",
    "    \"컴퓨터 비전은 컴퓨터가 디지털 이미지나 비디오를 이해하는 방법을 연구합니다.\",\n",
    "]\n",
    "\n",
    "document_embeddings = embeddings_model.embed_documents(documents)\n",
    "\n",
    "print(f'임베딩 벡터의 개수: {len(document_embeddings)}')\n",
    "print(f'임베한 벡터의 차원: {len(document_embeddings[0])}')\n",
    "\n",
    "print(document_embeddings[0])\n"
   ]
  },
  {
   "cell_type": "code",
   "execution_count": 29,
   "id": "e6f9bd62",
   "metadata": {},
   "outputs": [
    {
     "name": "stdout",
     "output_type": "stream",
     "text": [
      "임베한 벡터의 차원: 1536\n",
      "[-0.02255643531680107, 0.022176697850227356, 0.0004912859876640141, 0.005667589604854584, 0.012189589440822601, -0.04480908066034317, -0.026277868077158928, 0.035809293389320374, -0.002643925603479147, 0.014800287783145905, -0.002100425772368908, 0.0008621239103376865, -0.004865393042564392, -0.07359322160482407, 0.009018776938319206, -0.01542685553431511, -0.05980873107910156, -0.022442514076828957, 0.022423528134822845, -0.0692262351512909, -0.029220838099718094, 0.023239964619278908, -0.036853570491075516, 0.00411778362467885, 0.011145309545099735, -0.0526316836476326, 0.010727598331868649, -3.0946419428801164e-05, -0.010803545825183392, -0.03410046920180321, 0.02529054880142212, -0.018910951912403107, -0.0014999649720266461, -0.05897330865263939, 0.04989757016301155, -0.0034152683801949024, -0.0027602205518633127, -0.0083684753626585, -0.004597202874720097, 0.02280326560139656, -0.011885798536241055, 0.0379737988114357, 0.0032989736646413803, 0.03520170971751213, -0.05141652375459671, 0.03448021039366722, -0.028537308797240257, 0.004692137241363525, -0.013471204787492752, 0.038600366562604904, -0.04537868872284889, 0.034556157886981964, -0.007699187379330397, -0.00934630073606968, -0.002916862489655614, 0.0646314024925232, 0.011430113576352596, 0.03146129101514816, -0.0059381527826189995, 0.04727737978100777, -0.00034651090390980244, -0.003659724723547697, 0.016566069796681404, 0.03907503932714462, -0.06227703019976616, -0.020562810823321342, -0.0027602205518633127, 0.03542955219745636, -0.03770798072218895, -0.021360261365771294, 0.041391439735889435, 0.002074318705126643, -0.07215021550655365, -0.005297344643622637, -0.019670426845550537, 0.01394587755203247, -0.020828628912568092, 0.04347999766469002, -0.0008425436681136489, 0.01228452380746603, 0.01951853185892105, 0.009189658798277378, 0.0012638154439628124, -0.044201500713825226, -0.009797239676117897, -0.016822392120957375, -0.020695719867944717, -0.05411266162991524, -0.052251946181058884, -3.265227496740408e-05, -0.018806522712111473, 0.061631474643945694, -0.025176627561450005, 0.03136635571718216, -0.019917257130146027, 0.039378829300403595, 0.07852981239557266, -0.008767200633883476, 0.010917467065155506, 0.023695649579167366, -0.03189799189567566, 0.0038875676691532135, 0.016736950725317, 0.03417641669511795, 0.024170322343707085, -0.05783409625291824, -0.017116690054535866, 0.028613256290555, 0.028290480375289917, 0.01062317006289959, 0.02149317041039467, 0.009730786085128784, -0.08437778055667877, 0.037081412971019745, -0.020695719867944717, -0.0019936244934797287, 0.007234008517116308, -0.01999320462346077, -0.012816157191991806, -0.037859875708818436, -0.029163876548409462, -0.011306698434054852, 0.027493029832839966, -0.002244014060124755, -0.030682828277349472, -0.029296785593032837, -0.0025893384590744972, -0.030986620113253593, -0.023961465805768967, -0.010034576058387756, -0.013680060394108295, 0.025499405339360237, -0.030511947348713875, 0.007566279266029596, 0.022632384672760963, -0.07169453054666519, 0.022366566583514214, 0.038581378757953644, -0.011999719776213169, -0.047695089131593704, 0.012740209698677063, -0.0017396745970472693, -0.023847544565796852, -0.002074318705126643, -0.026923423632979393, -0.041923072189092636, -0.001969890668988228, -0.015360401012003422, -0.000891790899913758, -0.005392279475927353, -0.05753030255436897, -0.007946017198264599, -0.042948365211486816, -0.029752470552921295, -0.042416732758283615, 0.035847265273332596, -0.011885798536241055, 0.03624599054455757, -0.000766596058383584, -0.004127277061343193, -0.03474602475762367, 0.001626939862035215, -0.007627986837178469, -0.002952462760731578, -0.0577581487596035, 0.06018846854567528, -0.023676663637161255, 0.0032894802279770374, 0.016869859769940376, -0.00595239270478487, -0.05415063723921776, -0.0026486723218113184, -0.01826539635658264, 0.008017217740416527, -0.0008822974632494152, -0.021379249170422554, 0.01848374679684639, 0.0009671451989561319, -0.007010912522673607, -0.05058109760284424, -0.05088489130139351, -0.036891546100378036, -0.03649282082915306, 0.018417291343212128, -0.03467007726430893, 0.014657885767519474, -0.026220908388495445, -0.012892104685306549, 0.0018322357209399343, 0.01874956302344799, 0.016812900081276894, 0.04336607828736305, 0.034290339797735214, 0.027720872312784195, 0.005933405831456184, -0.020942550152540207, -0.002125346101820469, -0.010718104429543018, 0.029296785593032837, 0.01574013940989971, 0.04325215518474579, -0.04913809522986412, 0.02329692430794239, -0.004428694024682045, 0.006033087149262428, 0.020942550152540207, 0.053315211087465286, -0.009730786085128784, -0.04177117720246315, -0.005838471464812756, 0.023183003067970276, -0.019556505605578423, 0.07097303122282028, -0.04735332727432251, -0.016917327418923378, -0.017335038632154465, 0.021683039143681526, 0.027512017637491226, -0.038600366562604904, 0.02857528254389763, -0.03370174765586853, 0.00386620732024312, -0.023220976814627647, 0.0038139934185892344, -0.022746305912733078, 0.008743466809391975, 0.011980732902884483, -0.035296645015478134, 0.023239964619278908, -0.037328243255615234, -0.030454985797405243, -0.023239964619278908, 0.00595239270478487, -0.009669078513979912, -0.024777904152870178, -0.018787536770105362, -0.010423807427287102, -0.001126753748394549, 0.01542685553431511, 0.011154803447425365, 0.013148427940905094, 0.032809361815452576, -0.012218069285154343, 0.0026154452934861183, 0.004549735691398382, 0.011078855954110622, 0.023866532370448112, 0.026714567095041275, -0.006336877588182688, -0.01667049713432789, 0.007343183271586895, -0.0375370979309082, 0.035296645015478134, -0.006303650327026844, 0.003251506481319666, -0.0030402771662920713, 0.024948785081505775, 0.02988537959754467, 0.0018939431756734848, 0.021664051339030266, -0.012626287527382374, 0.02380957081913948, -0.0240184273570776, -0.02529054880142212, 0.005097982473671436, 0.0023389486595988274, 0.02508169412612915, 0.031100541353225708, -0.007158061023801565, -0.03979654237627983, -0.0415053628385067, 0.01099341455847025, 0.016917327418923378, -0.021132418885827065, -0.02173999883234501, 0.012313003651797771, 0.0047372314147651196, 0.0032301461324095726, -0.029201850295066833, 0.037613045424222946, -0.043404050171375275, -0.010737091302871704, 0.040593989193439484, -0.019841309636831284, 0.012464899569749832, 0.005833724979311228, -0.010689624585211277, -0.06307447701692581, -0.05699867010116577, -0.02992335334420204, 0.07473243772983551, -0.002200106857344508, 0.008824161253869534, 0.028670217841863632, 0.028024662286043167, -0.007684947457164526, 0.02811959758400917, 0.048986200243234634, -0.009089978411793709, 0.013879423029720783, 0.08711189031600952, -0.036321938037872314, -0.06725160032510757, -0.046745747327804565, -0.028746165335178375, 0.05984670668840408, -0.04602424427866936, 0.011306698434054852, 0.0029287291690707207, -0.02884110063314438, 0.02680950239300728, 0.034328315407037735, 0.0375370979309082, -0.02485385164618492, -0.008463410660624504, -0.02965753711760044, 0.0061897290870547295, -0.019423598423600197, 0.043631892651319504, 0.003308467101305723, -0.0019153034081682563, -0.00752355856820941, -0.004490401595830917, -0.01820843666791916, -0.037556085735559464, -0.009175418876111507, 0.010309886187314987, -0.0023057216312736273, -0.02582218311727047, -0.0164236668497324, 0.03945477679371834, 0.04382176324725151, -0.028746165335178375, -0.011990226805210114, -0.013195894658565521, -0.009033016860485077, -0.031556226313114166, 0.014126253314316273, -0.04602424427866936, -0.041657257825136185, -0.048758357763290405, 0.026695579290390015, -0.05847964808344841, 0.028214532881975174, 0.039606671780347824, -0.007627986837178469, -0.031252436339855194, -0.0005758370389230549, 0.0003230739675927907, 0.031195474788546562, 0.038600366562604904, -0.026942409574985504, -0.007423877716064453, -0.05361900478601456, -0.033834654837846756, 0.0009671451989561319, -0.006545733660459518, 0.0004604322894010693, -0.021208366379141808, -0.031024593859910965, -0.08483346551656723, -0.027910741046071053, 0.030037274584174156, 0.04279647022485733, 4.839434404857457e-05, 0.004326639696955681, 0.015749633312225342, -0.020600786432623863, -0.0068780044093728065, -0.025651300325989723, -0.006417572032660246, -0.015635712072253227, 0.026239894330501556, -0.04629005864262581, -0.0071295807138085365, -0.003075877670198679, -0.010262418538331985, 0.02633482962846756, -0.01972738839685917, 0.02838541381061077, 0.01725909113883972, 0.03696749359369278, -0.019803335890173912, -0.0639478787779808, -0.0219868291169405, 0.018948925659060478, 0.009322567842900753, -0.037138376384973526, -0.04431542381644249, 0.048758357763290405, 0.039378829300403595, -0.035866253077983856, -0.024758916348218918, -0.010233938694000244, -0.06337826699018478, 0.002417269628494978, -0.02884110063314438, -0.0329422689974308, -0.015863554552197456, 0.003377294633537531, -0.014809781685471535, -0.0019307303009554744, -0.009213392622768879, -0.035809293389320374, -0.001960397232323885, -0.046745747327804565, 0.03191697597503662, 0.04253065586090088, -0.0013290829956531525, 0.05878343805670738, 0.04989757016301155, -0.027512017637491226, 0.044657185673713684, -0.002973823109641671, -0.012806663289666176, -0.035315632820129395, 0.00785108283162117, 0.001342136412858963, 0.01153454091399908, 0.006313143763691187, 0.027455056086182594, -0.009241873398423195, -0.014363588765263557, -0.05396076664328575, -0.004974567797034979, 0.009218139573931694, 0.03066384233534336, 0.017126182094216347, 0.07249198108911514, -0.04078385978937149, 0.025708261877298355, 0.038353536278009415, -0.023353885859251022, -0.022176697850227356, -0.05118868127465248, 0.011012401431798935, 0.026790514588356018, -0.01344272494316101, 0.0179711002856493, 0.03679661080241203, -0.015170532278716564, -0.025765221565961838, 0.005985619965940714, -0.030948646366596222, -0.054302532225847244, 0.026220908388495445, -0.04401163384318352, 0.0044809081591665745, -0.020448889583349228, -0.08096013963222504, -0.009113711304962635, -0.027208225801587105, 0.03463210538029671, 0.05749233067035675, -4.316552804084495e-05, -0.05236586928367615, 0.013964864425361156, -0.012711728923022747, 0.015578750520944595, 0.016613537445664406, -0.03525867313146591, -0.01666100323200226, -0.007352676708251238, 0.04439137130975723, -0.005245130974799395, -0.00501254154369235, 0.007651720196008682, 0.01178137119859457, -0.0344422347843647, -0.003118598135188222, -0.07997281849384308, -0.04815077781677246, 0.0491001196205616, -0.025366496294736862, 0.012170602567493916, 0.040631964802742004, 0.021170392632484436, -0.029961327090859413, -0.034328315407037735, 0.013727528043091297, 0.013195894658565521, -0.018151475116610527, 0.018350837752223015, 0.0004233485087752342, 0.04530274122953415, 0.03624599054455757, -0.06668198853731155, -0.011990226805210114, 0.045948296785354614, -0.014790794812142849, -0.02306908182799816, -0.029771458357572556, 0.06816297024488449, -0.0013314563548192382, 0.05411266162991524, 0.0219868291169405, 0.008620052598416805, -0.0425686277449131, -0.0023698024451732635, 0.0023282684851437807, 0.0027459803968667984, -0.02532852254807949, -0.026239894330501556, 0.04784698411822319, -0.010803545825183392, -0.01617683842778206, 0.0032230261713266373, 0.020657746121287346, -0.02027800865471363, -0.02508169412612915, -0.004834539256989956, 0.016528096050024033, 0.007571026217192411, 0.005980873014777899, 0.0041391439735889435, 0.019651440903544426, 0.0006277543725445867, 0.03698647767305374, 0.031765080988407135, -0.014591432176530361, 0.0029999299440532923, 0.013727528043091297, -0.012607300654053688, -0.0019983712118119, -0.0032467597629874945, -0.04127752035856247, -0.03725229576230049, -0.006892244331538677, -0.007618493400514126, -0.02610698714852333, 0.0058622052893042564, -0.005221397150307894, 0.009555157274007797, -0.007404890842735767, -0.026676593348383904, 0.0081026591360569, 0.027682898566126823, 0.01848374679684639, -0.019803335890173912, 0.027682898566126823, 0.01717364974319935, 0.012056681327521801, 0.006474532652646303, -0.004969820845872164, 0.001051399507559836, 0.008648532442748547, -0.008064685389399529, -0.0450369231402874, -0.016385693103075027, 0.05540377274155617, 0.039644643664360046, 0.00898555014282465, 0.025974078103899956, -0.037556085735559464, 0.03503083065152168, 0.013727528043091297, -0.003242013044655323, -0.006868510972708464, -0.0013314563548192382, -0.007680200506001711, -0.0029619561973959208, -0.014135746285319328, -0.02933475933969021, -0.019651440903544426, -0.007105846889317036, -0.015407868660986423, 0.022974148392677307, -0.027948714792728424, 0.020847614854574203, 0.0200501661747694, -0.05134057626128197, 0.01265476830303669, -0.0005838471697643399, 0.04515084624290466, -0.02098052389919758, -0.023733623325824738, 0.021360261365771294, -0.04002438485622406, 0.002952462760731578, 0.046707771718502045, 0.004345626570284367, 0.002426763065159321, -0.004846406169235706, 0.008093166165053844, 0.03649282082915306, 0.003994368948042393, -0.014534471556544304, 0.0329422689974308, 0.020372942090034485, -0.0013100960059091449, 0.029296785593032837, -0.0005277764867059886, 0.00727198226377368, -0.04651790112257004, -0.0049128602258861065, -0.0008223700569942594, 0.013043999671936035, -0.0008728040265850723, -0.01846475899219513, 0.03998640924692154, 0.007438117638230324, 0.011021895334124565, 0.009825720451772213, 0.006498266011476517, -0.020904576405882835, -0.02101849764585495, -0.0032989736646413803, 0.024967772886157036, 0.022461501881480217, -0.03770798072218895, -0.011211764067411423, -0.0024113361723721027, 0.0001906106626847759, -0.02155013009905815, -0.043631892651319504, -0.008904855698347092, -0.007808362133800983, 0.01772427000105381, 0.04632803425192833, -0.022081764414906502, -0.020581798627972603, -0.013623099774122238, 0.046973589807748795, -0.010794051922857761, -0.012294016778469086, -0.020429903641343117, -0.006821043323725462, -0.002115852665156126, -0.03396756201982498, -0.003892314387485385, 0.002425576327368617, 0.06877055019140244, -0.0242842435836792, 0.009070990607142448, 0.006939711514860392, -0.04947986081242561, -0.011857318691909313, -0.01468636654317379, 0.028290480375289917, -0.015379387885332108, -0.030720802024006844, 0.015550270676612854, 0.01848374679684639, -0.030189169570803642, 0.015236986801028252, -0.015607231296598911, -0.028936034068465233, -0.0121421217918396, 0.013604112900793552, -0.014743327163159847, -0.01251236628741026, -0.039606671780347824, -0.03292328491806984, -0.007428624201565981, 0.021189378574490547, -0.002700886456295848, -0.004245945252478123, -0.016281265765428543, 0.028214532881975174, -0.018179956823587418, 0.008140632882714272, -0.014847755432128906, 0.017354026436805725, 0.0070536332204937935, -0.008392209187150002, 0.03343592956662178, 0.04777103662490845, 0.021702025085687637, 0.03184102848172188, -0.011838331818580627, -0.048492539674043655, -0.014335108920931816, -0.008919095620512962, 0.011686436831951141, -0.016736950725317, 0.01720213145017624, -0.03089168481528759, 0.005249877460300922, 0.015123065561056137, 0.00987318716943264, -0.003970635123550892, 0.005919165909290314, -0.022689344361424446, -0.015873048454523087, 0.025423457846045494, 0.036606740206480026, 0.04070791229605675, 0.018910951912403107, -0.0029619561973959208, -0.059125203639268875, 0.0018951299134641886, 0.025176627561450005, 0.0023555620573461056, 0.003666844917461276, -0.038315560668706894, 0.02832845412194729, 0.0006882750894874334, 0.005444493144750595, -0.03233468905091286, 0.033853642642498016, -0.012635781429708004, 0.03856239095330238, 0.015768619254231453, -0.03258151933550835, -0.008188100531697273, -0.010556715540587902, 0.024208296090364456, -0.011657956056296825, 0.017600854858756065, 0.010082043707370758, -0.025708261877298355, 0.0032467597629874945, 0.010661143809556961, -0.01496167667210102, 0.022860227152705193, 0.022461501881480217, 0.038125693798065186, 0.0011469273595139384, -0.006023593712598085, -0.025632314383983612, -0.013471204787492752, -0.006384344771504402, 0.0018132488476112485, -0.012246550060808659, 0.002242827555164695, -0.01972738839685917, -0.05194815620779991, -0.008145379833877087, -0.022955160588026047, -0.02350578084588051, -0.003916047979146242, -0.029467666521668434, -0.022632384672760963, 0.00461856322363019, 0.055821482092142105, -0.018132489174604416, -0.04032817482948303, 0.001734927878715098, -0.05061907321214676, 0.0038804474752396345, 0.03146129101514816, -0.006664401385933161, 0.031005606055259705, -0.02684747613966465, -0.02306908182799816, 0.017914138734340668, -0.011553527787327766, 0.03292328491806984, 0.028442375361919403, -0.018578680232167244, -0.002175186527892947, 0.00010976800695061684, 0.01800907403230667, 0.0016221931437030435, 0.011202270165085793, 0.021607091650366783, 0.015085090883076191, -0.03138534352183342, 0.025480419397354126, 0.008805174380540848, 0.014971169643104076, -0.006749842781573534, 0.01039532758295536, 0.02530953660607338, -0.0014026571298018098, 0.0007683760486543179, 0.01504711713641882, 0.009540916420519352, 0.014382575638592243, 0.028195545077323914, -0.0019283569417893887, -0.01648062840104103, 0.0225184615701437, 0.017145169898867607, 0.04002438485622406, 0.0066216811537742615, -0.00550145423039794, -0.03537259250879288, -0.013452217914164066, 0.02960057556629181, -0.007191287819296122, -0.0029287291690707207, -0.003851967165246606, 0.00191649014595896, -0.0035458034835755825, 0.002651045797392726, 0.019338157027959824, 0.00782734900712967, -0.005738790147006512, -0.01672745868563652, -0.010509248822927475, 0.02635381557047367, -0.002985689789056778, -0.026733553037047386, -0.0059998598881065845, 0.015312934294342995, 0.007703934330493212, 0.02054382488131523, 0.01100290846079588, -0.021360261365771294, 0.02098052389919758, 0.022138724103569984, 0.016537589952349663, 0.04864443466067314, 0.02453107386827469, 0.006688135210424662, -0.017543895170092583, 0.03364478424191475, -0.019632453098893166, -0.03472703695297241, 0.021872907876968384, 0.008292527869343758, -0.024265257641673088, 0.020714707672595978, -0.023999439552426338, -0.02333489991724491, -0.008159619756042957, -0.004222211893647909, -0.00859157182276249, -0.013043999671936035, 0.039872489869594574, -0.0026629127096384764, 0.02785378135740757, -0.006659654900431633, 0.04044209420681, 0.017866672948002815, -0.029220838099718094, -0.012683248147368431, -0.026638619601726532, 0.004070316441357136, 0.06246689707040787, 0.02229061909019947, 0.028499335050582886, 0.00015515855920966715, 0.026448750868439674, 0.011458593420684338, -0.018853990361094475, -0.025195615366101265, -0.031499266624450684, 0.012987039051949978, -0.027948714792728424, 0.01038583368062973, -0.013774995692074299, 0.0556316152215004, -0.02177797257900238, 0.019186262041330338, -0.009526676498353481, 0.0022736811079084873, 0.024113362655043602, -0.013100960291922092, -0.02253744937479496, -0.004561602603644133, 0.05468226969242096, 0.005985619965940714, 0.035866253077983856, 0.004753844812512398, 0.012246550060808659, -0.014752821065485477, -0.0030355304479599, -0.0265816580504179, -0.006018847227096558, 0.03643586114048958, 0.0390370637178421, 0.010148497298359871, 0.02155013009905815, -0.007689693942666054, -0.01352816540747881, -0.00501254154369235, -0.010594689287245274, -0.005980873014777899, 0.03206887096166611, 0.03298024460673332, -0.02308806963264942, -0.025917116552591324, 0.024246269837021828, -0.006626427639275789, 0.0006870884099043906, 0.06755539029836655, -0.008890615776181221, -0.020581798627972603, 0.012854130938649178, -0.04659384861588478, 0.0037475391291081905, -0.03322707489132881, -0.03677762299776077, -0.01848374679684639, 0.005083742085844278, 0.029239824041724205, -0.020296994596719742, 0.024967772886157036, 0.0034247618168592453, -0.015863554552197456, 0.018104007467627525, -0.02810060977935791, 0.02046787738800049, 0.035543475300073624, 0.016585055738687515, 0.026676593348383904, -0.004568722564727068, -0.006911231204867363, -8.67018970893696e-05, -0.03877124935388565, -0.009635851718485355, -0.017619842663407326, -0.011572514660656452, 0.03360681235790253, 0.026258882135152817, 0.043669868260622025, 0.019091326743364334, -0.02308806963264942, -0.011154803447425365, 0.018122995272278786, 0.02303110808134079, -0.026201920583844185, -0.005292598158121109, -0.026144960895180702, -0.010945946909487247, 0.010689624585211277, -0.042150914669036865, -0.05855559557676315, 0.01999320462346077, 0.023410847410559654, 0.009664331562817097, 0.012322497554123402, 0.005772017408162355, 0.014942689798772335, -0.02941070683300495, -0.028746165335178375, -0.012094655074179173, 0.011173790320754051, -0.016898339614272118, -0.023600716143846512, -0.01566419191658497, 0.0120092136785388, 0.01919575408101082, 0.0039635151624679565, -0.028746165335178375, 0.002567978110164404, -0.0005221397150307894, -0.07017558068037033, 0.002508644014596939, -0.0260500255972147, -0.012854130938649178, -0.009688065387308598, -0.03525867313146591, -0.002074318705126643, 0.018787536770105362, 0.02684747613966465, 0.001267375540919602, 0.036587756127119064, 0.03643586114048958, -0.06527695804834366, 0.027132278308272362, 0.006811549887061119, 0.015075597912073135, -0.009256113320589066, 0.060644157230854034, 0.010832025669515133, -0.010034576058387756, -0.0010063056834042072, 0.01103138830512762, -0.0222526453435421, 0.00461856322363019, -0.025271562859416008, 0.008544104173779488, -0.005833724979311228, 0.006830536760389805, 0.02153114415705204, 0.0011849012225866318, 0.022727318108081818, -0.025651300325989723, 0.005942899268120527, 0.03172710910439491, 0.010338366962969303, 0.01049026194959879, 0.007618493400514126, 0.02760695107281208, -0.013613606803119183, -0.006275170017033815, -0.00335118779912591, 0.0340055376291275, -0.0034295087680220604, -0.0002557297993917018, -0.018787536770105362, 0.028803126886487007, 0.030018286779522896, 0.018891964107751846, 0.02356274239718914, -0.007998230867087841, 0.011610488407313824, 0.0019900642801076174, -0.06277068704366684, 0.025385484099388123, -0.021341275423765182, 0.05274560675024986, -0.0200501661747694, -0.003066384233534336, -0.029771458357572556, 0.01293007843196392, -0.02325895056128502, 0.011287711560726166, 0.04883430525660515, -0.003284733509644866, -0.014657885767519474, -0.019936244934797287, -0.036568768322467804, -0.023619702085852623, -0.01951853185892105, -0.013100960291922092, 0.019613467156887054, 0.032771386206150055, 0.024170322343707085, 0.02456904761493206, 0.00042127183405682445, 0.02635381557047367, 0.027531003579497337, -0.04401163384318352, -0.01052823569625616, 0.03195495158433914, 0.0003548176900949329, 0.01645214855670929, 0.003234892850741744, 0.03930288180708885, -0.03465108945965767, 0.028176559135317802, -0.02050585113465786, 0.010547222569584846, -0.00651725335046649, 0.035847265273332596, -0.005976126529276371, -0.007262488827109337, 0.011449100449681282, 0.007950764149427414, 0.021436208859086037, -0.018312864005565643, 0.042910393327474594, -0.026429763063788414, -0.013983851298689842, 0.04928999021649361, 0.01621481217443943, -0.013062986545264721, 0.014524977654218674, -0.04123954474925995, 0.02960057556629181, 0.016385693103075027, 0.0061944760382175446, -0.031992923468351364, 0.017287570983171463, 0.02075268141925335, 0.036872558295726776, 0.02331591211259365, -0.007608999963849783, -0.01228452380746603, 0.022195685654878616, -0.010566209442913532, 0.004058449529111385, -0.04739129915833473, 0.006593200843781233, -0.013357283547520638, -0.0019936244934797287, -0.006498266011476517, -0.0204868633300066, -0.030530933290719986, 0.015180026181042194, -0.0022119737695902586, -0.017344532534480095, -0.007713427767157555, -0.004509388469159603, -0.004162877798080444, 0.008349488489329815, 0.003552923444658518, 0.0029311026446521282, 0.02561332657933235, -0.04727737978100777, 0.016765432432293892, 0.03767000883817673, -0.039113011211156845, -0.033587824553251266, 0.012331990525126457, 0.005036274902522564, 0.03567638248205185, 0.011468087323009968, 0.015132558532059193, 0.028233518823981285, 0.01953751966357231, 0.028518322855234146, 0.01519901305437088, 0.021853920072317123, 0.024398164823651314, 0.0121421217918396, -0.018607161939144135, -0.008278287947177887, -0.017069222405552864, -0.02075268141925335, -0.003768899478018284, 0.027265187352895737, -0.0006781882839277387, 0.02561332657933235, 0.031081553548574448, -0.03142331913113594, -0.00011095469380961731, 0.04180915281176567, -0.00848714355379343, 0.022328592836856842, -0.012911091558635235, -0.02050585113465786, -0.005601135082542896, -0.03360681235790253, 0.026524698361754417, 0.02986639179289341, 0.006218209397047758, 0.018445773050189018, 0.00501254154369235, -0.0179711002856493, -0.01039532758295536, 0.01492370292544365, -0.006574213970452547, 0.003930287901312113, 0.023942479863762856, 0.01750592142343521, -0.01343323104083538, 0.00040228493162430823, -0.04093575477600098, 0.014069292694330215, 0.013651580549776554, 0.015901528298854828, -0.022480487823486328, 0.03839150816202164, 0.02101849764585495, -0.0047372314147651196, 0.006066314410418272, 0.01100290846079588, 0.005772017408162355, -0.02992335334420204, 0.013129441067576408, -0.04678371921181679, 0.015236986801028252, -0.008325755596160889, 0.002810060977935791, 0.00550145423039794, -0.012170602567493916, -0.01293007843196392, -0.01264527440071106, 0.0030046768952161074, -0.019651440903544426, 0.023752611130475998, -0.023126043379306793, 0.009863694198429585, 0.0037143121007829905, 0.0016221931437030435, -0.009294087067246437, -0.0034817226696759462, -0.009270353242754936, 0.01644265465438366, -0.012218069285154343, -0.04199901968240738, -0.02122735232114792, 0.0007363356999121606, -0.047733064740896225, 0.03210684657096863, 0.008691253140568733, -0.02910691685974598, -0.0225184615701437, 0.03537259250879288, -0.02046787738800049, 0.02409437485039234, -0.010983921587467194, -0.009422248229384422, 0.04541666433215141, 0.008762453682720661, 0.0013112827436998487, 0.008520371280610561, -0.01455345842987299, 0.0027222465723752975, 0.021322287619113922, 0.020657746121287346, 0.01874006912112236, -0.014562951400876045, 0.019081832841038704, -0.02760695107281208, 0.03419540449976921, 0.039113011211156845, 0.02760695107281208, -0.01872108317911625, -0.010907973162829876, 0.013793982565402985, 0.004447680898010731, 0.017325544729828835, 0.015502803027629852, -0.03218279406428337, -0.020107125863432884, 0.013262349180877209, -0.03520170971751213, -0.001308909384533763, -0.02156911790370941, -0.013993344269692898, -0.060606181621551514, -0.026942409574985504, 0.0062799169681966305, -0.01343323104083538, -0.004217464942485094, -0.0011724410578608513, -0.019879283383488655, -0.03130939602851868, 0.04287241771817207, -0.011686436831951141, -0.03514475002884865, -0.00676882965490222, 0.01644265465438366, 0.009294087067246437, 0.011468087323009968, -0.047467246651649475, -0.030037274584174156, -0.04902417212724686, -0.03706242889165878, -0.0007440490880981088, -0.012854130938649178, -0.0017812084406614304, 0.014781300909817219, 0.03136635571718216, -0.016803406178951263, 0.004298159386962652, 0.022081764414906502, -0.017382506281137466, 0.0001497443299740553, 0.019898271188139915, -0.02151215635240078, -0.03092965856194496, 0.003358307760208845, 0.04329013079404831, -0.0014465643325820565, 0.008287781849503517, 0.015531283803284168, -0.008563091047108173, -0.015303440392017365, -0.012540847063064575, 0.01051874179393053, -0.01643316075205803, -0.021967843174934387, -0.0005515100783668458, -0.00430053286254406, 0.012123134918510914, -0.012873117811977863, -0.01902487315237522, -0.006403331644833088, -0.0283474400639534, -0.0051691834814846516, -0.014752821065485477, 0.008847895078361034, 0.0052546244114637375, 0.006270423531532288, 0.014373082667589188, -0.00360276410356164, -0.0139079038053751, 0.016252785921096802, 0.0024944038596004248, 0.0013979104114696383, -0.015778113156557083, 0.0348789319396019, -0.00530683808028698, -0.020353956148028374, -0.04530274122953415, 0.022746305912733078, 0.021189378574490547, 0.020809641107916832, -0.021815946325659752, -0.025271562859416008, 0.02358172833919525, -0.023619702085852623, -0.006066314410418272, 0.016034435480833054, 0.01153454091399908, -0.028727177530527115, -0.018540706485509872, -0.044429343193769455, 0.044960975646972656, -0.008026711642742157, 0.008786187507212162, -0.012673755176365376, 0.006199222523719072, 0.008344742469489574, 0.00782734900712967, 0.0027198733296245337, 0.016812900081276894, -0.01556925754994154, -0.02046787738800049, 0.010006096214056015, -0.002492030616849661, -0.02382855862379074, 0.018578680232167244, -0.025784209370613098, 0.00029726364300586283, -0.020353956148028374, -0.00833999551832676, 0.03791683912277222, -0.025442445650696754, -0.012085161171853542, -0.003420015098527074, 0.010480768047273159, -0.014154733158648014, 0.03599916025996208, 0.00463043013587594, 0.01467687264084816, -0.01454396452754736, 0.02534751035273075, -0.015882540494203568, -0.004675523843616247, -0.010072549805045128, 0.02889806032180786, -0.006175489164888859, -0.019148288294672966, 0.023164017125964165, -0.00752355856820941, -0.0033416941296309233, 0.023619702085852623, -0.001483351457864046, -0.04560653120279312, 0.00836372934281826, 0.0017456080531701446, 0.01596798188984394, 0.03463210538029671, -0.002658165991306305, -0.06732754409313202, -0.018028059974312782, 0.00037143120425753295, 0.014857248403131962, 0.007442864589393139, 0.009303580969572067, -0.003503082785755396, -0.006887497846037149, -0.014373082667589188, -0.0019485305529087782, 0.004003862384706736, -0.011885798536241055, -0.006208715960383415, -0.010983921587467194, -0.04226483777165413, 0.005548921413719654, -0.014800287783145905, 0.0010763198370113969, 0.010082043707370758, 0.002995183225721121, 0.02986639179289341, 0.0005369732389226556, -0.028955021873116493, 0.018635641783475876, 0.014088279567658901, -0.006047327537089586, 0.02253744937479496, 0.014297135174274445, -0.03370174765586853, -0.04154333472251892, 0.020334968343377113, 0.03193596377968788, 0.0048369127325713634, -0.02990436553955078, 0.0415053628385067, -0.05779612064361572, 0.0023638689890503883, -0.025879142805933952, -0.029049955308437347, -0.0003123938222415745, -0.03692951798439026, 0.015873048454523087, 0.011933266185224056, -0.0068732574582099915, -0.0060046068392694, 0.02963854931294918, 0.0360371358692646, -0.009759265929460526, -0.010822532698512077, 0.0010899666231125593, -0.0032894802279770374, -0.0032871069852262735, 0.03892314434051514, 0.030967632308602333, -0.019594479352235794, 0.02810060977935791, 0.014610419049859047, -0.021474182605743408, -0.027929728850722313, -0.03516373783349991, 0.015142052434384823, -0.013765501789748669, -0.002133652800694108, 0.053581029176712036, 0.041201572865247726, -0.04541666433215141, 0.020581798627972603, 0.0319739393889904, -0.012588313780725002, 0.05213802680373192, -0.0009481582674197853, -0.025917116552591324, -0.03535360470414162, 0.005809991154819727, 0.031518250703811646, 0.04078385978937149, 0.04602424427866936, 0.003192172385752201, -0.001275682239793241, 0.005411266349256039, -0.022423528134822845, 0.005805244203656912, 0.02073369361460209, -0.009455475956201553, 0.007879562675952911, -0.032828349620103836, 0.003467482514679432, 0.031290408223867416, 0.015445842407643795, -0.02432221733033657, 0.026429763063788414, -0.02734113484621048, 0.034328315407037735, -0.02382855862379074, -0.03111952729523182, 0.011971239931881428, 0.0015320053789764643, -0.033037204295396805, -0.03286632150411606, 0.005249877460300922, 0.03503083065152168, -0.009047257713973522, 0.03873327374458313, -0.004775205161422491, -0.0018357958178967237, 0.009327313862740993, 0.011382645927369595, 0.010775065049529076, -0.006692882161587477, 0.05464429408311844, -0.011306698434054852, -0.010328873060643673, 0.01669897697865963, -0.004191358108073473, -0.0046114432625472546, 0.020202061161398888, -0.008202340453863144, 0.014714846387505531, 0.041125621646642685, -0.022423528134822845, -0.011695929802954197, -0.012958558276295662, 0.027208225801587105, 0.024682968854904175, 0.010803545825183392, 0.01624329201877117, 5.2473558753263205e-05, 0.027986688539385796, 0.018588174134492874, 0.022461501881480217, 0.03339795395731926, -0.009165925905108452, 0.0065314932726323605, -0.0039231679402291775, 0.027512017637491226, 0.011249737814068794, -0.029790444299578667, 0.01593000814318657, -0.006061567459255457, -0.018360331654548645, 0.02333489991724491, 0.007357423193752766, -0.01255034003406763, 0.020809641107916832, 0.007096353452652693, 0.01303450670093298, 0.025499405339360237, 0.02557535283267498, -0.013043999671936035, 0.038315560668706894, -0.018113501369953156, 0.021815946325659752, 0.0006870884099043906, -0.037366218864917755, 0.07720073312520981, 0.02479689009487629, -0.008990297093987465, 0.015312934294342995, -0.03415743261575699, -0.002361495513468981, 0.00873871985822916, -0.045682478696107864, 0.008107406087219715, 0.01431612204760313, 0.007789375260472298, -0.015616724267601967, -0.025423457846045494, -0.009806733578443527, -0.00690173776820302, -0.008705493062734604, 0.017040742561221123, -0.03626497834920883, 0.02333489991724491, -0.006033087149262428, 0.0240184273570776, -0.00033701746724545956, 0.006094794720411301, 0.0455685593187809, -0.0011493007186800241, -0.018369825556874275, -0.041429415345191956, -0.015626218169927597, 0.021075457334518433, -0.0034152683801949024, 0.013737021945416927, -0.038885168731212616, -0.010575702413916588, -0.0030521440785378218, 0.022119738161563873, 0.017040742561221123, 0.006564720533788204, -0.06212513521313667, 0.017562881112098694, -0.014942689798772335, -0.0120092136785388, -0.006721362471580505, -0.022423528134822845, 0.03899909183382988, -0.0053305719047784805, 0.012835144065320492, -0.025233589112758636, 0.012863623909652233, 0.025005746632814407, 0.01252186018973589, -0.02432221733033657, 0.030492959544062614, -0.04473313316702843, 0.0298474058508873, 0.008828908205032349, 0.023638689890503883, 0.004207971505820751, 0.010784558951854706, -0.0006372478092089295, 0.022157711908221245]\n"
     ]
    }
   ],
   "source": [
    "embedded_query = embeddings_model.embed_query(\"인공지능이란 무엇인가요?\")\n",
    "\n",
    "\n",
    "# print(f'임베딩 벡터의 개수: {len(document_embeddings)}')\n",
    "print(f'임베한 벡터의 차원: {len(embedded_query)}')\n",
    "print(embedded_query)"
   ]
  },
  {
   "cell_type": "code",
   "execution_count": 30,
   "id": "156d175c",
   "metadata": {},
   "outputs": [
    {
     "name": "stdout",
     "output_type": "stream",
     "text": [
      "질문:  인공지능이란 무엇인가요?\n",
      "가장 유사한 문서: 인공지능은 컴퓨터 과학의 한 분야입니다.\n",
      "유사도: 0.6219\n",
      "--------------------------------------------------\n",
      "질문:  딥러닝과 머신러닝의 관계는 어떻게 되나요?\n",
      "가장 유사한 문서: 딥러닝은 머신러닝의 한 종류입니다.\n",
      "유사도: 0.5924\n",
      "--------------------------------------------------\n",
      "질문:  컴퓨터가 이미지를 이해하는 방법은?\n",
      "가장 유사한 문서: 컴퓨터 비전은 컴퓨터가 디지털 이미지나 비디오를 이해하는 방법을 연구합니다.\n",
      "유사도: 0.6622\n",
      "--------------------------------------------------\n"
     ]
    }
   ],
   "source": [
    "from langchain_community.utils.math import  cosine_similarity\n",
    "import numpy as np\n",
    "\n",
    "def find_most_similar(query, document_embeddings):\n",
    "    query_embedding = embeddings_model.embed_query(query)\n",
    "    similarities = cosine_similarity(\n",
    "        [query_embedding], document_embeddings\n",
    "    )[0]\n",
    "    most_similar_idx = np.argmax(similarities) #그 중 제일큰 것의 인덱스를 알려줌\n",
    "    return documents[most_similar_idx], similarities[most_similar_idx]\n",
    "        #5개 문서중 유사도 가장 높은 문서, 유사도 점수 \n",
    "        \n",
    "queries = [\n",
    "    \" 인공지능이란 무엇인가요?\",\n",
    "    \" 딥러닝과 머신러닝의 관계는 어떻게 되나요?\",\n",
    "    \" 컴퓨터가 이미지를 이해하는 방법은?\",\n",
    "]\n",
    "\n",
    "for query in queries:\n",
    "    most_similar_doc, similarity = find_most_similar(query, document_embeddings)\n",
    "    print(f'질문: {query}')\n",
    "    print(f'가장 유사한 문서: {most_similar_doc}')\n",
    "    print(f'유사도: {similarity:.4f}')\n",
    "    print('-'*50)"
   ]
  },
  {
   "cell_type": "code",
   "execution_count": 31,
   "id": "3c01f69a",
   "metadata": {},
   "outputs": [
    {
     "name": "stderr",
     "output_type": "stream",
     "text": [
      "c:\\Users\\KOSA\\AppData\\Local\\pypoetry\\Cache\\virtualenvs\\langchain-env-e_qH7Re7-py3.11\\Lib\\site-packages\\huggingface_hub\\file_download.py:143: UserWarning: `huggingface_hub` cache-system uses symlinks by default to efficiently store duplicated files but your machine does not support them in C:\\Users\\KOSA\\.cache\\huggingface\\hub\\models--BAAI--bge-m3. Caching files will still work but in a degraded version that might require more space on your disk. This warning can be disabled by setting the `HF_HUB_DISABLE_SYMLINKS_WARNING` environment variable. For more details, see https://huggingface.co/docs/huggingface_hub/how-to-cache#limitations.\n",
      "To support symlinks on Windows, you either need to activate Developer Mode or to run Python as an administrator. In order to activate developer mode, see this article: https://docs.microsoft.com/en-us/windows/apps/get-started/enable-your-device-for-development\n",
      "  warnings.warn(message)\n"
     ]
    },
    {
     "data": {
      "text/plain": [
       "HuggingFaceEmbeddings(client=SentenceTransformer(\n",
       "  (0): Transformer({'max_seq_length': 8192, 'do_lower_case': False}) with Transformer model: XLMRobertaModel \n",
       "  (1): Pooling({'word_embedding_dimension': 1024, 'pooling_mode_cls_token': True, 'pooling_mode_mean_tokens': False, 'pooling_mode_max_tokens': False, 'pooling_mode_mean_sqrt_len_tokens': False, 'pooling_mode_weightedmean_tokens': False, 'pooling_mode_lasttoken': False, 'include_prompt': True})\n",
       "  (2): Normalize()\n",
       "), model_name='BAAI/bge-m3', cache_folder=None, model_kwargs={}, encode_kwargs={}, multi_process=False, show_progress=False)"
      ]
     },
     "execution_count": 31,
     "metadata": {},
     "output_type": "execute_result"
    }
   ],
   "source": [
    "from langchain_huggingface.embeddings import HuggingFaceEmbeddings\n",
    "# from torch import mode\n",
    "\n",
    "embeddings_model = HuggingFaceEmbeddings(model_name=\"BAAI/bge-m3\")\n",
    "\n",
    "embeddings_model"
   ]
  },
  {
   "cell_type": "code",
   "execution_count": 32,
   "id": "c8b9dcfc",
   "metadata": {},
   "outputs": [
    {
     "name": "stdout",
     "output_type": "stream",
     "text": [
      "임베딩 벡터의 개수: 5\n",
      "임베한 벡터의 차원: 1024\n",
      "[-0.03941445052623749, 0.008764848113059998, -0.01268161553889513, 0.002453206107020378, -0.008944757282733917, -0.0073837218806147575, -0.005377359688282013, -0.009055864997208118, 0.03291522338986397, 0.0060455072671175, -0.027012888342142105, -0.027740875259041786, 0.00044411991257220507, 0.030136585235595703, 0.017242854461073875, 0.01709028333425522, 0.025524919852614403, -0.021856073290109634, -0.011341292411088943, -0.05702261999249458, -0.0003017137059941888, 0.013543128035962582, -0.00745010282844305, 0.01857445389032364, 0.0028946553356945515, 0.008630653843283653, -0.0007444894872605801, -0.028904108330607414, 0.02072780393064022, -0.02050059288740158, 0.00806991383433342, -0.026754198595881462, 0.003963088616728783, -0.01630389876663685, -0.07406219840049744, -0.033650368452072144, -0.023871466517448425, -0.034550052136182785, -0.034785956144332886, 0.005482987500727177, -0.0500335693359375, -0.0028035668656229973, -0.023146886378526688, -0.0749114379286766, -0.011434338986873627, -0.028992658481001854, -0.034183014184236526, -0.02552468702197075, -0.06156915798783302, 0.01355795469135046, 0.024401184171438217, -0.03127624839544296, 0.05056966468691826, 0.01297259982675314, -0.06420670449733734, 0.02719489298760891, 0.006821519695222378, 0.01040553580969572, -0.06427163630723953, -0.01602821797132492, -0.020655397325754166, 0.03011762723326683, -0.006331697106361389, -0.013117467984557152, -0.0005491788615472615, 0.04695945605635643, 0.007765491958707571, 0.02975654974579811, -0.034744080156087875, -0.03635729104280472, 0.02141391858458519, 0.017580494284629822, -0.033522170037031174, 0.013690433464944363, -0.052323490381240845, 0.0484783798456192, -0.013382785953581333, -0.01721262000501156, -0.03435642272233963, 0.021087003871798515, -0.02280254475772381, -0.006211874540895224, -0.012333830818533897, -0.04589996486902237, -0.043625324964523315, -0.033220961689949036, -0.03090287744998932, 0.06267786771059036, -0.013041095808148384, 0.0030605620704591274, -0.0340210497379303, -0.011811473406851292, 0.06983616203069687, -0.06787191331386566, -0.041217122226953506, -0.0454251766204834, -0.05954749882221222, 0.026572149246931076, 0.021793361753225327, 0.016649406403303146, -0.004795452114194632, 0.05578603595495224, 0.005842223763465881, -0.004925691522657871, 0.005203359294682741, 0.012360346503555775, 0.015873588621616364, 0.01367831788957119, -0.0043206121772527695, -0.01677749492228031, 0.024673426523804665, 0.07882759720087051, -0.0033149532973766327, 0.02773304283618927, -0.01484991516917944, -0.036296527832746506, -0.007080220151692629, -0.005244876723736525, 0.031237956136465073, 0.028104552999138832, 0.021445205435156822, 0.026932429522275925, -0.018261343240737915, -0.03545693680644035, 0.025494327768683434, -0.014402574859559536, 0.043160952627658844, -0.0065125953406095505, -0.0023869096767157316, -0.02542489394545555, 0.0072542778216302395, 0.0016669394681230187, -0.06067398190498352, 0.002136952942237258, -0.0793343335390091, -0.03168250620365143, -0.026456240564584732, -0.03457324951887131, 0.0011898735538125038, -0.026784759014844894, 0.03188098967075348, 0.008707314729690552, -0.034499384462833405, -0.02601381205022335, 0.028248101472854614, 0.02884906902909279, 0.011804240755736828, 0.006611349061131477, -0.04028214141726494, 0.006594954524189234, -0.04195798933506012, 0.0018759315134957433, -0.016849229112267494, -0.0003243584942538291, 0.008593757636845112, 0.05727248638868332, 0.03451273962855339, 0.018291309475898743, -0.03627154603600502, 0.019243353977799416, -0.011026408523321152, -0.051076490432024, -0.011925905011594296, 0.03441395238041878, 0.02501545660197735, 0.005875391885638237, 0.002253934508189559, 0.05663304403424263, -0.02504449151456356, -0.051671940833330154, -0.04070146754384041, -0.0038236903492361307, -0.08939449489116669, 0.013491159304976463, 0.03287690505385399, 0.020798636600375175, 0.04125238209962845, 0.03118397481739521, 0.010359593667089939, -0.03293048217892647, -0.02438637614250183, -0.015635890886187553, -0.017844397574663162, 0.016319524496793747, -0.0033740142825990915, -0.008289546705782413, 0.007997727952897549, 0.017579950392246246, 0.005814952775835991, -0.0015096361748874187, 0.033619582653045654, -0.023578904569149017, 0.018168527632951736, -0.01330758910626173, -0.010974681936204433, -0.06073543801903725, 0.035313572734594345, 0.03325321152806282, 0.0035984297282993793, -0.00952876266092062, -0.03346243128180504, 0.026455912739038467, 0.004845170769840479, -0.005232802592217922, -0.028605099767446518, 0.035237569361925125, -0.0023234442342072725, -0.03342469781637192, 0.020695991814136505, -0.016646746546030045, 0.050313934683799744, 0.005382917821407318, 0.006805296055972576, -0.04224148765206337, -0.050436802208423615, -0.023666486144065857, -0.0003812862851191312, 0.017486944794654846, -0.021624553948640823, -0.0511527955532074, -0.005384465213865042, -0.007931957952678204, 0.012596579268574715, 0.040384430438280106, 0.023643091320991516, 0.011450348421931267, -0.012604239396750927, -0.024017591029405594, 0.05937512218952179, 0.02274705469608307, -0.014662839472293854, 0.028443580493330956, 0.0028610816225409508, -0.027433879673480988, 0.0026598251424729824, -0.012619069777429104, -0.01932603120803833, 0.0012929788790643215, 0.024065805599093437, 0.005560114048421383, 0.00046924938214942813, -0.012332884594798088, 0.008361480198800564, 0.007104378193616867, -0.014163916930556297, -0.025789659470319748, -0.009067066945135593, 0.011334900744259357, -0.03867325931787491, 0.012458669021725655, -0.014846699312329292, -0.05338018015027046, 0.0007011149427853525, -0.037628211081027985, 0.024404335767030716, -0.022411521524190903, -0.0031276154331862926, 0.005926228128373623, 0.02924339845776558, 0.01287229172885418, -0.025251511484384537, -0.017893923446536064, -0.032658834010362625, 0.01578877680003643, 0.036837607622146606, -0.019260186702013016, 0.004153445363044739, -0.008615180850028992, 0.02560017630457878, 0.03141622245311737, 0.013882146216928959, 0.016615988686680794, 0.02648591250181198, 0.016514712944626808, 0.037105534225702286, 0.01717045158147812, 0.016321688890457153, -0.022120626643300056, 0.027622010558843613, 0.02409966289997101, -0.02487592212855816, -0.034905221313238144, 0.010859489440917969, 0.037536170333623886, 0.032445091754198074, -0.0029510187450796366, -0.021300766617059708, -0.0008491594926454127, -0.049433041363954544, -0.0502716526389122, -0.055717527866363525, -0.035786330699920654, 0.0516539067029953, -0.0265003964304924, -0.02994459494948387, 0.04084897041320801, -0.002776476787403226, -0.15416252613067627, 0.052873287349939346, -0.04403994232416153, 0.024527763947844505, 0.0007717610569670796, -0.023125799372792244, 0.02821776270866394, 0.020606141537427902, -0.06491450220346451, 0.05870119482278824, -0.015259644016623497, -0.05291959270834923, -0.026743700727820396, -0.01604013890028, 0.03513459488749504, 0.03692731261253357, 0.01824101246893406, -0.00014413133612833917, -0.02538212761282921, -0.0042935931123793125, -0.04096035659313202, -0.05058600381016731, 0.01501425914466381, -0.03581550344824791, 0.029789935797452927, -0.0450902096927166, -0.020970871672034264, -0.023698925971984863, -0.02904968522489071, -0.0343937985599041, -0.018698493018746376, -0.009413955733180046, -0.021368445828557014, 0.041909877210855484, 0.02259029820561409, 0.008137853816151619, 0.0034019192680716515, -0.0349729098379612, 0.05352339893579483, 0.006330618169158697, -0.009400810115039349, 0.034035295248031616, 0.013987434096634388, 0.005095578730106354, -0.0004018498002551496, -0.02248120680451393, 0.038704436272382736, 0.0006443642778322101, -0.013815921731293201, 0.009313303977251053, -0.02437048777937889, -0.05039580166339874, 0.04627165198326111, -0.021217262372374535, -0.03346460312604904, 0.006026161834597588, 0.010226252488791943, 0.06932579725980759, 0.02263225056231022, 0.01256889570504427, -0.04025674983859062, -0.034716781228780746, 0.019841725006699562, 0.01483395416289568, 0.013841369189321995, -0.04672090709209442, 0.055473294109106064, 0.011165871284902096, 0.021457156166434288, -0.022262319922447205, 0.0364818274974823, -0.0014091739431023598, 0.05106925591826439, -0.01689680479466915, -0.0002580969885457307, 0.049261536449193954, 0.007794075645506382, -0.07784523814916611, -0.051600441336631775, -0.08172133564949036, 0.0001815612631617114, -0.0027508637867867947, -0.00911609549075365, -0.004651397932320833, -0.04209818318486214, -0.0022109639830887318, -0.010076198726892471, -0.027880771085619926, 0.05060306191444397, 0.20528994500637054, 0.02644439786672592, -0.00022551258734893054, -0.026649249717593193, 0.03717314079403877, -0.00884224008768797, -0.014338335022330284, -0.019308755174279213, 0.017481058835983276, -0.010157187469303608, 0.00998526532202959, -0.02210446074604988, -0.0012158019235357642, 0.006270232610404491, 0.013725214637815952, 0.02520187385380268, -0.0338592529296875, -0.0011371580185368657, 0.08596235513687134, 0.02185939997434616, -0.007644908502697945, -0.0030849771574139595, 0.04453148692846298, -0.001303709577769041, -0.028895698487758636, -0.02633531019091606, 0.0028093711007386446, 0.010797255672514439, -0.01945134624838829, -0.036453668028116226, 0.005088219419121742, 0.02991410158574581, -0.010681968182325363, 0.00668497197329998, 0.02388142980635166, 0.017712926492094994, 0.0014703982742503285, -0.01895172894001007, 0.009166152216494083, 0.007664768490940332, -0.020509911701083183, -0.015714965760707855, -0.001461324281990528, 0.007429524324834347, 0.009566866792738438, 0.010711194016039371, 0.006898301653563976, -0.009391158819198608, -0.019545521587133408, -0.035453129559755325, -0.06176724657416344, -0.022272849455475807, -0.0431184396147728, 0.018352795392274857, -0.002340212929993868, -0.004222696181386709, -0.043274860829114914, 0.025858143344521523, 0.017618432641029358, 0.008789444342255592, 0.03943892940878868, 0.00882461667060852, 0.033270299434661865, 0.02598056010901928, -0.009331374429166317, -0.005429025739431381, -0.03740306571125984, -0.05824077129364014, 0.058875735849142075, -0.003742871107533574, 0.013187007047235966, 0.014792914502322674, -0.04668256267905235, -0.022107357159256935, 0.006471659522503614, 0.003505814354866743, 0.03154466673731804, 0.026691237464547157, 0.02857639454305172, 0.028033770620822906, -0.029319938272237778, 0.010856660082936287, -0.027783192694187164, 0.03786864131689072, 0.007742194924503565, -0.0514553040266037, -0.014120903797447681, 0.05561647564172745, 0.017498530447483063, -0.024795711040496826, 0.013818337582051754, 0.008258553221821785, -0.009095114655792713, 0.044248390942811966, -0.01329843606799841, 0.022851206362247467, 0.007554680574685335, -0.005556196440011263, -0.02685144916176796, 0.04283802583813667, -0.030624551698565483, -0.043705523014068604, -0.009680411778390408, -0.006718836259096861, 0.016627758741378784, 0.020827841013669968, 0.020590966567397118, 0.05548373982310295, 0.009113775566220284, 0.04802144318819046, 0.002895117737352848, 0.026987796649336815, -0.051990218460559845, -0.04606880247592926, 0.014079599641263485, -0.010256743058562279, 0.02094566822052002, 0.020687086507678032, 0.006968574598431587, 0.014875837601721287, -0.03136388584971428, 0.0012487262720242143, 0.01880241185426712, 0.03199198469519615, 0.00028788161580450833, -0.027227697893977165, 0.04708467423915863, 0.033834058791399, -0.015769002959132195, 0.019647110253572464, 0.060615766793489456, 0.0018481869483366609, 0.004004715010523796, 0.04876017943024635, 0.022826777771115303, 0.014284435659646988, -0.014066212810575962, 0.021967392414808273, 0.05986209958791733, 0.0002834529441315681, 0.01490861363708973, 0.007023236248642206, 0.024416398257017136, 0.008015756495296955, 0.01087257917970419, 0.001623623538762331, -0.013646877370774746, 0.04847606271505356, -0.023516252636909485, -0.006223450414836407, 0.0007701823487877846, -0.02226422168314457, 0.058263808488845825, -0.0425332710146904, -0.008776901289820671, -0.029511017724871635, -0.021039290353655815, -0.005618670489639044, 0.03724319487810135, -0.022321170195937157, 0.02959318459033966, 0.022220907732844353, 0.06000766530632973, 0.05433725193142891, -0.013108964078128338, 0.04675421863794327, -0.00401958217844367, -0.020036820322275162, -0.009979183785617352, -0.052365098148584366, 0.012971536256372929, -0.02396402135491371, -0.04701244458556175, 0.017680251970887184, -0.06316707283258438, -0.012216208502650261, -0.051538754254579544, 0.01671617664396763, 0.002896486083045602, 0.0023543699644505978, 0.04698430374264717, 0.00523611344397068, 0.028605902567505836, 0.01803353615105152, 0.002688364591449499, 0.012599187903106213, 0.04312582686543465, -0.012468741275370121, 0.016190819442272186, -0.03503527119755745, -0.013990488834679127, 0.0850161612033844, -0.0006753899506293237, -0.03510754927992821, 0.018908224999904633, -0.04388415068387985, 0.018178407102823257, -0.014595218934118748, 0.05074280872941017, -0.01459877286106348, -0.01224845927208662, -0.05382172390818596, 0.00917732436209917, -0.013291004113852978, -0.026121504604816437, 0.019020941108465195, -0.009157782420516014, 0.015958424657583237, -0.012059297412633896, 0.023945920169353485, 0.010822105221450329, 0.0012781597906723619, -0.04741375893354416, 0.028183521702885628, -0.03028205968439579, 0.03450252115726471, -0.03545202687382698, 0.010610704310238361, 0.02175796777009964, -0.07106901705265045, -0.011429186910390854, -0.0007577657816000283, 0.0009730145684443414, -0.06687965244054794, 0.0017512959893792868, 0.030838053673505783, -0.013645228929817677, -0.020122958347201347, -0.019696658477187157, 0.04643265902996063, -0.004844081588089466, -0.08160027861595154, 0.040443047881126404, 0.004950438626110554, 0.03106473572552204, 0.005250941030681133, -0.006103127263486385, 0.014033702202141285, -0.021181907504796982, -0.019575361162424088, 0.025881540030241013, -0.026794644072651863, 0.06484147161245346, 0.017436444759368896, 0.02530406229197979, 0.012567217461764812, 0.006157862953841686, -0.015259120613336563, -0.0029800529591739178, 0.004574266728013754, -0.011685431934893131, -0.04778236150741577, 0.04852068051695824, 0.027301853522658348, 0.019908662885427475, -0.046112310141325, 0.049470845609903336, -0.015534117817878723, -0.02295883186161518, 0.007057528011500835, 0.011417149566113949, 0.028111224994063377, -0.0009655554313212633, 0.005214741453528404, 0.0058796824887394905, 0.0409088134765625, 0.04670417308807373, 0.013859489932656288, -0.04856492578983307, -0.03641865774989128, 0.030556630343198776, -0.0033170697279274464, -0.03998246416449547, -0.03232389688491821, 0.03208169713616371, -0.002212338149547577, -0.03743819147348404, 0.04703685641288757, 0.04756614938378334, -0.003721168963238597, -0.0048499442636966705, 0.054563842713832855, 0.008762187324464321, 0.014281686395406723, 0.013041425496339798, -0.005775482393801212, 0.011362412013113499, 0.005727213341742754, 0.028392244130373, -0.03743183985352516, 0.017423391342163086, 0.009146100841462612, -0.04311313480138779, 0.010060444474220276, -0.013028775341808796, 0.02631356380879879, -0.008787056431174278, 0.04881313070654869, -0.02394179254770279, -0.008417542092502117, -0.030199937522411346, -0.011565571650862694, -0.008227541111409664, -0.0007779707084409893, 0.036086179316043854, 0.019429702311754227, 0.01580188050866127, -0.06475582718849182, 0.0322716161608696, -0.01971476711332798, 0.012444691732525826, 0.0005196271231397986, 0.03724118322134018, 0.04861580580472946, -0.030769038945436478, -0.011096972040832043, 0.030283836647868156, -0.04953470081090927, 0.054928380995988846, -0.0020628164056688547, 0.04958369582891464, 0.0007331087836064398, -0.006119831465184689, -0.023130185902118683, 0.009980812668800354, 0.023883339017629623, -0.019458536058664322, -0.03200145438313484, 0.029113808646798134, -0.05370786041021347, -0.012846654281020164, 0.03300855681300163, -0.002457789843901992, 0.02562246471643448, 0.0028969887644052505, -0.016086380928754807, -0.01989271678030491, -0.03626823425292969, 0.05153731256723404, 0.02597828023135662, -0.023754622787237167, -0.0021327033173292875, 0.05663057416677475, -0.02122490480542183, 0.026157844811677933, -0.03065486066043377, -0.009088555350899696, -0.0013654757058247924, 0.007371808867901564, 0.014015519991517067, -0.038815684616565704, -0.00517585314810276, -0.020652448758482933, -0.0854281410574913, 0.03286979719996452, -0.021121669560670853, -0.0017047026194632053, -0.02385287545621395, 0.010193399153649807, 0.00315288407728076, -0.04626765102148056, 0.00437856325879693, 0.0127662792801857, 0.03188915550708771, -0.006445439998060465, 0.06173041835427284, 0.027293331921100616, -0.040185313671827316, 0.012747325003147125, -0.0434139110147953, -0.03434227406978607, 0.024028999730944633, 0.045110832899808884, -0.06422783434391022, -0.002670811954885721, 0.01576581783592701, -0.04633603245019913, 0.015471864491701126, -0.012263933196663857, 0.004063956439495087, 0.00287000578828156, -0.059097934514284134, -0.0497787669301033, -0.03188014775514603, 0.0042823865078389645, -0.04063795879483223, -0.010036937892436981, -0.02049512416124344, 0.04349435493350029, 0.00918308924883604, -0.021456951275467873, -0.036665648221969604, 0.03871417045593262, -0.0285770446062088, -0.12108999490737915, 0.011257986538112164, -0.021855873987078667, 0.038476478308439255, -0.020778898149728775, 0.026198500767350197, -0.005205582827329636, 0.007620614487677813, 0.023885339498519897, -0.06817088276147842, -0.010705300606787205, 0.0383872464299202, 0.020878417417407036, -0.013643725775182247, -0.0012990288669243455, 0.01889580488204956, -0.01062721200287342, 0.019094279035925865, 0.007302974816411734, 0.025121130049228668, -0.003089906182140112, 0.01935056410729885, 0.04545747861266136, -0.006982765160501003, 0.016584398224949837, -0.004083536099642515, 0.006178656592965126, 0.010033611208200455, -0.06160513684153557, 0.008099166676402092, 0.05615949630737305, -0.05707838386297226, 0.005859646014869213, 0.0026495291385799646, -0.052220381796360016, -0.0299502145498991, -0.04529864713549614, 0.004038611892610788, -0.027648000046610832, 0.03871120885014534, -0.03272446617484093, 0.027157515287399292, 0.03960347920656204, -0.011242413893342018, 0.015820488333702087, 0.08895587176084518, -0.03150158375501633, -0.016731765121221542, -0.014683903194963932, -0.02074112929403782, 0.029698267579078674, -0.026172680780291557, -0.012390865944325924, 0.05219876393675804, -0.01278004888445139, 0.016312677413225174, -0.05087518319487572, 0.009121483191847801, -0.00313637126237154, 0.07734204083681107, -0.04193482547998428, 0.0007514443132095039, -0.030584556981921196, 0.013006380759179592, -0.007410403341054916, 0.030986057594418526, -0.05732092633843422, -0.010988319292664528, -0.015135087072849274, 0.006888857111334801, 0.008642567321658134, 0.06573335081338882, 0.03371092304587364, -0.03401574864983559, 0.029345404356718063, 0.011673970147967339, 0.051056768745183945, 0.007065086159855127, 0.019810937345027924, -0.03461391478776932, 0.016095582395792007, 0.012484722770750523, -0.04676222428679466, -0.02751578949391842, 0.01037660799920559, -0.02294725365936756, -0.0341225266456604, -0.003230020636692643, -0.008177163079380989, -0.02337176911532879, -0.048484642058610916, -0.011113783344626427, -0.01951933465898037, -0.0038489040452986956, -0.04734348878264427, 0.013848778791725636, 0.0020971072372049093, 0.012429009191691875, -0.016072377562522888, -0.012233719229698181, -0.007150484714657068, -0.005227204877883196, 0.009924722835421562, -0.0023524079006165266, -0.020415889099240303, 0.03459920361638069, 0.0664309561252594, -0.010721628554165363, 0.05480988696217537, -0.03403067961335182, 0.009117666631937027, -0.014219526201486588, -0.05166011303663254, 0.039497654885053635, -0.002909444272518158, -0.012116190046072006, 0.01622280664741993, 0.06202355772256851, 0.01534039806574583, 0.032064445316791534, 0.046687863767147064, -0.026615308597683907, 0.0022645804565399885, -0.018055344000458717, 0.06148137152194977, 0.0034600934013724327, 0.000789506419096142, 0.0458180233836174, 0.04978005960583687, 4.842199814447667e-07, 0.015820657834410667, -0.028666410595178604, 0.0513312965631485, -0.019402440637350082, 0.0501457042992115, 0.001262991689145565, 0.0666620060801506, 0.032210998237133026, -0.07578133791685104, -0.02677566558122635, -0.022792527452111244, -0.013899172656238079, -0.0027472928632050753, -0.01722531020641327, -0.05203042924404144, -0.006385997869074345, 0.02829090878367424, -0.05922159552574158, -0.006042583379894495, -0.010329843498766422, -0.020534338429570198, -0.025234172120690346, 0.0064850132912397385, 0.05987747386097908, -0.06461494415998459, 0.039172276854515076, -0.03935927152633667, 0.01159712579101324, -0.0050013186410069466, -0.02177659049630165, 0.024796174839138985, -0.02105584554374218, -0.01434142142534256, 0.00503738084807992, -0.02690310776233673, -0.015666238963603973, -0.020005540922284126, -0.017518416047096252, -0.002119163516908884, 0.03180164471268654, 0.03315679728984833, 0.06110072135925293, -0.02178020402789116, -0.007200476247817278, 0.023457041010260582, 0.0045004175044596195, -0.03394908830523491, 0.030627720057964325, 0.05058339238166809, 0.019436292350292206, 0.0303652323782444, -0.008498151786625385, 0.03861614689230919, 0.024106768891215324, -0.029866786673665047, -0.022483771666884422, -0.029365161433815956, 0.05913860723376274, 0.02399420365691185, -0.05173459276556969, -0.02144564501941204, -0.00802871398627758, -0.045875344425439835, 0.01853395439684391, -0.012980912812054157, 0.062045540660619736, 0.025514403358101845, 0.03043605387210846, -0.013861718587577343, 0.01149920467287302, -0.0768980160355568, -0.01568572036921978, 0.031369224190711975, -0.010092422366142273, -0.004928586073219776, 0.005839566234499216, -0.05361056327819824, -0.0019884761422872543, -0.023305809125304222, -0.012968521565198898, 0.008794065564870834, 0.018897265195846558, 0.0008403917890973389, -0.0075892736203968525, 0.04887888953089714, -0.05043143406510353, 0.012651998549699783, -0.005049560219049454, -0.015551907941699028, 0.0036741825751960278, 0.002968963235616684, 0.007681547664105892, -0.026818852871656418, -0.010751387104392052, 0.013961038552224636, -0.031508371233940125, 0.010267532430589199, 0.05015924572944641, -0.03511187434196472, -0.000825826427899301, -0.028183406218886375, -0.02412126399576664, 0.0028528431430459023, 0.02042170614004135, -0.013471641577780247, -0.014262369833886623, 0.022602247074246407, 0.038974639028310776, -0.008240492083132267, -0.01573222689330578, 0.05449069291353226, 0.008341755717992783, 0.03494136035442352, -0.017748065292835236]\n"
     ]
    }
   ],
   "source": [
    "document_embeddings = embeddings_model.embed_documents(documents)\n",
    "\n",
    "print(f'임베딩 벡터의 개수: {len(document_embeddings)}')\n",
    "print(f'임베한 벡터의 차원: {len(document_embeddings[0])}')\n",
    "\n",
    "print(document_embeddings[0])"
   ]
  },
  {
   "cell_type": "code",
   "execution_count": 34,
   "id": "fcad5007",
   "metadata": {},
   "outputs": [
    {
     "name": "stdout",
     "output_type": "stream",
     "text": [
      "임베한 벡터의 차원: 1024\n",
      "[-0.037039123475551605, -0.004837991204112768, 0.0029373099096119404, -0.015514612197875977, -0.0009441758156754076, -0.041501596570014954, -0.006574456579983234, 0.011289638467133045, 0.021614039316773415, 0.00492870295420289, -0.02034059353172779, 0.016905220225453377, -0.012874143198132515, 0.005518907215446234, 0.01498833205550909, 0.024228790774941444, 0.007369135040789843, -0.0280498955398798, -0.014939031563699245, -0.05185191333293915, -0.006705035921186209, -0.00925153587013483, -0.01698080636560917, 0.006491502281278372, 0.0529317744076252, 0.04813734069466591, -0.008069506846368313, -0.02317177504301071, 0.018143074586987495, -0.011328093707561493, -0.004240384325385094, -0.0063547235913574696, -0.0022717327810823917, 0.014329448342323303, -0.035636842250823975, -0.0081558246165514, -0.011798243038356304, -0.04542410001158714, -0.04073286056518555, 0.002213911386206746, -0.012132256291806698, 0.017896151170134544, -0.019144685938954353, -0.04192439466714859, 0.0009190814453177154, -0.03915588557720184, -0.024359621107578278, -0.024489058181643486, -0.02218920923769474, -0.004594799596816301, 0.03145501762628555, -0.048728641122579575, 0.017981471493840218, 0.0249920766800642, 0.002237536245957017, 0.04849318414926529, -0.008275476284325123, 0.028034629300236702, -0.07396604865789413, -0.020461751148104668, -0.0263366661965847, -0.007573056034743786, -0.03894694894552231, -0.017513766884803772, 0.019220856949687004, 0.063721664249897, 0.020348967984318733, -0.011644082143902779, -0.018541233614087105, -0.04083118960261345, 0.002421613549813628, 0.04151126369833946, -0.05780716985464096, 0.05268523842096329, -0.04598034918308258, 0.011361498385667801, 0.0207319688051939, 0.006215656641870737, -0.03468085825443268, 0.01756490208208561, 0.04858102649450302, -0.011552076786756516, -0.029530871659517288, -0.013280289247632027, -0.006100417114794254, -0.0019025076180696487, -0.019761361181735992, 0.06854037940502167, -0.010715009644627571, 0.002307107439264655, -0.042589616030454636, -0.0015900902217254043, 0.05118926614522934, -0.10599074512720108, -0.018659507855772972, -0.08233021944761276, -0.03328852355480194, 0.010936753824353218, 0.014399323612451553, 0.032037172466516495, -0.005423123016953468, 0.04439564421772957, 0.016004163771867752, -0.026697121560573578, 0.02955281175673008, 0.005722423084080219, 0.0007927178521640599, 0.009445486590266228, -0.037956029176712036, -0.006559080444276333, 0.038131747394800186, 0.03867705166339874, 0.019001934677362442, 0.032001249492168427, -0.04679049924015999, -0.053457409143447876, 0.008922784589231014, 0.0013820723397657275, 0.023152245208621025, 0.040909092873334885, -0.007746885530650616, 0.020619843155145645, -0.036084674298763275, -0.042336612939834595, -0.008937310427427292, -0.01676209457218647, 0.03305095434188843, 0.03457776829600334, -0.006106757093220949, -0.014311728067696095, 0.02695605158805847, -0.017395054921507835, -0.07625306397676468, -0.006047257222235203, -0.05990392342209816, -0.02036607265472412, 0.006905917078256607, -0.03120812028646469, 0.02491193637251854, -0.03327043354511261, 0.03437249734997749, 0.0062740459106862545, -0.033595163375139236, -0.028891751542687416, 0.01834128051996231, 0.006629348732531071, 0.004403289873152971, -0.007898879237473011, -0.010449216701090336, 0.024499056860804558, -0.01784857176244259, -0.023140722885727882, -0.026498058810830116, -0.0097039844840765, 0.008640212006866932, 0.04633478447794914, 0.010182333178818226, 0.023935405537486076, -0.05202914774417877, 0.03454338386654854, 0.04255593195557594, -0.0006984370411373675, 0.006904136389493942, 0.024554835632443428, -0.009249909780919552, 0.003749987343326211, 0.001992330653592944, 0.022435257211327553, -0.0076515027321875095, -0.026824606582522392, -0.0371842235326767, 0.010140012949705124, -0.03330320864915848, 0.03516096621751785, 0.014153018593788147, 0.0015179530018940568, 0.064730204641819, 0.033416762948036194, -0.009922739118337631, -0.00821741297841072, -0.05553995817899704, -0.017524680122733116, -0.011371009051799774, 0.0038229876663535833, -0.0037375178653746843, 0.011147807352244854, 0.01589265465736389, 0.011535915546119213, 0.019301893189549446, 6.594521255465224e-05, -0.016626091673970222, -0.021884620189666748, 0.013342292979359627, -0.004614601377397776, -0.001308637554757297, -0.029976176097989082, 0.03368757292628288, 0.04602937400341034, -0.004229712765663862, -0.04002342000603676, -0.027000123634934425, 0.028471950441598892, 0.016615083441138268, 0.0074339439161121845, -0.04309453070163727, 0.013872237876057625, 0.004785212222486734, -0.042156726121902466, 0.011164223775267601, -0.03745196759700775, 0.01899046078324318, 0.04842604324221611, 0.049872249364852905, -0.023933259770274162, -0.05517071858048439, -0.008649035356938839, -0.01916738599538803, 0.04419618472456932, -0.007545467000454664, -0.012426664121448994, -0.01359731424599886, 0.019231382757425308, 0.0015145097859203815, 0.02555161900818348, 0.03561323508620262, -0.0017695141723379493, 0.03700565919280052, -0.01934419572353363, 0.021112555637955666, 0.010621178895235062, 0.001815431984141469, 0.058873798698186874, 0.01621713861823082, -0.03262633457779884, 0.001010660082101822, -0.014767328277230263, -0.03783586621284485, -0.02151409722864628, 0.00684019923210144, 0.019496021792292595, -0.024711284786462784, 0.002176497830078006, -0.03264020010828972, 0.026916978880763054, -0.011721814051270485, -0.013111653737723827, -0.016775263473391533, -0.02588152512907982, -0.012007121928036213, 0.025429418310523033, -0.0012389563489705324, -0.0387854166328907, 0.005284689832478762, -0.012242462486028671, 0.05315488949418068, 0.014017307199537754, -0.010207884944975376, 0.005708550568670034, 0.007218088489025831, 0.03655287250876427, 0.010486883111298084, -0.02365610934793949, 0.0005250289686955512, 0.03281537815928459, 0.0539558045566082, 0.01005272101610899, 0.001881808857433498, -0.03236310929059982, 0.019335735589265823, 0.03375537693500519, -0.014729146845638752, -0.02018939144909382, -0.02022441290318966, 0.003361406736075878, 0.03844418376684189, -0.014588456600904465, -0.008461090736091137, -0.01572742871940136, 0.025323059409856796, 0.009637241251766682, -0.021265912801027298, -0.056229110807180405, -0.014719435945153236, 0.046485014259815216, 0.02474284917116165, -0.02521612122654915, -0.0314987488090992, 0.0021103050094097853, -0.0018524558981880546, -0.03766109421849251, -0.01068531908094883, -0.021195504814386368, 0.05994448810815811, -0.017540914937853813, -0.029294457286596298, -0.01651499979197979, -0.03334275260567665, -0.13450641930103302, 0.014861905947327614, -0.030510185286402702, 0.023870935663580894, -0.008990788832306862, -0.030506959185004234, 0.019909871742129326, -0.012342041358351707, 0.000984641839750111, 0.029325367882847786, 0.00816770363599062, -0.04651208221912384, -0.04996275529265404, -0.03237045183777809, 0.03154980018734932, 0.005826613400131464, 0.01724798046052456, -0.0124784791842103, -0.03253531828522682, -0.04868704453110695, -0.016888218000531197, -0.06612598150968552, 0.008022093214094639, -0.051493529230356216, 0.05662034451961517, -0.01194700039923191, 0.01418460626155138, -0.003226295579224825, -0.047148384153842926, -0.0571013018488884, -0.013619939796626568, -0.04022354632616043, -0.009091476909816265, 0.053464703261852264, 0.051880255341529846, 0.005872068461030722, -0.0033090487122535706, -0.02414245717227459, 0.04166965186595917, -0.006590473465621471, 0.0012395618250593543, 0.004078478552401066, 0.027110613882541656, 0.04170544818043709, 0.004624218214303255, 0.017327411100268364, 0.03122677095234394, -0.018804410472512245, 0.022112907841801643, -0.0014157600235193968, -0.03164137527346611, -0.0038416560273617506, 0.04987508803606033, -0.04317935183644295, 0.01945360191166401, -0.004618077538907528, 0.038763005286455154, 0.0749245285987854, 0.04673221334815025, -0.012821893207728863, -0.04926648736000061, 0.03639506548643112, -0.016499241814017296, 0.02383754961192608, -0.014056337997317314, -0.008350430056452751, 0.0763549655675888, 0.021610692143440247, -0.006471711676567793, -0.029888421297073364, 0.04298757389187813, -0.006319577340036631, 0.003482945030555129, -0.011994455009698868, 0.018967214971780777, 0.03665361553430557, 0.011891375295817852, -0.055312562733888626, -0.04361614212393761, -0.07883048802614212, 0.026639563962817192, -0.016894184052944183, -0.0008407216519117355, -0.0007740932633168995, -0.020351016893982887, -0.01934168115258217, -0.0019193807383999228, 0.0029372202698141336, 0.0163116455078125, 0.240951806306839, -0.02046298421919346, 0.01600290648639202, -0.023172402754426003, -0.009749185293912888, -0.0055515356361866, -0.022992268204689026, -0.02173408307135105, 0.010987725108861923, -0.022734854370355606, 0.005074264016002417, -0.01603400893509388, 0.0074820504523813725, 0.003896828508004546, 0.02499449998140335, 0.060913387686014175, -0.034541577100753784, 0.008022187277674675, 0.06798814237117767, 0.011886144988238811, 0.0013998693320900202, 0.01213300321251154, 0.03347232565283775, 0.012255792506039143, -0.023566629737615585, -0.00658482126891613, 0.016387861222028732, 0.032310131937265396, -0.01211635209619999, -0.020721768960356712, -0.0006229220307432115, 0.006029629614204168, 0.015111175365746021, -0.005422503687441349, 0.0024635472800582647, 0.008051198907196522, -0.012814360670745373, -0.0260782428085804, 0.016747482120990753, -0.0022051334381103516, -0.02984967641532421, -0.021296124905347824, 0.03523917868733406, -0.006630289368331432, 0.009591875597834587, 0.018282247707247734, 0.017618751153349876, 0.018735336139798164, -0.06494813412427902, -0.019879985600709915, -0.03368113189935684, -0.002116335788741708, -0.05129687115550041, 0.0022100554779171944, -0.011080151423811913, -0.02089051343500614, -0.015042413957417011, 0.03895007073879242, 0.016617270186543465, -0.017477506771683693, 0.0669027715921402, -0.004562914837151766, 0.02343877963721752, -0.02787792682647705, 0.008510109968483448, -0.016472797840833664, -0.03295144811272621, -0.08128269761800766, -0.011990668252110481, 0.005866090301424265, 5.3751940868096426e-05, -0.003492629388347268, -0.03506447374820709, -0.0050484477542340755, 0.023774033412337303, 0.029240334406495094, 0.03066251240670681, 0.03821934014558792, 0.007099438924342394, 0.010195675306022167, 0.015867678448557854, 0.0036339566577225924, -0.04261533543467522, 0.014660703018307686, 0.009449604898691177, -0.03942972421646118, -0.02807421237230301, 0.04945937544107437, 0.028142325580120087, -0.044728100299835205, 0.04677305370569229, -0.01853323169052601, -0.04007841274142265, 0.031544528901576996, 0.011868365108966827, -0.012655253522098064, 0.0657903254032135, 0.013060887344181538, 0.010287120006978512, 0.04188523441553116, -0.03937182575464249, -0.02285059355199337, 0.00016456362209282815, 0.0556056872010231, 0.049515500664711, -0.008175341412425041, 0.010815425775945187, 0.06870774179697037, 0.007081430871039629, 0.09678665548563004, -0.01700115017592907, -0.005990356206893921, -0.03747906908392906, -0.002882258268073201, 0.024536551907658577, 0.0067351022735238075, 0.02851400524377823, -0.023954445496201515, 0.008569248020648956, 0.014626231044530869, -0.0477469265460968, 0.02744404226541519, -0.0009996937587857246, -0.02387750707566738, 0.02463688887655735, -0.03217221796512604, 0.03437190130352974, -0.010820291936397552, -0.013791053555905819, 0.015677321702241898, 0.03971207141876221, 0.007031143177300692, 0.03324787691235542, 0.0676274448633194, 0.04346628487110138, 0.010069812647998333, -0.006054585333913565, 0.03341539204120636, 0.0234797615557909, 0.0222096499055624, -0.010580616071820259, -0.006418729666620493, -0.0009642460499890149, 0.020537352189421654, 0.004917826969176531, 0.006863178685307503, 0.02614470198750496, 0.030876213684678078, -0.035683419555425644, -0.036932919174432755, -0.034909509122371674, -0.01622273586690426, -0.007834145799279213, -0.08086276054382324, -0.002636232413351536, -0.02647467330098152, -0.0013029546244069934, -0.03466777130961418, -0.001501271384768188, -0.03400757163763046, 0.029870495200157166, -0.023574436083436012, 0.051433712244033813, 0.10243325680494308, 0.016947399824857712, 0.0738985612988472, 0.049549832940101624, 0.011109043844044209, 0.008857856504619122, -0.06901868432760239, 0.04607083275914192, -0.03176074102520943, -0.043508131057024, 0.006947510410100222, -0.02853684313595295, -0.028709745034575462, -0.028362292796373367, 0.0007430672412738204, 0.009753109887242317, -0.051029037684202194, 0.016081836074590683, 0.019987238571047783, 0.02581094019114971, 0.053755659610033035, -0.0053192805498838425, 0.0039314404129981995, 0.05399196594953537, -0.005129008553922176, 0.014109104871749878, -0.015200226567685604, -0.00026769167743623257, 0.07187123596668243, 0.011996823363006115, -0.006195012014359236, 0.020591959357261658, -0.03972269222140312, 0.00784145575016737, -0.020624686032533646, 0.04603106901049614, 0.02848251722753048, 0.0336921326816082, -0.05101746693253517, -0.000611359195318073, -0.0005767929833382368, 0.020632095634937286, 0.009316246025264263, -0.023178737610578537, -0.0013654787326231599, -0.018552901223301888, 0.0448189377784729, 0.026425611227750778, -0.005445381626486778, -0.030831243842840195, -0.007227393798530102, -0.0332685150206089, 0.018092431128025055, -0.04253162443637848, 0.033409446477890015, 0.022858314216136932, -0.0566527396440506, -0.03302741423249245, 0.03000064007937908, 0.012428228743374348, -0.07073478400707245, 0.00037813655217178166, 0.05293026939034462, -0.028434906154870987, -0.021334771066904068, 0.025617271661758423, 0.03773925453424454, 0.008760226890444756, -0.06261824816465378, 0.020341385155916214, 0.03599688783288002, 0.012768242508172989, -0.015243892557919025, -0.02151668258011341, -0.016208576038479805, -0.014530632644891739, -0.03024551272392273, 0.034258730709552765, -0.013401317410171032, 0.0638519823551178, 0.02114604227244854, 0.017921481281518936, -0.019347311928868294, 0.01133694127202034, -0.008723476901650429, -0.01521980855613947, 0.02851760946214199, -0.03264104947447777, -0.010743851773440838, 0.041790079325437546, 0.002668199362233281, 0.009615411050617695, -0.012813895009458065, 0.03967621177434921, 0.0013596516801044345, -0.011945183388888836, -0.0022052025888115168, 0.002957319375127554, 0.02780294232070446, -0.03060716949403286, 0.0018586143851280212, -0.0024497262202203274, 0.021612176671624184, 0.007533776108175516, 0.003352807369083166, -0.054315485060214996, -0.04692958667874336, 0.03315076604485512, 0.019050775095820427, -0.023163173347711563, -0.04460863769054413, -0.028425119817256927, 0.025952929630875587, -0.04476160183548927, 0.01811773143708706, 0.006036260165274143, 0.04835163801908493, -0.018086077645421028, 0.07059592753648758, -0.012845818884670734, 0.03550199791789055, -0.028405670076608658, -0.004290600772947073, 0.009981383569538593, -0.02503241039812565, 0.0003416039689909667, -0.07229295372962952, -0.00757595244795084, -0.01706043817102909, -0.053740911185741425, 0.017092835158109665, -0.006584642454981804, 0.058475788682699203, -0.019886884838342667, 0.039390332996845245, -0.024408867582678795, -0.02269757352769375, -0.03535723313689232, 0.0014931305777281523, -0.014277808368206024, 0.019025195389986038, -0.0010353875113651156, 0.02434973418712616, 0.012797098606824875, -0.03189679607748985, 0.02428228035569191, -0.0005900501855649054, -0.018702294677495956, 0.006278923712670803, 0.02822839841246605, 0.02983863279223442, -0.04594534635543823, -0.016823958605527878, 0.04754146561026573, -0.0702192410826683, 0.025104250758886337, 0.023485654965043068, 0.05767752230167389, 0.023428982123732567, 0.001527546439319849, -0.045842934399843216, 0.03083539940416813, 0.0004904729430563748, -0.020950807258486748, -0.03031073324382305, 0.026045287027955055, -0.07034264504909515, -0.015839846804738045, 0.04656245931982994, -0.0070927944034338, -0.003866109298542142, -0.00879647210240364, 0.0005151182995177805, -0.030279245227575302, -0.02443363331258297, 0.03805071860551834, -0.016502952203154564, 0.04245002940297127, 0.005689410492777824, 0.046807821840047836, -0.017270341515541077, -0.016238784417510033, -0.05630578473210335, 0.00818434078246355, 0.020044377073645592, -0.0024435161612927914, 0.03499758243560791, 0.009682790376245975, 0.041708607226610184, -0.047173235565423965, -0.05711449682712555, 0.039457157254219055, 0.016719834879040718, -0.030553828924894333, -0.025327611714601517, 0.020326407626271248, 0.01017501950263977, -0.040363579988479614, 0.03164282813668251, 0.01410097349435091, 0.0356171615421772, 0.013648373074829578, 0.013169445097446442, 0.0028140449430793524, -0.02434295415878296, 0.013845600187778473, -0.014623417519032955, -0.010815788060426712, 0.014875143766403198, 0.05588504672050476, -0.03753672167658806, -0.024807609617710114, 0.01653849519789219, -0.01659245602786541, -0.019737500697374344, -0.010183080099523067, -0.02349688485264778, -0.011645321734249592, -0.06232386454939842, -0.039166733622550964, -0.036455970257520676, -0.01106004323810339, -0.02335617132484913, 2.1594561985693872e-05, -0.04460373893380165, 0.04020141065120697, -0.055025890469551086, -0.03401710093021393, -0.03588028624653816, -0.012097487226128578, -0.006962587125599384, -0.12520673871040344, 0.025680461898446083, -0.0006911988602951169, -0.005511787720024586, -0.04034445434808731, 0.012482907623052597, -0.023088686168193817, -0.0004981111851520836, 0.01412761677056551, -0.023778701201081276, -0.022780079394578934, 0.050184525549411774, -0.04474737122654915, -0.014800124801695347, -0.0047114635817706585, 0.028020376339554787, -0.0167696513235569, 0.016406221315264702, -0.016325611621141434, -0.021781669929623604, -0.04240024834871292, -0.012077447026968002, 0.028010834008455276, -0.027554811909794807, 0.05169367045164108, 0.02230636589229107, 0.02518990822136402, 0.04332415387034416, -0.0388321653008461, -0.01429781224578619, 0.017593558877706528, -0.0693960189819336, 0.041472721844911575, -0.001370422076433897, -0.05102718248963356, -0.027104713022708893, -0.025515053421258926, -0.019199715927243233, -0.004185943864285946, 0.0009279110236093402, -0.004753083921968937, 0.017131244763731956, 0.0052074044942855835, -0.025614485144615173, -0.035888295620679855, 0.04588902369141579, -0.02758384682238102, -0.027078963816165924, -0.024635177105665207, 0.004591118544340134, 0.02680462971329689, -0.01933213509619236, 0.0011265042703598738, 0.01927041821181774, -0.00684039480984211, 0.02412506379187107, -0.05452205240726471, 0.025098681449890137, -0.0025626146234571934, 0.09898555278778076, -0.0020522482227534056, -0.0008181337034329772, -0.02720695175230503, 0.028830405324697495, -0.023654218763113022, 0.019349312409758568, -0.03516870364546776, 0.005421241279691458, 0.02439751848578453, 0.0062990449368953705, -0.011892024427652359, 0.005306409206241369, 0.01167841162532568, -0.0175127275288105, 0.03408222645521164, 0.011782770976424217, 0.03477008268237114, 0.01595103181898594, -0.01795617863535881, -0.02845056541264057, 0.03562706708908081, 0.006755843758583069, -0.04474259912967682, -0.012436769902706146, -0.017885804176330566, 0.006770856212824583, -0.030114177614450455, 0.014468448236584663, 0.012383916415274143, -0.010364159941673279, -0.0745256096124649, -0.01396337989717722, 0.004212414380162954, 0.010386260226368904, -0.05068018659949303, 0.0054351771250367165, -0.021549947559833527, 0.004790809005498886, -0.032581962645053864, -0.01671917550265789, -0.01722094975411892, -0.0008278351742774248, 0.017261918634176254, 0.0268300361931324, -0.01517445594072342, 0.008098163641989231, 0.06706385314464569, -0.018373606726527214, 0.0065871188417077065, -0.004388106521219015, 0.015563689172267914, -0.007881877943873405, 0.004045038018375635, 0.03504035249352455, 0.0011946310987696052, -0.010163344442844391, 0.0292817372828722, 0.03393736854195595, 0.0009082935284823179, 0.026278501376509666, -0.010453026741743088, -0.009190729819238186, -0.02163028158247471, -0.012689619325101376, 0.041912611573934555, 0.05326980724930763, 0.004059996455907822, 0.01584012620151043, 0.09813230484724045, -0.0013113904278725386, 0.02616623044013977, -0.06436090916395187, 0.015403524041175842, -0.009460682049393654, 0.02918066643178463, -0.03512229770421982, 0.03046320751309395, 0.044432517141103745, -0.03815365210175514, -0.06942999362945557, -0.012108901515603065, 0.023328473791480064, -0.02252819947898388, -0.002442491240799427, -0.049854349344968796, -0.030899684876203537, 0.01758478581905365, -0.010001743212342262, -0.050213612616062164, -0.054028235375881195, -0.007201649714261293, -0.018136804923415184, 0.0014227487845346332, 0.025819577276706696, -0.0021001833956688643, 0.037133436650037766, -0.023976339027285576, 0.008912085555493832, -0.027604220435023308, 0.028801899403333664, 0.010518443770706654, -0.013373811729252338, -0.02934347279369831, -0.004075940698385239, -0.039594490081071854, -0.024744540452957153, -0.009986349381506443, -0.012933163903653622, -0.01710483618080616, 0.021259376779198647, 0.005327784456312656, 0.06360166519880295, -0.0350000374019146, 0.040533557534217834, 0.03943651169538498, -0.011726221069693565, -0.0027182220946997404, 0.06286498159170151, 0.012967758812010288, -0.018978111445903778, 0.025848910212516785, -0.029939109459519386, 0.014617051929235458, 0.020571211352944374, -0.029358793050050735, -0.04000372439622879, -0.012204986996948719, 0.06588021665811539, 0.0321393646299839, -0.004850621335208416, -0.006377003155648708, 0.0069350930862128735, 0.012511462904512882, -0.009101955220103264, 0.034767065197229385, 0.03852362558245659, 0.034563180059194565, 0.03191705420613289, -0.027388526126742363, 0.02758035995066166, -0.055879052728414536, -0.014389983378350735, 0.049321070313453674, -0.015086092986166477, -0.012660963460803032, -0.0031208982691168785, -0.040989071130752563, -0.010736661963164806, -0.018655020743608475, 0.0017576750833541155, -0.015417600981891155, -0.024930959567427635, 0.016272135078907013, 0.00830402784049511, 0.012492243200540543, -0.026104319840669632, 0.02865159697830677, -0.006774354260414839, -0.021069345995783806, -0.012413245625793934, -0.004087923094630241, -0.011877241544425488, -0.010481812059879303, -0.022585250437259674, 0.013596616685390472, -0.05835198983550072, 0.007541231345385313, 0.048690635710954666, -0.02409176155924797, 0.006596358027309179, 0.026851385831832886, -0.05219600722193718, -0.045458000153303146, 0.0451822504401207, 0.015354649163782597, -0.01658995822072029, 0.05032368376851082, 0.01274035032838583, -0.008616283535957336, -0.03751932084560394, 0.05184699967503548, -0.018242690712213516, 0.001251734560355544, -0.025500064715743065]\n"
     ]
    }
   ],
   "source": [
    "embedded_query = embeddings_model.embed_query(\"인공지능이란 무엇인가요?\")\n",
    "\n",
    "\n",
    "# print(f'임베딩 벡터의 개수: {len(document_embeddings)}')\n",
    "print(f'임베한 벡터의 차원: {len(embedded_query)}')\n",
    "print(embedded_query)"
   ]
  },
  {
   "cell_type": "code",
   "execution_count": 33,
   "id": "771f00be",
   "metadata": {},
   "outputs": [
    {
     "name": "stdout",
     "output_type": "stream",
     "text": [
      "질문:  인공지능이란 무엇인가요?\n",
      "가장 유사한 문서: 인공지능은 컴퓨터 과학의 한 분야입니다.\n",
      "유사도: 0.7269\n",
      "--------------------------------------------------\n",
      "질문:  딥러닝과 머신러닝의 관계는 어떻게 되나요?\n",
      "가장 유사한 문서: 딥러닝은 머신러닝의 한 종류입니다.\n",
      "유사도: 0.7057\n",
      "--------------------------------------------------\n",
      "질문:  컴퓨터가 이미지를 이해하는 방법은?\n",
      "가장 유사한 문서: 컴퓨터 비전은 컴퓨터가 디지털 이미지나 비디오를 이해하는 방법을 연구합니다.\n",
      "유사도: 0.6843\n",
      "--------------------------------------------------\n"
     ]
    }
   ],
   "source": [
    "queries = [\n",
    "    \" 인공지능이란 무엇인가요?\",\n",
    "    \" 딥러닝과 머신러닝의 관계는 어떻게 되나요?\",\n",
    "    \" 컴퓨터가 이미지를 이해하는 방법은?\",\n",
    "]\n",
    "\n",
    "for query in queries:\n",
    "    most_similar_doc, similarity = find_most_similar(query, document_embeddings)\n",
    "    print(f'질문: {query}')\n",
    "    print(f'가장 유사한 문서: {most_similar_doc}')\n",
    "    print(f'유사도: {similarity:.4f}')\n",
    "    print('-'*50)"
   ]
  },
  {
   "cell_type": "code",
   "execution_count": null,
   "id": "ae88c642",
   "metadata": {},
   "outputs": [],
   "source": []
  }
 ],
 "metadata": {
  "kernelspec": {
   "display_name": "langchain-env-e_qH7Re7-py3.11",
   "language": "python",
   "name": "python3"
  },
  "language_info": {
   "codemirror_mode": {
    "name": "ipython",
    "version": 3
   },
   "file_extension": ".py",
   "mimetype": "text/x-python",
   "name": "python",
   "nbconvert_exporter": "python",
   "pygments_lexer": "ipython3",
   "version": "3.11.9"
  }
 },
 "nbformat": 4,
 "nbformat_minor": 5
}
