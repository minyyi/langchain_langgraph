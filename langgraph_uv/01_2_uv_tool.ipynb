{
 "cells": [
  {
   "cell_type": "code",
   "execution_count": 1,
   "id": "bd450687",
   "metadata": {},
   "outputs": [
    {
     "data": {
      "text/plain": [
       "2"
      ]
     },
     "execution_count": 1,
     "metadata": {},
     "output_type": "execute_result"
    }
   ],
   "source": [
    "1+1"
   ]
  },
  {
   "cell_type": "code",
   "execution_count": 2,
   "id": "75b3e3f6",
   "metadata": {},
   "outputs": [
    {
     "data": {
      "text/plain": [
       "True"
      ]
     },
     "execution_count": 2,
     "metadata": {},
     "output_type": "execute_result"
    }
   ],
   "source": [
    "from dotenv import load_dotenv\n",
    "load_dotenv()"
   ]
  },
  {
   "cell_type": "code",
   "execution_count": 3,
   "id": "429b96de",
   "metadata": {},
   "outputs": [],
   "source": [
    "from langchain_openai import OpenAIEmbeddings\n",
    "embedding = OpenAIEmbeddings(model=\"text-embedding-3-large\")"
   ]
  },
  {
   "cell_type": "code",
   "execution_count": 4,
   "id": "e01a2452",
   "metadata": {},
   "outputs": [],
   "source": [
    "from langchain_openai import ChatOpenAI\n",
    "\n",
    "llm = ChatOpenAI(model='gpt-4o', streaming=True)\n",
    "small_llm = ChatOpenAI(model='gpt-4o-mini', streaming=True)"
   ]
  },
  {
   "cell_type": "code",
   "execution_count": 5,
   "id": "706a655d",
   "metadata": {},
   "outputs": [],
   "source": [
    "from langchain_chroma import Chroma\n",
    "\n",
    "# vector_store = Chroma.from_documents(\n",
    "#     documents=document_list,\n",
    "#     embedding=embedding,\n",
    "#     collection_name=\"chroma_tax\",\n",
    "#     persist_directory=\"./chroma_tax\"\n",
    "# )\n",
    "\n",
    "vector_store = Chroma(\n",
    "    collection_name=\"chroma_tax\",\n",
    "    embedding_function=embedding,\n",
    "    persist_directory=\"./chroma_tax\"\n",
    ")"
   ]
  },
  {
   "cell_type": "code",
   "execution_count": 6,
   "id": "b6fc6606",
   "metadata": {},
   "outputs": [
    {
     "data": {
      "text/plain": [
       "VectorStoreRetriever(tags=['Chroma', 'OpenAIEmbeddings'], vectorstore=<langchain_chroma.vectorstores.Chroma object at 0x00000216E13A3C10>, search_kwargs={'k': 3})"
      ]
     },
     "execution_count": 6,
     "metadata": {},
     "output_type": "execute_result"
    }
   ],
   "source": [
    "retriever = vector_store.as_retriever(search_kwargs={\"k\" : 3})\n",
    "retriever"
   ]
  },
  {
   "cell_type": "code",
   "execution_count": 7,
   "id": "9ab47caa",
   "metadata": {},
   "outputs": [],
   "source": [
    "from typing_extensions import List, TypedDict\n",
    "from langchain_core.documents import Document\n",
    "from langgraph.graph import StateGraph, MessagesState\n",
    "from typing import Literal\n",
    "# 기존 import 수정\n",
    "from typing_extensions import TypedDict  # ✅ typing 대신 typing_extensions 사용\n",
    "\n",
    "class AgentState(MessagesState):\n",
    "    pass    #messages무조건 있음. \n",
    "    # query: str\n",
    "    # context: List[Document]     #retriever에 있는 문서에서 읽어오겠다\n",
    "    # answer : str\n",
    "    \n",
    "graph_builder = StateGraph(MessagesState)"
   ]
  },
  {
   "cell_type": "code",
   "execution_count": 8,
   "id": "bcf8163e",
   "metadata": {},
   "outputs": [],
   "source": [
    "#전체 문서를 하나의 문서로 통합\n",
    "def format_docs(docs):\n",
    "    return \"\\n\\n\".join([doc.page_content for doc in docs])"
   ]
  },
  {
   "cell_type": "code",
   "execution_count": 9,
   "id": "51d171af",
   "metadata": {},
   "outputs": [],
   "source": [
    "from langchain_core.tools import tool\n",
    "\n",
    "@tool\n",
    "def retrieve_tool(query: str) -> str:\n",
    "    \"\"\"\n",
    "    사용자의 질문에 기반하여 벡터 스토어에서 관련 문서를 검색합니다.\n",
    "    \n",
    "    Args:\n",
    "        query (str): 검색할 질문\n",
    "        \n",
    "    Returns:\n",
    "        str: 검색된 문서 내용\n",
    "    \"\"\"\n",
    "    docs = retriever.invoke(query)\n",
    "    return format_docs(docs)"
   ]
  },
  {
   "cell_type": "code",
   "execution_count": 10,
   "id": "06302015",
   "metadata": {},
   "outputs": [],
   "source": [
    "from langchain_core.prompts import PromptTemplate\n",
    "from langchain_core.output_parsers import StrOutputParser\n",
    "\n",
    "@tool\n",
    "def generate_tool(context: str, question: str) -> str:\n",
    "    \"\"\"\n",
    "    검색된 문서(context)와 질문을 바탕으로 응답을 생성하는 도구입니다. \n",
    "    \"\"\"\n",
    "    \n",
    "    prompt = PromptTemplate.from_template(\"\"\"\n",
    "    다음은 질문에 대한 문서입니다. 문서를 참고해서 질문에 대한 정확한 답변을 생성해주세요. \n",
    "    \n",
    "    [문서]\n",
    "    {context}\n",
    "    \n",
    "    [질문]\n",
    "    {question}    \n",
    "    \"\"\")\n",
    "    \n",
    "    chain = prompt | llm | StrOutputParser()\n",
    "    \n",
    "    return chain.invoke({'context': context, 'question': question})\n",
    "\n"
   ]
  },
  {
   "cell_type": "code",
   "execution_count": 11,
   "id": "fdf8fabe",
   "metadata": {},
   "outputs": [],
   "source": [
    "dictionary = [\"사람과 관련된 표현 -> 거주자\"]\n",
    "\n",
    "rewrite_prompt = PromptTemplate.from_template(f\"\"\"\n",
    "사용자의 질문을 보고, 우리의 사전을 참고해서 사용자의 질문을 변경해주세요.\n",
    "사전: {dictionary}\n",
    "질문: {{query}}     \n",
    "\"\"\")\n",
    "# f-string사용해서 {}한번 더 해줘야함. "
   ]
  },
  {
   "cell_type": "code",
   "execution_count": 12,
   "id": "55bed8a5",
   "metadata": {},
   "outputs": [],
   "source": [
    "# from langchain_core.prompts import PromptTemplate\n",
    "# from langchain_core.output_parsers import StrOutputParser\n",
    "\n",
    "@tool\n",
    "def rewrite(query: str) -> str:\n",
    "    \"\"\"\n",
    "    사용자의 질문을 사전을 고려하여 변경합니다. \n",
    "\n",
    "    \"\"\"\n",
    "    #chain\n",
    "    rewrite_chain = rewrite_prompt | llm | StrOutputParser()        \n",
    "                                            #전체를 str로 반환. 이게 다시 질문이 되야하기 때문\n",
    "    # response = rewrite_chain.invoke({'query': query})\n",
    "    \n",
    "    return rewrite_chain.invoke({'query': query})"
   ]
  },
  {
   "cell_type": "code",
   "execution_count": 13,
   "id": "339da52a",
   "metadata": {},
   "outputs": [],
   "source": [
    "from langgraph.prebuilt import ToolNode\n",
    " \n",
    "tool_list = [retrieve_tool, generate_tool, rewrite]\n",
    "tool_node = ToolNode(tool_list)\n",
    "llm_with_tools = llm.bind_tools(tool_list)"
   ]
  },
  {
   "cell_type": "code",
   "execution_count": 14,
   "id": "dcae9b29",
   "metadata": {},
   "outputs": [],
   "source": [
    "from langchain_core.messages import HumanMessage, SystemMessage\n",
    "\n",
    "def agent(state: AgentState) -> AgentState:\n",
    "    system_msg = SystemMessage(content=\"너는 사용자 질문을 검색, 기가이팅, 응답 생성도구로 해결하는 AI임\")\n",
    "    messages = [system_msg] + state[\"messages\"]\n",
    "    response = llm_with_tools.invoke(messages)\n",
    "    \n",
    "    return {\"messages\": [response]}"
   ]
  },
  {
   "cell_type": "code",
   "execution_count": 15,
   "id": "98b8f8fd",
   "metadata": {},
   "outputs": [
    {
     "data": {
      "text/plain": [
       "<langgraph.graph.state.StateGraph at 0x216e1ceddd0>"
      ]
     },
     "execution_count": 15,
     "metadata": {},
     "output_type": "execute_result"
    }
   ],
   "source": [
    "#node\n",
    "graph_builder = StateGraph(AgentState)\n",
    "\n",
    "graph_builder.add_node('agent', agent)\n",
    "graph_builder.add_node('tools', tool_node)\n"
   ]
  },
  {
   "cell_type": "code",
   "execution_count": null,
   "id": "9fb183da",
   "metadata": {},
   "outputs": [
    {
     "data": {
      "text/plain": [
       "<langgraph.graph.state.StateGraph at 0x216e1ceddd0>"
      ]
     },
     "execution_count": 16,
     "metadata": {},
     "output_type": "execute_result"
    }
   ],
   "source": [
    "from langgraph.graph import START, END\n",
    "from langgraph.prebuilt import tools_condition\n",
    "\n",
    "graph_builder.add_edge(START, 'agent')\n",
    "graph_builder.add_conditional_edges('agent', tools_condition)\n",
    "    #tools_condition : tool계속 호출할지 말지 판단 \n",
    "graph_builder.add_edge('tools', 'agent')\n",
    "# graph_builder.add_edge('generate', END)\n",
    "\n"
   ]
  },
  {
   "cell_type": "code",
   "execution_count": 17,
   "id": "6bde8075",
   "metadata": {},
   "outputs": [
    {
     "data": {
      "image/png": "[encoded data removed]",
      "text/plain": [
       "<langgraph.graph.state.CompiledStateGraph object at 0x00000216E1CAF690>"
      ]
     },
     "execution_count": 17,
     "metadata": {},
     "output_type": "execute_result"
    }
   ],
   "source": [
    "from IPython.display import Image, display\n",
    "graph = graph_builder.compile()\n",
    "\n",
    "# display(Image(graph.get_graph().draw_mermaid_png()))\n",
    "graph"
   ]
  },
  {
   "cell_type": "code",
   "execution_count": 18,
   "id": "731df3c4",
   "metadata": {},
   "outputs": [
    {
     "name": "stdout",
     "output_type": "stream",
     "text": [
      "================================\u001b[1m Human Message \u001b[0m=================================\n",
      "\n",
      "연봉 5천만원 직장인의 소득세는 얼마인가요?\n",
      "==================================\u001b[1m Ai Message \u001b[0m==================================\n",
      "\n",
      "연봉 5천만 원에 대한 소득세를 계산하기 위해서는 대한민국의 소득세율을 적용해야 합니다. 하지만 소득세 계산은 단순히 세율을 적용하는 것뿐만 아니라, 여러 공제 항목과 누진세율이 적용되기 때문에 정확한 금액을 계산하기 위해서는 추가적인 정보가 필요합니다. 일반적인 경우를 가정하여 대략적인 소득세를 계산해드리겠습니다.\n",
      "\n",
      "대한민국의 소득세율은 다음과 같습니다(2023년 기준):\n",
      "- 1,200만 원 이하: 6%\n",
      "- 1,200만 원 초과 ~ 4,600만 원 이하: 15%\n",
      "- 4,600만 원 초과 ~ 8,800만 원 이하: 24%\n",
      "- 8,800만 원 초과 ~ 1억 5천만 원 이하: 35%\n",
      "- 1억 5천만 원 초과 ~ 3억 원 이하: 38%\n",
      "- 3억 원 초과: 40%\n",
      "\n",
      "5천만 원의 연봉에 대한 소득세는 다음과 같이 계산됩니다.\n",
      "\n",
      "1. 1,200만 원까지 6% 적용: 1,200만 원 × 6% = 72만 원\n",
      "2. 1,200만 원 초과 4,600만 원까지 15% 적용: (4,600만 원 - 1,200만 원) × 15% = 510만 원\n",
      "3. 4,600만 원 초과 5,000만 원까지 24% 적용: (5,000만 원 - 4,600만 원) × 24% = 96만 원\n",
      "\n",
      "따라서 총 소득세는 72만 원 + 510만 원 + 96만 원 = 678만 원입니다.\n",
      "\n",
      "하지만 실제 소득세는 공제 항목 및 기타 사항에 따라 달라질 수 있습니다. 정확한 금액은 국세청의 홈택스 또는 세무 전문가와 상담하시기를 권장드립니다.\n"
     ]
    }
   ],
   "source": [
    "from langchain_core.messages import HumanMessage, SystemMessage\n",
    "\n",
    "query = '연봉 5천만원 직장인의 소득세는 얼마인가요?'\n",
    "init_state = {\"messages\": [HumanMessage(content=query)] }\n",
    "\n",
    "for chunk in graph.stream(init_state, stream_mode='values'):\n",
    "    chunk['messages'][-1].pretty_print()\n"
   ]
  },
  {
   "cell_type": "code",
   "execution_count": null,
   "id": "8b8d0740",
   "metadata": {},
   "outputs": [],
   "source": []
  }
 ],
 "metadata": {
  "kernelspec": {
   "display_name": ".venv",
   "language": "python",
   "name": "python3"
  },
  "language_info": {
   "codemirror_mode": {
    "name": "ipython",
    "version": 3
   },
   "file_extension": ".py",
   "mimetype": "text/x-python",
   "name": "python",
   "nbconvert_exporter": "python",
   "pygments_lexer": "ipython3",
   "version": "3.11.9"
  }
 },
 "nbformat": 4,
 "nbformat_minor": 5
}
