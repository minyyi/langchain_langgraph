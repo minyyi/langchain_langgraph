{
 "cells": [
  {
   "cell_type": "code",
   "execution_count": 31,
   "id": "230379c8",
   "metadata": {},
   "outputs": [
    {
     "data": {
      "text/plain": [
       "True"
      ]
     },
     "execution_count": 31,
     "metadata": {},
     "output_type": "execute_result"
    }
   ],
   "source": [
    "from dotenv import load_dotenv\n",
    "load_dotenv()"
   ]
  },
  {
   "cell_type": "code",
   "execution_count": 32,
   "id": "2c579571",
   "metadata": {},
   "outputs": [],
   "source": [
    "from typing_extensions import List, TypedDict\n",
    "from langgraph.graph import StateGraph\n",
    "\n",
    "class AgentState(TypedDict):\n",
    "    query: str\n",
    "    context: list    \n",
    "    answer : str\n",
    "    \n",
    "graph_builder = StateGraph(AgentState)"
   ]
  },
  {
   "cell_type": "code",
   "execution_count": 33,
   "id": "ae7247e7",
   "metadata": {},
   "outputs": [],
   "source": [
    "from langchain_openai import ChatOpenAI\n",
    "\n",
    "llm = ChatOpenAI(model='gpt-4o', streaming=True)\n",
    "small_llm = ChatOpenAI(model='gpt-4o-mini', streaming=True)\n"
   ]
  },
  {
   "cell_type": "code",
   "execution_count": 34,
   "id": "20fd506b",
   "metadata": {},
   "outputs": [],
   "source": [
    "from langchain_core.prompts import ChatPromptTemplate\n",
    "from pydantic import BaseModel, Field\n",
    "from typing import Literal\n",
    "\n",
    "class Route(BaseModel):\n",
    "    target: Literal['income_tax', 'llm', 'real_estate_tax'] = Field(\n",
    "        description=\"The target for the query to answer\"\n",
    "    )\n",
    "    \n",
    "router_system_prompt = \"\"\"\n",
    "You are an expert at routing a user's question to 'income_tax', 'llm', or 'real_estate_tax'.\n",
    "'income_tax' contains information about income tax up to December 2024.\n",
    "'real_estate_tax' contains information about real estate tax up to December 2024.\n",
    "if you think the question is not related to either 'income_tax' or 'real_estate_tax';\n",
    "you can route it to 'llm'.\n",
    "\"\"\"\n",
    "\n",
    "router_prompt = ChatPromptTemplate.from_messages([\n",
    "    (\"system\", router_system_prompt),\n",
    "    (\"user\", \"{query}\"),\n",
    "])    \n",
    "\n",
    "structured_router_llm = small_llm.with_structured_output(Route)\n",
    "\n",
    "#분기할 수 있는 함수\n",
    "def router(state: AgentState) -> Literal['income_tax', 'llm', 'real_estate_tax']:\n",
    "    \"\"\"\n",
    "    주어진 state에서 쿼리를 기반으로 적절한 경로를 결정합니다. \n",
    "    Args:\n",
    "        state (AgentState): 에이전트 현재 상태를 나타내는 딕셔너리.\n",
    "\n",
    "    Returns:\n",
    "        Literal['income_tax', 'llm', 'real_estate_tax']: 쿼리에 따라 선택된 경로를 반환합니다. \n",
    "    \"\"\"\n",
    "    query = state['query']\n",
    "    router_chain = router_prompt | structured_router_llm\n",
    "    router = router_chain.invoke({'query': query})\n",
    "    \n",
    "    return router.target\n",
    "    "
   ]
  },
  {
   "cell_type": "code",
   "execution_count": 35,
   "id": "b51e8805",
   "metadata": {},
   "outputs": [],
   "source": [
    "from langchain_core.output_parsers import StrOutputParser\n",
    "def call_llm(state: AgentState) -> AgentState:\n",
    "    \"\"\"\n",
    "    주어진 state에서 쿼리를 기반으로 LLM을 호출하여 답변을 생성합니다. \n",
    "\n",
    "    Args:\n",
    "        state (AgentState): 에이전트의 현재 상태를 나타내는 딕셔너리 \n",
    "\n",
    "    Returns:\n",
    "        AgentState: 'answer'키에 LLM의 응답을 포함하는 AgentState를 반환합니다. \n",
    "    \"\"\"\n",
    "    \n",
    "    query = state['query']\n",
    "    llm_chain = small_llm | StrOutputParser()\n",
    "    answer = llm_chain.invoke(query) #{\"query\": query}\n",
    "    \n",
    "    return {'answer': answer}"
   ]
  },
  {
   "cell_type": "code",
   "execution_count": 36,
   "id": "2838c8ea",
   "metadata": {},
   "outputs": [
    {
     "data": {
      "text/plain": [
       "<langgraph.graph.state.StateGraph at 0x1ad37cdc4d0>"
      ]
     },
     "execution_count": 36,
     "metadata": {},
     "output_type": "execute_result"
    }
   ],
   "source": [
    "from income_tax_graph import graph as income_tax_agent\n",
    "from real_estate_tax_graph import graph as real_estate_tax_agent\n",
    "\n",
    "\n",
    "graph_builder.add_node('income_tax', income_tax_agent)\n",
    "graph_builder.add_node('real_estate_tax', real_estate_tax_agent)\n",
    "graph_builder.add_node('llm', call_llm)"
   ]
  },
  {
   "cell_type": "code",
   "execution_count": 37,
   "id": "0e8bd5a1",
   "metadata": {},
   "outputs": [
    {
     "data": {
      "text/plain": [
       "<langgraph.graph.state.StateGraph at 0x1ad37cdc4d0>"
      ]
     },
     "execution_count": 37,
     "metadata": {},
     "output_type": "execute_result"
    }
   ],
   "source": [
    "#edge\n",
    "\n",
    "from langgraph.graph import START, END\n",
    "\n",
    "graph_builder.add_conditional_edges(\n",
    "    START,\n",
    "    router,\n",
    "    {\n",
    "        #\"리턴값\": \"노드이름\",\n",
    "        \"income_tax\" : \"income_tax\",\n",
    "        \"real_estate_tax\": \"real_estate_tax\",\n",
    "        \"llm\": \"llm\",\n",
    "    }\n",
    ")\n",
    "\n",
    "graph_builder.add_edge('income_tax',END )\n",
    "graph_builder.add_edge('real_estate_tax', END)\n",
    "graph_builder.add_edge('llm', END)"
   ]
  },
  {
   "cell_type": "code",
   "execution_count": 38,
   "id": "00f82bdd",
   "metadata": {},
   "outputs": [
    {
     "data": {
      "image/png": "[encoded data removed]",
      "text/plain": [
       "<langgraph.graph.state.CompiledStateGraph object at 0x000001AD37A77190>"
      ]
     },
     "execution_count": 38,
     "metadata": {},
     "output_type": "execute_result"
    }
   ],
   "source": [
    "graph = graph_builder.compile()\n",
    "graph"
   ]
  },
  {
   "cell_type": "code",
   "execution_count": 39,
   "id": "5d05c326",
   "metadata": {},
   "outputs": [
    {
     "data": {
      "text/plain": [
       "{'query': '연봉 5천만원 거주자의 소득세는 얼마인가요?',\n",
       " 'context': [Document(metadata={'source': './tax.docx'}, page_content='제55조(세율) ①거주자의 종합소득에 대한 소득세는 해당 연도의 종합소득과세표준에 다음의 세율을 적용하여 계산한 금액(이하 “종합소득산출세액”이라 한다)을 그 세액으로 한다. <개정 2014. 1. 1., 2016. 12. 20., 2017. 12. 19., 2020. 12. 29., 2022. 12. 31.>\\n\\n| 종합소득 과세표준          | 세율                                         |\\n\\n|-------------------|--------------------------------------------|\\n\\n| 1,400만원 이하     | 과세표준의 6퍼센트                             |\\n\\n| 1,400만원 초과     5,000만원 이하     | 84만원 + (1,400만원을 초과하는 금액의 15퍼센트)  |\\n\\n| 5,000만원 초과   8,800만원 이하     | 624만원 + (5,000만원을 초과하는 금액의 24퍼센트) |\\n\\n| 8,800만원 초과 1억5천만원 이하    | 1,536만원 + (8,800만원을 초과하는 금액의 35퍼센트)|\\n\\n| 1억5천만원 초과 3억원 이하         | 3,706만원 + (1억5천만원을 초과하는 금액의 38퍼센트)|\\n\\n| 3억원 초과    5억원 이하         | 9,406만원 + (3억원을 초과하는 금액의 38퍼센트)   |\\n\\n| 5억원 초과      10억원 이하        | 1억 7,406만원 + (5억원을 초과하는 금액의 42퍼센트)|\\n\\n| 10억원 초과        | 3억 8,406만원 + (10억원을 초과하는 금액의 45퍼센트)|\\n\\n\\n\\n\\n\\n② 거주자의 퇴직소득에 대한 소득세는 다음 각 호의 순서에 따라 계산한 금액(이하 “퇴직소득 산출세액”이라 한다)으로 한다.<개정 2013. 1. 1., 2014. 12. 23.>\\n\\n1. 해당 과세기간의 퇴직소득과세표준에 제1항의 세율을 적용하여 계산한 금액\\n\\n2. 제1호의 금액을 12로 나눈 금액에 근속연수를 곱한 금액\\n\\n3. 삭제<2014. 12. 23.>\\n\\n[전문개정 2009. 12. 31.]\\n\\n\\n\\n제2관 세액공제 <개정 2009. 12. 31.>\\n\\n\\n\\n제56조(배당세액공제) ① 거주자의 종합소득금액에 제17조제3항 각 호 외의 부분 단서가 적용되는 배당소득금액이 합산되어 있는 경우에는 같은 항 각 호 외의 부분 단서에 따라 해당 과세기간의 총수입금액에 더한 금액에 해당하는 금액을 종합소득 산출세액에서 공제한다. <개정 2009. 12. 31.>\\n\\n② 제1항에 따른 공제를 “배당세액공제”라 한다.<개정 2009. 12. 31.>\\n\\n③ 삭제<2003. 12. 30.>\\n\\n④ 제1항을 적용할 때 배당세액공제의 대상이 되는 배당소득금액은 제14조제2항의 종합소득과세표준에 포함된 배당소득금액으로서 이자소득등의 종합과세기준금액을 초과하는 것으로 한다.<개정 2009. 12. 31.>\\n\\n⑤ 삭제<2006. 12. 30.>'),\n",
       "  Document(metadata={'source': './tax.docx'}, page_content='3. 「자본시장과 금융투자업에 관한 법률」 제251조제1항에 따른 집합투자업겸영보험회사의 특별계정\\n\\n③ 비거주자의 소득은 제119조에 따라 구분한다.\\n\\n[전문개정 2009. 12. 31.]\\n\\n\\n\\n제4조(소득의 구분) ① 거주자의 소득은 다음 각 호와 같이 구분한다. <개정 2013. 1. 1., 2020. 12. 29.>\\n\\n1. 종합소득\\n\\n\\u3000이 법에 따라 과세되는 모든 소득에서 제2호, 제2호의2 및 제3호에 따른 소득을 제외한 소득으로서 다음 각 목의 소득을 합산한 것\\n\\n가. 이자소득\\n\\n나. 배당소득\\n\\n다. 사업소득\\n\\n라. 근로소득\\n\\n마. 연금소득\\n\\n바. 기타소득\\n\\n2. 퇴직소득\\n\\n2의2. 금융투자소득\\n\\n3. 양도소득\\n\\n② 제1항에 따른 소득을 구분할 때 다음 각 호의 신탁을 제외한 신탁의 이익은 「신탁법」 제2조에 따라 수탁자에게 이전되거나 그 밖에 처분된 재산권에서 발생하는 소득의 내용별로 구분한다.<개정 2011. 7. 25., 2020. 12. 29., 2022. 12. 31.>\\n\\n1. 「법인세법」 제5조제2항에 따라 신탁재산에 귀속되는 소득에 대하여 그 신탁의 수탁자가 법인세를 납부하는 신탁\\n\\n2. 「자본시장과 금융투자업에 관한 법률」 제9조제18항제1호에 따른 투자신탁. 다만, 2024년 12월 31일까지는 이 법 제17조제1항제5호에 따른 집합투자기구로 한정한다.\\n\\n3. 「자본시장과 금융투자업에 관한 법률」 제251조제1항에 따른 집합투자업겸영보험회사의 특별계정\\n\\n③ 비거주자의 소득은 제119조에 따라 구분한다.\\n\\n[전문개정 2009. 12. 31.]\\n\\n[시행일: 2025. 1. 1.] 제4조제1항제1호, 제4조제1항제2호의2\\n\\n\\n\\n제5조(과세기간) ① 소득세의 과세기간은 1월 1일부터 12월 31일까지 1년으로 한다.\\n\\n② 거주자가 사망한 경우의 과세기간은 1월 1일부터 사망한 날까지로 한다.\\n\\n③ 거주자가 주소 또는 거소를 국외로 이전(이하 “출국”이라 한다)하여 비거주자가 되는 경우의 과세기간은 1월 1일부터 출국한 날까지로 한다.\\n\\n[전문개정 2009. 12. 31.]\\n\\n\\n\\n제6조(납세지) ① 거주자의 소득세 납세지는 그 주소지로 한다. 다만, 주소지가 없는 경우에는 그 거소지로 한다.\\n\\n② 비거주자의 소득세 납세지는 제120조에 따른 국내사업장(이하 “국내사업장”이라 한다)의 소재지로 한다. 다만, 국내사업장이 둘 이상 있는 경우에는 주된 국내사업장의 소재지로 하고, 국내사업장이 없는 경우에는 국내원천소득이 발생하는 장소로 한다.<개정 2013. 1. 1.>\\n\\n③ 납세지가 불분명한 경우에는 대통령령으로 정하는 바에 따라 납세지를 결정한다.\\n\\n[전문개정 2009. 12. 31.]\\n\\n\\n\\n제7조(원천징수 등의 경우의 납세지) ① 원천징수하는 소득세의 납세지는 다음 각 호에 따른다. <개정 2012. 1. 1., 2023. 12. 31.>'),\n",
       "  Document(metadata={'source': './tax.docx'}, page_content='③ 제1항 및 제2항에 따른 이자등 상당액의 계산방법과 그 밖에 필요한 사항은 대통령령으로 정한다.\\n\\n[전문개정 2009. 12. 31.]\\n\\n\\n\\n제46조(채권 등에 대한 소득금액의 계산 특례) ① 거주자가 제16조제1항제1호ㆍ제2호ㆍ제2호의2ㆍ제5호 및 제6호에 해당하는 채권 또는 증권과 타인에게 양도가 가능한 증권으로서 대통령령으로 정하는 것(이하 이 조, 제133조의2 및 제156조의3에서 “채권등”이라 한다)의 발행법인으로부터 해당 채권등에서 발생하는 이자 또는 할인액(이하 이 조, 제133조의2 및 제156조의3에서 “이자등”이라 한다)을 지급[전환사채의 주식전환, 교환사채의 주식교환 및 신주인수권부사채의 신주인수권행사(신주 발행대금을 해당 신주인수권부사채로 납입하는 경우만 해당한다) 및 「자본시장과 금융투자업에 관한 법률」 제4조제7항제3호ㆍ제3호의2 및 제3호의3에 해당하는 채권등이 주식으로 전환ㆍ상환되는 경우를 포함한다. 이하 같다]받거나 해당 채권등을 매도(증여ㆍ변제 및 출자 등으로 채권등의 소유권 또는 이자소득의 수급권의 변동이 있는 경우와 매도를 위탁하거나 중개 또는 알선시키는 경우를 포함하되, 환매조건부채권매매거래 등 대통령령으로 정하는 경우는 제외한다. 이하 제133조의2에서 같다)하는 경우에는 거주자에게 그 보유기간별로 귀속되는 이자등 상당액을 해당 거주자의 제16조에 따른 이자소득으로 보아 소득금액을 계산한다. <개정 2010. 12. 27., 2012. 1. 1., 2020. 12. 29.>\\n\\n② 제1항을 적용할 때 해당 거주자가 해당 채권등을 보유한 기간을 대통령령으로 정하는 바에 따라 입증하지 못하는 경우에는 제133조의2제1항에 따른 원천징수기간의 이자등 상당액이 해당 거주자에게 귀속되는 것으로 보아 소득금액을 계산한다.<개정 2010. 12. 27.>\\n\\n③ 제1항 및 제2항에 따른 이자등 상당액의 계산방법과 그 밖에 필요한 사항은 대통령령으로 정한다.\\n\\n[전문개정 2009. 12. 31.]\\n\\n[시행일: 2025. 1. 1.]  제46조제1항\\n\\n\\n\\n제46조의2(중도 해지로 인한 이자소득금액 계산의 특례) 종합소득과세표준 확정신고 후 예금 또는 신탁계약의 중도 해지로 이미 지난 과세기간에 속하는 이자소득금액이 감액된 경우 그 중도 해지일이 속하는 과세기간의 종합소득금액에 포함된 이자소득금액에서 그 감액된 이자소득금액을 뺄 수 있다. 다만, 「국세기본법」 제45조의2에 따라 과세표준 및 세액의 경정(更正)을 청구한 경우에는 그러하지 아니하다.\\n\\n[전문개정 2009. 12. 31.]\\n\\n\\n\\n제5관 근로소득공제ㆍ연금소득공제 및 퇴직소득공제 <개정 2009. 12. 31.>\\n\\n\\n\\n제47조(근로소득공제) ①근로소득이 있는 거주자에 대해서는 해당 과세기간에 받는 총급여액에서 다음의 금액을 공제한다. 다만, 공제액이 2천만원을 초과하는 경우에는 2천만원을 공제한다. <개정 2012. 1. 1., 2014. 1. 1., 2019. 12. 31.>')],\n",
       " 'answer': AIMessage(content='연봉 5천만 원 거주자의 소득세는 624만 원입니다. 이는 과세표준 5천만 원 이하 구간의 세율에 따라 84만 원에 1,400만 원을 초과하는 금액의 15%를 더한 금액입니다.', additional_kwargs={'refusal': None}, response_metadata={'token_usage': {'completion_tokens': 66, 'prompt_tokens': 3014, 'total_tokens': 3080, 'completion_tokens_details': {'accepted_prediction_tokens': 0, 'audio_tokens': 0, 'reasoning_tokens': 0, 'rejected_prediction_tokens': 0}, 'prompt_tokens_details': {'audio_tokens': 0, 'cached_tokens': 2944}}, 'model_name': 'gpt-4o-2024-08-06', 'system_fingerprint': 'fp_07871e2ad8', 'finish_reason': 'stop', 'logprobs': None}, id='run--c1ad4f0e-f6bf-4aab-a126-e5b72e2a58ad-0', usage_metadata={'input_tokens': 3014, 'output_tokens': 66, 'total_tokens': 3080, 'input_token_details': {'audio': 0, 'cache_read': 2944}, 'output_token_details': {'audio': 0, 'reasoning': 0}})}"
      ]
     },
     "execution_count": 39,
     "metadata": {},
     "output_type": "execute_result"
    }
   ],
   "source": [
    "initial_state = {'query': '연봉 5천만원 거주자의 소득세는 얼마인가요?'}\n",
    "graph.invoke(initial_state)\n"
   ]
  },
  {
   "cell_type": "code",
   "execution_count": 40,
   "id": "c56bf3f9",
   "metadata": {},
   "outputs": [
    {
     "data": {
      "text/plain": [
       "{'query': '집 15억은 세금이 얼마인가요?',\n",
       " 'answer': '종합부동산세를 계산하기 위해서는 과세표준을 정확히 알아야 하지만, 공제액 정보가 필요합니다. 일반적으로 주택 소유자에게 적용되는 공제액은 소유한 주택의 수에 따라 달라질 수 있습니다.\\n\\n1. **공정시장가액**: 이미 계산된 바와 같이, 주택의 공정시장가액은 6.75억 원입니다.\\n\\n2. **과세표준**: 이 값을 알기 위해 공제액이 필요합니다. 일반적으로 1세대 1주택자의 경우 공제액이 크지만, 다주택자의 경우 다르게 적용될 수 있습니다.\\n\\n3. **세율**: 주택 수와 과세표준에 따라 차등 적용됩니다. 다주택자의 경우 세율이 더 높게 설정되어 있습니다.\\n\\n정확한 종합부동산세를 계산하기 위해서는:\\n- 주택 수에 따른 공제액 정보\\n- 해당 과세표준 구간에 따른 세율 정보\\n\\n이 두 가지가 필요하므로, 세무사와 상담하거나 정부의 공식 자료를 참조하시길 권장합니다. 그러나 일반적으로, 다주택자는 1.2%에서 6.0% 사이의 세율이 적용될 수 있습니다. 세율표와 공제액 정보를 확인한 후 정확한 세액을 산출하실 수 있습니다.'}"
      ]
     },
     "execution_count": 40,
     "metadata": {},
     "output_type": "execute_result"
    }
   ],
   "source": [
    "initial_state = {'query': '집 15억은 세금이 얼마인가요?'}\n",
    "graph.invoke(initial_state)"
   ]
  },
  {
   "cell_type": "code",
   "execution_count": 41,
   "id": "75d2e0a2",
   "metadata": {},
   "outputs": [
    {
     "data": {
      "text/plain": [
       "{'query': '떡볶이 어디가 맛있나요?',\n",
       " 'answer': '떡볶이는 한국의 대표적인 길거리 음식으로, 지역마다 맛집이 많이 있습니다. 서울에서는 **신당동 떡볶이 골목**이 유명하고, **홍대**와 **강남** 지역에도 맛있는 떡볶이 집들이 많이 있습니다. 부산에서는 **자갈치 시장** 근처의 떡볶이도 추천할 만합니다. 개인의 취향에 따라 매운맛이나 소스의 종류가 다르기 때문에, 여러 곳을 시도해보는 것도 좋은 방법입니다. 특정 지역이나 스타일에 대한 추천이 필요하시면 말씀해 주세요!'}"
      ]
     },
     "execution_count": 41,
     "metadata": {},
     "output_type": "execute_result"
    }
   ],
   "source": [
    "initial_state = {'query': '떡볶이 어디가 맛있나요?'}\n",
    "graph.invoke(initial_state)"
   ]
  },
  {
   "cell_type": "code",
   "execution_count": null,
   "id": "95931657",
   "metadata": {},
   "outputs": [],
   "source": []
  }
 ],
 "metadata": {
  "kernelspec": {
   "display_name": ".venv",
   "language": "python",
   "name": "python3"
  },
  "language_info": {
   "codemirror_mode": {
    "name": "ipython",
    "version": 3
   },
   "file_extension": ".py",
   "mimetype": "text/x-python",
   "name": "python",
   "nbconvert_exporter": "python",
   "pygments_lexer": "ipython3",
   "version": "3.11.9"
  }
 },
 "nbformat": 4,
 "nbformat_minor": 5
}
